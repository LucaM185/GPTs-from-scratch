{
 "cells": [
  {
   "cell_type": "code",
   "execution_count": 8,
   "metadata": {},
   "outputs": [],
   "source": [
    "import torch\n",
    "import torch.nn as nn\n",
    "import torch.nn.functional as F\n",
    "import matplotlib.pyplot as plt \n"
   ]
  },
  {
   "cell_type": "markdown",
   "metadata": {},
   "source": [
    "# Tiny-shakespeare dataset\n",
    "Now we will move to a real world task, next-character prediction with the tiny-shakespeare dataset"
   ]
  },
  {
   "cell_type": "code",
   "execution_count": 9,
   "metadata": {},
   "outputs": [
    {
     "name": "stdout",
     "output_type": "stream",
     "text": [
      "First Citizen:\n",
      "Before we proceed any further, hear me speak.\n",
      "\n",
      "All:\n",
      "Speak, speak.\n",
      "\n",
      "First Citizen:\n",
      "You are all resolved rather to die than to famish?\n",
      "\n",
      "All:\n",
      "Resolved. resolved.\n",
      "\n",
      "First Citizen:\n",
      "First, you\n"
     ]
    }
   ],
   "source": [
    "with open(\"datasets/tinyShakespeare.txt\", \"r\") as f:\n",
    "    load = f.read()\n",
    "print(load[:200])"
   ]
  },
  {
   "cell_type": "code",
   "execution_count": 10,
   "metadata": {},
   "outputs": [
    {
     "name": "stdout",
     "output_type": "stream",
     "text": [
      "65\n"
     ]
    }
   ],
   "source": [
    "texttoint = {elm: n for n, elm in enumerate(set(load))}\n",
    "inttotext = {n:elm for n, elm in enumerate(set(load))}\n",
    "dataset = [texttoint[c] for c in load]\n",
    "\n",
    "sequence_length = 1\n",
    "vocab_size = len(texttoint)\n",
    "inputs = torch.tensor(dataset[:-1])\n",
    "labels = torch.tensor(dataset[1:])\n",
    "print(vocab_size)"
   ]
  },
  {
   "cell_type": "markdown",
   "metadata": {},
   "source": [
    "**One-hot encoding** converts class labels into binary vectors, making them orthogonal. Neural networks excel at recognizing vector orthogonality, unlike differences in raw integer values. \n",
    "\n",
    "For 4 classes (0–3):  \n",
    "- Class 0 → `[1, 0, 0, 0]`  \n",
    "- Class 1 → `[0, 1, 0, 0]`  \n",
    "- Class 2 → `[0, 0, 1, 0]`  \n",
    "- Class 3 → `[0, 0, 0, 1]`  \n"
   ]
  },
  {
   "cell_type": "code",
   "execution_count": 11,
   "metadata": {},
   "outputs": [
    {
     "name": "stdout",
     "output_type": "stream",
     "text": [
      "tensor([ 9, 48, 37, 31])\n",
      "tensor([[0., 0., 0., 0., 0., 0., 0., 0., 0., 1., 0., 0., 0., 0., 0., 0., 0., 0.,\n",
      "         0., 0., 0., 0., 0., 0., 0., 0., 0., 0., 0., 0., 0., 0., 0., 0., 0., 0.,\n",
      "         0., 0., 0., 0., 0., 0., 0., 0., 0., 0., 0., 0., 0., 0., 0., 0., 0., 0.,\n",
      "         0., 0., 0., 0., 0., 0., 0., 0., 0., 0., 0.],\n",
      "        [0., 0., 0., 0., 0., 0., 0., 0., 0., 0., 0., 0., 0., 0., 0., 0., 0., 0.,\n",
      "         0., 0., 0., 0., 0., 0., 0., 0., 0., 0., 0., 0., 0., 0., 0., 0., 0., 0.,\n",
      "         0., 0., 0., 0., 0., 0., 0., 0., 0., 0., 0., 0., 1., 0., 0., 0., 0., 0.,\n",
      "         0., 0., 0., 0., 0., 0., 0., 0., 0., 0., 0.],\n",
      "        [0., 0., 0., 0., 0., 0., 0., 0., 0., 0., 0., 0., 0., 0., 0., 0., 0., 0.,\n",
      "         0., 0., 0., 0., 0., 0., 0., 0., 0., 0., 0., 0., 0., 0., 0., 0., 0., 0.,\n",
      "         0., 1., 0., 0., 0., 0., 0., 0., 0., 0., 0., 0., 0., 0., 0., 0., 0., 0.,\n",
      "         0., 0., 0., 0., 0., 0., 0., 0., 0., 0., 0.],\n",
      "        [0., 0., 0., 0., 0., 0., 0., 0., 0., 0., 0., 0., 0., 0., 0., 0., 0., 0.,\n",
      "         0., 0., 0., 0., 0., 0., 0., 0., 0., 0., 0., 0., 0., 1., 0., 0., 0., 0.,\n",
      "         0., 0., 0., 0., 0., 0., 0., 0., 0., 0., 0., 0., 0., 0., 0., 0., 0., 0.,\n",
      "         0., 0., 0., 0., 0., 0., 0., 0., 0., 0., 0.]])\n"
     ]
    }
   ],
   "source": [
    "onehot = F.one_hot(inputs[:4].long(), 65).float()\n",
    "print(inputs[:4])\n",
    "print(onehot)"
   ]
  },
  {
   "cell_type": "markdown",
   "metadata": {},
   "source": [
    "# Perceptron\n",
    "This complex dataset requires us to build on logistic regression and scale it a lot to make an architecture that can deal with this kind of data  <br>\n",
    "We are starting with the Perceptron and we are training in batches, the number of features is called vocab_size (65)"
   ]
  },
  {
   "cell_type": "code",
   "execution_count": 12,
   "metadata": {},
   "outputs": [
    {
     "name": "stdout",
     "output_type": "stream",
     "text": [
      "4.210656642913818\n",
      "3.8022375106811523\n",
      "3.592369318008423\n",
      "3.4689667224884033\n",
      "3.3074045181274414\n",
      "3.3362252712249756\n",
      "3.276520252227783\n",
      "3.2556097507476807\n",
      "3.1522021293640137\n",
      "3.197908878326416\n"
     ]
    }
   ],
   "source": [
    "m = torch.randn(vocab_size, vocab_size) * (6**0.5 / (vocab_size + vocab_size)**0.5)  \n",
    "q = torch.zeros(vocab_size) \n",
    "\n",
    "m.requires_grad_()\n",
    "q.requires_grad_()\n",
    "\n",
    "epochs = 10000  # high number of epochs\n",
    "lr = 1e-2  # high learning rate\n",
    "batch_size = 1024  # taking a batch of 1024 samples at a time\n",
    "\n",
    "for epoch in range(epochs):\n",
    "    indexes = torch.randint(0, len(inputs), (batch_size,))  # generating random indexes\n",
    "\n",
    "    pred = F.one_hot(inputs[indexes].long(), vocab_size).float() @ m + q\n",
    "    loss = F.cross_entropy(pred, labels[indexes])\n",
    "    loss.backward()\n",
    "\n",
    "    with torch.no_grad():\n",
    "        m -= lr * m.grad\n",
    "        q -= lr * q.grad\n",
    "        m.grad = None\n",
    "        q.grad = None\n",
    "    \n",
    "    if epoch % (epochs//10) == 0:\n",
    "        print(loss.item())"
   ]
  },
  {
   "cell_type": "markdown",
   "metadata": {},
   "source": [
    "This is cool, we can achieve a pretty decent loss, but some problems are way harder and can't be tackled with a solution this simple... <br>\n",
    "Remember what we did earlier? We expanded our logistic regressor to make a Perceptron, now we can try expanding the perceptron in the forward direction <br>\n",
    "This architecture should resemble a network of biological neurons, this is called Multi Layer Perceptron\n",
    "\n",
    "# MLP\n",
    "\n"
   ]
  },
  {
   "cell_type": "code",
   "execution_count": 13,
   "metadata": {},
   "outputs": [
    {
     "name": "stdout",
     "output_type": "stream",
     "text": [
      "4.1990742683410645\n",
      "3.503788709640503\n",
      "3.239089250564575\n",
      "3.219930648803711\n",
      "3.0546605587005615\n",
      "3.0114808082580566\n",
      "2.8908016681671143\n",
      "2.9102489948272705\n",
      "2.891218423843384\n",
      "2.869784116744995\n"
     ]
    }
   ],
   "source": [
    "hidden_size = 128\n",
    "\n",
    "w1 = torch.randn(vocab_size, hidden_size) * (6**0.5 / (vocab_size + hidden_size)**0.5)  \n",
    "b1 = torch.zeros(hidden_size) \n",
    "w2 = torch.randn(hidden_size, vocab_size) * (6**0.5 / (vocab_size + hidden_size)**0.5)\n",
    "b2 = torch.zeros(vocab_size)\n",
    "\n",
    "for p in [w1, b1, w2, b2]:\n",
    "    p.requires_grad_()\n",
    "\n",
    "epochs = 10000\n",
    "lr = 1e-2\n",
    "batch_size = 1024\n",
    "lossi = []\n",
    "\n",
    "for epoch in range(epochs):\n",
    "    indexes = torch.randint(0, len(inputs), (batch_size,))\n",
    "    \n",
    "    X = F.one_hot(inputs[indexes].long(), vocab_size).float()\n",
    "    h1 = F.gelu(X @ w1 + b1)\n",
    "    pred = h1 @ w2 + b2\n",
    "    loss = F.cross_entropy(pred, labels[indexes])\n",
    "    lossi.append(loss.item())\n",
    "    loss.backward()\n",
    "\n",
    "    with torch.no_grad():\n",
    "        for p in [w1, b1, w2, b2]:\n",
    "            p -= lr * p.grad\n",
    "            p.grad = None\n",
    "\n",
    "    if epoch % (epochs//10) == 0:\n",
    "        print(loss.item())"
   ]
  },
  {
   "cell_type": "code",
   "execution_count": 15,
   "metadata": {},
   "outputs": [
    {
     "data": {
      "text/plain": [
       "[<matplotlib.lines.Line2D at 0x1d5dad05160>]"
      ]
     },
     "execution_count": 15,
     "metadata": {},
     "output_type": "execute_result"
    },
    {
     "data": {
      "image/png": "[encoded data removed]",
      "text/plain": [
       "<Figure size 640x480 with 1 Axes>"
      ]
     },
     "metadata": {},
     "output_type": "display_data"
    }
   ],
   "source": [
    "plt.plot(lossi)"
   ]
  },
  {
   "cell_type": "markdown",
   "metadata": {},
   "source": [
    "Expanding the architecture definetly made the model more effective but as we can see the starting loss is extremely high. <br>\n",
    "Let's figure that out why by printing some of the values from each layer "
   ]
  },
  {
   "cell_type": "markdown",
   "metadata": {},
   "source": [
    "# Optimizer\n",
    "\n",
    "The architecture looks right but the loss is not going down as well as expected, let's try changing simple gradient descent to a more elaborate optimizer <br>\n",
    "We won't bother coding this up by ourselves because it's already implemented in pytorch and really easy to use from there <br>\n",
    "If you want, you can change from torch.optim.Adam to torch.optim.SGD and look how fast Adam really is"
   ]
  },
  {
   "cell_type": "code",
   "execution_count": 17,
   "metadata": {},
   "outputs": [
    {
     "name": "stdout",
     "output_type": "stream",
     "text": [
      "4.16356897354126\n",
      "2.4757239818573\n",
      "2.4446163177490234\n",
      "2.4419875144958496\n",
      "2.405343532562256\n",
      "2.4492743015289307\n",
      "2.4960694313049316\n",
      "2.4487860202789307\n",
      "2.4865407943725586\n",
      "2.4237284660339355\n"
     ]
    }
   ],
   "source": [
    "hidden_size = 128\n",
    "\n",
    "w1 = torch.randn(vocab_size, hidden_size) * (6**0.5 / (vocab_size + hidden_size)**0.5)  \n",
    "b1 = torch.zeros(hidden_size) \n",
    "w2 = torch.randn(hidden_size, vocab_size) * (6**0.5 / (vocab_size + hidden_size)**0.5)\n",
    "b2 = torch.zeros(vocab_size)\n",
    "\n",
    "for p in [w1, b1, w2, b2]:\n",
    "    p.requires_grad_()\n",
    "\n",
    "epochs = 10000\n",
    "lr = 1e-2\n",
    "batch_size = 1024\n",
    "optimizer = torch.optim.Adam([w1, b1, w2, b2], lr=1e-2)\n",
    "lossi = []\n",
    "\n",
    "for epoch in range(epochs):\n",
    "    indexes = torch.randint(0, len(inputs), (batch_size,))\n",
    "    optimizer.zero_grad()\n",
    "\n",
    "    X = F.one_hot(inputs[indexes].long(), vocab_size).float()\n",
    "    h1 = F.gelu(X @ w1 + b1)\n",
    "    pred = h1 @ w2 + b2\n",
    "    loss = F.cross_entropy(pred, labels[indexes])\n",
    "    lossi.append(loss.item())\n",
    "    loss.backward()\n",
    "    optimizer.step()\n",
    "\n",
    "    if epoch % (epochs//10) == 0:\n",
    "        print(loss.item())"
   ]
  },
  {
   "cell_type": "code",
   "execution_count": 18,
   "metadata": {},
   "outputs": [
    {
     "data": {
      "text/plain": [
       "[<matplotlib.lines.Line2D at 0x1d5dac343a0>]"
      ]
     },
     "execution_count": 18,
     "metadata": {},
     "output_type": "execute_result"
    },
    {
     "data": {
      "image/png": "[encoded data removed]",
      "text/plain": [
       "<Figure size 640x480 with 1 Axes>"
      ]
     },
     "metadata": {},
     "output_type": "display_data"
    }
   ],
   "source": [
    "plt.plot(lossi)"
   ]
  },
  {
   "cell_type": "markdown",
   "metadata": {},
   "source": [
    "# Example output"
   ]
  },
  {
   "cell_type": "code",
   "execution_count": 19,
   "metadata": {},
   "outputs": [
    {
     "name": "stdout",
     "output_type": "stream",
     "text": [
      "Se pouse stounsune:\n",
      "Pr warte kede.\n",
      "DWh tllenon, ier te stu helsore fothainde tom, thios.\n",
      "\n",
      "WBRUYotous"
     ]
    }
   ],
   "source": [
    "string = \"The meaning of life is: \\n\"\n",
    "\n",
    "with torch.no_grad():\n",
    "    for _ in range(100):\n",
    "        X = F.one_hot(torch.tensor(texttoint[string[-1]]), vocab_size).float()\n",
    "        h1 = F.gelu(X @ w1 + b1)\n",
    "        pred = h1 @ w2 + b2\n",
    "        string += inttotext[torch.multinomial(F.softmax(pred, dim=0), 1).item()]\n",
    "        print(string[-1], end=\"\")\n"
   ]
  }
 ],
 "metadata": {
  "kernelspec": {
   "display_name": "Python 3",
   "language": "python",
   "name": "python3"
  },
  "language_info": {
   "codemirror_mode": {
    "name": "ipython",
    "version": 3
   },
   "file_extension": ".py",
   "mimetype": "text/x-python",
   "name": "python",
   "nbconvert_exporter": "python",
   "pygments_lexer": "ipython3",
   "version": "3.9.13"
  }
 },
 "nbformat": 4,
 "nbformat_minor": 2
}
