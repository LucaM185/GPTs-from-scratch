{
 "cells": [
  {
   "cell_type": "code",
   "execution_count": 2,
   "metadata": {},
   "outputs": [],
   "source": [
    "import torch\n",
    "import torch.nn as nn\n",
    "import torch.nn.functional as F\n",
    "import matplotlib.pyplot as plt \n"
   ]
  },
  {
   "cell_type": "markdown",
   "metadata": {},
   "source": [
    "# Shakespeare dataset\n",
    "Now we will move to a real world task, next-character prediction with the tiny-shakespeare dataset"
   ]
  },
  {
   "cell_type": "code",
   "execution_count": 3,
   "metadata": {},
   "outputs": [
    {
     "name": "stdout",
     "output_type": "stream",
     "text": [
      "First Citizen:\n",
      "Before we proceed any further, hear me speak.\n",
      "\n",
      "All:\n",
      "Speak, speak.\n",
      "\n",
      "First Citizen:\n",
      "You are all resolved rather to die than to famish?\n",
      "\n",
      "All:\n",
      "Resolved. resolved.\n",
      "\n",
      "First Citizen:\n",
      "First, you\n"
     ]
    }
   ],
   "source": [
    "with open(\"datasets/tinyShakespeare.txt\", \"r\") as f:\n",
    "    load = f.read()\n",
    "print(load[:200])"
   ]
  },
  {
   "cell_type": "code",
   "execution_count": 4,
   "metadata": {},
   "outputs": [
    {
     "name": "stdout",
     "output_type": "stream",
     "text": [
      "65\n"
     ]
    }
   ],
   "source": [
    "texttoint = {elm: n for n, elm in enumerate(set(load))}\n",
    "inttotext = {n:elm for n, elm in enumerate(set(load))}\n",
    "dataset = [texttoint[c] for c in load]\n",
    "\n",
    "sequence_length = 1\n",
    "vocab_size = len(texttoint)\n",
    "inputs = torch.tensor(dataset[:-1])\n",
    "labels = torch.tensor(dataset[1:])\n",
    "print(vocab_size)"
   ]
  },
  {
   "cell_type": "markdown",
   "metadata": {},
   "source": [
    "# Perceptron\n",
    "This complex dataset requires us to build on logistic regression and scale it a lot to make an architecture that can deal with this kind of data  <br>\n",
    "We are starting with a Perceptron (which is basically a big logistic regressor) and we are training in batches, the number of features is vocab_size (65)"
   ]
  },
  {
   "cell_type": "code",
   "execution_count": 8,
   "metadata": {},
   "outputs": [
    {
     "name": "stdout",
     "output_type": "stream",
     "text": [
      "4.2111639976501465\n",
      "3.83618426322937\n",
      "3.6340014934539795\n",
      "3.4694976806640625\n",
      "3.438493013381958\n",
      "3.324073553085327\n",
      "3.306877613067627\n",
      "3.2346293926239014\n",
      "3.248713731765747\n",
      "3.1517860889434814\n"
     ]
    }
   ],
   "source": [
    "m = torch.randn(vocab_size, vocab_size) * (6**0.5 / (vocab_size + vocab_size)**0.5)  \n",
    "q = torch.zeros(vocab_size) \n",
    "\n",
    "m.requires_grad_()\n",
    "q.requires_grad_()\n",
    "\n",
    "epochs = 10000  # high number of epochs\n",
    "lr = 1e-2  # high learning rate\n",
    "batch_size = 1024  # taking a batch of 1024 samples at a time\n",
    "\n",
    "for epoch in range(epochs):\n",
    "    indexes = torch.randint(0, len(inputs), (batch_size,))  # generating random indexes\n",
    "\n",
    "    pred = F.one_hot(inputs[indexes].long(), vocab_size).float() @ m + q\n",
    "    loss = F.cross_entropy(pred, labels[indexes])\n",
    "    loss.backward()\n",
    "\n",
    "    with torch.no_grad():\n",
    "        m -= lr * m.grad\n",
    "        q -= lr * q.grad\n",
    "        m.grad = None\n",
    "        q.grad = None\n",
    "    \n",
    "    if epoch % (epochs//10) == 0:\n",
    "        print(loss.item())"
   ]
  },
  {
   "cell_type": "markdown",
   "metadata": {},
   "source": [
    "This is cool, we can achieve a pretty decent loss, but some problems are way harder and can't be tackled with a solution this simple... <br>\n",
    "Remember what we did earlier? We expanded our logistic regressor to make a Perceptron, now we can try expanding the perceptron in the forward direction <br>\n",
    "This architecture should resemble a network of biological neurons, this is called Multi Layer Perceptron\n",
    "\n",
    "# MLP\n",
    "\n"
   ]
  },
  {
   "cell_type": "code",
   "execution_count": 11,
   "metadata": {},
   "outputs": [
    {
     "name": "stdout",
     "output_type": "stream",
     "text": [
      "4.177195072174072\n",
      "3.5118539333343506\n",
      "3.218601703643799\n",
      "3.226471185684204\n",
      "3.0170814990997314\n",
      "2.9622626304626465\n",
      "2.919445753097534\n",
      "2.929034948348999\n",
      "2.875898599624634\n",
      "2.7403690814971924\n"
     ]
    }
   ],
   "source": [
    "hidden_size = 128\n",
    "\n",
    "w1 = torch.randn(vocab_size, hidden_size) * (6**0.5 / (vocab_size + hidden_size)**0.5)  \n",
    "b1 = torch.zeros(hidden_size) \n",
    "w2 = torch.randn(hidden_size, vocab_size) * (6**0.5 / (vocab_size + hidden_size)**0.5)\n",
    "b2 = torch.zeros(vocab_size)\n",
    "\n",
    "for p in [w1, b1, w2, b2]:\n",
    "    p.requires_grad_()\n",
    "\n",
    "epochs = 10000\n",
    "lr = 1e-2\n",
    "batch_size = 1024\n",
    "lossi = []\n",
    "\n",
    "for epoch in range(epochs):\n",
    "    indexes = torch.randint(0, len(inputs), (batch_size,))\n",
    "    \n",
    "    X = F.one_hot(inputs[indexes].long(), vocab_size).float()\n",
    "    h1 = F.gelu(X @ w1 + b1)\n",
    "    pred = h1 @ w2 + b2\n",
    "    loss = F.cross_entropy(pred, labels[indexes])\n",
    "    lossi.append(loss.item())\n",
    "    loss.backward()\n",
    "\n",
    "    with torch.no_grad():\n",
    "        for p in [w1, b1, w2, b2]:\n",
    "            p -= lr * p.grad\n",
    "            p.grad = None\n",
    "\n",
    "    if epoch % (epochs//10) == 0:\n",
    "        print(loss.item())"
   ]
  },
  {
   "cell_type": "markdown",
   "metadata": {},
   "source": [
    "Expanding the architecture definetly made the model more effective but as we can see the starting loss is extremely high. <br>\n",
    "Let's figure that out why by printing some of the values from each layer "
   ]
  }
 ],
 "metadata": {
  "kernelspec": {
   "display_name": "base",
   "language": "python",
   "name": "python3"
  },
  "language_info": {
   "codemirror_mode": {
    "name": "ipython",
    "version": 3
   },
   "file_extension": ".py",
   "mimetype": "text/x-python",
   "name": "python",
   "nbconvert_exporter": "python",
   "pygments_lexer": "ipython3",
   "version": "3.9.13"
  }
 },
 "nbformat": 4,
 "nbformat_minor": 2
}
