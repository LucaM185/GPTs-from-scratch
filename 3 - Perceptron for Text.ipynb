{
 "cells": [
  {
   "cell_type": "code",
   "execution_count": 1,
   "metadata": {},
   "outputs": [],
   "source": [
    "import torch\n",
    "import torch.nn as nn\n",
    "import torch.nn.functional as F\n",
    "import matplotlib.pyplot as plt \n",
    "import LucaM185"
   ]
  },
  {
   "cell_type": "markdown",
   "metadata": {},
   "source": [
    "# Tiny-shakespeare dataset\n",
    "Now we will move to a real world task, next-character prediction with the tiny-shakespeare dataset"
   ]
  },
  {
   "cell_type": "code",
   "execution_count": 2,
   "metadata": {},
   "outputs": [
    {
     "name": "stdout",
     "output_type": "stream",
     "text": [
      "First Citizen:\n",
      "Before we proceed any further, hear me speak.\n",
      "\n",
      "All:\n",
      "Speak, speak.\n",
      "\n",
      "First Citizen:\n",
      "You are all resolved rather to die than to famish?\n",
      "\n",
      "All:\n",
      "Resolved. resolved.\n",
      "\n",
      "First Citizen:\n",
      "First, you\n"
     ]
    }
   ],
   "source": [
    "with open(\"datasets/tinyShakespeare.txt\", \"r\") as f:\n",
    "    load = f.read()\n",
    "print(load[:200])"
   ]
  },
  {
   "cell_type": "code",
   "execution_count": 3,
   "metadata": {},
   "outputs": [
    {
     "name": "stdout",
     "output_type": "stream",
     "text": [
      "65\n"
     ]
    }
   ],
   "source": [
    "texttoint = {elm: n for n, elm in enumerate(set(load))}\n",
    "inttotext = {n: elm for n, elm in enumerate(set(load))}\n",
    "dataset = [texttoint[c] for c in load] # list of ints\n",
    "\n",
    "sequence_length = 1\n",
    "vocab_size = len(texttoint)\n",
    "inputs = torch.tensor(dataset[:-1])\n",
    "labels = torch.tensor(dataset[1:])\n",
    "print(vocab_size)"
   ]
  },
  {
   "cell_type": "markdown",
   "metadata": {},
   "source": [
    "**One-hot encoding** converts class labels into binary vectors, making them orthogonal. Neural networks excel at recognizing vector orthogonality, unlike differences in raw integer values. \n",
    "\n",
    "For 4 classes (0–3):  \n",
    "- Class 0 → `[1, 0, 0, 0]`  \n",
    "- Class 1 → `[0, 1, 0, 0]`  \n",
    "- Class 2 → `[0, 0, 1, 0]`  \n",
    "- Class 3 → `[0, 0, 0, 1]`  \n"
   ]
  },
  {
   "cell_type": "code",
   "execution_count": 4,
   "metadata": {},
   "outputs": [
    {
     "name": "stdout",
     "output_type": "stream",
     "text": [
      "tensor([50, 37, 16, 45])\n",
      "tensor([[0., 0., 0., 0., 0., 0., 0., 0., 0., 0., 0., 0., 0., 0., 0., 0., 0., 0.,\n",
      "         0., 0., 0., 0., 0., 0., 0., 0., 0., 0., 0., 0., 0., 0., 0., 0., 0., 0.,\n",
      "         0., 0., 0., 0., 0., 0., 0., 0., 0., 0., 0., 0., 0., 0., 1., 0., 0., 0.,\n",
      "         0., 0., 0., 0., 0., 0., 0., 0., 0., 0., 0.],\n",
      "        [0., 0., 0., 0., 0., 0., 0., 0., 0., 0., 0., 0., 0., 0., 0., 0., 0., 0.,\n",
      "         0., 0., 0., 0., 0., 0., 0., 0., 0., 0., 0., 0., 0., 0., 0., 0., 0., 0.,\n",
      "         0., 1., 0., 0., 0., 0., 0., 0., 0., 0., 0., 0., 0., 0., 0., 0., 0., 0.,\n",
      "         0., 0., 0., 0., 0., 0., 0., 0., 0., 0., 0.],\n",
      "        [0., 0., 0., 0., 0., 0., 0., 0., 0., 0., 0., 0., 0., 0., 0., 0., 1., 0.,\n",
      "         0., 0., 0., 0., 0., 0., 0., 0., 0., 0., 0., 0., 0., 0., 0., 0., 0., 0.,\n",
      "         0., 0., 0., 0., 0., 0., 0., 0., 0., 0., 0., 0., 0., 0., 0., 0., 0., 0.,\n",
      "         0., 0., 0., 0., 0., 0., 0., 0., 0., 0., 0.],\n",
      "        [0., 0., 0., 0., 0., 0., 0., 0., 0., 0., 0., 0., 0., 0., 0., 0., 0., 0.,\n",
      "         0., 0., 0., 0., 0., 0., 0., 0., 0., 0., 0., 0., 0., 0., 0., 0., 0., 0.,\n",
      "         0., 0., 0., 0., 0., 0., 0., 0., 0., 1., 0., 0., 0., 0., 0., 0., 0., 0.,\n",
      "         0., 0., 0., 0., 0., 0., 0., 0., 0., 0., 0.]])\n"
     ]
    }
   ],
   "source": [
    "onehot = F.one_hot(inputs[:4].long(), vocab_size).float()\n",
    "print(inputs[:4])\n",
    "print(onehot)"
   ]
  },
  {
   "cell_type": "markdown",
   "metadata": {},
   "source": [
    "# Perceptron\n",
    "This complex dataset requires us to build on logistic regression and scale it a lot to make an architecture that can deal with this kind of data  <br>\n",
    "We are starting with the Perceptron and we are training in batches, the number of features is called vocab_size (65)"
   ]
  },
  {
   "cell_type": "code",
   "execution_count": 5,
   "metadata": {},
   "outputs": [
    {
     "name": "stdout",
     "output_type": "stream",
     "text": [
      "4.203968524932861\n",
      "3.8205413818359375\n",
      "3.55962872505188\n",
      "3.452432632446289\n",
      "3.4022555351257324\n",
      "3.3959202766418457\n",
      "3.294832468032837\n",
      "3.2531681060791016\n",
      "3.20446515083313\n",
      "3.2047743797302246\n"
     ]
    }
   ],
   "source": [
    "m = torch.randn(vocab_size, vocab_size) * (6**0.5 / (vocab_size + vocab_size)**0.5)  \n",
    "q = torch.zeros(vocab_size) \n",
    "\n",
    "m.requires_grad_()\n",
    "q.requires_grad_()\n",
    "\n",
    "epochs = 10000  # high number of epochs\n",
    "lr = 1e-2  # high learning rate\n",
    "batch_size = 1024  # taking a batch of 1024 samples at a time\n",
    "\n",
    "for epoch in range(epochs):\n",
    "    indexes = torch.randint(0, len(inputs), (batch_size,))  # generating random indexes\n",
    "\n",
    "    pred = F.one_hot(inputs[indexes].long(), vocab_size).float() @ m + q\n",
    "    loss = F.cross_entropy(pred, labels[indexes])\n",
    "    loss.backward()\n",
    "\n",
    "    with torch.no_grad():\n",
    "        m -= lr * m.grad\n",
    "        q -= lr * q.grad\n",
    "        m.grad = None\n",
    "        q.grad = None\n",
    "    \n",
    "    if epoch % (epochs//10) == 0:\n",
    "        print(loss.item())"
   ]
  },
  {
   "cell_type": "markdown",
   "metadata": {},
   "source": [
    "This is cool, we can achieve a pretty decent loss, but some problems are way harder and can't be tackled with a solution this simple... <br>\n",
    "Remember what we did earlier? We expanded our logistic regressor to make a Perceptron, now we can try expanding the perceptron in the forward direction <br>\n",
    "This architecture should resemble a network of biological neurons, this is called Multi Layer Perceptron\n",
    "\n",
    "# MLP\n",
    "\n"
   ]
  },
  {
   "cell_type": "code",
   "execution_count": 6,
   "metadata": {},
   "outputs": [
    {
     "name": "stdout",
     "output_type": "stream",
     "text": [
      "4.188759803771973\n",
      "3.5121514797210693\n",
      "3.24318528175354\n",
      "3.135047435760498\n",
      "3.0550951957702637\n",
      "3.0351719856262207\n",
      "2.8852832317352295\n",
      "2.907534599304199\n",
      "2.8492636680603027\n",
      "2.801821231842041\n"
     ]
    }
   ],
   "source": [
    "hidden_size = 128\n",
    "\n",
    "w1 = torch.randn(vocab_size, hidden_size) * (6**0.5 / (vocab_size + hidden_size)**0.5)  \n",
    "b1 = torch.zeros(hidden_size) \n",
    "w2 = torch.randn(hidden_size, vocab_size) * (6**0.5 / (vocab_size + hidden_size)**0.5)\n",
    "b2 = torch.zeros(vocab_size)\n",
    "\n",
    "for p in [w1, b1, w2, b2]:\n",
    "    p.requires_grad_()\n",
    "\n",
    "epochs = 10000\n",
    "lr = 1e-2\n",
    "batch_size = 1024\n",
    "lossi = []\n",
    "\n",
    "for epoch in range(epochs):\n",
    "    indexes = torch.randint(0, len(inputs), (batch_size,))\n",
    "    \n",
    "    X = F.one_hot(inputs[indexes].long(), vocab_size).float()\n",
    "    h1 = F.gelu(X @ w1 + b1)\n",
    "    pred = h1 @ w2 + b2\n",
    "    loss = F.cross_entropy(pred, labels[indexes])\n",
    "    lossi.append(loss.item())\n",
    "    loss.backward()\n",
    "\n",
    "    with torch.no_grad():\n",
    "        for p in [w1, b1, w2, b2]:\n",
    "            p -= lr * p.grad  # step\n",
    "            p.grad = None  # zero grad\n",
    "\n",
    "    if epoch % (epochs//10) == 0:\n",
    "        print(loss.item())"
   ]
  },
  {
   "cell_type": "code",
   "execution_count": 7,
   "metadata": {},
   "outputs": [
    {
     "data": {
      "text/plain": [
       "[<matplotlib.lines.Line2D at 0x17fc465b0>]"
      ]
     },
     "execution_count": 7,
     "metadata": {},
     "output_type": "execute_result"
    },
    {
     "data": {
      "image/png": "[encoded data removed]",
      "text/plain": [
       "<Figure size 640x480 with 1 Axes>"
      ]
     },
     "metadata": {},
     "output_type": "display_data"
    }
   ],
   "source": [
    "plt.plot(lossi)"
   ]
  },
  {
   "cell_type": "markdown",
   "metadata": {},
   "source": [
    "# Optimizer\n",
    "\n",
    "The architecture looks right but the loss is not going down as well as expected, let's try changing simple gradient descent to a more elaborate optimizer <br>\n",
    "We won't bother coding this up by ourselves because it's already implemented in pytorch and really easy to use from there <br>\n",
    "If you want, you can change from torch.optim.Adam to torch.optim.SGD and look how fast Adam really is"
   ]
  },
  {
   "cell_type": "code",
   "execution_count": 8,
   "metadata": {},
   "outputs": [
    {
     "name": "stdout",
     "output_type": "stream",
     "text": [
      "4.190461158752441\n",
      "2.4601335525512695\n",
      "2.514660358428955\n",
      "2.450732469558716\n",
      "2.4407591819763184\n",
      "2.412221670150757\n",
      "2.469987630844116\n",
      "2.429166555404663\n",
      "2.4451868534088135\n",
      "2.427905321121216\n"
     ]
    }
   ],
   "source": [
    "hidden_size = 128\n",
    "\n",
    "w1 = torch.randn(vocab_size, hidden_size) * (6**0.5 / (vocab_size + hidden_size)**0.5)  \n",
    "b1 = torch.zeros(hidden_size) \n",
    "w2 = torch.randn(hidden_size, vocab_size) * (6**0.5 / (vocab_size + hidden_size)**0.5)\n",
    "b2 = torch.zeros(vocab_size)\n",
    "\n",
    "for p in [w1, b1, w2, b2]:\n",
    "    p.requires_grad_()\n",
    "\n",
    "epochs = 10000\n",
    "lr = 1e-2\n",
    "batch_size = 1024\n",
    "optimizer = torch.optim.Adam([w1, b1, w2, b2], lr=1e-2)\n",
    "lossi = []\n",
    "\n",
    "for epoch in range(epochs):\n",
    "    indexes = torch.randint(0, len(inputs), (batch_size,))\n",
    "\n",
    "    X = F.one_hot(inputs[indexes].long(), vocab_size).float()\n",
    "    h1 = F.gelu(X @ w1 + b1)\n",
    "    pred = h1 @ w2 + b2\n",
    "    loss = F.cross_entropy(pred, labels[indexes])\n",
    "    lossi.append(loss.item())\n",
    "    loss.backward()\n",
    "\n",
    "    optimizer.step()\n",
    "    optimizer.zero_grad()\n",
    "\n",
    "    if epoch % (epochs//10) == 0:\n",
    "        print(loss.item())"
   ]
  },
  {
   "cell_type": "code",
   "execution_count": 9,
   "metadata": {},
   "outputs": [
    {
     "data": {
      "text/plain": [
       "[<matplotlib.lines.Line2D at 0x31e2adcd0>]"
      ]
     },
     "execution_count": 9,
     "metadata": {},
     "output_type": "execute_result"
    },
    {
     "data": {
      "image/png": "[encoded data removed]",
      "text/plain": [
       "<Figure size 640x480 with 1 Axes>"
      ]
     },
     "metadata": {},
     "output_type": "display_data"
    }
   ],
   "source": [
    "plt.plot(lossi)"
   ]
  },
  {
   "cell_type": "markdown",
   "metadata": {},
   "source": [
    "# Example output"
   ]
  },
  {
   "cell_type": "code",
   "execution_count": 10,
   "metadata": {},
   "outputs": [
    {
     "name": "stdout",
     "output_type": "stream",
     "text": [
      "\n",
      "\n",
      "\n",
      "ANTr wexelld, ak ng.\n",
      "Th t y.\n",
      "Tor the.\n",
      "t, kl thes cksu t iern!\n",
      "Bisl f, br t halit muird, arce'din "
     ]
    }
   ],
   "source": [
    "string = \"The meaning of life is: \\n\"\n",
    "\n",
    "with torch.no_grad():\n",
    "    for _ in range(100):\n",
    "        X = F.one_hot(torch.tensor(texttoint[string[-1]]), vocab_size).float()\n",
    "        h1 = F.gelu(X @ w1 + b1)\n",
    "        pred = h1 @ w2 + b2\n",
    "        string += inttotext[torch.multinomial(F.softmax(pred, dim=0), 1).item()]\n",
    "        print(string[-1], end=\"\")\n"
   ]
  },
  {
   "cell_type": "code",
   "execution_count": null,
   "metadata": {},
   "outputs": [],
   "source": []
  }
 ],
 "metadata": {
  "kernelspec": {
   "display_name": "Python 3",
   "language": "python",
   "name": "python3"
  },
  "language_info": {
   "codemirror_mode": {
    "name": "ipython",
    "version": 3
   },
   "file_extension": ".py",
   "mimetype": "text/x-python",
   "name": "python",
   "nbconvert_exporter": "python",
   "pygments_lexer": "ipython3",
   "version": "3.9.6"
  }
 },
 "nbformat": 4,
 "nbformat_minor": 2
}
