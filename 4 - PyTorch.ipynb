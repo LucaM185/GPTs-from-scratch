{
 "cells": [
  {
   "cell_type": "code",
   "execution_count": 50,
   "metadata": {},
   "outputs": [],
   "source": [
    "import torch\n",
    "import torch.nn as nn\n",
    "import torch.nn.functional as F\n",
    "import matplotlib.pyplot as plt \n"
   ]
  },
  {
   "cell_type": "code",
   "execution_count": 51,
   "metadata": {},
   "outputs": [
    {
     "name": "stdout",
     "output_type": "stream",
     "text": [
      "First Citizen:\n",
      "Before we proceed any further, hear me speak.\n",
      "\n",
      "All:\n",
      "Speak, speak.\n",
      "\n",
      "First Citizen:\n",
      "You are all resolved rather to die than to famish?\n",
      "\n",
      "All:\n",
      "Resolved. resolved.\n",
      "\n",
      "First Citizen:\n",
      "First, you\n"
     ]
    }
   ],
   "source": [
    "with open(\"datasets/tinyShakespeare.txt\", \"r\") as f:\n",
    "    load = f.read()\n",
    "print(load[:200])"
   ]
  },
  {
   "cell_type": "code",
   "execution_count": 52,
   "metadata": {},
   "outputs": [],
   "source": [
    "texttoint = {elm: n for n, elm in enumerate(set(load))}\n",
    "inttotext = {n:elm for n, elm in enumerate(set(load))}\n",
    "dataset = [texttoint[c] for c in load[2000:]]\n",
    "valset = [texttoint[c] for c in load[:2000]]\n",
    "\n",
    "sequence_length = 1\n",
    "vocab_size = len(texttoint)\n",
    "inputs = torch.tensor(dataset[:-1])\n",
    "labels = torch.tensor(dataset[1:])\n",
    "val_inputs = torch.tensor(valset[:-1])\n",
    "val_labels = torch.tensor(valset[1:])"
   ]
  },
  {
   "cell_type": "markdown",
   "metadata": {},
   "source": [
    "# Optimizer\n",
    "\n",
    "The architecture looks right but the loss is not going down as well as expected, let's try changing simple gradient descent to a more elaborate optimizer <br>\n",
    "We won't bother coding this up by ourselves because it's already implemented in pytorch and really easy to use from there <br>\n",
    "If you want, you can change from torch.optim.Adam to torch.optim.SGD and look how fast Adam really is"
   ]
  },
  {
   "cell_type": "code",
   "execution_count": 53,
   "metadata": {},
   "outputs": [
    {
     "name": "stdout",
     "output_type": "stream",
     "text": [
      "Epoch ___0 - Loss: 4.156\n",
      "Epoch _200 - Loss: 2.792\n",
      "Epoch _400 - Loss: 2.567\n",
      "Epoch _600 - Loss: 2.484\n",
      "Epoch _800 - Loss: 2.537\n",
      "Epoch 1000 - Loss: 2.443\n",
      "Epoch 1200 - Loss: 2.454\n",
      "Epoch 1400 - Loss: 2.452\n",
      "Epoch 1600 - Loss: 2.500\n",
      "Epoch 1800 - Loss: 2.492\n"
     ]
    }
   ],
   "source": [
    "hidden_size = 128\n",
    "\n",
    "w1 = torch.randn(vocab_size, hidden_size, requires_grad=True)\n",
    "b1 = torch.randn(hidden_size, requires_grad=True)\n",
    "w2 = torch.randn(hidden_size, vocab_size, requires_grad=True)\n",
    "b2 = torch.randn(vocab_size, requires_grad=True)\n",
    "\n",
    "params = [w1, b1, w2, b2]\n",
    "with torch.no_grad():\n",
    "    for p in params:\n",
    "        p /= p.shape[0] ** 0.5\n",
    "\n",
    "epochs = 2000\n",
    "batch_size = 1024\n",
    "optimizer = torch.optim.Adam(params, lr=1e-3)\n",
    "lossi = []\n",
    "vlossi = []\n",
    "\n",
    "for epoch in range(epochs):\n",
    "    indexes = torch.randint(0, len(inputs), (batch_size,))\n",
    "    \n",
    "    X = F.one_hot(inputs[indexes].long(), vocab_size).float()\n",
    "    h1 = F.gelu(X @ w1 + b1)\n",
    "    pred = h1 @ w2 + b2\n",
    "    loss = F.cross_entropy(pred, labels[indexes])\n",
    "\n",
    "    loss.backward()\n",
    "    optimizer.step()\n",
    "    optimizer.zero_grad()\n",
    "\n",
    "    lossi.append(loss.item())\n",
    "    if epoch % (epochs//10) == 0:\n",
    "        print(f\"Epoch {epoch:_>4d} - Loss: {loss.item():.3f}\")\n",
    "\n",
    "    with torch.no_grad():\n",
    "        X = F.one_hot(val_inputs.long(), vocab_size).float()\n",
    "        h1 = F.gelu(X @ w1 + b1)\n",
    "        pred = h1 @ w2 + b2\n",
    "        vloss = F.cross_entropy(pred, val_labels)\n",
    "        vlossi.append(vloss.item())"
   ]
  },
  {
   "cell_type": "code",
   "execution_count": 54,
   "metadata": {},
   "outputs": [
    {
     "data": {
      "text/plain": [
       "[<matplotlib.lines.Line2D at 0x7fcf0057fc40>]"
      ]
     },
     "execution_count": 54,
     "metadata": {},
     "output_type": "execute_result"
    },
    {
     "data": {
      "image/png": "[encoded data removed]",
      "text/plain": [
       "<Figure size 640x480 with 1 Axes>"
      ]
     },
     "metadata": {},
     "output_type": "display_data"
    }
   ],
   "source": [
    "plt.plot(lossi[:])"
   ]
  },
  {
   "cell_type": "markdown",
   "metadata": {},
   "source": [
    "As you can see adam maxes out the model really fast (around 250 epochs instead of 10000+), let's take a look at what it can write"
   ]
  },
  {
   "cell_type": "code",
   "execution_count": 55,
   "metadata": {},
   "outputs": [
    {
     "name": "stdout",
     "output_type": "stream",
     "text": [
      "WA:\n",
      "CETOrasodee hesles shoun. tishooathankies tod! my, cerd dicar;\n",
      "K:\n",
      "cowsl orou gshimid chileanstha"
     ]
    }
   ],
   "source": [
    "string = \"The meaning of life is: \\n\"\n",
    "\n",
    "with torch.no_grad():\n",
    "    for _ in range(100):\n",
    "        X = F.one_hot(torch.tensor(texttoint[string[-1]]), vocab_size).float()\n",
    "        h1 = F.gelu(X @ w1 + b1)\n",
    "        pred = h1 @ w2 + b2\n",
    "        string += inttotext[torch.multinomial(F.softmax(pred, dim=0), 1).item()]\n",
    "        print(string[-1], end=\"\")\n"
   ]
  },
  {
   "cell_type": "markdown",
   "metadata": {},
   "source": [
    "# Longer sequences\n",
    "The outputs seem better than random, but we should aim at a loss way lower than 2.5... First thing that comes to mind is that we should give the model more context, because now we are just passing the last character"
   ]
  },
  {
   "cell_type": "code",
   "execution_count": 56,
   "metadata": {},
   "outputs": [],
   "source": [
    "sequence_length = 3\n",
    "\n",
    "sequences = torch.tensor([dataset[i:-sequence_length+i-1] for i in range(sequence_length+1)]).T\n",
    "inputs = sequences[:, :-1][2000:]\n",
    "labels = sequences[:, -1][2000:]\n",
    "val_inputs = sequences[:, :-1][:2000]  \n",
    "val_labels = sequences[:, -1][:2000]"
   ]
  },
  {
   "cell_type": "code",
   "execution_count": 57,
   "metadata": {},
   "outputs": [
    {
     "name": "stdout",
     "output_type": "stream",
     "text": [
      "Epoch ___0 - Loss: 4.118\n",
      "Epoch _200 - Loss: 2.592\n",
      "Epoch _400 - Loss: 2.224\n",
      "Epoch _600 - Loss: 2.112\n",
      "Epoch _800 - Loss: 2.212\n",
      "Epoch 1000 - Loss: 2.084\n",
      "Epoch 1200 - Loss: 2.041\n",
      "Epoch 1400 - Loss: 2.000\n",
      "Epoch 1600 - Loss: 1.950\n",
      "Epoch 1800 - Loss: 1.959\n"
     ]
    }
   ],
   "source": [
    "hidden_size = 128\n",
    "\n",
    "w1 = torch.randn(vocab_size*sequence_length, hidden_size, requires_grad=True)  # notice the vocab_size*sequence_length\n",
    "b1 = torch.randn(hidden_size, requires_grad=True)\n",
    "w2 = torch.randn(hidden_size, vocab_size, requires_grad=True)\n",
    "b2 = torch.randn(vocab_size, requires_grad=True)\n",
    "\n",
    "params = [w1, b1, w2, b2]\n",
    "with torch.no_grad():\n",
    "    for p in params:\n",
    "        p /= torch.norm(p, dim=0)\n",
    "\n",
    "epochs = 2000\n",
    "batch_size = 1024\n",
    "optimizer = torch.optim.Adam(params, lr=1e-3)\n",
    "lossi = []\n",
    "vlossi = []\n",
    "\n",
    "for epoch in range(epochs):\n",
    "    indexes = torch.randint(0, len(inputs), (batch_size,))\n",
    "    \n",
    "    X = F.one_hot(inputs[indexes].long(), vocab_size).float() # this has shape (batch_size, sequence_length, vocab_size), but we want (batch_size, vocab_size*sequence_length)\n",
    "    X = X.reshape(batch_size, -1) # -1 means \"infer the size from the other dimensions\"\n",
    "    h1 = F.gelu(X @ w1 + b1)\n",
    "    pred = h1 @ w2 + b2\n",
    "    loss = F.cross_entropy(pred, labels[indexes])\n",
    "\n",
    "    loss.backward()\n",
    "    optimizer.step()\n",
    "    optimizer.zero_grad()\n",
    "\n",
    "    lossi.append(loss.item())\n",
    "    if epoch % (epochs//10) == 0:\n",
    "        print(f\"Epoch {epoch:_>4d} - Loss: {loss.item():.3f}\")\n",
    "\n",
    "    with torch.no_grad():\n",
    "        X = F.one_hot(val_inputs.long(), vocab_size).float()\n",
    "        X = X.reshape(len(val_inputs), -1)\n",
    "        h1 = F.gelu(X @ w1 + b1)\n",
    "        pred = h1 @ w2 + b2\n",
    "        vloss = F.cross_entropy(pred, val_labels)\n",
    "        vlossi.append(vloss.item())"
   ]
  },
  {
   "cell_type": "code",
   "execution_count": 58,
   "metadata": {},
   "outputs": [
    {
     "data": {
      "text/plain": [
       "[<matplotlib.lines.Line2D at 0x7fcef85d2770>]"
      ]
     },
     "execution_count": 58,
     "metadata": {},
     "output_type": "execute_result"
    },
    {
     "data": {
      "image/png": "[encoded data removed]",
      "text/plain": [
       "<Figure size 640x480 with 1 Axes>"
      ]
     },
     "metadata": {},
     "output_type": "display_data"
    }
   ],
   "source": [
    "plt.plot(lossi[:])"
   ]
  },
  {
   "cell_type": "code",
   "execution_count": 59,
   "metadata": {},
   "outputs": [],
   "source": [
    "sequence_length = 20\n",
    "\n",
    "sequences = torch.tensor([dataset[i:-sequence_length+i-1] for i in range(sequence_length+1)]).T\n",
    "inputs = sequences[:, :-1][2000:]\n",
    "labels = sequences[:, -1][2000:]\n",
    "val_inputs = sequences[:, :-1][:2000]\n",
    "val_labels = sequences[:, -1][:2000]"
   ]
  },
  {
   "cell_type": "markdown",
   "metadata": {},
   "source": [
    "We are getting a way better loss, around 1.9 instead of 2.5 <br> \n",
    "Now let's try a wider input sequence, 20 should allow us to cover 3-5 words"
   ]
  },
  {
   "cell_type": "code",
   "execution_count": 60,
   "metadata": {},
   "outputs": [
    {
     "name": "stdout",
     "output_type": "stream",
     "text": [
      "Epoch ___0 - Loss: 4.226\n",
      "Epoch _200 - Loss: 2.510\n",
      "Epoch _400 - Loss: 2.149\n",
      "Epoch _600 - Loss: 2.090\n",
      "Epoch _800 - Loss: 2.074\n",
      "Epoch 1000 - Loss: 2.083\n",
      "Epoch 1200 - Loss: 2.027\n",
      "Epoch 1400 - Loss: 2.054\n",
      "Epoch 1600 - Loss: 1.953\n",
      "Epoch 1800 - Loss: 1.833\n"
     ]
    }
   ],
   "source": [
    "hidden_size = 128\n",
    "\n",
    "w1 = torch.randn(vocab_size*sequence_length, hidden_size, requires_grad=True)\n",
    "b1 = torch.randn(hidden_size, requires_grad=True)\n",
    "w2 = torch.randn(hidden_size, vocab_size, requires_grad=True)\n",
    "b2 = torch.randn(vocab_size, requires_grad=True)\n",
    "\n",
    "params = [w1, b1, w2, b2]\n",
    "with torch.no_grad():\n",
    "    for p in params:\n",
    "        p /= torch.norm(p, dim=0)\n",
    "\n",
    "epochs = 2000\n",
    "batch_size = 1024\n",
    "optimizer = torch.optim.Adam(params, lr=1e-3)\n",
    "lossi = []\n",
    "vlossi = []\n",
    "\n",
    "for epoch in range(epochs):\n",
    "    indexes = torch.randint(0, len(inputs), (batch_size,))\n",
    "    \n",
    "    X = F.one_hot(inputs[indexes].long(), vocab_size).float() # this has shape (batch_size, sequence_length, vocab_size), but we want (batch_size, vocab_size*sequence_length)\n",
    "    X = X.reshape(batch_size, -1) # -1 means \"infer the size from the other dimensions\"\n",
    "    h1 = F.gelu(X @ w1 + b1)\n",
    "    pred = h1 @ w2 + b2\n",
    "    loss = F.cross_entropy(pred, labels[indexes])\n",
    "\n",
    "    loss.backward()\n",
    "    optimizer.step()\n",
    "    optimizer.zero_grad()\n",
    "\n",
    "    lossi.append(loss.item())\n",
    "    if epoch % (epochs//10) == 0:\n",
    "        print(f\"Epoch {epoch:_>4d} - Loss: {loss.item():.3f}\")\n",
    "\n",
    "    with torch.no_grad():\n",
    "        X = F.one_hot(val_inputs.long(), vocab_size).float().view(len(val_inputs), -1)\n",
    "        h1 = F.gelu(X @ w1 + b1)\n",
    "        pred = h1 @ w2 + b2\n",
    "        vloss = F.cross_entropy(pred, val_labels)\n",
    "        vlossi.append(vloss.item())"
   ]
  },
  {
   "cell_type": "markdown",
   "metadata": {},
   "source": [
    "Running this model took way too much (around 3 times longer than before), and it seems harder to optimize let's explore why... "
   ]
  },
  {
   "cell_type": "code",
   "execution_count": 61,
   "metadata": {},
   "outputs": [
    {
     "name": "stdout",
     "output_type": "stream",
     "text": [
      "w1 torch.Size([1300, 128]) 166400\n",
      "b1 torch.Size([128]) 128\n",
      "w2 torch.Size([128, 65]) 8320\n",
      "b2 torch.Size([65]) 65\n"
     ]
    }
   ],
   "source": [
    "for param, name in zip([w1, b1, w2, b2], [\"w1\", \"b1\", \"w2\", \"b2\"]):\n",
    "    # print variable name, shape and number of parameters\n",
    "    print(name, param.shape, param.numel())   "
   ]
  },
  {
   "cell_type": "markdown",
   "metadata": {},
   "source": [
    "The first layer has WAAAY too many parameters, it scales with sequence_length * vocab_size * hidden_size <br>\n",
    "How can we improve on this? <br>\n",
    "- Lowering sequence_length decreases performance\n",
    "- vocab_size seems oddly inefficient with one_hot embeddings [0, 0, 0, 0, 1, 0, 0, 0]\n",
    "- Lowering hidden_size decreases performance \n",
    "\n",
    "Let's think about vocab_size, right now with one_hot embeddings we are using 65 parameters to store a small int <br> \n",
    "We can't pass the int by itself, because neural networks are not good at picking up small differences in int values like that. <br><br>\n",
    "One idea would be to reduce the dimensionality to something more managable, like 5 parameters, but how? <br>\n",
    "We could simply make a list initialized at random of 5 parameter embeddigs for each value in the vocabulary... We call these embeddings <br>\n",
    "\n",
    "Embeddings not only allow us to be more parameter efficient than one_hot encoding, they have O(n) complexity and allow us to map each integer value in the input space to a trained vector space where each embedding trends towards a good representation for the meaning of the inputs. "
   ]
  },
  {
   "cell_type": "code",
   "execution_count": 62,
   "metadata": {},
   "outputs": [],
   "source": [
    "sequence_length = 20\n",
    "\n",
    "sequences = torch.tensor([dataset[i:-sequence_length+i-1] for i in range(sequence_length+1)]).T\n",
    "inputs = sequences[:, :-1][2000:]\n",
    "labels = sequences[:, -1][2000:]\n",
    "val_inputs = sequences[:, :-1][:2000]\n",
    "val_labels = sequences[:, -1][:2000]"
   ]
  },
  {
   "cell_type": "code",
   "execution_count": 63,
   "metadata": {},
   "outputs": [
    {
     "name": "stdout",
     "output_type": "stream",
     "text": [
      "Epoch ___0 - Loss: 4.454\n",
      "Epoch _200 - Loss: 2.816\n",
      "Epoch _400 - Loss: 2.598\n",
      "Epoch _600 - Loss: 2.444\n",
      "Epoch _800 - Loss: 2.308\n",
      "Epoch 1000 - Loss: 2.251\n",
      "Epoch 1200 - Loss: 2.229\n",
      "Epoch 1400 - Loss: 2.176\n",
      "Epoch 1600 - Loss: 2.104\n",
      "Epoch 1800 - Loss: 2.202\n"
     ]
    }
   ],
   "source": [
    "emb_size = 10  # I chose 10 parameter embeddings, but you can try different values\n",
    "hidden_size = 128\n",
    "\n",
    "embeddings = torch.randn(vocab_size, emb_size)  # Assigning a random vector to each character in the vocabulary (this will be trained)\n",
    "w1 = torch.randn(emb_size*sequence_length, hidden_size, requires_grad=True)\n",
    "b1 = torch.randn(hidden_size, requires_grad=True)\n",
    "w2 = torch.randn(hidden_size, vocab_size, requires_grad=True)\n",
    "b2 = torch.randn(vocab_size, requires_grad=True)\n",
    "\n",
    "with torch.no_grad():\n",
    "    for p in [w1, b1, w2, b2]:\n",
    "        p /= torch.norm(p, dim=0)\n",
    "\n",
    "epochs = 2000\n",
    "batch_size = 1024\n",
    "optimizer = torch.optim.Adam([embeddings, w1, b1, w2, b2], lr=1e-3)  # dont forget to add embeddings to the optimizer\n",
    "lossi = []\n",
    "vlossi = []\n",
    "\n",
    "for epoch in range(epochs):\n",
    "    indexes = torch.randint(0, len(inputs), (batch_size,))\n",
    "    \n",
    "    emb = embeddings[inputs[indexes]].view(batch_size, -1)\n",
    "    h1 = F.gelu(emb @ w1 + b1)\n",
    "    pred = h1 @ w2 + b2\n",
    "    loss = F.cross_entropy(pred, labels[indexes])\n",
    "\n",
    "    loss.backward()\n",
    "    optimizer.step()\n",
    "    optimizer.zero_grad()\n",
    "\n",
    "    lossi.append(loss.item())\n",
    "    if epoch % (epochs//10) == 0:\n",
    "        print(f\"Epoch {epoch:_>4d} - Loss: {loss.item():.3f}\")\n",
    "\n",
    "    with torch.no_grad():\n",
    "        emb = embeddings[val_inputs].reshape(len(val_inputs), -1)\n",
    "        h1 = F.gelu(emb @ w1 + b1)\n",
    "        pred = h1 @ w2 + b2\n",
    "        vloss = F.cross_entropy(pred, val_labels)\n",
    "        vlossi.append(vloss.item())"
   ]
  },
  {
   "cell_type": "markdown",
   "metadata": {},
   "source": [
    "As you can see the model runs well, but now the complexity of the code is getting problematic, luckily pytorch has most of this already implemented. \n",
    "Just like we did before with the loss and the optimizer, here we can substitute the layers with pre made ones. "
   ]
  },
  {
   "cell_type": "code",
   "execution_count": 64,
   "metadata": {},
   "outputs": [],
   "source": [
    "class Model(nn.Module):\n",
    "    def __init__(self, emb_size, hidden_size):\n",
    "        super().__init__()\n",
    "        self.embeddings = nn.Embedding(vocab_size, emb_size)\n",
    "        self.w1 = nn.Linear(emb_size*sequence_length, hidden_size)\n",
    "        self.w2 = nn.Linear(hidden_size, vocab_size)\n",
    "    \n",
    "    def forward(self, inputs):\n",
    "        emb = self.embeddings(inputs).view(inputs.shape[0], -1)\n",
    "        h1 = F.gelu(self.w1(emb))\n",
    "        return self.w2(h1)\n",
    "    \n",
    "model = Model(emb_size=10, hidden_size=128)"
   ]
  },
  {
   "cell_type": "code",
   "execution_count": 65,
   "metadata": {},
   "outputs": [
    {
     "name": "stdout",
     "output_type": "stream",
     "text": [
      "Epoch ___0 - Loss: 4.200\n",
      "Epoch _200 - Loss: 2.577\n",
      "Epoch _400 - Loss: 2.449\n",
      "Epoch _600 - Loss: 2.237\n",
      "Epoch _800 - Loss: 2.273\n",
      "Epoch 1000 - Loss: 2.209\n",
      "Epoch 1200 - Loss: 2.050\n",
      "Epoch 1400 - Loss: 2.063\n",
      "Epoch 1600 - Loss: 2.018\n",
      "Epoch 1800 - Loss: 1.977\n"
     ]
    }
   ],
   "source": [
    "epochs = 2000\n",
    "batch_size = 1024\n",
    "optimizer = torch.optim.Adam(model.parameters(), lr=1e-3) \n",
    "\n",
    "lossi = []\n",
    "vlossi = []\n",
    "\n",
    "for epoch in range(epochs):\n",
    "    indexes = torch.randint(0, len(inputs), (batch_size,))\n",
    "    \n",
    "    pred = model(inputs[indexes]) # everything in the forward pass happens in the model class\n",
    "    loss = F.cross_entropy(pred, labels[indexes])\n",
    "\n",
    "    loss.backward()\n",
    "    optimizer.step()\n",
    "    optimizer.zero_grad()\n",
    "\n",
    "    lossi.append(loss.item())\n",
    "    if epoch % (epochs//10) == 0:\n",
    "        print(f\"Epoch {epoch:_>4d} - Loss: {loss.item():.3f}\")\n",
    "\n",
    "    with torch.no_grad():\n",
    "        pred = model(val_inputs)\n",
    "        vloss = F.cross_entropy(pred, val_labels)\n",
    "        vlossi.append(vloss.item())"
   ]
  },
  {
   "cell_type": "markdown",
   "metadata": {},
   "source": [
    "As you can see the torch version works just as well, if not better, they have smarter initializations than ours and it's all around more refined\n",
    "\n",
    "Now we will move the training to the GPU to make it even faster"
   ]
  },
  {
   "cell_type": "code",
   "execution_count": 66,
   "metadata": {},
   "outputs": [],
   "source": [
    "class Model(nn.Module):\n",
    "    def __init__(self, emb_size, hidden_size):\n",
    "        super().__init__()\n",
    "        self.embeddings = nn.Embedding(vocab_size, emb_size)\n",
    "        self.fc1 = nn.Linear(emb_size*sequence_length, hidden_size)\n",
    "        self.fc2 = nn.Linear(hidden_size, vocab_size)\n",
    "    \n",
    "    def forward(self, inputs):\n",
    "        emb = self.embeddings(inputs).view(inputs.shape[0], -1)\n",
    "        h1 = F.gelu(self.fc1(emb))\n",
    "        return self.fc2(h1)\n",
    "\n",
    "\n",
    "device = torch.device(\"cuda:0\")  # Set the device to GPU (cuda) \n",
    "model = Model(emb_size=10, hidden_size=128).to(device)  # Send the model to GPU"
   ]
  },
  {
   "cell_type": "code",
   "execution_count": 67,
   "metadata": {},
   "outputs": [
    {
     "name": "stdout",
     "output_type": "stream",
     "text": [
      "Epoch ___0 - Loss: 4.179\n",
      "Epoch 1000 - Loss: 2.209\n",
      "Epoch 2000 - Loss: 1.987\n",
      "Epoch 3000 - Loss: 1.902\n",
      "Epoch 4000 - Loss: 1.834\n",
      "Epoch 5000 - Loss: 1.784\n",
      "Epoch 6000 - Loss: 1.742\n",
      "Epoch 7000 - Loss: 1.780\n",
      "Epoch 8000 - Loss: 1.779\n",
      "Epoch 9000 - Loss: 1.691\n"
     ]
    }
   ],
   "source": [
    "epochs = 10000\n",
    "batch_size = 1024\n",
    "optimizer = torch.optim.Adam(model.parameters(), lr=1e-3) \n",
    "\n",
    "lossi = []\n",
    "vlossi = []\n",
    "\n",
    "for epoch in range(epochs):\n",
    "    indexes = torch.randint(0, len(inputs), (batch_size,))\n",
    "    \n",
    "    pred = model(inputs[indexes].to(device))  # Send the inputs to GPU\n",
    "    loss = F.cross_entropy(pred, labels[indexes].to(device))  # Send the labels to GPU\n",
    "\n",
    "    loss.backward()\n",
    "    optimizer.step()\n",
    "    optimizer.zero_grad()\n",
    "\n",
    "    lossi.append(loss.item())\n",
    "    if epoch % (epochs//10) == 0:\n",
    "        print(f\"Epoch {epoch:_>4d} - Loss: {loss.item():.3f}\")\n",
    "\n",
    "    with torch.no_grad():\n",
    "        pred = model(val_inputs.to(device))\n",
    "        vloss = F.cross_entropy(pred, val_labels.to(device))\n",
    "        vlossi.append(vloss.item())"
   ]
  },
  {
   "cell_type": "markdown",
   "metadata": {},
   "source": [
    "The performance of the model is the same but everything happens in about a third of the time on my pc (ryzen 3100 and 3060 12GB) <br>\n",
    "Note: GPUs are often bandwith bound, not compute bound, so higher batch sizes play well with text, for example it may be that from 1 to 512 the training time stays basically the same, because the gpu is able to compute all of these in parallel and under a certain batch size you will not be taking advantage of this. <br>\n",
    "Now let's train it for a while and take a look at some predictions"
   ]
  },
  {
   "cell_type": "code",
   "execution_count": 68,
   "metadata": {},
   "outputs": [
    {
     "data": {
      "text/plain": [
       "[<matplotlib.lines.Line2D at 0x7fcef85cbd90>]"
      ]
     },
     "execution_count": 68,
     "metadata": {},
     "output_type": "execute_result"
    },
    {
     "data": {
      "image/png": "[encoded data removed]",
      "text/plain": [
       "<Figure size 640x480 with 1 Axes>"
      ]
     },
     "metadata": {},
     "output_type": "display_data"
    }
   ],
   "source": [
    "plt.plot(lossi[:])"
   ]
  },
  {
   "cell_type": "code",
   "execution_count": 76,
   "metadata": {},
   "outputs": [
    {
     "name": "stdout",
     "output_type": "stream",
     "text": [
      "             \n",
      "KING RICHARD IIIS:\n",
      "Sy lothial, I whosed froy!\n",
      "\n",
      "CORIOLANUS:\n",
      "Enforely cresm prased, you there.\n",
      "\n",
      "Secold bust me las what Bapains youl the shall darcess'd to rech limting ple.\n",
      "\n",
      "TRANIO:\n",
      "So keld need; make wereconsed acce abime singry thilds,\n",
      "And therex Vimer!\n",
      "Thouse of hea? by such a-bone;\n",
      "But not trom yoult all my sentlemann ope,\n",
      "Derengeans cray ness, I'lish, my with Covung, to guse have Mother?\n",
      "\n",
      "AUCIO:\n",
      "Nays my frompe to-lusse, mady thee gendinghants my bud bardin with wit broing hald again\n",
      "Maugain ry gonnot kay' queed.\n",
      "\n",
      "MISTB OFI\n",
      "Than sey, you ligatiem, harge dy ped all.\n",
      "\n",
      "QUEEN ELTZANganis, hat's be purgapss, and we pare,\n",
      "How I more hath mathe, if, come asse our cartce oor maicherag be boot canst no, you aleat bust way:\n",
      "And but we dactest fearsw.\n",
      "\n",
      "BRUTUn:\n",
      "Hifilt calich of woncanions\n",
      "Youll be the makidon If awe,\n",
      "Spectid\n",
      "till is in Pamgody, in ther is spotter worthing in courn?\n",
      "\n",
      "LUCENTIO:\n",
      "To Mukay:\n",
      "He herefur hence and. Whon sast he eactor.\n",
      "\n",
      "CAPULET:\n",
      "I, nor, if thes it truegh\n",
      "The daing spant hords sorvin"
     ]
    }
   ],
   "source": [
    "string = \"             \\nKING RICHARD I\"\n",
    "print(string, end=\"\")\n",
    "\n",
    "with torch.no_grad():\n",
    "    for _ in range(1000):\n",
    "        X = torch.tensor([texttoint[s] for s in string[-sequence_length:]]).long().view(1, -1).to(device)\n",
    "        #print(X)\n",
    "        pred = model.forward(X)\n",
    "        string += inttotext[torch.multinomial(F.softmax(pred, dim=1), 1).item()]\n",
    "        print(string[-1], end=\"\")\n"
   ]
  },
  {
   "cell_type": "markdown",
   "metadata": {},
   "source": [
    "The model is spitting out nosense but it clearly resembles the text it's trained on... Let's see how we can improve on this in part 5"
   ]
  }
 ],
 "metadata": {
  "kernelspec": {
   "display_name": "base",
   "language": "python",
   "name": "python3"
  },
  "language_info": {
   "codemirror_mode": {
    "name": "ipython",
    "version": 3
   },
   "file_extension": ".py",
   "mimetype": "text/x-python",
   "name": "python",
   "nbconvert_exporter": "python",
   "pygments_lexer": "ipython3",
   "version": "3.10.12"
  }
 },
 "nbformat": 4,
 "nbformat_minor": 2
}
