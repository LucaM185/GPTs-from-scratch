{
 "cells": [
  {
   "cell_type": "code",
   "execution_count": 7,
   "metadata": {},
   "outputs": [],
   "source": [
    "import torch\n",
    "import torch.nn as nn\n",
    "import torch.nn.functional as F\n",
    "import matplotlib.pyplot as plt \n"
   ]
  },
  {
   "cell_type": "markdown",
   "metadata": {},
   "source": [
    "# Mnist\n",
    "\n",
    "This is a custom made version of mnist, with 4000 images of zeros and 4000 images of ones. Their values go from 0 to 255, first thing we will do is scale them to 0-1 dividing by 255. "
   ]
  },
  {
   "cell_type": "code",
   "execution_count": 8,
   "metadata": {},
   "outputs": [
    {
     "ename": "FileNotFoundError",
     "evalue": "[Errno 2] No such file or directory: 'datasets/mnist_images.pt'",
     "output_type": "error",
     "traceback": [
      "\u001b[1;31m---------------------------------------------------------------------------\u001b[0m",
      "\u001b[1;31mFileNotFoundError\u001b[0m                         Traceback (most recent call last)",
      "Cell \u001b[1;32mIn[8], line 1\u001b[0m\n\u001b[1;32m----> 1\u001b[0m images \u001b[38;5;241m=\u001b[39m \u001b[43mtorch\u001b[49m\u001b[38;5;241;43m.\u001b[39;49m\u001b[43mload\u001b[49m\u001b[43m(\u001b[49m\u001b[38;5;124;43m'\u001b[39;49m\u001b[38;5;124;43mdatasets/mnist_images.pt\u001b[39;49m\u001b[38;5;124;43m'\u001b[39;49m\u001b[43m)\u001b[49m\u001b[38;5;241m/\u001b[39m\u001b[38;5;241m255\u001b[39m\n\u001b[0;32m      2\u001b[0m labels \u001b[38;5;241m=\u001b[39m torch\u001b[38;5;241m.\u001b[39mload(\u001b[38;5;124m'\u001b[39m\u001b[38;5;124mdatasets/mnist_labels.pt\u001b[39m\u001b[38;5;124m'\u001b[39m)\n\u001b[0;32m      4\u001b[0m \u001b[38;5;28mprint\u001b[39m(labels[\u001b[38;5;241m0\u001b[39m])\n",
      "File \u001b[1;32mc:\\Users\\lucam\\AppData\\Local\\Programs\\Python\\Python39\\lib\\site-packages\\torch\\serialization.py:998\u001b[0m, in \u001b[0;36mload\u001b[1;34m(f, map_location, pickle_module, weights_only, mmap, **pickle_load_args)\u001b[0m\n\u001b[0;32m    995\u001b[0m \u001b[38;5;28;01mif\u001b[39;00m \u001b[38;5;124m'\u001b[39m\u001b[38;5;124mencoding\u001b[39m\u001b[38;5;124m'\u001b[39m \u001b[38;5;129;01mnot\u001b[39;00m \u001b[38;5;129;01min\u001b[39;00m pickle_load_args\u001b[38;5;241m.\u001b[39mkeys():\n\u001b[0;32m    996\u001b[0m     pickle_load_args[\u001b[38;5;124m'\u001b[39m\u001b[38;5;124mencoding\u001b[39m\u001b[38;5;124m'\u001b[39m] \u001b[38;5;241m=\u001b[39m \u001b[38;5;124m'\u001b[39m\u001b[38;5;124mutf-8\u001b[39m\u001b[38;5;124m'\u001b[39m\n\u001b[1;32m--> 998\u001b[0m \u001b[38;5;28;01mwith\u001b[39;00m \u001b[43m_open_file_like\u001b[49m\u001b[43m(\u001b[49m\u001b[43mf\u001b[49m\u001b[43m,\u001b[49m\u001b[43m \u001b[49m\u001b[38;5;124;43m'\u001b[39;49m\u001b[38;5;124;43mrb\u001b[39;49m\u001b[38;5;124;43m'\u001b[39;49m\u001b[43m)\u001b[49m \u001b[38;5;28;01mas\u001b[39;00m opened_file:\n\u001b[0;32m    999\u001b[0m     \u001b[38;5;28;01mif\u001b[39;00m _is_zipfile(opened_file):\n\u001b[0;32m   1000\u001b[0m         \u001b[38;5;66;03m# The zipfile reader is going to advance the current file position.\u001b[39;00m\n\u001b[0;32m   1001\u001b[0m         \u001b[38;5;66;03m# If we want to actually tail call to torch.jit.load, we need to\u001b[39;00m\n\u001b[0;32m   1002\u001b[0m         \u001b[38;5;66;03m# reset back to the original position.\u001b[39;00m\n\u001b[0;32m   1003\u001b[0m         orig_position \u001b[38;5;241m=\u001b[39m opened_file\u001b[38;5;241m.\u001b[39mtell()\n",
      "File \u001b[1;32mc:\\Users\\lucam\\AppData\\Local\\Programs\\Python\\Python39\\lib\\site-packages\\torch\\serialization.py:445\u001b[0m, in \u001b[0;36m_open_file_like\u001b[1;34m(name_or_buffer, mode)\u001b[0m\n\u001b[0;32m    443\u001b[0m \u001b[38;5;28;01mdef\u001b[39;00m \u001b[38;5;21m_open_file_like\u001b[39m(name_or_buffer, mode):\n\u001b[0;32m    444\u001b[0m     \u001b[38;5;28;01mif\u001b[39;00m _is_path(name_or_buffer):\n\u001b[1;32m--> 445\u001b[0m         \u001b[38;5;28;01mreturn\u001b[39;00m \u001b[43m_open_file\u001b[49m\u001b[43m(\u001b[49m\u001b[43mname_or_buffer\u001b[49m\u001b[43m,\u001b[49m\u001b[43m \u001b[49m\u001b[43mmode\u001b[49m\u001b[43m)\u001b[49m\n\u001b[0;32m    446\u001b[0m     \u001b[38;5;28;01melse\u001b[39;00m:\n\u001b[0;32m    447\u001b[0m         \u001b[38;5;28;01mif\u001b[39;00m \u001b[38;5;124m'\u001b[39m\u001b[38;5;124mw\u001b[39m\u001b[38;5;124m'\u001b[39m \u001b[38;5;129;01min\u001b[39;00m mode:\n",
      "File \u001b[1;32mc:\\Users\\lucam\\AppData\\Local\\Programs\\Python\\Python39\\lib\\site-packages\\torch\\serialization.py:426\u001b[0m, in \u001b[0;36m_open_file.__init__\u001b[1;34m(self, name, mode)\u001b[0m\n\u001b[0;32m    425\u001b[0m \u001b[38;5;28;01mdef\u001b[39;00m \u001b[38;5;21m__init__\u001b[39m(\u001b[38;5;28mself\u001b[39m, name, mode):\n\u001b[1;32m--> 426\u001b[0m     \u001b[38;5;28msuper\u001b[39m()\u001b[38;5;241m.\u001b[39m\u001b[38;5;21m__init__\u001b[39m(\u001b[38;5;28;43mopen\u001b[39;49m\u001b[43m(\u001b[49m\u001b[43mname\u001b[49m\u001b[43m,\u001b[49m\u001b[43m \u001b[49m\u001b[43mmode\u001b[49m\u001b[43m)\u001b[49m)\n",
      "\u001b[1;31mFileNotFoundError\u001b[0m: [Errno 2] No such file or directory: 'datasets/mnist_images.pt'"
     ]
    }
   ],
   "source": [
    "images = torch.load('datasets/mnist_images.pt')/255\n",
    "labels = torch.load('datasets/mnist_labels.pt')\n",
    "\n",
    "print(labels[0])\n",
    "plt.imshow(images[0])\n",
    "plt.show()\n",
    "print(labels[4000])\n",
    "plt.imshow(images[4000])\n",
    "plt.show()"
   ]
  },
  {
   "cell_type": "markdown",
   "metadata": {},
   "source": [
    "Now that we loaded our images, we need to flatten them to correctly use them in a neural network. Shape (784, ) is far easier to deal with than (28, 28)"
   ]
  },
  {
   "cell_type": "code",
   "execution_count": null,
   "metadata": {},
   "outputs": [],
   "source": [
    "images = images.view(-1, 28*28)"
   ]
  },
  {
   "cell_type": "markdown",
   "metadata": {},
   "source": [
    "# Perceptron\n",
    "This complex dataset requires us to use something more elaborate, we will build on logistic regression to make an architecture that can deal with this kind of data \n",
    "You can recall logistic regression having two trained parameters, m and q. Turns out that we can just scale that up for all of our input values, sum the results up and apply an activation function: \n",
    "\n",
    "Remember: images have size (DATASET_SIZE, 784) <br>\n",
    "pred1 = images1 * m1 + q1  <br>\n",
    "pred2 = images2 * m2 + q2 <br>\n",
    "pred3 = images3 * m3 + q3 <br>\n",
    "...  <br>\n",
    "predn = imagesn * mn + qn <br>\n",
    "\n",
    "and then we sum up preds like this:  <br>\n",
    "(m1 * images1 + m2 * images2 + m3 * images3 + q3 ... mn * imagesn) + (q1 + q2 + q3 ... qn) <br>\n",
    "\n",
    "actually it turns out that these two terms can be greatly simplified, the first is none other than a dot product (@ in python) and the sum of qs can be reduced to a single q value that holds the same information\n",
    "\n",
    "The simplified formula for the perceptron is the following (without activation): <br>\n",
    "**pred = images @ m + q**"
   ]
  },
  {
   "cell_type": "code",
   "execution_count": 147,
   "metadata": {},
   "outputs": [
    {
     "name": "stdout",
     "output_type": "stream",
     "text": [
      "Epoch 0/1500 - Loss: 0.5135847330093384 - Accuracy: 42%\n"
     ]
    },
    {
     "name": "stdout",
     "output_type": "stream",
     "text": [
      "Epoch 150/1500 - Loss: 0.43829619884490967 - Accuracy: 50%\n",
      "Epoch 300/1500 - Loss: 0.3767104148864746 - Accuracy: 57%\n",
      "Epoch 450/1500 - Loss: 0.318894624710083 - Accuracy: 63%\n",
      "Epoch 600/1500 - Loss: 0.26526182889938354 - Accuracy: 69%\n",
      "Epoch 750/1500 - Loss: 0.21420571208000183 - Accuracy: 74%\n",
      "Epoch 900/1500 - Loss: 0.17074503004550934 - Accuracy: 79%\n",
      "Epoch 1050/1500 - Loss: 0.13863205909729004 - Accuracy: 83%\n",
      "Epoch 1200/1500 - Loss: 0.115546815097332 - Accuracy: 86%\n",
      "Epoch 1350/1500 - Loss: 0.09889500588178635 - Accuracy: 88%\n"
     ]
    }
   ],
   "source": [
    "# Parameters\n",
    "m = torch.randn(784).requires_grad_()\n",
    "q = torch.randn(1).requires_grad_()\n",
    "\n",
    "# Training hyperparameters \n",
    "epochs = 1500\n",
    "lr = 1e-2\n",
    "\n",
    "# Training loop\n",
    "for epoch in range(epochs):\n",
    "    # Forward pass\n",
    "    pred = F.sigmoid(images @ m + q)  # formula for perceptron with sigmoid activation\n",
    "    loss = F.mse_loss(pred, labels)\n",
    "\n",
    "    # Backward pass\n",
    "    loss.backward()\n",
    "    with torch.no_grad():\n",
    "        m -= lr * m.grad\n",
    "        q -= lr * q.grad\n",
    "        m.grad = None\n",
    "        q.grad = None\n",
    "    \n",
    "    # Print loss every 10% of epochs\n",
    "    if epoch % (epochs//10) == 0:\n",
    "        print(f'Epoch {epoch}/{epochs} - Loss: {loss.item()} - Accuracy: {round(((pred.round() == labels).sum().item()/len(labels))*100)}%')"
   ]
  },
  {
   "cell_type": "markdown",
   "metadata": {},
   "source": [
    "# What's a dot product\n",
    "Yes, we came up with the perceptron as a scaled up logistic regressor, but the dot product has a deeper meaning in linear algebra. \n",
    "This is the other formula for the dot product: |u||v|cosθ. <br>\n",
    "Intrinsically in the dot product is the cos of the angle between the vectors, representing their similarity. It stands to reason that a set of ms correctly trained to recognize zeros, should have high similarity with zeros and low with ones.  \n",
    "\n",
    "Let's say we have three vectors: <br>\n",
    "a = [0, 1, 2] <br>\n",
    "b = [2, 0, 0] <br>\n",
    "c = [0, 2, 4] <br>\n",
    "\n",
    "\n",
    "| Equation       | Similarity  | Angle  | Explanation                           |\n",
    "|----------------|-------------|--------|---------------------------------------|\n",
    "| a @ a = 5      | High        | 0°     | High similarity because the angle is zero |\n",
    "| a @ -a = -5    | Opposite    | 180°   | Opposite similarity because the angle is 180° |\n",
    "| a @ b = 0      | Zero        | 90°    | Zero similarity because the angle between them is 90° |\n",
    "| a @ c = 10     | Really High | 0°     | Really high similarity because of zero angle and high values |\n"
   ]
  },
  {
   "cell_type": "code",
   "execution_count": null,
   "metadata": {},
   "outputs": [],
   "source": [
    "# Don't believe me? take a look at the trained weights \n",
    "plt.imshow(m.view(28, 28).detach())"
   ]
  },
  {
   "cell_type": "markdown",
   "metadata": {},
   "source": [
    "# Loading in batches \n",
    "\n",
    "This is taking a while, we cant train like this... Doing a forward and backward pass on the complete dataset is slow, let's see if we can make more approximate step that's good enough by using a subset of our data in each epoch"
   ]
  },
  {
   "cell_type": "code",
   "execution_count": 148,
   "metadata": {},
   "outputs": [
    {
     "name": "stdout",
     "output_type": "stream",
     "text": [
      "Epoch 0/4500 - Loss: 0.5277333855628967 - Accuracy: 47%\n",
      "Epoch 450/4500 - Loss: 0.5210323929786682 - Accuracy: 47%\n",
      "Epoch 900/4500 - Loss: 0.5135201215744019 - Accuracy: 48%\n",
      "Epoch 1350/4500 - Loss: 0.5299851298332214 - Accuracy: 47%\n",
      "Epoch 1800/4500 - Loss: 0.5121310353279114 - Accuracy: 48%\n",
      "Epoch 2250/4500 - Loss: 0.500626802444458 - Accuracy: 50%\n",
      "Epoch 2700/4500 - Loss: 0.4925018548965454 - Accuracy: 50%\n",
      "Epoch 3150/4500 - Loss: 0.5000004172325134 - Accuracy: 50%\n",
      "Epoch 3600/4500 - Loss: 0.522444486618042 - Accuracy: 47%\n",
      "Epoch 4050/4500 - Loss: 0.5079576373100281 - Accuracy: 49%\n"
     ]
    }
   ],
   "source": [
    "m = torch.randn(784).requires_grad_()\n",
    "q = torch.randn(1).requires_grad_()\n",
    "\n",
    "epochs = 4500 # roughly 3x the number of epochs \n",
    "lr = 1e-2\n",
    "batch_size = 1024  # taking a batch of 1024 samples at a time instead of 8000\n",
    "\n",
    "for epoch in range(epochs):\n",
    "    indexes = torch.randint(0, images.shape[0], (batch_size,))  # generating random indexes of size (batch_size,)\n",
    "\n",
    "    pred = F.sigmoid(images[indexes] @ m + q)\n",
    "    loss = F.mse_loss(pred, labels[indexes])\n",
    "    loss.backward()\n",
    "\n",
    "    with torch.no_grad():\n",
    "        m -= lr * m.grad\n",
    "        q -= lr * q.grad\n",
    "        m.grad = None\n",
    "        q.grad = None\n",
    "    \n",
    "    if epoch % (epochs//10) == 0:\n",
    "        print(f'Epoch {epoch}/{epochs} - Loss: {loss.item()} - Accuracy: {round(((pred.round() == labels[indexes]).sum().item()/len(labels[indexes]))*100)}%')"
   ]
  },
  {
   "cell_type": "markdown",
   "metadata": {},
   "source": [
    "This is cool, we can achieve an even better loss of the previous approach at epoch 1500, and we can keep training for more epochs in the same amount of time. <br>\n",
    "\n",
    "But some problems are way harder and can't be tackled with a solution this simple... <br>\n",
    "\n",
    "Remember what we did earlier? We made our logistic regressor wider to make a Perceptron, now we can try expanding the perceptron in the forward direction <br>\n",
    "\n",
    "This architecture should resemble a network of biological neurons (don't quote me on that, it's not entirely true), this is called Multi Layer Perceptron\n",
    "\n",
    "# MLP\n",
    "\n"
   ]
  },
  {
   "cell_type": "code",
   "execution_count": 149,
   "metadata": {},
   "outputs": [
    {
     "name": "stdout",
     "output_type": "stream",
     "text": [
      "Epoch 0/4500 - Loss: 0.4913511276245117 - Accuracy: 49%\n",
      "Epoch 450/4500 - Loss: 0.05893292278051376 - Accuracy: 94%\n",
      "Epoch 900/4500 - Loss: 0.020899219438433647 - Accuracy: 98%\n",
      "Epoch 1350/4500 - Loss: 0.017924292013049126 - Accuracy: 98%\n",
      "Epoch 1800/4500 - Loss: 0.019463714212179184 - Accuracy: 98%\n",
      "Epoch 2250/4500 - Loss: 0.019934438169002533 - Accuracy: 98%\n",
      "Epoch 2700/4500 - Loss: 0.010393629781901836 - Accuracy: 99%\n",
      "Epoch 3150/4500 - Loss: 0.011434175074100494 - Accuracy: 99%\n",
      "Epoch 3600/4500 - Loss: 0.010279002599418163 - Accuracy: 99%\n",
      "Epoch 4050/4500 - Loss: 0.008107936009764671 - Accuracy: 99%\n"
     ]
    }
   ],
   "source": [
    "hidden_size = 128\n",
    "\n",
    "w1 = torch.randn(784, hidden_size).requires_grad_()\n",
    "b1 = torch.randn(hidden_size).requires_grad_()\n",
    "w2 = torch.randn(hidden_size).requires_grad_()\n",
    "b2 = torch.randn(1).requires_grad_()\n",
    "\n",
    "epochs = 4500\n",
    "lr = 1e-2\n",
    "batch_size = 1024\n",
    "lossi = []\n",
    "\n",
    "for epoch in range(epochs):\n",
    "    indexes = torch.randint(0, images.shape[0], (batch_size,))\n",
    "    \n",
    "    h1 = F.gelu(images[indexes] @ w1 + b1)  # We are using GELU activation function (Look at Regression.ipynb for more details)\n",
    "    pred = F.sigmoid(h1 @ w2 + b2)\n",
    "    loss = F.mse_loss(pred, labels[indexes])\n",
    "    lossi.append(loss.item())\n",
    "    loss.backward()\n",
    "\n",
    "    with torch.no_grad():\n",
    "        for p in [w1, b1, w2, b2]:  # More compact way of updating many parameters\n",
    "            p -= lr * p.grad\n",
    "            p.grad = None\n",
    "\n",
    "    if epoch % (epochs//10) == 0:\n",
    "        print(f'Epoch {epoch}/{epochs} - Loss: {loss.item()} - Accuracy: {round(((pred.round() == labels[indexes]).sum().item()/len(labels[indexes]))*100)}%')\n"
   ]
  },
  {
   "cell_type": "markdown",
   "metadata": {},
   "source": [
    "Notes: \n",
    "- The model is converging slightly faster than the single layer perceptron (bigger models learn faster)\n",
    "- The bigger model is very slow\n"
   ]
  },
  {
   "cell_type": "code",
   "execution_count": 150,
   "metadata": {},
   "outputs": [
    {
     "name": "stdout",
     "output_type": "stream",
     "text": [
      "Prediction: 0.0 - Label: 0.0\n"
     ]
    },
    {
     "data": {
      "image/png": "[encoded data removed]",
      "text/plain": [
       "<Figure size 432x288 with 1 Axes>"
      ]
     },
     "metadata": {
      "needs_background": "light"
     },
     "output_type": "display_data"
    },
    {
     "name": "stdout",
     "output_type": "stream",
     "text": [
      "Prediction: 1.6112755160075336e-26 - Label: 0.0\n"
     ]
    },
    {
     "data": {
      "image/png": "[encoded data removed]",
      "text/plain": [
       "<Figure size 432x288 with 1 Axes>"
      ]
     },
     "metadata": {
      "needs_background": "light"
     },
     "output_type": "display_data"
    },
    {
     "name": "stdout",
     "output_type": "stream",
     "text": [
      "Prediction: 1.0 - Label: 1.0\n"
     ]
    },
    {
     "data": {
      "image/png": "[encoded data removed]",
      "text/plain": [
       "<Figure size 432x288 with 1 Axes>"
      ]
     },
     "metadata": {
      "needs_background": "light"
     },
     "output_type": "display_data"
    },
    {
     "name": "stdout",
     "output_type": "stream",
     "text": [
      "Prediction: 1.0 - Label: 1.0\n"
     ]
    },
    {
     "data": {
      "image/png": "[encoded data removed]",
      "text/plain": [
       "<Figure size 432x288 with 1 Axes>"
      ]
     },
     "metadata": {
      "needs_background": "light"
     },
     "output_type": "display_data"
    },
    {
     "name": "stdout",
     "output_type": "stream",
     "text": [
      "Prediction: 1.5654411187141948e-19 - Label: 0.0\n"
     ]
    },
    {
     "data": {
      "image/png": "[encoded data removed]",
      "text/plain": [
       "<Figure size 432x288 with 1 Axes>"
      ]
     },
     "metadata": {
      "needs_background": "light"
     },
     "output_type": "display_data"
    }
   ],
   "source": [
    "# Lets take a look at some predictions for fun\n",
    "for i in range(5):\n",
    "    print(f'Prediction: {pred[i].item()} - Label: {labels[indexes][i].item()}')\n",
    "    plt.imshow(images[indexes][i].view(28, 28))\n",
    "    plt.show()\n"
   ]
  },
  {
   "cell_type": "markdown",
   "metadata": {},
   "source": [
    "# 10 Classes\n",
    "\n",
    "Converting our loop to deal with 10 classes will be rather easy, just expand the last weights and biases to have 10 outputs"
   ]
  },
  {
   "cell_type": "code",
   "execution_count": 151,
   "metadata": {},
   "outputs": [],
   "source": [
    "images = torch.load('datasets/mnist_images_10.pt')/255\n",
    "images = images.view(-1, 28*28)\n",
    "\n",
    "labels = torch.load('datasets/mnist_labels_10.pt')"
   ]
  },
  {
   "cell_type": "code",
   "execution_count": 152,
   "metadata": {},
   "outputs": [
    {
     "name": "stdout",
     "output_type": "stream",
     "text": [
      "tensor([8., 6., 4., 2., 7., 7., 0., 7., 4., 5.])\n",
      "tensor([[0., 0., 0., 0., 0., 0., 0., 0., 1., 0.],\n",
      "        [0., 0., 0., 0., 0., 0., 1., 0., 0., 0.],\n",
      "        [0., 0., 0., 0., 1., 0., 0., 0., 0., 0.],\n",
      "        [0., 0., 1., 0., 0., 0., 0., 0., 0., 0.],\n",
      "        [0., 0., 0., 0., 0., 0., 0., 1., 0., 0.],\n",
      "        [0., 0., 0., 0., 0., 0., 0., 1., 0., 0.],\n",
      "        [1., 0., 0., 0., 0., 0., 0., 0., 0., 0.],\n",
      "        [0., 0., 0., 0., 0., 0., 0., 1., 0., 0.],\n",
      "        [0., 0., 0., 0., 1., 0., 0., 0., 0., 0.],\n",
      "        [0., 0., 0., 0., 0., 1., 0., 0., 0., 0.]])\n"
     ]
    }
   ],
   "source": [
    "# let's take a look at 10 random labels\n",
    "\n",
    "random_indexes = torch.randint(0, images.shape[0], (10,))\n",
    "print(labels[random_indexes]) \n",
    "# we cant train on this, we need a different 0-1 label for each class\n",
    "\n",
    "labels = F.one_hot(labels.long(), 10).float()\n",
    "print(labels[random_indexes])\n",
    "# This is the one-hot encoding of the labels (simplest form of embedding)\n",
    "# In which we have a 1 at the index of the class and 0s everywhere else"
   ]
  },
  {
   "cell_type": "code",
   "execution_count": 153,
   "metadata": {},
   "outputs": [
    {
     "name": "stdout",
     "output_type": "stream",
     "text": [
      "Epoch 0/3000 - Loss: 0.16946208477020264 - Accuracy: 15%\n"
     ]
    },
    {
     "name": "stdout",
     "output_type": "stream",
     "text": [
      "Epoch 300/3000 - Loss: 0.16634245216846466 - Accuracy: 16%\n",
      "Epoch 600/3000 - Loss: 0.17067426443099976 - Accuracy: 14%\n",
      "Epoch 900/3000 - Loss: 0.16977354884147644 - Accuracy: 15%\n",
      "Epoch 1200/3000 - Loss: 0.1677853912115097 - Accuracy: 15%\n",
      "Epoch 1500/3000 - Loss: 0.16889068484306335 - Accuracy: 15%\n",
      "Epoch 1800/3000 - Loss: 0.1683022826910019 - Accuracy: 15%\n",
      "Epoch 2100/3000 - Loss: 0.16924135386943817 - Accuracy: 15%\n",
      "Epoch 2400/3000 - Loss: 0.1638798713684082 - Accuracy: 17%\n",
      "Epoch 2700/3000 - Loss: 0.16740448772907257 - Accuracy: 16%\n"
     ]
    }
   ],
   "source": [
    "hidden_size = 128\n",
    "\n",
    "w1 = torch.randn(784, hidden_size).requires_grad_()\n",
    "b1 = torch.randn(hidden_size).requires_grad_()\n",
    "w2 = torch.randn(hidden_size, 10).requires_grad_()  # 10 classes\n",
    "b2 = torch.randn(10).requires_grad_()  # 10 classes\n",
    "\n",
    "epochs = 3000\n",
    "lr = 1e-2\n",
    "batch_size = 1024\n",
    "lossi = []\n",
    "\n",
    "for epoch in range(epochs):\n",
    "    indexes = torch.randint(0, images.shape[0], (batch_size,))\n",
    "    \n",
    "    h1 = F.gelu(images[indexes] @ w1 + b1)  \n",
    "    pred = F.softmax(h1 @ w2 + b2, dim=1)  # Softmax is the best activation function for multi-class classification\n",
    "    loss = F.mse_loss(pred, labels[indexes]) \n",
    "    lossi.append(loss.item())\n",
    "    loss.backward()\n",
    "\n",
    "    with torch.no_grad():\n",
    "        for p in [w1, b1, w2, b2]:  \n",
    "            p -= lr * p.grad\n",
    "            p.grad = None\n",
    "\n",
    "    if epoch % (epochs//10) == 0:\n",
    "        print(f'Epoch {epoch}/{epochs} - Loss: {loss.item()} - Accuracy: {round(((pred.argmax(dim=1) == labels[indexes].argmax(dim=1)).sum().item()/len(labels[indexes]))*100)}%')"
   ]
  },
  {
   "cell_type": "markdown",
   "metadata": {},
   "source": [
    "This isnt working right. Let's look at some predictions"
   ]
  },
  {
   "cell_type": "code",
   "execution_count": 154,
   "metadata": {},
   "outputs": [
    {
     "name": "stdout",
     "output_type": "stream",
     "text": [
      "tensor([[0.0000e+00, 1.4129e-35, 0.0000e+00, 4.1373e-41, 1.1447e-25, 8.8529e-40,\n",
      "         2.4319e-20, 9.9995e-01, 5.2967e-05, 6.2023e-34],\n",
      "        [0.0000e+00, 5.3411e-14, 3.1000e-40, 8.9441e-08, 3.5302e-23, 1.3312e-43,\n",
      "         1.0000e+00, 0.0000e+00, 9.1522e-10, 2.8691e-11],\n",
      "        [0.0000e+00, 0.0000e+00, 0.0000e+00, 5.5174e-18, 1.0000e+00, 0.0000e+00,\n",
      "         0.0000e+00, 1.3294e-41, 2.1269e-08, 7.8964e-28],\n",
      "        [0.0000e+00, 0.0000e+00, 0.0000e+00, 0.0000e+00, 0.0000e+00, 0.0000e+00,\n",
      "         0.0000e+00, 0.0000e+00, 1.0000e+00, 0.0000e+00],\n",
      "        [0.0000e+00, 0.0000e+00, 0.0000e+00, 0.0000e+00, 0.0000e+00, 0.0000e+00,\n",
      "         0.0000e+00, 0.0000e+00, 1.0000e+00, 0.0000e+00]],\n",
      "       grad_fn=<SliceBackward0>)\n"
     ]
    }
   ],
   "source": [
    "print(pred[:5])\n"
   ]
  },
  {
   "cell_type": "markdown",
   "metadata": {},
   "source": [
    "# Initialization\n",
    "\n",
    "By inspecting closely the values at the start of the training run, we clearly see that they are way too high (The model predicts with 100% confidence the wrong classes) <br>\n",
    "\n",
    "Now, let's explore out options: \n",
    "- We could obviously just ignore this problem and let the optimization deal with it as we did until this problem, but as you can see that idea doesn't scale well with big models\n",
    "- We could simply reduce the starting values of weights and biases, specifically we will reduce their values by the square root of the layer dimension (Xavier initialization)\n",
    "- We could normalize the values in each layer such that mean is zero and standard deviation is one\n",
    "\n",
    "Let's try out "
   ]
  },
  {
   "cell_type": "code",
   "execution_count": 155,
   "metadata": {},
   "outputs": [
    {
     "name": "stdout",
     "output_type": "stream",
     "text": [
      "Epoch 0/3000 - Loss: 0.09213361144065857 - Accuracy: 9%\n",
      "Epoch 300/3000 - Loss: 0.09026812016963959 - Accuracy: 12%\n",
      "Epoch 600/3000 - Loss: 0.08895603567361832 - Accuracy: 20%\n",
      "Epoch 900/3000 - Loss: 0.0872754454612732 - Accuracy: 27%\n",
      "Epoch 1200/3000 - Loss: 0.08567635715007782 - Accuracy: 37%\n",
      "Epoch 1500/3000 - Loss: 0.08463037014007568 - Accuracy: 39%\n",
      "Epoch 1800/3000 - Loss: 0.08277256786823273 - Accuracy: 43%\n",
      "Epoch 2100/3000 - Loss: 0.08054827153682709 - Accuracy: 45%\n",
      "Epoch 2400/3000 - Loss: 0.07857920229434967 - Accuracy: 46%\n",
      "Epoch 2700/3000 - Loss: 0.07615964114665985 - Accuracy: 51%\n"
     ]
    }
   ],
   "source": [
    "hidden_size = 128\n",
    "\n",
    "w1 = torch.randn(784, hidden_size).requires_grad_()\n",
    "b1 = torch.randn(hidden_size).requires_grad_()\n",
    "w2 = torch.randn(hidden_size, 10).requires_grad_()  # 10 classes\n",
    "b2 = torch.randn(10).requires_grad_()  # 10 classes\n",
    "\n",
    "with torch.no_grad():\n",
    "    for p in [w1, b1, w2, b2]:\n",
    "        p /= p.shape[0]**0.5  # Xavier initialization\n",
    "\n",
    "epochs = 3000\n",
    "lr = 1e-2\n",
    "batch_size = 1024\n",
    "lossi = []\n",
    "\n",
    "for epoch in range(epochs):\n",
    "    indexes = torch.randint(0, images.shape[0], (batch_size,))\n",
    "    \n",
    "    h1 = F.tanh(images[indexes] @ w1 + b1)  \n",
    "    pred = F.softmax(h1 @ w2 + b2, dim=1)  # Softmax is the best activation function for multi-class classification\n",
    "    loss = F.mse_loss(pred, labels[indexes]) \n",
    "    lossi.append(loss.item())\n",
    "    loss.backward()\n",
    "\n",
    "    with torch.no_grad():\n",
    "        for p in [w1, b1, w2, b2]:  \n",
    "            p -= lr * p.grad\n",
    "            p.grad = None\n",
    "\n",
    "    if epoch % (epochs//10) == 0:\n",
    "        print(f'Epoch {epoch}/{epochs} - Loss: {loss.item()} - Accuracy: {round(((pred.argmax(dim=1) == labels[indexes].argmax(dim=1)).sum().item()/len(labels[indexes]))*100)}%')"
   ]
  },
  {
   "cell_type": "code",
   "execution_count": 156,
   "metadata": {},
   "outputs": [
    {
     "name": "stdout",
     "output_type": "stream",
     "text": [
      "Prediction: 4 - Confidence 24.099999999999998% - Label: 9\n"
     ]
    },
    {
     "data": {
      "image/png": "[encoded data removed]",
      "text/plain": [
       "<Figure size 432x288 with 1 Axes>"
      ]
     },
     "metadata": {
      "needs_background": "light"
     },
     "output_type": "display_data"
    },
    {
     "name": "stdout",
     "output_type": "stream",
     "text": [
      "Prediction: 2 - Confidence 30.2% - Label: 2\n"
     ]
    },
    {
     "data": {
      "image/png": "[encoded data removed]",
      "text/plain": [
       "<Figure size 432x288 with 1 Axes>"
      ]
     },
     "metadata": {
      "needs_background": "light"
     },
     "output_type": "display_data"
    },
    {
     "name": "stdout",
     "output_type": "stream",
     "text": [
      "Prediction: 1 - Confidence 33.7% - Label: 1\n"
     ]
    },
    {
     "data": {
      "image/png": "[encoded data removed]",
      "text/plain": [
       "<Figure size 432x288 with 1 Axes>"
      ]
     },
     "metadata": {
      "needs_background": "light"
     },
     "output_type": "display_data"
    },
    {
     "name": "stdout",
     "output_type": "stream",
     "text": [
      "Prediction: 6 - Confidence 18.099999999999998% - Label: 0\n"
     ]
    },
    {
     "data": {
      "image/png": "[encoded data removed]",
      "text/plain": [
       "<Figure size 432x288 with 1 Axes>"
      ]
     },
     "metadata": {
      "needs_background": "light"
     },
     "output_type": "display_data"
    },
    {
     "name": "stdout",
     "output_type": "stream",
     "text": [
      "Prediction: 0 - Confidence 42.4% - Label: 0\n"
     ]
    },
    {
     "data": {
      "image/png": "[encoded data removed]",
      "text/plain": [
       "<Figure size 432x288 with 1 Axes>"
      ]
     },
     "metadata": {
      "needs_background": "light"
     },
     "output_type": "display_data"
    }
   ],
   "source": [
    "# Lets take a look at some predictions for fun\n",
    "for i in range(5):\n",
    "    print(f'Prediction: {pred[i].argmax()} - Confidence {round(pred[i, pred[i].argmax()].item(), 3)*100}% - Label: {labels[indexes][i].argmax().item()}')\n",
    "    plt.imshow(images[indexes][i].view(28, 28))\n",
    "    plt.show()\n"
   ]
  }
 ],
 "metadata": {
  "kernelspec": {
   "display_name": "base",
   "language": "python",
   "name": "python3"
  },
  "language_info": {
   "codemirror_mode": {
    "name": "ipython",
    "version": 3
   },
   "file_extension": ".py",
   "mimetype": "text/x-python",
   "name": "python",
   "nbconvert_exporter": "python",
   "pygments_lexer": "ipython3",
   "version": "3.9.13"
  }
 },
 "nbformat": 4,
 "nbformat_minor": 2
}
