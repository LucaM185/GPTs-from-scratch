{
 "cells": [
  {
   "cell_type": "code",
   "execution_count": 1,
   "metadata": {},
   "outputs": [],
   "source": [
    "import torch\n",
    "import torch.nn as nn\n",
    "import torch.nn.functional as F\n",
    "import matplotlib.pyplot as plt \n",
    "device = torch.device(\"cuda:0\")\n"
   ]
  },
  {
   "cell_type": "code",
   "execution_count": 2,
   "metadata": {},
   "outputs": [
    {
     "name": "stdout",
     "output_type": "stream",
     "text": [
      "First Citizen:\n",
      "Before we proceed any further, hear me speak.\n",
      "\n",
      "All:\n",
      "Speak, speak.\n",
      "\n",
      "First Citizen:\n",
      "You are all resolved rather to die than to famish?\n",
      "\n",
      "All:\n",
      "Resolved. resolved.\n",
      "\n",
      "First Citizen:\n",
      "First, you\n"
     ]
    }
   ],
   "source": [
    "with open(\"datasets/tinyShakespeare.txt\", \"r\") as f:\n",
    "    load = f.read()\n",
    "print(load[:200])"
   ]
  },
  {
   "cell_type": "code",
   "execution_count": 3,
   "metadata": {},
   "outputs": [],
   "source": [
    "texttoint = {elm: n for n, elm in enumerate(set(load))}\n",
    "inttotext = {n:elm for n, elm in enumerate(set(load))}\n",
    "dataset = [texttoint[c] for c in load]\n",
    "\n",
    "vocab_size = len(texttoint)\n",
    "sequence_length = 20\n",
    "\n",
    "sequences = torch.tensor([dataset[i:-sequence_length+i-1] for i in range(sequence_length+1)]).T\n",
    "inputs = sequences[2000:, :-1]\n",
    "labels = sequences[2000:, -1]\n",
    "val_inputs = sequences[:2000, :-1]\n",
    "val_labels = sequences[:2000, -1]"
   ]
  },
  {
   "cell_type": "markdown",
   "metadata": {},
   "source": [
    "# Attention Block - Scaled dot product attention\n",
    "\n",
    "A very effective system that can find correlations between tokens is the attention block <br><br>\n",
    "\n",
    "It takes in a series of tokens: input (sequence_length, embedding_size)<br>\n",
    "we call this layer \"attention head\", you can have one head of self attention or many heads with different weights. <br> \n",
    "and computes the dot products with 3 sets of weights, called \"keys\", \"queries\" and \"values\" of size (emb_size, head_size) <br>\n",
    " \n",
    "After this operation you have three tensors of size (sequence_length, head_size) <br>\n",
    "you compute the similarity matrix (sequence_length, sequence_length) by multiplying keys with transposed queries. <br><br>\n",
    "\n",
    "The next step is to tril (transform to lower triangular) and softmax the similarity matrix, and a scaling by sqrt(head_size) <br>\n",
    "(This is why its called scaled dot product attention) <br>\n",
    "Following is a dot product with the values. The output will be (sequence_length, head_size) <br>\n",
    "\n",
    "This block has roughly a complexity of O(sequence_length^2) witch is sub optimal for long sequence lengths, so we use sligthly different attention blocks for that<br>"
   ]
  },
  {
   "cell_type": "code",
   "execution_count": 5,
   "metadata": {},
   "outputs": [
    {
     "name": "stdout",
     "output_type": "stream",
     "text": [
      "4.181812763214111\n",
      "1.7210773229599\n",
      "1.6213728189468384\n",
      "1.5663319826126099\n",
      "1.5551037788391113\n",
      "1.5286071300506592\n",
      "1.5103294849395752\n",
      "1.4697332382202148\n",
      "1.4472392797470093\n",
      "1.493862509727478\n"
     ]
    }
   ],
   "source": [
    "class Attention(nn.Module):  # This is the masked attention module\n",
    "    def __init__(self, emb_size=10, head_size=128):\n",
    "        super(Attention, self).__init__()\n",
    "        self.head_size = head_size\n",
    "\n",
    "        self.keys = nn.Linear(emb_size, head_size)\n",
    "        self.queries = nn.Linear(emb_size, head_size)\n",
    "        self.values = nn.Linear(emb_size, head_size)\n",
    "\n",
    "    def forward(self, x):\n",
    "        # attention\n",
    "        k = self.keys(x)\n",
    "        q = self.queries(x)\n",
    "        v = self.values(x)\n",
    "\n",
    "        similarity = k @ q.transpose(-2, -1)/(self.head_size**0.5)\n",
    "        similarity = torch.tril(similarity)\n",
    "        similarity[similarity == 0] = float(\"-inf\")\n",
    "        similarity = torch.softmax(similarity, dim = 1)\n",
    "        \n",
    "        attention = similarity @ v \n",
    "        return attention\n",
    "\n",
    "\n",
    "class FullyConnected(nn.Module):  # This is basically what we had before, the simple MLP without residual connections\n",
    "    def __init__(self, in_size=10, hidden_size=128, out_size=vocab_size, n_layers=2):\n",
    "        super(FullyConnected, self).__init__()\n",
    "\n",
    "        self.fc1 = nn.Linear(in_size*sequence_length, hidden_size)\n",
    "        self.fcx = nn.ModuleList([nn.Linear(hidden_size, hidden_size) for _ in range(n_layers)])\n",
    "        self.fc2 = nn.Linear(hidden_size, out_size)\n",
    "    \n",
    "    def forward(self, x):\n",
    "        x = F.gelu(self.fc1(x))\n",
    "        for fc in self.fcx:\n",
    "            x = F.gelu(fc(x))\n",
    "        return self.fc2(x)\n",
    "\n",
    "\n",
    "class Block(nn.Module):  # This is the block that we will use in the transformer\n",
    "    def __init__(self):\n",
    "        super().__init__()\n",
    "        emb_size = 10\n",
    "        self.head_size = head_size = 128\n",
    "\n",
    "        self.embeddings = nn.Embedding(vocab_size, emb_size)\n",
    "        self.att = Attention(emb_size, head_size).to(device)\n",
    "        self.fc = FullyConnected(head_size).to(device)\n",
    "\n",
    "    def forward(self, x):  # inputs: [Batch_size, time, vocab_size]\n",
    "        batch_size = x.shape[0]\n",
    "        \n",
    "        x = self.embeddings(x)\n",
    "        x = self.att(x) \n",
    "        x = x.view(batch_size, sequence_length*self.head_size)\n",
    "        x = self.fc(x)\n",
    "\n",
    "        return x\n",
    "\n",
    "device = torch.device(\"cuda:0\")\n",
    "model = Block().to(device)\n",
    "\n",
    "epochs = 10000\n",
    "batch_size = 8192\n",
    "optimizer = torch.optim.Adam(model.parameters(), lr=1e-3) \n",
    "\n",
    "lossi = []\n",
    "vlossi = []\n",
    "\n",
    "for epoch in range(epochs):\n",
    "    indexes = torch.randint(0, len(inputs), (batch_size,))\n",
    "    \n",
    "    pred = model(inputs[indexes].to(device)) # everything in the forward pass happens in the model class\n",
    "    loss = F.cross_entropy(pred, labels[indexes].to(device))\n",
    "\n",
    "    loss.backward()\n",
    "    optimizer.step()\n",
    "    optimizer.zero_grad()\n",
    "\n",
    "    lossi.append(loss.item())\n",
    "    if epoch % (epochs//10) == 0:\n",
    "        print(loss.item())\n",
    "    \n",
    "    with torch.no_grad():\n",
    "        pred = model(val_inputs.to(device))\n",
    "        loss = F.cross_entropy(pred, val_labels.to(device))\n",
    "        vlossi.append(loss.item())"
   ]
  },
  {
   "cell_type": "code",
   "execution_count": null,
   "metadata": {},
   "outputs": [
    {
     "data": {
      "text/plain": [
       "[<matplotlib.lines.Line2D at 0x239a9c6d6d0>]"
      ]
     },
     "execution_count": 8,
     "metadata": {},
     "output_type": "execute_result"
    },
    {
     "data": {
      "image/png": "[encoded data removed]",
      "text/plain": [
       "<Figure size 432x288 with 1 Axes>"
      ]
     },
     "metadata": {
      "needs_background": "light"
     },
     "output_type": "display_data"
    }
   ],
   "source": [
    "plt.plot(lossi[:]) # 1.45"
   ]
  },
  {
   "cell_type": "code",
   "execution_count": 6,
   "metadata": {},
   "outputs": [
    {
     "name": "stdout",
     "output_type": "stream",
     "text": [
      "           \n",
      "KING RICHARD II:\n",
      "Then wwence thee,\n",
      "Suburrigny: forge of lamour\n",
      "When answer. Chrisby:\n",
      "I, the mean\n",
      "anch you have sends of Ballow.\n",
      "\n",
      "SAMPSON:\n",
      "What my heavy she gring, so, see\n",
      "Would for laboursess seeds that we wash?\n",
      "\n",
      "PETER:\n",
      "As I be a richmen:\n",
      "Or all himself an one service in torbour wish all theset's gracioe't?\n",
      "Edwar"
     ]
    }
   ],
   "source": [
    "string = \"           \\nKING RICHARD I\"\n",
    "print(string, end=\"\")\n",
    "\n",
    "with torch.no_grad():\n",
    "    for _ in range(300):\n",
    "        X = torch.tensor([texttoint[s] for s in string[-sequence_length:]]).long().view(1, -1).to(device)\n",
    "        pred = model.forward(X)\n",
    "        string += inttotext[torch.multinomial(F.softmax(pred, dim=1), 1).item()]\n",
    "        print(string[-1], end=\"\")\n"
   ]
  },
  {
   "cell_type": "markdown",
   "metadata": {},
   "source": [
    "# Transformers \n",
    "\n",
    "Transformers consist of attention blocks in sequence, with residual connections "
   ]
  },
  {
   "cell_type": "code",
   "execution_count": 8,
   "metadata": {},
   "outputs": [
    {
     "name": "stdout",
     "output_type": "stream",
     "text": [
      "4.312550067901611\n",
      "1.6860811710357666\n",
      "1.562029242515564\n",
      "1.4947874546051025\n",
      "1.460423469543457\n",
      "1.4215669631958008\n",
      "1.3750406503677368\n",
      "1.3662678003311157\n",
      "1.4118024110794067\n",
      "1.3118298053741455\n"
     ]
    }
   ],
   "source": [
    "class Attention(nn.Module):  \n",
    "    def __init__(self, emb_size=10, head_size=128):\n",
    "        super(Attention, self).__init__()\n",
    "        self.head_size = head_size\n",
    "\n",
    "        self.keys = nn.Linear(emb_size, head_size)\n",
    "        self.queries = nn.Linear(emb_size, head_size)\n",
    "        self.values = nn.Linear(emb_size, head_size)\n",
    "\n",
    "    def forward(self, x):\n",
    "        k = self.keys(x)\n",
    "        q = self.queries(x)\n",
    "        v = self.values(x)\n",
    "\n",
    "        similarity = k @ q.transpose(-2, -1)/(self.head_size**0.5)\n",
    "        similarity = torch.tril(similarity)\n",
    "        similarity[similarity == 0] = float(\"-inf\")\n",
    "        similarity = torch.softmax(similarity, dim = 1)\n",
    "        \n",
    "        attention = similarity @ v \n",
    "        return attention\n",
    "\n",
    "\n",
    "class FullyConnected(nn.Module):  \n",
    "    def __init__(self, in_size=10, hidden_size=128, out_size=sequence_length*10, n_layers=2):\n",
    "        super(FullyConnected, self).__init__()\n",
    "\n",
    "        self.fc1 = nn.Linear(in_size*sequence_length, hidden_size)\n",
    "        self.fcx = nn.ModuleList([nn.Linear(hidden_size, hidden_size) for _ in range(n_layers)])\n",
    "        self.fc2 = nn.Linear(hidden_size, out_size)\n",
    "    \n",
    "    def forward(self, x):\n",
    "        x = F.gelu(self.fc1(x))\n",
    "        for fc in self.fcx:\n",
    "            x = x + F.gelu(fc(x)) # Residual connection not present in the original paper, but it helps with convergence\n",
    "        return self.fc2(x)\n",
    "\n",
    "\n",
    "class Block(nn.Module): \n",
    "    def __init__(self, emb_size):\n",
    "        super().__init__()\n",
    "        self.head_size = head_size = 128\n",
    "\n",
    "        self.att = Attention(emb_size, head_size).to(device)\n",
    "        self.fc = FullyConnected(head_size, emb_size*sequence_length).to(device)\n",
    "\n",
    "    def forward(self, x):  \n",
    "        batch_size = x.shape[0]\n",
    "        \n",
    "        x = self.att(x) \n",
    "        x = x.view(batch_size, sequence_length*self.head_size)\n",
    "        x = self.fc(x)\n",
    "\n",
    "        return x\n",
    "\n",
    "# Everything is the same upto here. Now we will create a transformer class that combines the blocks\n",
    "class Transformer(nn.Module): \n",
    "    def __init__(self, n_blocks=2):\n",
    "        super().__init__()\n",
    "        emb_size = 10\n",
    "\n",
    "        self.embs = nn.Embedding(vocab_size, emb_size) \n",
    "        self.blocks = nn.ModuleList([Block(emb_size) for _ in range(n_blocks)])\n",
    "        self.LinOut = nn.Linear(emb_size*sequence_length, vocab_size)\n",
    "\n",
    "    def forward(self, x):\n",
    "        batch_size = x.shape[0]\n",
    "        \n",
    "        x = self.embs(x)\n",
    "        for block in self.blocks:\n",
    "            x = x + block(x).view(-1, x.shape[1], x.shape[2])\n",
    "        x = self.LinOut(x.view(batch_size, -1))\n",
    "        return x\n",
    "\n",
    "device = torch.device(\"cuda:0\")\n",
    "model = Transformer().to(device)\n",
    "\n",
    "epochs = 10000\n",
    "batch_size = 8192\n",
    "optimizer = torch.optim.Adam(model.parameters(), lr=3e-4) \n",
    "\n",
    "lossi = []\n",
    "vlossi = []\n",
    "\n",
    "for epoch in range(epochs):\n",
    "    indexes = torch.randint(0, len(inputs), (batch_size,))\n",
    "    \n",
    "    pred = model(inputs[indexes].to(device)) # everything in the forward pass happens in the model class\n",
    "    loss = F.cross_entropy(pred, labels[indexes].to(device))\n",
    "\n",
    "    loss.backward()\n",
    "    optimizer.step()\n",
    "    optimizer.zero_grad()\n",
    "\n",
    "    lossi.append(loss.item())\n",
    "    if epoch % (epochs//10) == 0:\n",
    "        print(loss.item())\n",
    "\n",
    "    with torch.no_grad():\n",
    "        pred = model(val_inputs.to(device))\n",
    "        loss = F.cross_entropy(pred, val_labels.to(device))\n",
    "        vlossi.append(loss.item())"
   ]
  },
  {
   "cell_type": "code",
   "execution_count": 9,
   "metadata": {},
   "outputs": [
    {
     "data": {
      "text/plain": [
       "[<matplotlib.lines.Line2D at 0x2a51843fd30>]"
      ]
     },
     "execution_count": 9,
     "metadata": {},
     "output_type": "execute_result"
    },
    {
     "data": {
      "image/png": "[encoded data removed]",
      "text/plain": [
       "<Figure size 432x288 with 1 Axes>"
      ]
     },
     "metadata": {
      "needs_background": "light"
     },
     "output_type": "display_data"
    }
   ],
   "source": [
    "plt.plot(lossi[200:])"
   ]
  },
  {
   "cell_type": "markdown",
   "metadata": {},
   "source": [
    "# Results\n",
    "As you can see we can get really good loss with the transformer, this architecture scales well up to GPT3.5 level performance with enough high quality data"
   ]
  },
  {
   "cell_type": "code",
   "execution_count": 10,
   "metadata": {},
   "outputs": [
    {
     "name": "stdout",
     "output_type": "stream",
     "text": [
      "Millions of parameters:  1.29\n",
      "[650, 1280, 128, 1280, 128, 1280, 128, 512000, 200, 40000, 200, 40000, 200, 40000, 200, 1280, 128, 1280, 128, 1280, 128, 512000, 200, 40000, 200, 40000, 200, 40000, 200, 13000, 65]\n"
     ]
    }
   ],
   "source": [
    "print(\"Millions of parameters: \", round(sum(p.numel() for p in model.parameters() if p.requires_grad)/1000000, 2))\n",
    "print([p.numel() for p in model.parameters() if p.requires_grad])"
   ]
  },
  {
   "cell_type": "markdown",
   "metadata": {},
   "source": [
    "# MoE\n",
    "The way these models encode information is in their weights, but you dont always need to compute all of the weights to get to the next token, for example if there is an area of weights that mostly encode the names of cities, you dont need them when the next token is the solution of a quadratic equation. <br>\n",
    "So it stands to reason that you could have many sets of weights that the model can choose to use in real time to get more efficient inference. For instance the mistral Mixture of Experts model uses 8 sets of 7B weights, and at any point in time only 13B parameters are used. Thats a 3-4x speedup over a similar model without MoE with marginal impact on performance. GPT-4 is also based on MoE of 16 x 110B models  "
   ]
  }
 ],
 "metadata": {
  "kernelspec": {
   "display_name": "base",
   "language": "python",
   "name": "python3"
  },
  "language_info": {
   "codemirror_mode": {
    "name": "ipython",
    "version": 3
   },
   "file_extension": ".py",
   "mimetype": "text/x-python",
   "name": "python",
   "nbconvert_exporter": "python",
   "pygments_lexer": "ipython3",
   "version": "3.9.7"
  }
 },
 "nbformat": 4,
 "nbformat_minor": 2
}
