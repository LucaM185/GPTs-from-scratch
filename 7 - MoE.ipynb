{
  "cells": [
    {
      "cell_type": "code",
      "execution_count": 1,
      "metadata": {
        "id": "WiMo--TVOhjC"
      },
      "outputs": [],
      "source": [
        "import torch\n",
        "import torch.nn as nn\n",
        "import torch.nn.functional as F\n",
        "import matplotlib.pyplot as plt\n",
        "from tqdm import tqdm\n",
        "import pickle\n",
        "device = torch.device(\"cuda:0\")\n"
      ]
    },
    {
      "cell_type": "code",
      "execution_count": 2,
      "metadata": {},
      "outputs": [
        {
          "name": "stdout",
          "output_type": "stream",
          "text": [
            "First Citizen:\n",
            "Before we proceed any further, hear me speak.\n",
            "\n",
            "All:\n",
            "Speak, speak.\n",
            "\n",
            "First Citizen:\n",
            "You are all resolved rather to die than to famish?\n",
            "\n",
            "All:\n",
            "Resolved. resolved.\n",
            "\n",
            "First Citizen:\n",
            "First, you\n"
          ]
        }
      ],
      "source": [
        "with open(\"datasets/tinyShakespeare.txt\", \"r\") as f:\n",
        "    load = f.read()\n",
        "print(load[:200])"
      ]
    },
    {
      "cell_type": "code",
      "execution_count": 3,
      "metadata": {
        "id": "4i9JBOGeO-DG"
      },
      "outputs": [],
      "source": [
        "texttoint = {elm: n for n, elm in enumerate(set(load))}\n",
        "inttotext = {n:elm for n, elm in enumerate(set(load))}\n",
        "dataset = [texttoint[c] for c in load]\n",
        "\n",
        "vocab_size = len(texttoint)\n",
        "sequence_length = 20\n",
        "\n",
        "sequences = torch.tensor([dataset[i:-sequence_length+i-1] for i in range(sequence_length+1)]).T\n",
        "inputs = sequences[2000:, :-1]\n",
        "labels = sequences[2000:, -1]\n",
        "val_inputs = sequences[:2000, :-1]\n",
        "val_labels = sequences[:2000, -1]"
      ]
    },
    {
      "cell_type": "code",
      "execution_count": 4,
      "metadata": {},
      "outputs": [
        {
          "data": {
            "text/plain": [
              "65"
            ]
          },
          "execution_count": 4,
          "metadata": {},
          "output_type": "execute_result"
        }
      ],
      "source": [
        "vocab_size"
      ]
    },
    {
      "cell_type": "code",
      "execution_count": 15,
      "metadata": {
        "colab": {
          "base_uri": "https://localhost:8080/"
        },
        "id": "uFgYBnvsN7gL",
        "outputId": "ce8752d0-7c63-4d89-fa1f-d445c57425a8"
      },
      "outputs": [
        {
          "name": "stdout",
          "output_type": "stream",
          "text": [
            "Millions of parameters:  28.94\n"
          ]
        }
      ],
      "source": [
        "act = F.gelu\n",
        "HIDDEN_SIZE = 512\n",
        "\n",
        "class FullyConnected(nn.Module):\n",
        "    def __init__(self, in_size, out_size, hidden_size=HIDDEN_SIZE):\n",
        "        super(FullyConnected, self).__init__()\n",
        "        self.LayerNorm = nn.LayerNorm(in_size)\n",
        "\n",
        "        self.fc1 = nn.Linear(in_size, hidden_size)\n",
        "        self.fc2 = nn.Linear(hidden_size, hidden_size)\n",
        "        self.out = nn.Linear(hidden_size, out_size)\n",
        "\n",
        "    def forward(self, x):\n",
        "        x = x.view(x.shape[0], -1)\n",
        "        x = self.LayerNorm(x)\n",
        "        x = act(self.fc1(x))\n",
        "        x = act(self.fc2(x))\n",
        "        x = self.out(x)\n",
        "        return x\n",
        "\n",
        "class MoE(nn.Module):\n",
        "    def __init__(self, in_size, out_size, hidden_size=HIDDEN_SIZE, depth=4, n_experts=5):\n",
        "        super(MoE, self).__init__()\n",
        "        self.LayerNorm = nn.LayerNorm(in_size)\n",
        "\n",
        "        self.fcin = nn.Linear(in_size, hidden_size)\n",
        "        self.experts = nn.ModuleList([nn.ModuleList([nn.Linear(hidden_size, hidden_size) for _ in range(n_experts)]) for _ in range(depth)])\n",
        "        self.fcout = nn.Linear(hidden_size, out_size)\n",
        "\n",
        "    def forward(self, x, chosen_expert=None):\n",
        "        x = x.view(x.shape[0], -1)\n",
        "        x = self.LayerNorm(x)\n",
        "        x = act(self.fcin(x))\n",
        "        choice = torch.multinomial(torch.softmax(x[:, :4], 1), 1)[:, 0]\n",
        "        if chosen_expert is None: # It might be that i goth this the other way around, doesnt matter if depth and n_experts are the same\n",
        "            for i in range(len(self.experts)):\n",
        "                for expert in self.experts[i]:\n",
        "                    x[choice == i] += act(expert(x[choice == i]))\n",
        "        else:\n",
        "            for i in range(len(self.experts)):\n",
        "                expert = self.experts[i][chosen_expert]\n",
        "                x[choice == i] += act(expert(x[choice == i]))\n",
        "\n",
        "        x = self.fcout(x)\n",
        "        return x\n",
        "\n",
        "class Attention(nn.Module):\n",
        "    def __init__(self, config):\n",
        "        super(Attention, self).__init__()\n",
        "        self.config = config\n",
        "\n",
        "        self.keys = nn.Linear(config.emb_size, config.head_size)\n",
        "        self.queries = nn.Linear(config.emb_size, config.head_size)\n",
        "        self.values = nn.Linear(config.emb_size, config.head_size)\n",
        "        self.norm = nn.LayerNorm(sequence_length*config.emb_size)\n",
        "\n",
        "    def forward(self, x):\n",
        "        x = self.norm(x.view(x.shape[0], -1)).view(x.shape[0], sequence_length, self.config.emb_size)\n",
        "\n",
        "        k = self.keys(x)     # [Batch_size, time, head_size]\n",
        "        q = self.queries(x)  # [Batch_size, time, head_size]\n",
        "        v = self.values(x)   # [Batch_size, time, head_size]\n",
        "\n",
        "        similarity = k @ q.transpose(-2, -1)/(self.config.head_size**0.5)\n",
        "        similarity = torch.tril(similarity)  # [Batch_size, time, time]\n",
        "        similarity[similarity == 0] = float(\"-inf\")\n",
        "        similarity = torch.softmax(similarity, dim = 1)\n",
        "        attention = similarity @ v    # [Batch_size, time, head_size]\n",
        "        return attention\n",
        "\n",
        "class GPTconfig():\n",
        "    pass\n",
        "\n",
        "\n",
        "class Block(nn.Module):\n",
        "    def __init__(self, config):\n",
        "        super().__init__()\n",
        "        self.config = config\n",
        "\n",
        "        self.att = nn.ModuleList([Attention(config) for _ in range(config.n_heads)])\n",
        "        self.MoE = MoE(in_size=sequence_length*config.head_size*config.n_heads, out_size=sequence_length*config.emb_size, n_experts=config.n_experts)\n",
        "\n",
        "\n",
        "    def forward(self, x, chosen_expert=None):  # inputs: [Batch_size, time, vocab_size]\n",
        "        batch_size = x.shape[0]\n",
        "        \n",
        "        x = torch.cat([att(x) for att in self.att], dim=1)\n",
        "        x = x.view(batch_size, self.config.head_size*self.config.n_heads*sequence_length)\n",
        "        x = self.MoE(x, chosen_expert).view(x.shape[0], sequence_length, self.config.emb_size)\n",
        "\n",
        "        return x\n",
        "\n",
        "\n",
        "class Model(nn.Module):\n",
        "    def __init__(self, n_experts=5):\n",
        "        super(Model, self).__init__()\n",
        "\n",
        "        config = GPTconfig()\n",
        "        config.vocab_size = vocab_size\n",
        "        config.head_size = 20\n",
        "        config.emb_size = 8\n",
        "        config.n_heads = 5\n",
        "        config.n_blocks = 3\n",
        "        config.n_experts = n_experts\n",
        "        self.config = config\n",
        "\n",
        "        self.pemb = nn.Embedding(sequence_length, config.emb_size)\n",
        "        self.wemb = nn.Embedding(config.vocab_size, config.emb_size)\n",
        "        self.blocks = nn.ModuleList([Block(config) for i in range(config.n_blocks)])\n",
        "        self.lout = FullyConnected(in_size=sequence_length*config.emb_size, out_size=config.vocab_size)\n",
        "\n",
        "    def forward(self, x, chosen_expert=None):\n",
        "        batch_size = x.shape[0]\n",
        "\n",
        "        # embeddings\n",
        "        pemb = self.pemb(torch.arange(sequence_length).to(device)).view(1, sequence_length, self.config.emb_size) # [time, emb_size]\n",
        "        wemb = self.wemb(x)        # [Batch_size, time, emb_size]\n",
        "\n",
        "        x = wemb + pemb\n",
        "        \n",
        "        for block in self.blocks:\n",
        "            x = x + block(x, chosen_expert=chosen_expert)\n",
        "        self.std = x.std()\n",
        "        x = self.lout(x)\n",
        "        return x\n",
        "\n",
        "model = Model(n_experts=8).to(device)\n",
        "lossi = []\n",
        "vlossi = []\n",
        "print(\"Millions of parameters: \", round(sum(p.numel() for p in model.parameters() if p.requires_grad)/1000000, 2))"
      ]
    },
    {
      "cell_type": "code",
      "execution_count": 17,
      "metadata": {
        "colab": {
          "base_uri": "https://localhost:8080/"
        },
        "id": "y9l7mQjGXvi_",
        "outputId": "f087bad1-586c-4f1a-b6db-996f78ff5c10"
      },
      "outputs": [
        {
          "name": "stdout",
          "output_type": "stream",
          "text": [
            "Percent of dataset:  14.715643364802272\n",
            "1.619337797164917\n",
            "1.5593615770339966\n",
            "1.5030622482299805\n"
          ]
        },
        {
          "ename": "KeyboardInterrupt",
          "evalue": "",
          "output_type": "error",
          "traceback": [
            "\u001b[1;31m---------------------------------------------------------------------------\u001b[0m",
            "\u001b[1;31mKeyboardInterrupt\u001b[0m                         Traceback (most recent call last)",
            "\u001b[1;32m<timed exec>\u001b[0m in \u001b[0;36m<module>\u001b[1;34m\u001b[0m\n",
            "\u001b[1;32mc:\\Users\\lucam\\anaconda3\\lib\\site-packages\\torch\\nn\\modules\\module.py\u001b[0m in \u001b[0;36m_call_impl\u001b[1;34m(self, *args, **kwargs)\u001b[0m\n\u001b[0;32m   1499\u001b[0m                 \u001b[1;32mor\u001b[0m \u001b[0m_global_backward_pre_hooks\u001b[0m \u001b[1;32mor\u001b[0m \u001b[0m_global_backward_hooks\u001b[0m\u001b[1;33m\u001b[0m\u001b[1;33m\u001b[0m\u001b[0m\n\u001b[0;32m   1500\u001b[0m                 or _global_forward_hooks or _global_forward_pre_hooks):\n\u001b[1;32m-> 1501\u001b[1;33m             \u001b[1;32mreturn\u001b[0m \u001b[0mforward_call\u001b[0m\u001b[1;33m(\u001b[0m\u001b[1;33m*\u001b[0m\u001b[0margs\u001b[0m\u001b[1;33m,\u001b[0m \u001b[1;33m**\u001b[0m\u001b[0mkwargs\u001b[0m\u001b[1;33m)\u001b[0m\u001b[1;33m\u001b[0m\u001b[1;33m\u001b[0m\u001b[0m\n\u001b[0m\u001b[0;32m   1502\u001b[0m         \u001b[1;31m# Do not call functions when jit is used\u001b[0m\u001b[1;33m\u001b[0m\u001b[1;33m\u001b[0m\u001b[0m\n\u001b[0;32m   1503\u001b[0m         \u001b[0mfull_backward_hooks\u001b[0m\u001b[1;33m,\u001b[0m \u001b[0mnon_full_backward_hooks\u001b[0m \u001b[1;33m=\u001b[0m \u001b[1;33m[\u001b[0m\u001b[1;33m]\u001b[0m\u001b[1;33m,\u001b[0m \u001b[1;33m[\u001b[0m\u001b[1;33m]\u001b[0m\u001b[1;33m\u001b[0m\u001b[1;33m\u001b[0m\u001b[0m\n",
            "\u001b[1;32m~\\AppData\\Local\\Temp/ipykernel_15032/856869894.py\u001b[0m in \u001b[0;36mforward\u001b[1;34m(self, x, chosen_expert)\u001b[0m\n\u001b[0;32m    120\u001b[0m \u001b[1;33m\u001b[0m\u001b[0m\n\u001b[0;32m    121\u001b[0m         \u001b[1;32mfor\u001b[0m \u001b[0mblock\u001b[0m \u001b[1;32min\u001b[0m \u001b[0mself\u001b[0m\u001b[1;33m.\u001b[0m\u001b[0mblocks\u001b[0m\u001b[1;33m:\u001b[0m\u001b[1;33m\u001b[0m\u001b[1;33m\u001b[0m\u001b[0m\n\u001b[1;32m--> 122\u001b[1;33m             \u001b[0mx\u001b[0m \u001b[1;33m=\u001b[0m \u001b[0mx\u001b[0m \u001b[1;33m+\u001b[0m \u001b[0mblock\u001b[0m\u001b[1;33m(\u001b[0m\u001b[0mx\u001b[0m\u001b[1;33m,\u001b[0m \u001b[0mchosen_expert\u001b[0m\u001b[1;33m=\u001b[0m\u001b[0mchosen_expert\u001b[0m\u001b[1;33m)\u001b[0m\u001b[1;33m\u001b[0m\u001b[1;33m\u001b[0m\u001b[0m\n\u001b[0m\u001b[0;32m    123\u001b[0m         \u001b[0mself\u001b[0m\u001b[1;33m.\u001b[0m\u001b[0mstd\u001b[0m \u001b[1;33m=\u001b[0m \u001b[0mx\u001b[0m\u001b[1;33m.\u001b[0m\u001b[0mstd\u001b[0m\u001b[1;33m(\u001b[0m\u001b[1;33m)\u001b[0m\u001b[1;33m\u001b[0m\u001b[1;33m\u001b[0m\u001b[0m\n\u001b[0;32m    124\u001b[0m         \u001b[0mx\u001b[0m \u001b[1;33m=\u001b[0m \u001b[0mself\u001b[0m\u001b[1;33m.\u001b[0m\u001b[0mlout\u001b[0m\u001b[1;33m(\u001b[0m\u001b[0mx\u001b[0m\u001b[1;33m)\u001b[0m\u001b[1;33m\u001b[0m\u001b[1;33m\u001b[0m\u001b[0m\n",
            "\u001b[1;32mc:\\Users\\lucam\\anaconda3\\lib\\site-packages\\torch\\nn\\modules\\module.py\u001b[0m in \u001b[0;36m_call_impl\u001b[1;34m(self, *args, **kwargs)\u001b[0m\n\u001b[0;32m   1499\u001b[0m                 \u001b[1;32mor\u001b[0m \u001b[0m_global_backward_pre_hooks\u001b[0m \u001b[1;32mor\u001b[0m \u001b[0m_global_backward_hooks\u001b[0m\u001b[1;33m\u001b[0m\u001b[1;33m\u001b[0m\u001b[0m\n\u001b[0;32m   1500\u001b[0m                 or _global_forward_hooks or _global_forward_pre_hooks):\n\u001b[1;32m-> 1501\u001b[1;33m             \u001b[1;32mreturn\u001b[0m \u001b[0mforward_call\u001b[0m\u001b[1;33m(\u001b[0m\u001b[1;33m*\u001b[0m\u001b[0margs\u001b[0m\u001b[1;33m,\u001b[0m \u001b[1;33m**\u001b[0m\u001b[0mkwargs\u001b[0m\u001b[1;33m)\u001b[0m\u001b[1;33m\u001b[0m\u001b[1;33m\u001b[0m\u001b[0m\n\u001b[0m\u001b[0;32m   1502\u001b[0m         \u001b[1;31m# Do not call functions when jit is used\u001b[0m\u001b[1;33m\u001b[0m\u001b[1;33m\u001b[0m\u001b[0m\n\u001b[0;32m   1503\u001b[0m         \u001b[0mfull_backward_hooks\u001b[0m\u001b[1;33m,\u001b[0m \u001b[0mnon_full_backward_hooks\u001b[0m \u001b[1;33m=\u001b[0m \u001b[1;33m[\u001b[0m\u001b[1;33m]\u001b[0m\u001b[1;33m,\u001b[0m \u001b[1;33m[\u001b[0m\u001b[1;33m]\u001b[0m\u001b[1;33m\u001b[0m\u001b[1;33m\u001b[0m\u001b[0m\n",
            "\u001b[1;32m~\\AppData\\Local\\Temp/ipykernel_15032/856869894.py\u001b[0m in \u001b[0;36mforward\u001b[1;34m(self, x, chosen_expert)\u001b[0m\n\u001b[0;32m     87\u001b[0m         \u001b[0mx\u001b[0m \u001b[1;33m=\u001b[0m \u001b[0mtorch\u001b[0m\u001b[1;33m.\u001b[0m\u001b[0mcat\u001b[0m\u001b[1;33m(\u001b[0m\u001b[1;33m[\u001b[0m\u001b[0matt\u001b[0m\u001b[1;33m(\u001b[0m\u001b[0mx\u001b[0m\u001b[1;33m)\u001b[0m \u001b[1;32mfor\u001b[0m \u001b[0matt\u001b[0m \u001b[1;32min\u001b[0m \u001b[0mself\u001b[0m\u001b[1;33m.\u001b[0m\u001b[0matt\u001b[0m\u001b[1;33m]\u001b[0m\u001b[1;33m,\u001b[0m \u001b[0mdim\u001b[0m\u001b[1;33m=\u001b[0m\u001b[1;36m1\u001b[0m\u001b[1;33m)\u001b[0m\u001b[1;33m\u001b[0m\u001b[1;33m\u001b[0m\u001b[0m\n\u001b[0;32m     88\u001b[0m         \u001b[0mx\u001b[0m \u001b[1;33m=\u001b[0m \u001b[0mx\u001b[0m\u001b[1;33m.\u001b[0m\u001b[0mview\u001b[0m\u001b[1;33m(\u001b[0m\u001b[0mbatch_size\u001b[0m\u001b[1;33m,\u001b[0m \u001b[0mself\u001b[0m\u001b[1;33m.\u001b[0m\u001b[0mconfig\u001b[0m\u001b[1;33m.\u001b[0m\u001b[0mhead_size\u001b[0m\u001b[1;33m*\u001b[0m\u001b[0mself\u001b[0m\u001b[1;33m.\u001b[0m\u001b[0mconfig\u001b[0m\u001b[1;33m.\u001b[0m\u001b[0mn_heads\u001b[0m\u001b[1;33m*\u001b[0m\u001b[0msequence_length\u001b[0m\u001b[1;33m)\u001b[0m\u001b[1;33m\u001b[0m\u001b[1;33m\u001b[0m\u001b[0m\n\u001b[1;32m---> 89\u001b[1;33m         \u001b[0mx\u001b[0m \u001b[1;33m=\u001b[0m \u001b[0mself\u001b[0m\u001b[1;33m.\u001b[0m\u001b[0mMoE\u001b[0m\u001b[1;33m(\u001b[0m\u001b[0mx\u001b[0m\u001b[1;33m,\u001b[0m \u001b[0mchosen_expert\u001b[0m\u001b[1;33m)\u001b[0m\u001b[1;33m.\u001b[0m\u001b[0mview\u001b[0m\u001b[1;33m(\u001b[0m\u001b[0mx\u001b[0m\u001b[1;33m.\u001b[0m\u001b[0mshape\u001b[0m\u001b[1;33m[\u001b[0m\u001b[1;36m0\u001b[0m\u001b[1;33m]\u001b[0m\u001b[1;33m,\u001b[0m \u001b[0msequence_length\u001b[0m\u001b[1;33m,\u001b[0m \u001b[0mself\u001b[0m\u001b[1;33m.\u001b[0m\u001b[0mconfig\u001b[0m\u001b[1;33m.\u001b[0m\u001b[0memb_size\u001b[0m\u001b[1;33m)\u001b[0m\u001b[1;33m\u001b[0m\u001b[1;33m\u001b[0m\u001b[0m\n\u001b[0m\u001b[0;32m     90\u001b[0m \u001b[1;33m\u001b[0m\u001b[0m\n\u001b[0;32m     91\u001b[0m         \u001b[1;32mreturn\u001b[0m \u001b[0mx\u001b[0m\u001b[1;33m\u001b[0m\u001b[1;33m\u001b[0m\u001b[0m\n",
            "\u001b[1;32mc:\\Users\\lucam\\anaconda3\\lib\\site-packages\\torch\\nn\\modules\\module.py\u001b[0m in \u001b[0;36m_call_impl\u001b[1;34m(self, *args, **kwargs)\u001b[0m\n\u001b[0;32m   1499\u001b[0m                 \u001b[1;32mor\u001b[0m \u001b[0m_global_backward_pre_hooks\u001b[0m \u001b[1;32mor\u001b[0m \u001b[0m_global_backward_hooks\u001b[0m\u001b[1;33m\u001b[0m\u001b[1;33m\u001b[0m\u001b[0m\n\u001b[0;32m   1500\u001b[0m                 or _global_forward_hooks or _global_forward_pre_hooks):\n\u001b[1;32m-> 1501\u001b[1;33m             \u001b[1;32mreturn\u001b[0m \u001b[0mforward_call\u001b[0m\u001b[1;33m(\u001b[0m\u001b[1;33m*\u001b[0m\u001b[0margs\u001b[0m\u001b[1;33m,\u001b[0m \u001b[1;33m**\u001b[0m\u001b[0mkwargs\u001b[0m\u001b[1;33m)\u001b[0m\u001b[1;33m\u001b[0m\u001b[1;33m\u001b[0m\u001b[0m\n\u001b[0m\u001b[0;32m   1502\u001b[0m         \u001b[1;31m# Do not call functions when jit is used\u001b[0m\u001b[1;33m\u001b[0m\u001b[1;33m\u001b[0m\u001b[0m\n\u001b[0;32m   1503\u001b[0m         \u001b[0mfull_backward_hooks\u001b[0m\u001b[1;33m,\u001b[0m \u001b[0mnon_full_backward_hooks\u001b[0m \u001b[1;33m=\u001b[0m \u001b[1;33m[\u001b[0m\u001b[1;33m]\u001b[0m\u001b[1;33m,\u001b[0m \u001b[1;33m[\u001b[0m\u001b[1;33m]\u001b[0m\u001b[1;33m\u001b[0m\u001b[1;33m\u001b[0m\u001b[0m\n",
            "\u001b[1;32m~\\AppData\\Local\\Temp/ipykernel_15032/856869894.py\u001b[0m in \u001b[0;36mforward\u001b[1;34m(self, x, chosen_expert)\u001b[0m\n\u001b[0;32m     36\u001b[0m             \u001b[1;32mfor\u001b[0m \u001b[0mi\u001b[0m \u001b[1;32min\u001b[0m \u001b[0mrange\u001b[0m\u001b[1;33m(\u001b[0m\u001b[0mlen\u001b[0m\u001b[1;33m(\u001b[0m\u001b[0mself\u001b[0m\u001b[1;33m.\u001b[0m\u001b[0mexperts\u001b[0m\u001b[1;33m)\u001b[0m\u001b[1;33m)\u001b[0m\u001b[1;33m:\u001b[0m\u001b[1;33m\u001b[0m\u001b[1;33m\u001b[0m\u001b[0m\n\u001b[0;32m     37\u001b[0m                 \u001b[1;32mfor\u001b[0m \u001b[0mexpert\u001b[0m \u001b[1;32min\u001b[0m \u001b[0mself\u001b[0m\u001b[1;33m.\u001b[0m\u001b[0mexperts\u001b[0m\u001b[1;33m[\u001b[0m\u001b[0mi\u001b[0m\u001b[1;33m]\u001b[0m\u001b[1;33m:\u001b[0m\u001b[1;33m\u001b[0m\u001b[1;33m\u001b[0m\u001b[0m\n\u001b[1;32m---> 38\u001b[1;33m                     \u001b[0mx\u001b[0m\u001b[1;33m[\u001b[0m\u001b[0mchoice\u001b[0m \u001b[1;33m==\u001b[0m \u001b[0mi\u001b[0m\u001b[1;33m]\u001b[0m \u001b[1;33m+=\u001b[0m \u001b[0mact\u001b[0m\u001b[1;33m(\u001b[0m\u001b[0mexpert\u001b[0m\u001b[1;33m(\u001b[0m\u001b[0mx\u001b[0m\u001b[1;33m[\u001b[0m\u001b[0mchoice\u001b[0m \u001b[1;33m==\u001b[0m \u001b[0mi\u001b[0m\u001b[1;33m]\u001b[0m\u001b[1;33m)\u001b[0m\u001b[1;33m)\u001b[0m\u001b[1;33m\u001b[0m\u001b[1;33m\u001b[0m\u001b[0m\n\u001b[0m\u001b[0;32m     39\u001b[0m         \u001b[1;32melse\u001b[0m\u001b[1;33m:\u001b[0m\u001b[1;33m\u001b[0m\u001b[1;33m\u001b[0m\u001b[0m\n\u001b[0;32m     40\u001b[0m             \u001b[1;32mfor\u001b[0m \u001b[0mi\u001b[0m \u001b[1;32min\u001b[0m \u001b[0mrange\u001b[0m\u001b[1;33m(\u001b[0m\u001b[0mlen\u001b[0m\u001b[1;33m(\u001b[0m\u001b[0mself\u001b[0m\u001b[1;33m.\u001b[0m\u001b[0mexperts\u001b[0m\u001b[1;33m)\u001b[0m\u001b[1;33m)\u001b[0m\u001b[1;33m:\u001b[0m\u001b[1;33m\u001b[0m\u001b[1;33m\u001b[0m\u001b[0m\n",
            "\u001b[1;31mKeyboardInterrupt\u001b[0m: "
          ]
        }
      ],
      "source": [
        "%%time\n",
        "epochs = 3000\n",
        "batch_size = 8192\n",
        "print(\"Percent of dataset: \", epochs*batch_size / inputs.shape[0])\n",
        "\n",
        "optimizer = torch.optim.Adam(model.parameters(), lr=3e-4)\n",
        "\n",
        "for epoch in range(epochs):\n",
        "    indexes = torch.randint(0, len(inputs), (batch_size,))\n",
        "    \n",
        "    pred = model(inputs[indexes].to(device)) # everything in the forward pass happens in the model class\n",
        "    loss = F.cross_entropy(pred, labels[indexes].to(device))\n",
        "\n",
        "    loss.backward()\n",
        "    optimizer.step()\n",
        "    optimizer.zero_grad()\n",
        "\n",
        "    lossi.append(loss.item())\n",
        "    if epoch % (epochs//10) == 0:\n",
        "        print(loss.item())\n",
        "\n",
        "    with torch.no_grad():\n",
        "        pred = model(val_inputs.to(device))\n",
        "        loss = F.cross_entropy(pred, val_labels.to(device))\n",
        "        vlossi.append(loss.item())"
      ]
    },
    {
      "cell_type": "code",
      "execution_count": 8,
      "metadata": {
        "colab": {
          "base_uri": "https://localhost:8080/",
          "height": 447
        },
        "id": "-NyBckuBZG_6",
        "outputId": "0772d68d-6e63-4867-c0c8-38c23677a62c"
      },
      "outputs": [
        {
          "data": {
            "text/plain": [
              "[<matplotlib.lines.Line2D at 0x2a997e068b0>]"
            ]
          },
          "execution_count": 8,
          "metadata": {},
          "output_type": "execute_result"
        },
        {
          "data": {
            "image/png": "[encoded data removed]",
            "text/plain": [
              "<Figure size 432x288 with 1 Axes>"
            ]
          },
          "metadata": {
            "needs_background": "light"
          },
          "output_type": "display_data"
        }
      ],
      "source": [
        "plt.plot(torch.tensor(lossi[::]).view(-1, 1).mean(1))"
      ]
    },
    {
      "cell_type": "code",
      "execution_count": 21,
      "metadata": {},
      "outputs": [
        {
          "name": "stdout",
          "output_type": "stream",
          "text": [
            "Validation accuracy of MoE:  tensor(0.5580, device='cuda:0')\n",
            "Validation accuracy of expert 0 :  tensor(0.1770, device='cuda:0')\n",
            "Validation accuracy of expert 1 :  tensor(0.1670, device='cuda:0')\n",
            "Validation accuracy of expert 2 :  tensor(0.1705, device='cuda:0')\n",
            "Validation accuracy of expert 3 :  tensor(0.1665, device='cuda:0')\n",
            "Validation accuracy of expert 4 :  tensor(0.1620, device='cuda:0')\n",
            "Validation accuracy of expert 5 :  tensor(0.1555, device='cuda:0')\n",
            "Validation accuracy of expert 6 :  tensor(0.1540, device='cuda:0')\n",
            "Validation accuracy of expert 7 :  tensor(0.1605, device='cuda:0')\n"
          ]
        }
      ],
      "source": [
        "# val accuracy\n",
        "\n",
        "pred = model(val_inputs.to(device))\n",
        "pred = torch.argmax(pred, dim=1)\n",
        "val_labels = val_labels.to(device)\n",
        "acc = (pred == val_labels).float().mean()\n",
        "print(\"Validation accuracy of MoE: \", acc)\n",
        "\n",
        "for chosen in range(8):\n",
        "    pred = model(val_inputs.to(device), chosen_expert=chosen)\n",
        "    pred = torch.argmax(pred, dim=1)\n",
        "    val_labels = val_labels.to(device)\n",
        "    acc = (pred == val_labels).float().mean()\n",
        "    print(\"Validation accuracy of expert\", chosen, \": \", acc)\n"
      ]
    },
    {
      "cell_type": "code",
      "execution_count": null,
      "metadata": {},
      "outputs": [],
      "source": []
    }
  ],
  "metadata": {
    "accelerator": "GPU",
    "colab": {
      "gpuType": "T4",
      "provenance": []
    },
    "kernelspec": {
      "display_name": "Python 3",
      "name": "python3"
    },
    "language_info": {
      "codemirror_mode": {
        "name": "ipython",
        "version": 3
      },
      "file_extension": ".py",
      "mimetype": "text/x-python",
      "name": "python",
      "nbconvert_exporter": "python",
      "pygments_lexer": "ipython3",
      "version": "3.9.7"
    }
  },
  "nbformat": 4,
  "nbformat_minor": 0
}
