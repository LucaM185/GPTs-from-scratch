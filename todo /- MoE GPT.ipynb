{
  "cells": [
    {
      "cell_type": "code",
      "execution_count": 1,
      "metadata": {
        "id": "WiMo--TVOhjC"
      },
      "outputs": [],
      "source": [
        "import torch\n",
        "import torch.nn as nn\n",
        "import torch.nn.functional as F\n",
        "import matplotlib.pyplot as plt\n",
        "from tqdm import tqdm\n",
        "import pickle\n"
      ]
    },
    {
      "cell_type": "markdown",
      "metadata": {},
      "source": [
        "# GPT dataset\n",
        "This is a collection of Questions and answers to gpt3.5 and 4. <br>\n",
        "Each question and answer is concatenated and truncated at the 500th character to have something bigger than tinyshakespeare to train on. <br> \n",
        "You shouldn't do this in a production enviroment. <br>"
      ]
    },
    {
      "cell_type": "code",
      "execution_count": 2,
      "metadata": {
        "id": "4i9JBOGeO-DG"
      },
      "outputs": [
        {
          "name": "stdout",
          "output_type": "stream",
          "text": [
            "torch.Size([96004, 1088])\n",
            "2aéKÃf“oqěfo50лл0mK“zo40“qfâqaooLIHK“zoqěfonсссoxI"
          ]
        }
      ],
      "source": [
        "dataset = torch.load(\"datasets/gpt_dataset.pt\")[20:]\n",
        "valset = torch.load(\"datasets/gpt_dataset.pt\")[:20]\n",
        "ctoi = pickle.load(open(\"datasets/gpt_ctoi.pkl\", \"rb\"))\n",
        "itoc = pickle.load(open(\"datasets/gpt_itoc.pkl\", \"rb\"))\n",
        "device = torch.device(\"cuda:0\")\n",
        "\n",
        "sequence_length = 64\n",
        "vocab_size = torch.max(dataset) + 1\n",
        "X = dataset.to(device)\n",
        "print(X.shape)\n",
        "\n",
        "for c in dataset[0][:50]:\n",
        "    print(itoc[c.item()], end=\"\")"
      ]
    },
    {
      "cell_type": "code",
      "execution_count": 3,
      "metadata": {},
      "outputs": [
        {
          "data": {
            "text/plain": [
              "tensor(140, dtype=torch.uint8)"
            ]
          },
          "execution_count": 3,
          "metadata": {},
          "output_type": "execute_result"
        }
      ],
      "source": [
        "vocab_size"
      ]
    },
    {
      "cell_type": "code",
      "execution_count": 6,
      "metadata": {
        "colab": {
          "base_uri": "https://localhost:8080/"
        },
        "id": "uFgYBnvsN7gL",
        "outputId": "ce8752d0-7c63-4d89-fa1f-d445c57425a8"
      },
      "outputs": [
        {
          "name": "stdout",
          "output_type": "stream",
          "text": [
            "Millions of parameters:  14.43\n"
          ]
        }
      ],
      "source": [
        "act = F.gelu\n",
        "HIDDEN_SIZE = 512\n",
        "\n",
        "class FullyConnected(nn.Module):\n",
        "    def __init__(self, in_size, out_size, hidden_size=HIDDEN_SIZE):\n",
        "        super(FullyConnected, self).__init__()\n",
        "        self.LayerNorm = nn.LayerNorm(in_size)\n",
        "\n",
        "        self.fc1 = nn.Linear(in_size, hidden_size)\n",
        "        self.fc2 = nn.Linear(hidden_size, hidden_size)\n",
        "        self.out = nn.Linear(hidden_size, out_size)\n",
        "\n",
        "    def forward(self, x):\n",
        "        x = x.view(x.shape[0], -1)\n",
        "        x = self.LayerNorm(x)\n",
        "        x = act(self.fc1(x))\n",
        "        x = act(self.fc2(x))\n",
        "        x = self.out(x)\n",
        "        return x\n",
        "\n",
        "class MoE(nn.Module):\n",
        "    def __init__(self, in_size, out_size, hidden_size=HIDDEN_SIZE, depth=4, n_experts=5):\n",
        "        super(MoE, self).__init__()\n",
        "        self.LayerNorm = nn.LayerNorm(in_size)\n",
        "\n",
        "        self.fcin = nn.Linear(in_size, hidden_size)\n",
        "        self.experts = nn.ModuleList([nn.ModuleList([nn.Linear(hidden_size, hidden_size) for _ in range(n_experts)]) for _ in range(depth)])\n",
        "        self.fcout = nn.Linear(hidden_size, out_size)\n",
        "\n",
        "    def forward(self, x, chosen_expert=None):\n",
        "        x = x.view(x.shape[0], -1)\n",
        "        x = self.LayerNorm(x)\n",
        "        x = act(self.fcin(x))\n",
        "        choice = torch.multinomial(torch.softmax(x[:, :4], 1), 1)[:, 0]\n",
        "        if chosen_expert is None: # It might be that i goth this the other way around, doesnt matter if depth and n_experts are the same\n",
        "            for i in range(len(self.experts)):\n",
        "                for expert in self.experts[i]:\n",
        "                    x[choice == i] += act(expert(x[choice == i]))\n",
        "        else:\n",
        "            for i in range(len(self.experts)):\n",
        "                expert = self.experts[i][chosen_expert]\n",
        "                x[choice == i] += act(expert(x[choice == i]))\n",
        "\n",
        "        x = self.fcout(x)\n",
        "        return x\n",
        "\n",
        "class Attention(nn.Module):\n",
        "    def __init__(self, config):\n",
        "        super(Attention, self).__init__()\n",
        "        self.config = config\n",
        "\n",
        "        self.keys = nn.Linear(config.emb_size, config.head_size)\n",
        "        self.queries = nn.Linear(config.emb_size, config.head_size)\n",
        "        self.values = nn.Linear(config.emb_size, config.head_size)\n",
        "        self.norm = nn.LayerNorm(sequence_length*config.emb_size)\n",
        "\n",
        "    def forward(self, x):\n",
        "        x = self.norm(x.view(x.shape[0], -1)).view(x.shape[0], sequence_length, self.config.emb_size)\n",
        "\n",
        "        k = self.keys(x)     # [Batch_size, time, head_size]\n",
        "        q = self.queries(x)  # [Batch_size, time, head_size]\n",
        "        v = self.values(x)   # [Batch_size, time, head_size]\n",
        "\n",
        "        similarity = k @ q.transpose(-2, -1)/(self.config.head_size**0.5)\n",
        "        similarity = torch.tril(similarity)  # [Batch_size, time, time]\n",
        "        similarity[similarity == 0] = float(\"-inf\")\n",
        "        similarity = torch.softmax(similarity, dim = 1)\n",
        "        attention = similarity @ v    # [Batch_size, time, head_size]\n",
        "        return attention\n",
        "\n",
        "class GPTconfig():\n",
        "    pass\n",
        "\n",
        "\n",
        "class Block(nn.Module):\n",
        "    def __init__(self, config):\n",
        "        super().__init__()\n",
        "        self.config = config\n",
        "\n",
        "        self.att = nn.ModuleList([Attention(config) for _ in range(config.n_heads)])\n",
        "        self.MoE = MoE(in_size=sequence_length*config.head_size*config.n_heads, out_size=sequence_length*config.emb_size, n_experts=config.n_experts)\n",
        "\n",
        "\n",
        "    def forward(self, x, chosen_expert=None):  # inputs: [Batch_size, time, vocab_size]\n",
        "        batch_size = x.shape[0]\n",
        "        \n",
        "        x = torch.cat([att(x) for att in self.att], dim=1)\n",
        "        x = x.view(batch_size, self.config.head_size*self.config.n_heads*sequence_length)\n",
        "        x = self.MoE(x, chosen_expert).view(x.shape[0], sequence_length, self.config.emb_size)\n",
        "\n",
        "        return x\n",
        "\n",
        "\n",
        "class Model(nn.Module):\n",
        "    def __init__(self, n_experts=5):\n",
        "        super(Model, self).__init__()\n",
        "\n",
        "        config = GPTconfig()\n",
        "        config.vocab_size = X.max() + 1\n",
        "        config.head_size = 20\n",
        "        config.emb_size = 8\n",
        "        config.n_heads = 5\n",
        "        config.n_blocks = 3\n",
        "        config.n_experts = n_experts\n",
        "        self.config = config\n",
        "\n",
        "        self.pemb = nn.Embedding(sequence_length, config.emb_size)\n",
        "        self.wemb = nn.Embedding(config.vocab_size, config.emb_size)\n",
        "        self.blocks = nn.ModuleList([Block(config) for i in range(config.n_blocks)])\n",
        "        self.lout = FullyConnected(in_size=sequence_length*config.emb_size, out_size=config.vocab_size)\n",
        "\n",
        "    def forward(self, x, chosen_expert=None):\n",
        "        batch_size = x.shape[0]\n",
        "\n",
        "        # embeddings\n",
        "        pemb = self.pemb(torch.arange(sequence_length).to(device)).view(1, sequence_length, self.config.emb_size) # [time, emb_size]\n",
        "        wemb = self.wemb(x)        # [Batch_size, time, emb_size]\n",
        "\n",
        "        x = wemb + pemb\n",
        "        \n",
        "        for block in self.blocks:\n",
        "            x = x + block(x, chosen_expert=chosen_expert)\n",
        "        self.std = x.std()\n",
        "        x = self.lout(x)\n",
        "        return x\n",
        "\n",
        "Net = Model(n_experts=1).to(device)\n",
        "lossi = []\n",
        "vlossi = []\n",
        "print(\"Millions of parameters: \", round(sum(p.numel() for p in Net.parameters() if p.requires_grad)/1000000, 2))"
      ]
    },
    {
      "cell_type": "code",
      "execution_count": 8,
      "metadata": {
        "colab": {
          "base_uri": "https://localhost:8080/"
        },
        "id": "y9l7mQjGXvi_",
        "outputId": "f087bad1-586c-4f1a-b6db-996f78ff5c10"
      },
      "outputs": [
        {
          "name": "stdout",
          "output_type": "stream",
          "text": [
            "Percent of dataset:  0.020832465313945253\n"
          ]
        },
        {
          "name": "stderr",
          "output_type": "stream",
          "text": [
            "100%|██████████| 250/250 [06:23<00:00,  1.54s/it]"
          ]
        },
        {
          "name": "stdout",
          "output_type": "stream",
          "text": [
            "Wall time: 6min 23s\n"
          ]
        },
        {
          "name": "stderr",
          "output_type": "stream",
          "text": [
            "\n"
          ]
        }
      ],
      "source": [
        "%%time\n",
        "epochs = 250\n",
        "batch_size = 8\n",
        "print(\"Percent of dataset: \", epochs*batch_size / X.shape[0])\n",
        "\n",
        "optimizer = torch.optim.Adam(Net.parameters(), lr=3e-4)\n",
        "\n",
        "for epoch in tqdm(range(epochs)):\n",
        "    indexes = torch.randint(len(dataset), (batch_size, ))\n",
        "    indexesb = torch.arange(sequence_length+1).repeat(1024).view(1024, sequence_length+1) + torch.arange(1024).view(1024, 1)\n",
        "\n",
        "    batch = X[indexes][:, indexesb[:, :-1]].view(-1, sequence_length)\n",
        "    pred = Net(batch.long().to(device))\n",
        "    loss = F.cross_entropy(pred, X[indexes][:, indexesb[:, -1]].view(-1).to(device))\n",
        "    lossi.append(loss.item())\n",
        "    \n",
        "    loss.backward()\n",
        "    optimizer.step()\n",
        "    optimizer.zero_grad()\n",
        "\n",
        "    with torch.no_grad():\n",
        "        if epoch % 10 == 0:\n",
        "            indexes = torch.randint(len(valset), (batch_size, ))\n",
        "            indexesb = torch.arange(sequence_length+1).repeat(1024).view(1024, sequence_length+1) + torch.arange(1024).view(1024, 1)\n",
        "\n",
        "            batch = valset[indexes][:, indexesb[:, :-1]].view(-1, sequence_length)\n",
        "            pred = Net(batch.long().to(device))\n",
        "            loss = F.cross_entropy(pred, valset[indexes][:, indexesb[:, -1]].view(-1).to(device))\n",
        "            vlossi.append(loss.item())\n"
      ]
    },
    {
      "cell_type": "code",
      "execution_count": null,
      "metadata": {},
      "outputs": [],
      "source": [
        "Net = Model(n_experts=1).to(device)\n",
        "lossi = []\n",
        "vlossi = []\n",
        "print(\"Millions of parameters: \", round(sum(p.numel() for p in Net.parameters() if p.requires_grad)/1000000, 2))"
      ]
    },
    {
      "cell_type": "code",
      "execution_count": null,
      "metadata": {},
      "outputs": [],
      "source": [
        "%%time\n",
        "epochs = 250\n",
        "batch_size = 8\n",
        "print(\"Percent of dataset: \", epochs*batch_size / X.shape[0])\n",
        "\n",
        "optimizer = torch.optim.Adam(Net.parameters(), lr=3e-4)\n",
        "\n",
        "for epoch in tqdm(range(epochs)):\n",
        "    indexes = torch.randint(len(dataset), (batch_size, ))\n",
        "    indexesb = torch.arange(sequence_length+1).repeat(1024).view(1024, sequence_length+1) + torch.arange(1024).view(1024, 1)\n",
        "\n",
        "    batch = X[indexes][:, indexesb[:, :-1]].view(-1, sequence_length)\n",
        "    pred = Net(batch.long().to(device))\n",
        "    loss = F.cross_entropy(pred, X[indexes][:, indexesb[:, -1]].view(-1).to(device))\n",
        "    lossi.append(loss.item())\n",
        "\n",
        "    loss.backward()\n",
        "    optimizer.step()\n",
        "    optimizer.zero_grad()\n",
        "\n",
        "    with torch.no_grad():\n",
        "        if epoch % 10 == 0:\n",
        "            indexes = torch.randint(len(valset), (batch_size, ))\n",
        "            indexesb = torch.arange(sequence_length+1).repeat(1024).view(1024, sequence_length+1) + torch.arange(1024).view(1024, 1)\n",
        "\n",
        "            batch = valset[indexes][:, indexesb[:, :-1]].view(-1, sequence_length)\n",
        "            pred = Net(batch.long().to(device))\n",
        "            loss = F.cross_entropy(pred, valset[indexes][:, indexesb[:, -1]].view(-1).to(device))\n",
        "            vlossi.append(loss.item())\n"
      ]
    },
    {
      "cell_type": "code",
      "execution_count": null,
      "metadata": {
        "colab": {
          "base_uri": "https://localhost:8080/",
          "height": 447
        },
        "id": "-NyBckuBZG_6",
        "outputId": "0772d68d-6e63-4867-c0c8-38c23677a62c"
      },
      "outputs": [
        {
          "data": {
            "text/plain": [
              "[<matplotlib.lines.Line2D at 0x15f8416acd0>]"
            ]
          },
          "execution_count": 11,
          "metadata": {},
          "output_type": "execute_result"
        },
        {
          "data": {
            "image/png": "[encoded data removed]",
            "text/plain": [
              "<Figure size 432x288 with 1 Axes>"
            ]
          },
          "metadata": {
            "needs_background": "light"
          },
          "output_type": "display_data"
        }
      ],
      "source": [
        "plt.plot(torch.tensor(lossi[::]).view(-1, 1).mean(1))"
      ]
    },
    {
      "cell_type": "code",
      "execution_count": null,
      "metadata": {},
      "outputs": [
        {
          "name": "stdout",
          "output_type": "stream",
          "text": [
            "Percent of dataset:  0.04165625260351579\n",
            "Expert:  0  Loss:  2.75364089012146\n",
            "Expert:  1  Loss:  2.857095718383789\n",
            "Expert:  2  Loss:  2.9408631324768066\n",
            "Expert:  3  Loss:  2.9137661457061768\n",
            "Expert:  4  Loss:  2.9295036792755127\n",
            "Expert:  None  Loss:  1.5102663040161133\n",
            "Wall time: 701 ms\n"
          ]
        }
      ],
      "source": [
        "%%time \n",
        "\n",
        "epochs = 1000\n",
        "batch_size = 4\n",
        "print(\"Percent of dataset: \", epochs*batch_size / X.shape[0])\n",
        "\n",
        "with torch.no_grad():\n",
        "    for expert in [i for i in range(5)] + [None]:\n",
        "        indexes = torch.randint(len(dataset)-sequence_length-2, (batch_size, ))\n",
        "        indexesb = torch.arange(sequence_length+1).repeat(1024).view(1024, sequence_length+1) + torch.arange(1024).view(1024, 1)\n",
        "\n",
        "        batch = X[indexes][:, indexesb[:, :-1]].view(-1, sequence_length)\n",
        "        pred = Net(batch.long().to(device), chosen_expert=expert)\n",
        "        loss = F.cross_entropy(pred, X[indexes][:, indexesb[:, -1]].view(-1).to(device))\n",
        "    \n",
        "        print(\"Expert: \", expert, \" Loss: \", loss.item())\n",
        "    "
      ]
    },
    {
      "cell_type": "code",
      "execution_count": null,
      "metadata": {},
      "outputs": [],
      "source": [
        "import pickle\n",
        "import random\n",
        "pickle.dump(Net, open(f\"model-1h{random.randint(0, 100000)}.pkl\", \"wb\"))"
      ]
    },
    {
      "cell_type": "code",
      "execution_count": null,
      "metadata": {},
      "outputs": [],
      "source": [
        "import pickle\n",
        "Net = pickle.load(open(\"model-1h.pkl\", \"rb\"))\n",
        "ctoi = pickle.load(open(\"ctoi.pkl\", \"rb\"))\n",
        "itoc = pickle.load(open(\"itoc.pkl\", \"rb\"))"
      ]
    },
    {
      "cell_type": "code",
      "execution_count": null,
      "metadata": {
        "id": "YNCIn4KHmITi"
      },
      "outputs": [
        {
          "name": "stdout",
          "output_type": "stream",
          "text": [
            "fo0\"BToBdнZToBd¤Zс@ся@To’сo2Iff“oблK\"fуo_“YлfqB–o8DлDqK0“o–fÃf“qHYo–IзлK4Dqfoqěfoзfqmff“ToD“oD“–mfHrüroб0\"foqěD“o|у\"0“zo50HoqěK–oDHqK–qToK“–qD“4foзI–"
          ]
        },
        {
          "ename": "KeyboardInterrupt",
          "evalue": "",
          "output_type": "error",
          "traceback": [
            "\u001b[1;31m---------------------------------------------------------------------------\u001b[0m",
            "\u001b[1;31mKeyboardInterrupt\u001b[0m                         Traceback (most recent call last)",
            "\u001b[1;32m~\\AppData\\Local\\Temp/ipykernel_7776/2627448320.py\u001b[0m in \u001b[0;36m<module>\u001b[1;34m\u001b[0m\n\u001b[0;32m      6\u001b[0m     \u001b[1;32mfor\u001b[0m \u001b[0m_\u001b[0m \u001b[1;32min\u001b[0m \u001b[0mrange\u001b[0m\u001b[1;33m(\u001b[0m\u001b[1;36m300\u001b[0m\u001b[1;33m)\u001b[0m\u001b[1;33m:\u001b[0m\u001b[1;33m\u001b[0m\u001b[1;33m\u001b[0m\u001b[0m\n\u001b[0;32m      7\u001b[0m         \u001b[0mX\u001b[0m \u001b[1;33m=\u001b[0m \u001b[0mtorch\u001b[0m\u001b[1;33m.\u001b[0m\u001b[0mtensor\u001b[0m\u001b[1;33m(\u001b[0m\u001b[1;33m[\u001b[0m\u001b[0mctoi\u001b[0m\u001b[1;33m[\u001b[0m\u001b[0ms\u001b[0m\u001b[1;33m]\u001b[0m \u001b[1;32mfor\u001b[0m \u001b[0ms\u001b[0m \u001b[1;32min\u001b[0m \u001b[0mprompt\u001b[0m\u001b[1;33m[\u001b[0m\u001b[1;33m-\u001b[0m\u001b[0msequence_length\u001b[0m\u001b[1;33m:\u001b[0m\u001b[1;33m]\u001b[0m\u001b[1;33m]\u001b[0m\u001b[1;33m)\u001b[0m\u001b[1;33m.\u001b[0m\u001b[0mlong\u001b[0m\u001b[1;33m(\u001b[0m\u001b[1;33m)\u001b[0m\u001b[1;33m.\u001b[0m\u001b[0mview\u001b[0m\u001b[1;33m(\u001b[0m\u001b[1;36m1\u001b[0m\u001b[1;33m,\u001b[0m \u001b[1;33m-\u001b[0m\u001b[1;36m1\u001b[0m\u001b[1;33m)\u001b[0m\u001b[1;33m.\u001b[0m\u001b[0mto\u001b[0m\u001b[1;33m(\u001b[0m\u001b[0mdevice\u001b[0m\u001b[1;33m)\u001b[0m\u001b[1;33m\u001b[0m\u001b[1;33m\u001b[0m\u001b[0m\n\u001b[1;32m----> 8\u001b[1;33m         \u001b[0mpred\u001b[0m \u001b[1;33m=\u001b[0m \u001b[0mNet\u001b[0m\u001b[1;33m.\u001b[0m\u001b[0mforward\u001b[0m\u001b[1;33m(\u001b[0m\u001b[0mX\u001b[0m\u001b[1;33m)\u001b[0m\u001b[1;33m\u001b[0m\u001b[1;33m\u001b[0m\u001b[0m\n\u001b[0m\u001b[0;32m      9\u001b[0m         \u001b[0mprompt\u001b[0m \u001b[1;33m+=\u001b[0m \u001b[0mitoc\u001b[0m\u001b[1;33m[\u001b[0m\u001b[0mtorch\u001b[0m\u001b[1;33m.\u001b[0m\u001b[0mmultinomial\u001b[0m\u001b[1;33m(\u001b[0m\u001b[0mF\u001b[0m\u001b[1;33m.\u001b[0m\u001b[0msoftmax\u001b[0m\u001b[1;33m(\u001b[0m\u001b[0mpred\u001b[0m\u001b[1;33m,\u001b[0m \u001b[0mdim\u001b[0m\u001b[1;33m=\u001b[0m\u001b[1;36m1\u001b[0m\u001b[1;33m)\u001b[0m\u001b[1;33m,\u001b[0m \u001b[1;36m1\u001b[0m\u001b[1;33m)\u001b[0m\u001b[1;33m.\u001b[0m\u001b[0mitem\u001b[0m\u001b[1;33m(\u001b[0m\u001b[1;33m)\u001b[0m\u001b[1;33m]\u001b[0m\u001b[1;33m\u001b[0m\u001b[1;33m\u001b[0m\u001b[0m\n\u001b[0;32m     10\u001b[0m         \u001b[0mprint\u001b[0m\u001b[1;33m(\u001b[0m\u001b[0mprompt\u001b[0m\u001b[1;33m[\u001b[0m\u001b[1;33m-\u001b[0m\u001b[1;36m1\u001b[0m\u001b[1;33m]\u001b[0m\u001b[1;33m,\u001b[0m \u001b[0mend\u001b[0m\u001b[1;33m=\u001b[0m\u001b[1;34m\"\"\u001b[0m\u001b[1;33m)\u001b[0m\u001b[1;33m\u001b[0m\u001b[1;33m\u001b[0m\u001b[0m\n",
            "\u001b[1;32m~\\AppData\\Local\\Temp/ipykernel_7776/4224971515.py\u001b[0m in \u001b[0;36mforward\u001b[1;34m(self, x, chosen_expert)\u001b[0m\n\u001b[0;32m    119\u001b[0m \u001b[1;33m\u001b[0m\u001b[0m\n\u001b[0;32m    120\u001b[0m         \u001b[1;32mfor\u001b[0m \u001b[0mblock\u001b[0m \u001b[1;32min\u001b[0m \u001b[0mself\u001b[0m\u001b[1;33m.\u001b[0m\u001b[0mblocks\u001b[0m\u001b[1;33m:\u001b[0m\u001b[1;33m\u001b[0m\u001b[1;33m\u001b[0m\u001b[0m\n\u001b[1;32m--> 121\u001b[1;33m             \u001b[0mx\u001b[0m \u001b[1;33m=\u001b[0m \u001b[0mx\u001b[0m \u001b[1;33m+\u001b[0m \u001b[0mblock\u001b[0m\u001b[1;33m(\u001b[0m\u001b[0mx\u001b[0m\u001b[1;33m,\u001b[0m \u001b[0mchosen_expert\u001b[0m\u001b[1;33m=\u001b[0m\u001b[0mchosen_expert\u001b[0m\u001b[1;33m)\u001b[0m\u001b[1;33m\u001b[0m\u001b[1;33m\u001b[0m\u001b[0m\n\u001b[0m\u001b[0;32m    122\u001b[0m         \u001b[0mself\u001b[0m\u001b[1;33m.\u001b[0m\u001b[0mstd\u001b[0m \u001b[1;33m=\u001b[0m \u001b[0mx\u001b[0m\u001b[1;33m.\u001b[0m\u001b[0mstd\u001b[0m\u001b[1;33m(\u001b[0m\u001b[1;33m)\u001b[0m\u001b[1;33m\u001b[0m\u001b[1;33m\u001b[0m\u001b[0m\n\u001b[0;32m    123\u001b[0m         \u001b[0mx\u001b[0m \u001b[1;33m=\u001b[0m \u001b[0mself\u001b[0m\u001b[1;33m.\u001b[0m\u001b[0mlout\u001b[0m\u001b[1;33m(\u001b[0m\u001b[0mx\u001b[0m\u001b[1;33m)\u001b[0m\u001b[1;33m\u001b[0m\u001b[1;33m\u001b[0m\u001b[0m\n",
            "\u001b[1;32mc:\\Users\\lucam\\anaconda3\\lib\\site-packages\\torch\\nn\\modules\\module.py\u001b[0m in \u001b[0;36m_call_impl\u001b[1;34m(self, *args, **kwargs)\u001b[0m\n\u001b[0;32m   1499\u001b[0m                 \u001b[1;32mor\u001b[0m \u001b[0m_global_backward_pre_hooks\u001b[0m \u001b[1;32mor\u001b[0m \u001b[0m_global_backward_hooks\u001b[0m\u001b[1;33m\u001b[0m\u001b[1;33m\u001b[0m\u001b[0m\n\u001b[0;32m   1500\u001b[0m                 or _global_forward_hooks or _global_forward_pre_hooks):\n\u001b[1;32m-> 1501\u001b[1;33m             \u001b[1;32mreturn\u001b[0m \u001b[0mforward_call\u001b[0m\u001b[1;33m(\u001b[0m\u001b[1;33m*\u001b[0m\u001b[0margs\u001b[0m\u001b[1;33m,\u001b[0m \u001b[1;33m**\u001b[0m\u001b[0mkwargs\u001b[0m\u001b[1;33m)\u001b[0m\u001b[1;33m\u001b[0m\u001b[1;33m\u001b[0m\u001b[0m\n\u001b[0m\u001b[0;32m   1502\u001b[0m         \u001b[1;31m# Do not call functions when jit is used\u001b[0m\u001b[1;33m\u001b[0m\u001b[1;33m\u001b[0m\u001b[0m\n\u001b[0;32m   1503\u001b[0m         \u001b[0mfull_backward_hooks\u001b[0m\u001b[1;33m,\u001b[0m \u001b[0mnon_full_backward_hooks\u001b[0m \u001b[1;33m=\u001b[0m \u001b[1;33m[\u001b[0m\u001b[1;33m]\u001b[0m\u001b[1;33m,\u001b[0m \u001b[1;33m[\u001b[0m\u001b[1;33m]\u001b[0m\u001b[1;33m\u001b[0m\u001b[1;33m\u001b[0m\u001b[0m\n",
            "\u001b[1;32m~\\AppData\\Local\\Temp/ipykernel_7776/4224971515.py\u001b[0m in \u001b[0;36mforward\u001b[1;34m(self, x, chosen_expert)\u001b[0m\n\u001b[0;32m     87\u001b[0m         \u001b[0mx\u001b[0m \u001b[1;33m=\u001b[0m \u001b[0mtorch\u001b[0m\u001b[1;33m.\u001b[0m\u001b[0mcat\u001b[0m\u001b[1;33m(\u001b[0m\u001b[1;33m[\u001b[0m\u001b[0matt\u001b[0m\u001b[1;33m(\u001b[0m\u001b[0mx\u001b[0m\u001b[1;33m)\u001b[0m \u001b[1;32mfor\u001b[0m \u001b[0matt\u001b[0m \u001b[1;32min\u001b[0m \u001b[0mself\u001b[0m\u001b[1;33m.\u001b[0m\u001b[0matt\u001b[0m\u001b[1;33m]\u001b[0m\u001b[1;33m,\u001b[0m \u001b[0mdim\u001b[0m\u001b[1;33m=\u001b[0m\u001b[1;36m1\u001b[0m\u001b[1;33m)\u001b[0m\u001b[1;33m\u001b[0m\u001b[1;33m\u001b[0m\u001b[0m\n\u001b[0;32m     88\u001b[0m         \u001b[0mx\u001b[0m \u001b[1;33m=\u001b[0m \u001b[0mx\u001b[0m\u001b[1;33m.\u001b[0m\u001b[0mview\u001b[0m\u001b[1;33m(\u001b[0m\u001b[0mbatch_size\u001b[0m\u001b[1;33m,\u001b[0m \u001b[0mself\u001b[0m\u001b[1;33m.\u001b[0m\u001b[0mconfig\u001b[0m\u001b[1;33m.\u001b[0m\u001b[0mhead_size\u001b[0m\u001b[1;33m*\u001b[0m\u001b[0mself\u001b[0m\u001b[1;33m.\u001b[0m\u001b[0mconfig\u001b[0m\u001b[1;33m.\u001b[0m\u001b[0mn_heads\u001b[0m\u001b[1;33m*\u001b[0m\u001b[0msequence_length\u001b[0m\u001b[1;33m)\u001b[0m\u001b[1;33m\u001b[0m\u001b[1;33m\u001b[0m\u001b[0m\n\u001b[1;32m---> 89\u001b[1;33m         \u001b[0mx\u001b[0m \u001b[1;33m=\u001b[0m \u001b[0mself\u001b[0m\u001b[1;33m.\u001b[0m\u001b[0mMoE\u001b[0m\u001b[1;33m(\u001b[0m\u001b[0mx\u001b[0m\u001b[1;33m,\u001b[0m \u001b[0mchosen_expert\u001b[0m\u001b[1;33m)\u001b[0m\u001b[1;33m.\u001b[0m\u001b[0mview\u001b[0m\u001b[1;33m(\u001b[0m\u001b[0mx\u001b[0m\u001b[1;33m.\u001b[0m\u001b[0mshape\u001b[0m\u001b[1;33m[\u001b[0m\u001b[1;36m0\u001b[0m\u001b[1;33m]\u001b[0m\u001b[1;33m,\u001b[0m \u001b[0msequence_length\u001b[0m\u001b[1;33m,\u001b[0m \u001b[0mself\u001b[0m\u001b[1;33m.\u001b[0m\u001b[0mconfig\u001b[0m\u001b[1;33m.\u001b[0m\u001b[0memb_size\u001b[0m\u001b[1;33m)\u001b[0m\u001b[1;33m\u001b[0m\u001b[1;33m\u001b[0m\u001b[0m\n\u001b[0m\u001b[0;32m     90\u001b[0m \u001b[1;33m\u001b[0m\u001b[0m\n\u001b[0;32m     91\u001b[0m         \u001b[1;32mreturn\u001b[0m \u001b[0mx\u001b[0m\u001b[1;33m\u001b[0m\u001b[1;33m\u001b[0m\u001b[0m\n",
            "\u001b[1;32mc:\\Users\\lucam\\anaconda3\\lib\\site-packages\\torch\\nn\\modules\\module.py\u001b[0m in \u001b[0;36m_call_impl\u001b[1;34m(self, *args, **kwargs)\u001b[0m\n\u001b[0;32m   1499\u001b[0m                 \u001b[1;32mor\u001b[0m \u001b[0m_global_backward_pre_hooks\u001b[0m \u001b[1;32mor\u001b[0m \u001b[0m_global_backward_hooks\u001b[0m\u001b[1;33m\u001b[0m\u001b[1;33m\u001b[0m\u001b[0m\n\u001b[0;32m   1500\u001b[0m                 or _global_forward_hooks or _global_forward_pre_hooks):\n\u001b[1;32m-> 1501\u001b[1;33m             \u001b[1;32mreturn\u001b[0m \u001b[0mforward_call\u001b[0m\u001b[1;33m(\u001b[0m\u001b[1;33m*\u001b[0m\u001b[0margs\u001b[0m\u001b[1;33m,\u001b[0m \u001b[1;33m**\u001b[0m\u001b[0mkwargs\u001b[0m\u001b[1;33m)\u001b[0m\u001b[1;33m\u001b[0m\u001b[1;33m\u001b[0m\u001b[0m\n\u001b[0m\u001b[0;32m   1502\u001b[0m         \u001b[1;31m# Do not call functions when jit is used\u001b[0m\u001b[1;33m\u001b[0m\u001b[1;33m\u001b[0m\u001b[0m\n\u001b[0;32m   1503\u001b[0m         \u001b[0mfull_backward_hooks\u001b[0m\u001b[1;33m,\u001b[0m \u001b[0mnon_full_backward_hooks\u001b[0m \u001b[1;33m=\u001b[0m \u001b[1;33m[\u001b[0m\u001b[1;33m]\u001b[0m\u001b[1;33m,\u001b[0m \u001b[1;33m[\u001b[0m\u001b[1;33m]\u001b[0m\u001b[1;33m\u001b[0m\u001b[1;33m\u001b[0m\u001b[0m\n",
            "\u001b[1;32m~\\AppData\\Local\\Temp/ipykernel_7776/4224971515.py\u001b[0m in \u001b[0;36mforward\u001b[1;34m(self, x, chosen_expert)\u001b[0m\n\u001b[0;32m     36\u001b[0m             \u001b[1;32mfor\u001b[0m \u001b[0mi\u001b[0m \u001b[1;32min\u001b[0m \u001b[0mrange\u001b[0m\u001b[1;33m(\u001b[0m\u001b[0mlen\u001b[0m\u001b[1;33m(\u001b[0m\u001b[0mself\u001b[0m\u001b[1;33m.\u001b[0m\u001b[0mexperts\u001b[0m\u001b[1;33m)\u001b[0m\u001b[1;33m)\u001b[0m\u001b[1;33m:\u001b[0m\u001b[1;33m\u001b[0m\u001b[1;33m\u001b[0m\u001b[0m\n\u001b[0;32m     37\u001b[0m                 \u001b[1;32mfor\u001b[0m \u001b[0mexpert\u001b[0m \u001b[1;32min\u001b[0m \u001b[0mself\u001b[0m\u001b[1;33m.\u001b[0m\u001b[0mexperts\u001b[0m\u001b[1;33m[\u001b[0m\u001b[0mi\u001b[0m\u001b[1;33m]\u001b[0m\u001b[1;33m:\u001b[0m\u001b[1;33m\u001b[0m\u001b[1;33m\u001b[0m\u001b[0m\n\u001b[1;32m---> 38\u001b[1;33m                     \u001b[0mx\u001b[0m\u001b[1;33m[\u001b[0m\u001b[0mchoice\u001b[0m \u001b[1;33m==\u001b[0m \u001b[0mi\u001b[0m\u001b[1;33m]\u001b[0m \u001b[1;33m+=\u001b[0m \u001b[0mact\u001b[0m\u001b[1;33m(\u001b[0m\u001b[0mexpert\u001b[0m\u001b[1;33m(\u001b[0m\u001b[0mx\u001b[0m\u001b[1;33m[\u001b[0m\u001b[0mchoice\u001b[0m \u001b[1;33m==\u001b[0m \u001b[0mi\u001b[0m\u001b[1;33m]\u001b[0m\u001b[1;33m)\u001b[0m\u001b[1;33m)\u001b[0m\u001b[1;33m\u001b[0m\u001b[1;33m\u001b[0m\u001b[0m\n\u001b[0m\u001b[0;32m     39\u001b[0m         \u001b[1;32melse\u001b[0m\u001b[1;33m:\u001b[0m\u001b[1;33m\u001b[0m\u001b[1;33m\u001b[0m\u001b[0m\n\u001b[0;32m     40\u001b[0m             \u001b[1;32mfor\u001b[0m \u001b[0mi\u001b[0m \u001b[1;32min\u001b[0m \u001b[0mrange\u001b[0m\u001b[1;33m(\u001b[0m\u001b[0mlen\u001b[0m\u001b[1;33m(\u001b[0m\u001b[0mself\u001b[0m\u001b[1;33m.\u001b[0m\u001b[0mexperts\u001b[0m\u001b[1;33m)\u001b[0m\u001b[1;33m)\u001b[0m\u001b[1;33m:\u001b[0m\u001b[1;33m\u001b[0m\u001b[1;33m\u001b[0m\u001b[0m\n",
            "\u001b[1;31mKeyboardInterrupt\u001b[0m: "
          ]
        }
      ],
      "source": [
        "prompt = \" \"*60 + \"The meaning of life is... \\nKI\"\n",
        "device = torch.device(\"cuda:0\")\n",
        "sequence_length = 64\n",
        "\n",
        "with torch.no_grad():\n",
        "    for _ in range(300):\n",
        "        X = torch.tensor([ctoi[s] for s in prompt[-sequence_length:]]).long().view(1, -1).to(device)\n",
        "        pred = Net.forward(X)\n",
        "        prompt += itoc[torch.multinomial(F.softmax(pred, dim=1), 1).item()]\n",
        "        print(prompt[-1], end=\"\")\n"
      ]
    }
  ],
  "metadata": {
    "accelerator": "GPU",
    "colab": {
      "gpuType": "T4",
      "provenance": []
    },
    "kernelspec": {
      "display_name": "Python 3",
      "name": "python3"
    },
    "language_info": {
      "codemirror_mode": {
        "name": "ipython",
        "version": 3
      },
      "file_extension": ".py",
      "mimetype": "text/x-python",
      "name": "python",
      "nbconvert_exporter": "python",
      "pygments_lexer": "ipython3",
      "version": "3.9.7"
    }
  },
  "nbformat": 4,
  "nbformat_minor": 0
}
