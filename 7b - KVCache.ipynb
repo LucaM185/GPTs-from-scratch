{
 "cells": [
  {
   "cell_type": "markdown",
   "metadata": {},
   "source": [
    "# VRAM REQUIREMENTS\n",
    "This notebook is quite intense... If you are running on GPU i recommend at least 8GB of VRAM, if you are having trouble running this, you can reduce the size of the models, and the sequence lengths, but scaling down may reduce KV cache effectiveness and thus make the demo meaningless"
   ]
  },
  {
   "cell_type": "code",
   "execution_count": 1,
   "metadata": {},
   "outputs": [
    {
     "data": {
      "text/plain": [
       "<torch._C.Generator at 0x75db3bf35f70>"
      ]
     },
     "execution_count": 1,
     "metadata": {},
     "output_type": "execute_result"
    }
   ],
   "source": [
    "import torch\n",
    "import torch.nn as nn\n",
    "import torch.nn.functional as F\n",
    "import matplotlib.pyplot as plt\n",
    "import time\n",
    "device = torch.device(\"cuda:0\" if torch.cuda.is_available() else \"mps\" if torch.mps.is_available() else \"cpu\")\n",
    "\n",
    "torch.manual_seed(1337)"
   ]
  },
  {
   "cell_type": "code",
   "execution_count": 2,
   "metadata": {},
   "outputs": [],
   "source": [
    "sequence_length = 4096\n",
    "\n",
    "class Attention(nn.Module):\n",
    "    def __init__(self, emb_size, head_size):\n",
    "        super().__init__()\n",
    "        self.emb_size = emb_size\n",
    "        self.head_size = head_size\n",
    "\n",
    "        self.keys = nn.Linear(emb_size, head_size, bias=False)\n",
    "        self.queries = nn.Linear(emb_size, head_size, bias=False)\n",
    "        self.values = nn.Linear(emb_size, head_size, bias=False)\n",
    "\n",
    "        self.register_buffer(\"tril\", torch.tril(torch.ones(sequence_length, sequence_length)))\n",
    "\n",
    "    def forward(self, x):\n",
    "        keys = self.keys(x)\n",
    "        queries = self.queries(x)\n",
    "        values = self.values(x)\n",
    "        \n",
    "        tril = self.tril[:x.size(1), :x.size(1)]\n",
    "        weights = queries @ keys.transpose(-2, -1) * (self.head_size ** -0.5)\n",
    "        weights = weights.masked_fill(tril == 0, float(\"-inf\"))\n",
    "        weights = F.softmax(weights, dim=-1)\n",
    "        \n",
    "        return weights @ values\n",
    "    \n",
    "    def autoregressive_forward(self, x):\n",
    "        keys = self.keys(x)\n",
    "        query = self.queries(x[:, -1])\n",
    "        values = self.values(x)\n",
    "\n",
    "        weights = query @ keys.transpose(-2, -1) * (self.head_size ** -0.5)\n",
    "        weights = F.softmax(weights, dim=-1)\n",
    "        \n",
    "        return weights @ values\n",
    "\n",
    "DIM = 1024\n",
    "att = Attention(emb_size=DIM, head_size=DIM).to(device)\n",
    "torch.cuda.synchronize() \n"
   ]
  },
  {
   "cell_type": "code",
   "execution_count": 3,
   "metadata": {},
   "outputs": [
    {
     "name": "stdout",
     "output_type": "stream",
     "text": [
      "Correct cached pass\n",
      "Time taken: 0.552377462387085 seconds\n",
      "Time taken: 0.34394216537475586 seconds\n"
     ]
    }
   ],
   "source": [
    "with torch.no_grad():\n",
    "\n",
    "    # ----- Testing correctness ------\n",
    "    \n",
    "    # Random data for testing\n",
    "    x = torch.randn(1, 5, DIM).to(device)\n",
    "    y = x[:, :x.size(1)-1]\n",
    "\n",
    "    # Compute the cache and do an autoregressive step\n",
    "    att.forward(y)\n",
    "    a = att.autoregressive_forward(x)\n",
    "\n",
    "    # Compute the forward pass without the cache for comparison\n",
    "    b = att.forward(x)[:, -1]\n",
    "    print(\"Correct cached pass\" if ((a - b < 1e-3).sum(-1)/a.numel()).item() == 1.0 else \"Incorrect cached forward pass (try rerunning to check for randomn errors)\")\n",
    "\n",
    "\n",
    "\n",
    "    # ----- Testing speed ------\n",
    "\n",
    "    x = torch.randn(1, 128, DIM).to(device)\n",
    "\n",
    "    # --> Basic Attention\n",
    "    start_time = time.time()\n",
    "    for i in range(800):\n",
    "        next = att.forward(x)[:, -1].unsqueeze(1)\n",
    "        x = torch.cat([x, next], dim=1)\n",
    "    print(f\"Time taken: {time.time() - start_time} seconds\")\n",
    "\n",
    "    # --> Autoregressive Attention\n",
    "    x = x[:, :128]\n",
    "    start_time = time.time()\n",
    "    for i in range(800):\n",
    "        next = att.autoregressive_forward(x)\n",
    "        x = torch.cat([x, next], dim=1)\n",
    "    print(f\"Time taken: {time.time() - start_time} seconds\")"
   ]
  },
  {
   "cell_type": "code",
   "execution_count": 4,
   "metadata": {},
   "outputs": [],
   "source": [
    "\n",
    "class CachedAttention(nn.Module):\n",
    "    def __init__(self, emb_size, head_size):\n",
    "        super().__init__()\n",
    "        self.emb_size = emb_size\n",
    "        self.head_size = head_size\n",
    "\n",
    "        self.keys = nn.Linear(emb_size, head_size, bias=False)\n",
    "        self.queries = nn.Linear(emb_size, head_size, bias=False)\n",
    "        self.values = nn.Linear(emb_size, head_size, bias=False)\n",
    "\n",
    "        self.register_buffer(\"tril\", torch.tril(torch.ones(sequence_length, sequence_length)))\n",
    "        self.register_buffer(\"key_cache\", torch.zeros(1, sequence_length, head_size))\n",
    "        self.register_buffer(\"value_cache\", torch.zeros(1, sequence_length, head_size))\n",
    "\n",
    "    def forward(self, x, store_cache=False):\n",
    "        keys = self.keys(x)\n",
    "        queries = self.queries(x)\n",
    "        values = self.values(x)\n",
    "        \n",
    "        tril = self.tril[:x.size(1), :x.size(1)]\n",
    "        weights = queries @ keys.transpose(-2, -1) * (self.head_size ** -0.5)\n",
    "        weights = weights.masked_fill(tril == 0, float(\"-inf\"))\n",
    "        weights = F.softmax(weights, dim=-1)\n",
    "\n",
    "        if store_cache:\n",
    "            self.key_cache[:, :x.size(1)] = keys\n",
    "            self.value_cache[:, :x.size(1)] = values\n",
    "        \n",
    "        return weights @ values\n",
    "    \n",
    "    def cached_autoregressive_forward(self, x):\n",
    "        last_token = x[:, -1:]\n",
    "        new_keys = self.keys(last_token)\n",
    "        new_queries = self.queries(last_token)\n",
    "        new_values = self.values(last_token)\n",
    "        L = x.size(1)-1\n",
    "\n",
    "        self.key_cache[:, L, :] = new_keys\n",
    "        self.value_cache[:, L, :] = new_values\n",
    "\n",
    "        weights = new_queries @ self.key_cache[:, :L+1, :].transpose(-2, -1) * (self.head_size ** -0.5)\n",
    "        weights = F.softmax(weights, dim=-1)\n",
    "        return weights @ self.value_cache[:, :L+1, :]\n",
    "\n",
    "att_cached = CachedAttention(emb_size=DIM, head_size=DIM).to(device)\n",
    "torch.cuda.synchronize() "
   ]
  },
  {
   "cell_type": "code",
   "execution_count": 5,
   "metadata": {},
   "outputs": [
    {
     "name": "stdout",
     "output_type": "stream",
     "text": [
      "Correct cached pass\n"
     ]
    },
    {
     "name": "stdout",
     "output_type": "stream",
     "text": [
      "torch.Size([1, 4096, 1024])\n",
      "Time taken: 12.524032354354858 seconds\n",
      "Time taken: 3.7176151275634766 seconds\n",
      "Time taken: 1.8234357833862305 seconds\n",
      "Size in RAM of the KV cache: 64.0 MB\n",
      "Size in RAM of the Attention matrix: 16384.0 MB\n"
     ]
    }
   ],
   "source": [
    "with torch.no_grad():\n",
    "        \n",
    "    # Random data for testing\n",
    "    x = torch.randn(1, 20, DIM).to(device)\n",
    "    y = x[:, :x.size(1)-1]\n",
    "\n",
    "    # Compute the cache and do an autoregressive step\n",
    "    att_cached.forward(y, store_cache=True)\n",
    "    a = att_cached.cached_autoregressive_forward(x)\n",
    "\n",
    "    # Compute the forward pass without the cache for comparison\n",
    "    b = att_cached.forward(x)[:, -1]\n",
    "    print(\"Correct cached pass\" if ((a - b < 1e-3).sum(-1)/a.numel()).item() == 1.0 else \"Incorrect cached forward pass (try rerunning to check for randomn errors)\")\n",
    "\n",
    "\n",
    "    # Now that we checked for correctness, we can try testing speed\n",
    "    S = 1024\n",
    "    N = sequence_length-S\n",
    "    x = torch.randn(1, S, DIM).to(device)\n",
    "    start_time = time.time()\n",
    "    for i in range(N):\n",
    "        next = att_cached.forward(x)[:, -1].unsqueeze(1)\n",
    "        x = torch.cat([x, next], dim=1)\n",
    "    print(x.shape)\n",
    "    print(f\"Time taken: {time.time() - start_time} seconds\")\n",
    "\n",
    "    # Now we can try the autoregressive forward pass from the old implementation of att\n",
    "    x = x[:, :S]\n",
    "    start_time = time.time()\n",
    "    for i in range(N):\n",
    "        next = att.autoregressive_forward(x)\n",
    "        x = torch.cat([x, next], dim=1)\n",
    "\n",
    "    print(f\"Time taken: {time.time() - start_time} seconds\")\n",
    "\n",
    "    # Now we can try the autoregressive cached forward pass\n",
    "    x = x[:, :S]\n",
    "    start_time = time.time()\n",
    "    for i in range(N):\n",
    "        next = att_cached.cached_autoregressive_forward(x)\n",
    "        x = torch.cat([x, next], dim=1)\n",
    "\n",
    "    print(f\"Time taken: {time.time() - start_time} seconds\")\n",
    "    print(f\"Size in RAM of the KV cache: {att_cached.key_cache.numel() * att_cached.key_cache.element_size() * 4 / 1024 / 1024} MB\")\n",
    "    print(f\"Size in RAM of the Attention matrix: {sequence_length * att.emb_size ** 2 * 4 / 1024 / 1024} MB\")"
   ]
  },
  {
   "cell_type": "code",
   "execution_count": 6,
   "metadata": {},
   "outputs": [
    {
     "name": "stdout",
     "output_type": "stream",
     "text": [
      "<mediawiki xmlns=\"http://www.mediawiki.org/xml/export-0.3/\" xmlns:xsi=\"http://www.w3.org/2001/XMLSchema-instance\" xsi:schemaLocation=\"http://www.mediawiki.org/xml/export-0.3/ http://www.mediawiki.org/\n"
     ]
    }
   ],
   "source": [
    "with open(\"datasets/enwik8\", \"r\") as f:\n",
    "    load = f.read()[:1000000] # Limited for testing\n",
    "print(load[:200])"
   ]
  },
  {
   "cell_type": "code",
   "execution_count": 7,
   "metadata": {},
   "outputs": [],
   "source": [
    "class MyInputs:\n",
    "    def __init__(self, data, sequence_length):\n",
    "        self.data = data\n",
    "        self.sequence_length = sequence_length\n",
    "        \n",
    "    def __len__(self):\n",
    "        return len(self.data) - self.sequence_length\n",
    "        \n",
    "    def __getitem__(self, idx):\n",
    "        start_indices = idx.unsqueeze(1) + torch.arange(self.sequence_length)\n",
    "        return self.data[start_indices]\n"
   ]
  },
  {
   "cell_type": "code",
   "execution_count": 8,
   "metadata": {},
   "outputs": [
    {
     "name": "stdout",
     "output_type": "stream",
     "text": [
      "997275\n"
     ]
    }
   ],
   "source": [
    "# Restricting to ASCII characters\n",
    "texttoint = {chr(i): i for i in range(256)}\n",
    "inttotext = {i: chr(i) for i in range(256)}\n",
    "dataset = torch.tensor([texttoint[c] for c in load if c in texttoint])\n",
    "\n",
    "vocab_size = len(texttoint)\n",
    "sequence_length = 20\n",
    "val_set = int(len(dataset)*0.1)\n",
    "\n",
    "inputs = MyInputs(dataset[val_set:-1-sequence_length], sequence_length)\n",
    "labels = MyInputs(dataset[val_set+1:-sequence_length], sequence_length)\n",
    "val_inputs = MyInputs(dataset[:val_set], sequence_length)\n",
    "val_labels = MyInputs(dataset[1:val_set+1], sequence_length)\n",
    "\n",
    "print(len(dataset))"
   ]
  },
  {
   "cell_type": "code",
   "execution_count": 9,
   "metadata": {},
   "outputs": [],
   "source": [
    "import math\n",
    "\n",
    "class FullyConnected(nn.Module):  \n",
    "    def __init__(self, in_size, out_size, hidden_size, n_layers):\n",
    "        super(FullyConnected, self).__init__()\n",
    "\n",
    "        self.fc1 = nn.Linear(in_size, hidden_size)\n",
    "        self.fcx = nn.ModuleList([nn.Linear(hidden_size, hidden_size) for _ in range(n_layers)])\n",
    "        self.fc2 = nn.Linear(hidden_size, out_size)\n",
    "    \n",
    "    def forward(self, x):\n",
    "        x = F.gelu(self.fc1(x))\n",
    "        for fc in self.fcx:\n",
    "            x = F.gelu(fc(x))\n",
    "        x = self.fc2(x)\n",
    "        return x\n",
    "\n",
    "class Attention(nn.Module):\n",
    "    \"\"\"Fixed-size (2048) KV cache.  Refill at training-time, append at eval-time.\"\"\"\n",
    "    def __init__(self, emb_size: int, cache_len):\n",
    "        super().__init__()\n",
    "        self.emb_size  = emb_size\n",
    "        self.cache_len = cache_len\n",
    "\n",
    "        self.keys    = nn.Linear(emb_size, emb_size)\n",
    "        self.queries = nn.Linear(emb_size, emb_size)\n",
    "        self.values  = nn.Linear(emb_size, emb_size)\n",
    "\n",
    "        self.register_buffer(\"cache_k\",  torch.zeros(1, cache_len, emb_size))\n",
    "        self.register_buffer(\"cache_v\",  torch.zeros(1, cache_len, emb_size))\n",
    "        self.step = 0 \n",
    "\n",
    "    def forward(self, x, autoregressive=False):\n",
    "        if autoregressive:   \n",
    "            qk, v = self.update_qkv(x) # inference\n",
    "        else:\n",
    "            qk, v = self.compute_qkv(x) # training \n",
    "\n",
    "        att = torch.softmax(qk / math.sqrt(self.emb_size), dim=-1)\n",
    "        return torch.matmul(att, v)\n",
    "\n",
    "    def compute_qkv(self, x, build_cache=False):\n",
    "        q, k, v = self.queries(x), self.keys(x), self.values(x)\n",
    "\n",
    "        if build_cache:\n",
    "            L = x.shape[1]\n",
    "            self.cache_k[:, :L, :]   = k\n",
    "            self.cache_v[:, :L, :]   = v\n",
    "            self.step = L\n",
    "            \n",
    "        qk = torch.matmul(q, k.transpose(-2, -1))\n",
    "        tril = torch.tril(torch.ones(x.shape[1], x.shape[1], device=x.device, dtype=torch.bool))\n",
    "        qk = qk.masked_fill(tril == 0, float(\"-inf\"))\n",
    "        return qk, v\n",
    "\n",
    "    def update_qkv(self, x):\n",
    "        assert x.shape[0] == 1, \"Only batch size 1 is supported\"\n",
    "        if self.step == 0: print(\"Prefill\"); return self.compute_qkv(x, build_cache=True)\n",
    "        \n",
    "        last_token = x[:, -1, :]\n",
    "        q = self.queries(last_token).unsqueeze(1)\n",
    "        k = self.keys(last_token).unsqueeze(1)\n",
    "        v = self.values(last_token).unsqueeze(1)\n",
    "\n",
    "        self.cache_k[:, self.step:self.step+1, :] = k\n",
    "        self.cache_v[:, self.step:self.step+1, :] = v\n",
    "\n",
    "        self.step += 1\n",
    "        qk = torch.matmul(q, self.cache_k[:, :self.step, :].transpose(-2, -1))\n",
    "        return qk, self.cache_v[:, :self.step, :]\n",
    "\n",
    "class Block(nn.Module):\n",
    "    def __init__(self, emb_size, hidden_size, n_layers, cache_len):\n",
    "        super().__init__()\n",
    "        self.prenorm1 = nn.LayerNorm(emb_size)\n",
    "        self.att      = Attention(emb_size, cache_len)\n",
    "        self.prenorm2 = nn.LayerNorm(emb_size)\n",
    "        self.fc       = FullyConnected(emb_size, emb_size, hidden_size, n_layers)\n",
    "\n",
    "    def forward(self, x, **kwargs):\n",
    "        x = x + self.att(self.prenorm1(x), **kwargs)\n",
    "        x = x + self.fc(self.prenorm2(x))\n",
    "        return x\n",
    "\n",
    "class Transformer(nn.Module):\n",
    "    def __init__(self, vocab_size, emb_size, n_blocks,\n",
    "                 head_size, hidden_size, n_layers, sequence_length, cache_len):\n",
    "        super().__init__()\n",
    "        self.embedding = nn.Embedding(vocab_size, emb_size)\n",
    "        self.posemb    = nn.Embedding(sequence_length, emb_size)\n",
    "        self.blocks    = nn.ModuleList([Block(emb_size, hidden_size, n_layers, cache_len) for _ in range(n_blocks)])\n",
    "        self.out = nn.Linear(emb_size, vocab_size)\n",
    "\n",
    "    def forward(self, x, **kwargs):\n",
    "        x = self.embedding(x) + self.posemb(torch.arange(x.size(1), device=x.device))\n",
    "\n",
    "        if kwargs.get(\"autoregressive\", False) and self.blocks[-1].att.step != 0: \n",
    "            x = x[:, -1:] # We select the last token after positional encodings \n",
    "        for block in self.blocks:\n",
    "            x = block(x, **kwargs)\n",
    "        return self.out(x)\n",
    "    \n",
    "    def reset_cache(self):\n",
    "        for block in self.blocks:\n",
    "            block.att.step = 0\n",
    "    \n",
    "DIM = 1024\n",
    "model = Transformer(vocab_size=len(inttotext), emb_size=DIM, n_blocks=4, head_size=DIM, hidden_size=DIM, n_layers=2, sequence_length=2048, cache_len=2048).to(device)\n"
   ]
  },
  {
   "cell_type": "code",
   "execution_count": 10,
   "metadata": {},
   "outputs": [
    {
     "name": "stdout",
     "output_type": "stream",
     "text": [
      "Millions of parameters: 32.03\n",
      "Step ___0 - Loss: 5.889 - Val Loss: 4.475\n",
      "Step __25 - Loss: 2.666 - Val Loss: 2.652\n",
      "Step __50 - Loss: 2.366 - Val Loss: 2.419\n",
      "Step __75 - Loss: 2.168 - Val Loss: 2.218\n",
      "Step _100 - Loss: 2.083 - Val Loss: 2.212\n",
      "Step _125 - Loss: 2.020 - Val Loss: 2.079\n",
      "Step _150 - Loss: 1.927 - Val Loss: 1.967\n",
      "Step _175 - Loss: 1.883 - Val Loss: 1.991\n",
      "Step _200 - Loss: 1.834 - Val Loss: 1.930\n",
      "Step _225 - Loss: 1.766 - Val Loss: 1.863\n"
     ]
    },
    {
     "data": {
      "text/plain": [
       "<matplotlib.legend.Legend at 0x75da2ab093d0>"
      ]
     },
     "execution_count": 10,
     "metadata": {},
     "output_type": "execute_result"
    },
    {
     "data": {
      "image/png": "[encoded data removed]",
      "text/plain": [
       "<Figure size 600x300 with 1 Axes>"
      ]
     },
     "metadata": {},
     "output_type": "display_data"
    }
   ],
   "source": [
    "#torch.compile(model)\n",
    "print(f\"Millions of parameters: {sum(p.numel() for p in model.parameters())/1e6:.2f}\")\n",
    "\n",
    "batch_size = 1024\n",
    "steps = 250\n",
    "optimizer = torch.optim.Adam(model.parameters(), lr=3e-4) \n",
    "\n",
    "lossi = []\n",
    "vlossi = []\n",
    "\n",
    "for step in range(steps):\n",
    "    indexes = torch.randint(0, len(inputs), (batch_size,))\n",
    "    \n",
    "    pred = model(inputs[indexes].to(device), autoregressive=False) # everything in the forward pass happens in the model class\n",
    "    loss = F.cross_entropy(pred.view(-1, vocab_size), labels[indexes].to(device).view(-1))\n",
    "\n",
    "    loss.backward()\n",
    "    optimizer.step()\n",
    "    optimizer.zero_grad()\n",
    "\n",
    "    lossi.append(loss.item())\n",
    "    with torch.no_grad():\n",
    "        indexes = torch.randint(0, len(val_inputs), (batch_size//8,))\n",
    "        pred = model(val_inputs[indexes].to(device))\n",
    "\n",
    "        loss = F.cross_entropy(pred.view(-1, vocab_size), val_labels[indexes].to(device).view(-1))\n",
    "        vlossi.append(loss.item())\n",
    "\n",
    "    if step % (steps//10) == 0:\n",
    "        print(f\"Step {step:_>4d} - Loss: {lossi[-1]:.3f} - Val Loss: {vlossi[-1]:.3f}\")\n",
    "    \n",
    "plt.figure(figsize=(6, 3))\n",
    "plt.plot(vlossi[:], label='Validation Loss')\n",
    "plt.plot(lossi[:], label='Loss')\n",
    "plt.legend()"
   ]
  },
  {
   "cell_type": "code",
   "execution_count": 11,
   "metadata": {},
   "outputs": [
    {
     "name": "stdout",
     "output_type": "stream",
     "text": [
      "tensor([[119, 104, 111,  32, 115, 101, 101, 107,  32,  97,  32,  99, 117, 114,\n",
      "         101,  32, 102, 111, 114,  32]], device='cuda:0')\n",
      "Prefill\n",
      "Prefill\n",
      "Prefill\n",
      "Prefill\n"
     ]
    },
    {
     "name": "stdout",
     "output_type": "stream",
     "text": [
      "who seek a cure for \n",
      "trmelllivenedorcrevesimbexupalimanalusimevevesendermeresexededoredexexellimasesinedelousedevedusimenallinesustrmatimendesevedendex helousimomedededenedesinalorve fffesusedex tormendededelumeredenoustigusimendedenenene thedededomalormelorededededendededeximededesedenesusevenenetre thedex thanedededenesedevethedenedene trmedendenalormededenedede thastomene sthalomededoususenamenexigusimedenatededimedede thasustedededenususimededomareximbededededede trevesthaloumedevedesendedededededenedenededededenededimedededededex.usususususesimendedemasenenededendesedededelloustedenestrmbe asthalovedesusimathase imandedemesigustorenedenusededede thaloredededoumenedestedededelormalothimededededene timenasede (sedederededene igusededededededenedede irvededededededederededelivedededede te chimaloredede sedesumedededededenesigusistysederme thimedenedede tredededesedeshalmede hasphalededesigusivede (simedede thimasivedededowsesedededesthasesedede himenededesusimededesushasenedededene trnedenenedenalime igusthimede tredestedededededestredededededededede hasedede tharvendededenese halivimededededesigusedededombende homasuseximasirmedededededededendededededededediredede susime tedededenenenedenedene igusededededede imamedededededededeximedede trmasededivede halale se tedimenasedededededededesimededesindededesenexivimedesthesustimededenededevedededededene tedededededigredendedededemede halomede thalochichaligususthalimphitisimedededigusushagumedex imedesimesumenedededigusususigimedesive hale hasestemede ime toredededededededededededededededesy thalalichalivedesusigusigusysigusimedesumesigustendededededededededexigivenenedede imedededede chomededimediguse wsedededenomendedede hasedededesedededededededenedededede imermededede imysifestysedestrededededichaligusigusimendimediga senedededededesededededendededesimedededededenedededenomaresederededededede tededededededenedese teximalormalovenedenededededenelousimede hesendedenenedededede thaledededededededese oustrvede tededormedex thagusedesthalo\n"
     ]
    }
   ],
   "source": [
    "model.reset_cache()\n",
    "example = inputs[torch.zeros(1).long()].to(device)\n",
    "print(example)\n",
    "\n",
    "with torch.no_grad():\n",
    "    for i in range(2000):\n",
    "        next = model.forward(example, autoregressive=True)[:, -1]\n",
    "        example = torch.cat([example, next.argmax(dim=-1).unsqueeze(1)], dim=1)\n",
    "\n",
    "print(\"\".join(inttotext[i.item()] for i in example[0])[:20])\n",
    "print(\"\".join(inttotext[i.item()] for i in example[0])[20:])"
   ]
  },
  {
   "cell_type": "markdown",
   "metadata": {},
   "source": [
    "-> Note: You see many prefills, because we have one for each attention layer"
   ]
  },
  {
   "cell_type": "code",
   "execution_count": 12,
   "metadata": {},
   "outputs": [
    {
     "name": "stdout",
     "output_type": "stream",
     "text": [
      "tensor([[119, 104, 111,  32, 115, 101, 101, 107,  32,  97,  32,  99, 117, 114,\n",
      "         101,  32, 102, 111, 114,  32]], device='cuda:0')\n"
     ]
    },
    {
     "name": "stdout",
     "output_type": "stream",
     "text": [
      "who seek a cure for \n",
      "trmelllivenedorcrevesimbexupalimanalusimevevesendermeresexededoredexexellimasesinedelousedevedusimenallinesustrmatimendesevedendex helousimomedededenedesinalorve fffesusedex tormendededelumeredenoustigusimendedenenene thedededomalormelorededededendededeximededesedenesusevenenetre thedex thanedededenesedevethedenedene trmedendenalormededenedede thastomene sthalomededoususenamenexigusimedenatededimedede thasustedededenususimededomareximbededededede trevesthaloumedevedesendedededededenedenededededenededimedededededex.usususususesimendedemasenenededendesedededelloustedenestrmbe asthalovedesusimathase imandedemesigustorenedenusededede thaloredededoumenedestedededelormalothimededededene timenasede (sedederededene igusededededededenedede irvededededededederededelivedededede te chimaloredede sedesumedededededenesigusistysederme thimedenedede tredededesedeshalmede hasphalededesigusivede (simedede thimasivedededowsesedededesthasesedede himenededesusimededesushasenedededene trnedenenedenalime igusthimede tredestedededededestredededededededede hasedede tharvendededenese halivimededededesigusedededombende homasuseximasirmedededededededendededededededediredede susime tedededenenenedenedene igusededededede imamedededededededeximedede trmasededivede halale se tedimenasedededededededesimededesindededesenexivimedesthesustimededenededevedededededene tedededededigredendedededemede halomede thalochichaligususthalimphitisimedededigusushagumedex imedesimesumenedededigusususigimedesive hale hasestemede ime toredededededededededededededededesy thalalichalivedesusigusigusysigusimedesumesigustendededededededededexigivenenedede imedededede chomededimediguse wsedededenomendedede hasedededesedededededededenedededede imermededede imysifestysedestrededededichaligusigusimendimediga senedededededesededededendededesimedededededenedededenomaresederededededede tededededededenedese teximalormalovenedenededededenelousimede hesendedenenedededede thaledededededededese oustrvede tededormedex thagusedesthalo\n"
     ]
    }
   ],
   "source": [
    "example = inputs[torch.zeros(1).long()].to(device)\n",
    "print(example)\n",
    "\n",
    "with torch.no_grad():\n",
    "    for i in range(2000):\n",
    "        next = model.forward(example, autoregressive=False)[:, -1]\n",
    "        example = torch.cat([example, next.argmax(dim=-1).unsqueeze(1)], dim=1)\n",
    "\n",
    "print(\"\".join(inttotext[i.item()] for i in example[0])[:20])\n",
    "print(\"\".join(inttotext[i.item()] for i in example[0])[20:])"
   ]
  },
  {
   "cell_type": "code",
   "execution_count": 13,
   "metadata": {},
   "outputs": [
    {
     "name": "stdout",
     "output_type": "stream",
     "text": [
      "Prefill\n",
      "Prefill\n",
      "Prefill\n",
      "Prefill\n"
     ]
    },
    {
     "data": {
      "image/png": "[encoded data removed]",
      "text/plain": [
       "<Figure size 640x480 with 1 Axes>"
      ]
     },
     "metadata": {},
     "output_type": "display_data"
    }
   ],
   "source": [
    "def bench(ar):\n",
    "    ex = inputs[torch.zeros(1).long()].to(device); model.reset_cache(); t=[]\n",
    "    sync = torch.cuda.synchronize if device.type==\"cuda\" else lambda: None\n",
    "    with torch.no_grad():\n",
    "        for _ in range(2000):\n",
    "            sync(); t0=time.perf_counter()\n",
    "            nxt = model.forward(ex, autoregressive=ar)[:, -1]\n",
    "            ex = torch.cat([ex, nxt.argmax(dim=-1).unsqueeze(1)], 1)\n",
    "            sync(); t.append(time.perf_counter()-t0)\n",
    "    return t\n",
    "\n",
    "t_ar, t_nar = bench(True), bench(False)\n",
    "plt.plot(t_ar, label=\"autoregressive=True\"); plt.plot(t_nar, label=\"autoregressive=False\")\n",
    "plt.xlabel(\"Iteration\"); plt.ylabel(\"Time (s)\"); plt.legend(); plt.show()\n"
   ]
  },
  {
   "cell_type": "markdown",
   "metadata": {},
   "source": [
    "# O(N) vs O(1)\n",
    "This really shows how having to recompute the whole Keys and Values becomes very expensive with high dimensional tensors. \n",
    "If you want to use smaller models and still see this difference, i recommend moving the models on CPU, since it's more compute bound and it will show the difference well. "
   ]
  },
  {
   "cell_type": "code",
   "execution_count": null,
   "metadata": {},
   "outputs": [],
   "source": []
  }
 ],
 "metadata": {
  "kernelspec": {
   "display_name": "venv",
   "language": "python",
   "name": "python3"
  },
  "language_info": {
   "codemirror_mode": {
    "name": "ipython",
    "version": 3
   },
   "file_extension": ".py",
   "mimetype": "text/x-python",
   "name": "python",
   "nbconvert_exporter": "python",
   "pygments_lexer": "ipython3",
   "version": "3.11.2"
  }
 },
 "nbformat": 4,
 "nbformat_minor": 2
}
