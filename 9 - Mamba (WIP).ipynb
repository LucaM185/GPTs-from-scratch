{
 "cells": [
  {
   "cell_type": "markdown",
   "metadata": {},
   "source": [
    "# WORK IN PROGRESS \n",
    "this section is dedicated to mamba models, this is going to be a naive and slow implementation in pytorch, optimized for understanding of the underlying concepts. "
   ]
  },
  {
   "cell_type": "code",
   "execution_count": 1,
   "metadata": {},
   "outputs": [
    {
     "data": {
      "text/plain": [
       "device(type='cuda', index=0)"
      ]
     },
     "execution_count": 1,
     "metadata": {},
     "output_type": "execute_result"
    }
   ],
   "source": [
    "import torch\n",
    "import torch.nn as nn\n",
    "import torch.nn.functional as F\n",
    "import matplotlib.pyplot as plt \n",
    "import LucaM185\n",
    "device = torch.device(\"cuda:0\")\n",
    "device"
   ]
  },
  {
   "cell_type": "code",
   "execution_count": 2,
   "metadata": {},
   "outputs": [
    {
     "name": "stdout",
     "output_type": "stream",
     "text": [
      "First Citizen:\n",
      "Before we proceed any further, hear me speak.\n",
      "\n",
      "All:\n",
      "Speak, speak.\n",
      "\n",
      "First Citizen:\n",
      "You are all resolved rather to die than to famish?\n",
      "\n",
      "All:\n",
      "Resolved. resolved.\n",
      "\n",
      "First Citizen:\n",
      "First, you\n"
     ]
    }
   ],
   "source": [
    "with open(\"datasets/tinyShakespeare.txt\", \"r\") as f:\n",
    "    load = f.read()\n",
    "print(load[:200])"
   ]
  },
  {
   "cell_type": "code",
   "execution_count": 3,
   "metadata": {},
   "outputs": [],
   "source": [
    "texttoint = {elm: n for n, elm in enumerate(set(load))}\n",
    "inttotext = {n:elm for n, elm in enumerate(set(load))}\n",
    "dataset = [texttoint[c] for c in load]\n",
    "\n",
    "vocab_size = len(texttoint)\n",
    "sequence_length = 20\n",
    "\n",
    "sequences = torch.tensor([dataset[i:-sequence_length+i-1] for i in range(sequence_length+1)]).T\n",
    "inputs = sequences[2000:, :-1]\n",
    "labels = sequences[2000:, 1:]\n",
    "val_inputs = sequences[:2000, :-1]\n",
    "val_labels = sequences[:2000, 1:]"
   ]
  },
  {
   "cell_type": "code",
   "execution_count": 4,
   "metadata": {},
   "outputs": [
    {
     "name": "stdout",
     "output_type": "stream",
     "text": [
      "Millions of parameters: 0.09\n",
      "Epoch ___0 - Loss: 4.166\n",
      "Epoch _300 - Loss: 2.449\n",
      "Epoch _600 - Loss: 2.256\n",
      "Epoch _900 - Loss: 2.071\n",
      "Epoch 1200 - Loss: 2.056\n",
      "Epoch 1500 - Loss: 1.989\n",
      "Epoch 1800 - Loss: 1.925\n",
      "Epoch 2100 - Loss: 1.851\n",
      "Epoch 2400 - Loss: 1.808\n",
      "Epoch 2700 - Loss: 1.800\n",
      "Training time: 8.63 seconds\n",
      "Millions of parameters: 0.09\n",
      "Epoch ___0 - Loss: 4.265\n",
      "Epoch _300 - Loss: 2.425\n",
      "Epoch _600 - Loss: 2.152\n",
      "Epoch _900 - Loss: 1.999\n",
      "Epoch 1200 - Loss: 2.029\n",
      "Epoch 1500 - Loss: 1.915\n",
      "Epoch 1800 - Loss: 1.882\n",
      "Epoch 2100 - Loss: 1.832\n"
     ]
    },
    {
     "ename": "KeyboardInterrupt",
     "evalue": "",
     "output_type": "error",
     "traceback": [
      "\u001b[0;31m---------------------------------------------------------------------------\u001b[0m",
      "\u001b[0;31mKeyboardInterrupt\u001b[0m                         Traceback (most recent call last)",
      "Cell \u001b[0;32mIn[4], line 62\u001b[0m\n\u001b[1;32m     59\u001b[0m pred \u001b[38;5;241m=\u001b[39m model(inputs[indexes]\u001b[38;5;241m.\u001b[39mto(device)) \n\u001b[1;32m     60\u001b[0m loss \u001b[38;5;241m=\u001b[39m F\u001b[38;5;241m.\u001b[39mcross_entropy(pred\u001b[38;5;241m.\u001b[39mview(\u001b[38;5;241m-\u001b[39m\u001b[38;5;241m1\u001b[39m, vocab_size), labels[indexes]\u001b[38;5;241m.\u001b[39mto(device)\u001b[38;5;241m.\u001b[39mview(\u001b[38;5;241m-\u001b[39m\u001b[38;5;241m1\u001b[39m))\n\u001b[0;32m---> 62\u001b[0m \u001b[43mloss\u001b[49m\u001b[38;5;241;43m.\u001b[39;49m\u001b[43mbackward\u001b[49m\u001b[43m(\u001b[49m\u001b[43m)\u001b[49m\n\u001b[1;32m     63\u001b[0m optimizer\u001b[38;5;241m.\u001b[39mstep()\n\u001b[1;32m     64\u001b[0m optimizer\u001b[38;5;241m.\u001b[39mzero_grad()\n",
      "File \u001b[0;32m~/.local/lib/python3.10/site-packages/torch/_tensor.py:581\u001b[0m, in \u001b[0;36mTensor.backward\u001b[0;34m(self, gradient, retain_graph, create_graph, inputs)\u001b[0m\n\u001b[1;32m    571\u001b[0m \u001b[38;5;28;01mif\u001b[39;00m has_torch_function_unary(\u001b[38;5;28mself\u001b[39m):\n\u001b[1;32m    572\u001b[0m     \u001b[38;5;28;01mreturn\u001b[39;00m handle_torch_function(\n\u001b[1;32m    573\u001b[0m         Tensor\u001b[38;5;241m.\u001b[39mbackward,\n\u001b[1;32m    574\u001b[0m         (\u001b[38;5;28mself\u001b[39m,),\n\u001b[0;32m   (...)\u001b[0m\n\u001b[1;32m    579\u001b[0m         inputs\u001b[38;5;241m=\u001b[39minputs,\n\u001b[1;32m    580\u001b[0m     )\n\u001b[0;32m--> 581\u001b[0m \u001b[43mtorch\u001b[49m\u001b[38;5;241;43m.\u001b[39;49m\u001b[43mautograd\u001b[49m\u001b[38;5;241;43m.\u001b[39;49m\u001b[43mbackward\u001b[49m\u001b[43m(\u001b[49m\n\u001b[1;32m    582\u001b[0m \u001b[43m    \u001b[49m\u001b[38;5;28;43mself\u001b[39;49m\u001b[43m,\u001b[49m\u001b[43m \u001b[49m\u001b[43mgradient\u001b[49m\u001b[43m,\u001b[49m\u001b[43m \u001b[49m\u001b[43mretain_graph\u001b[49m\u001b[43m,\u001b[49m\u001b[43m \u001b[49m\u001b[43mcreate_graph\u001b[49m\u001b[43m,\u001b[49m\u001b[43m \u001b[49m\u001b[43minputs\u001b[49m\u001b[38;5;241;43m=\u001b[39;49m\u001b[43minputs\u001b[49m\n\u001b[1;32m    583\u001b[0m \u001b[43m\u001b[49m\u001b[43m)\u001b[49m\n",
      "File \u001b[0;32m~/.local/lib/python3.10/site-packages/torch/autograd/__init__.py:347\u001b[0m, in \u001b[0;36mbackward\u001b[0;34m(tensors, grad_tensors, retain_graph, create_graph, grad_variables, inputs)\u001b[0m\n\u001b[1;32m    342\u001b[0m     retain_graph \u001b[38;5;241m=\u001b[39m create_graph\n\u001b[1;32m    344\u001b[0m \u001b[38;5;66;03m# The reason we repeat the same comment below is that\u001b[39;00m\n\u001b[1;32m    345\u001b[0m \u001b[38;5;66;03m# some Python versions print out the first line of a multi-line function\u001b[39;00m\n\u001b[1;32m    346\u001b[0m \u001b[38;5;66;03m# calls in the traceback and some print out the last line\u001b[39;00m\n\u001b[0;32m--> 347\u001b[0m \u001b[43m_engine_run_backward\u001b[49m\u001b[43m(\u001b[49m\n\u001b[1;32m    348\u001b[0m \u001b[43m    \u001b[49m\u001b[43mtensors\u001b[49m\u001b[43m,\u001b[49m\n\u001b[1;32m    349\u001b[0m \u001b[43m    \u001b[49m\u001b[43mgrad_tensors_\u001b[49m\u001b[43m,\u001b[49m\n\u001b[1;32m    350\u001b[0m \u001b[43m    \u001b[49m\u001b[43mretain_graph\u001b[49m\u001b[43m,\u001b[49m\n\u001b[1;32m    351\u001b[0m \u001b[43m    \u001b[49m\u001b[43mcreate_graph\u001b[49m\u001b[43m,\u001b[49m\n\u001b[1;32m    352\u001b[0m \u001b[43m    \u001b[49m\u001b[43minputs\u001b[49m\u001b[43m,\u001b[49m\n\u001b[1;32m    353\u001b[0m \u001b[43m    \u001b[49m\u001b[43mallow_unreachable\u001b[49m\u001b[38;5;241;43m=\u001b[39;49m\u001b[38;5;28;43;01mTrue\u001b[39;49;00m\u001b[43m,\u001b[49m\n\u001b[1;32m    354\u001b[0m \u001b[43m    \u001b[49m\u001b[43maccumulate_grad\u001b[49m\u001b[38;5;241;43m=\u001b[39;49m\u001b[38;5;28;43;01mTrue\u001b[39;49;00m\u001b[43m,\u001b[49m\n\u001b[1;32m    355\u001b[0m \u001b[43m\u001b[49m\u001b[43m)\u001b[49m\n",
      "File \u001b[0;32m~/.local/lib/python3.10/site-packages/torch/autograd/graph.py:825\u001b[0m, in \u001b[0;36m_engine_run_backward\u001b[0;34m(t_outputs, *args, **kwargs)\u001b[0m\n\u001b[1;32m    823\u001b[0m     unregister_hooks \u001b[38;5;241m=\u001b[39m _register_logging_hooks_on_whole_graph(t_outputs)\n\u001b[1;32m    824\u001b[0m \u001b[38;5;28;01mtry\u001b[39;00m:\n\u001b[0;32m--> 825\u001b[0m     \u001b[38;5;28;01mreturn\u001b[39;00m \u001b[43mVariable\u001b[49m\u001b[38;5;241;43m.\u001b[39;49m\u001b[43m_execution_engine\u001b[49m\u001b[38;5;241;43m.\u001b[39;49m\u001b[43mrun_backward\u001b[49m\u001b[43m(\u001b[49m\u001b[43m  \u001b[49m\u001b[38;5;66;43;03m# Calls into the C++ engine to run the backward pass\u001b[39;49;00m\n\u001b[1;32m    826\u001b[0m \u001b[43m        \u001b[49m\u001b[43mt_outputs\u001b[49m\u001b[43m,\u001b[49m\u001b[43m \u001b[49m\u001b[38;5;241;43m*\u001b[39;49m\u001b[43margs\u001b[49m\u001b[43m,\u001b[49m\u001b[43m \u001b[49m\u001b[38;5;241;43m*\u001b[39;49m\u001b[38;5;241;43m*\u001b[39;49m\u001b[43mkwargs\u001b[49m\n\u001b[1;32m    827\u001b[0m \u001b[43m    \u001b[49m\u001b[43m)\u001b[49m  \u001b[38;5;66;03m# Calls into the C++ engine to run the backward pass\u001b[39;00m\n\u001b[1;32m    828\u001b[0m \u001b[38;5;28;01mfinally\u001b[39;00m:\n\u001b[1;32m    829\u001b[0m     \u001b[38;5;28;01mif\u001b[39;00m attach_logging_hooks:\n",
      "\u001b[0;31mKeyboardInterrupt\u001b[0m: "
     ]
    },
    {
     "data": {
      "image/png": "[encoded data removed]",
      "text/plain": [
       "<Figure size 600x300 with 1 Axes>"
      ]
     },
     "metadata": {},
     "output_type": "display_data"
    }
   ],
   "source": [
    "class Mamba(nn.Module):\n",
    "    def __init__(self, emb_size, hidden_size):\n",
    "        super(Mamba, self).__init__()\n",
    "        self.emb = nn.Embedding(vocab_size, emb_size)\n",
    "\n",
    "        self.A = nn.Linear(hidden_size, hidden_size)\n",
    "        self.B = nn.Linear(emb_size, hidden_size)  # embedding -> hidden\n",
    "        self.C = nn.Linear(hidden_size, emb_size)\n",
    "        self.D = nn.Linear(emb_size, emb_size)\n",
    "        self.norm = nn.LayerNorm(hidden_size)\n",
    "\n",
    "        self.out = nn.Linear(emb_size, vocab_size)\n",
    "        self.hidden_size = hidden_size\n",
    "\n",
    "    # Intuitive implementation, but not the most efficient\n",
    "    def forward(self, x):\n",
    "        x = self.emb(x)\n",
    "        \n",
    "        outputs = []\n",
    "        h = torch.zeros(x.shape[0], self.hidden_size).to(device)\n",
    "        for i in range(x.shape[1]): \n",
    "            h = torch.tanh(self.B(x[:, i]) + self.A(h))\n",
    "            outputs.append(self.C(h) + self.D(x[:, i]))\n",
    "\n",
    "        return self.out(torch.stack(outputs, dim=1))\n",
    "\n",
    "class RNN(nn.Module):\n",
    "    def __init__(self, emb_size, hidden_size):\n",
    "        super(RNN, self).__init__()\n",
    "        self.emb = nn.Embedding(vocab_size, emb_size)\n",
    "        self.rnn = nn.RNN(emb_size, hidden_size, batch_first=True)\n",
    "        self.out = nn.Linear(hidden_size, vocab_size)\n",
    "\n",
    "    def forward(self, x):\n",
    "        x = self.emb(x)\n",
    "        h = torch.zeros(1, x.shape[0], self.rnn.hidden_size).to(device)\n",
    "        out, h = self.rnn(x, h)\n",
    "        return self.out(out)\n",
    "\n",
    "from time import time\n",
    "device = torch.device(\"cuda:0\" if torch.cuda.is_available() else \"cpu\")\n",
    "for model in [RNN(emb_size=32, hidden_size=256).to(device), Mamba(emb_size=32, hidden_size=256).to(device)]:\n",
    "    # compile model\n",
    "    # model.compile()\n",
    "    t0 = time()\n",
    "\n",
    "    print(f\"Millions of parameters: {sum(p.numel() for p in model.parameters())/1e6:.2f}\")\n",
    "\n",
    "    epochs = 3000\n",
    "    batch_size = 128\n",
    "    optimizer = torch.optim.Adam(model.parameters(), lr=3e-4)  # 3e-4 is a good learning rate for Adam on big models\n",
    "\n",
    "    lossi = []\n",
    "    vlossi = []\n",
    "\n",
    "    for epoch in range(epochs):\n",
    "        indexes = torch.randint(0, len(inputs)-batch_size, (batch_size,))\n",
    "        \n",
    "        pred = model(inputs[indexes].to(device)) \n",
    "        loss = F.cross_entropy(pred.view(-1, vocab_size), labels[indexes].to(device).view(-1))\n",
    "\n",
    "        loss.backward()\n",
    "        optimizer.step()\n",
    "        optimizer.zero_grad()\n",
    "\n",
    "        lossi.append(loss.item())\n",
    "        if epoch % (epochs//10) == 0:\n",
    "            print(f\"Epoch {epoch:_>4d} - Loss: {loss.item():.3f}\")\n",
    "        \n",
    "        # with torch.no_grad():\n",
    "        #     pred = model(val_inputs.to(device))\n",
    "        #     vloss = F.cross_entropy(pred.reshape(-1, vocab_size), val_labels.to(device).reshape(-1))\n",
    "        #     vlossi.append(vloss.item())\n",
    "\n",
    "    from scipy.ndimage import gaussian_filter1d\n",
    "    plt.figure(figsize=(6, 3))  \n",
    "    plt.plot(gaussian_filter1d(lossi, sigma=2), label='Loss')\n",
    "    plt.plot(gaussian_filter1d(vlossi, sigma=2), label='Validation Loss')\n",
    "    plt.legend()\n",
    "\n",
    "    print(f\"Training time: {time()-t0:.2f} seconds\")\n"
   ]
  },
  {
   "cell_type": "markdown",
   "metadata": {},
   "source": [
    "# Optimizing for speed\n",
    "Mamba clearly works better than RNNs but it's going way slower"
   ]
  },
  {
   "cell_type": "code",
   "execution_count": 10,
   "metadata": {},
   "outputs": [
    {
     "name": "stdout",
     "output_type": "stream",
     "text": [
      "Millions of parameters: 0.09\n",
      "Epoch ___0 - Loss: 4.192\n",
      "Epoch _300 - Loss: 2.466\n",
      "Epoch _600 - Loss: 2.252\n",
      "Epoch _900 - Loss: 2.083\n",
      "Epoch 1200 - Loss: 2.013\n",
      "Epoch 1500 - Loss: 1.951\n",
      "Epoch 1800 - Loss: 1.831\n",
      "Epoch 2100 - Loss: 1.866\n",
      "Epoch 2400 - Loss: 1.887\n",
      "Epoch 2700 - Loss: 1.850\n",
      "Training time: 7.16 seconds\n",
      "Millions of parameters: 0.09\n",
      "Epoch ___0 - Loss: 4.245\n",
      "Epoch _300 - Loss: 2.399\n",
      "Epoch _600 - Loss: 2.148\n",
      "Epoch _900 - Loss: 1.983\n",
      "Epoch 1200 - Loss: 1.962\n",
      "Epoch 1500 - Loss: 1.927\n",
      "Epoch 1800 - Loss: 1.918\n",
      "Epoch 2100 - Loss: 1.842\n",
      "Epoch 2400 - Loss: 1.853\n",
      "Epoch 2700 - Loss: 1.753\n",
      "Training time: 24.73 seconds\n"
     ]
    },
    {
     "data": {
      "image/png": "[encoded data removed]",
      "text/plain": [
       "<Figure size 600x300 with 1 Axes>"
      ]
     },
     "metadata": {},
     "output_type": "display_data"
    },
    {
     "data": {
      "image/png": "[encoded data removed]",
      "text/plain": [
       "<Figure size 600x300 with 1 Axes>"
      ]
     },
     "metadata": {},
     "output_type": "display_data"
    }
   ],
   "source": [
    "class Mamba(nn.Module):\n",
    "    def __init__(self, emb_size, hidden_size):\n",
    "        super(Mamba, self).__init__()\n",
    "        self.emb = nn.Embedding(vocab_size, emb_size)\n",
    "\n",
    "        self.A = nn.Linear(hidden_size, hidden_size).weight\n",
    "        self.B = nn.Linear(emb_size, hidden_size) \n",
    "        self.C = nn.Linear(hidden_size, emb_size)\n",
    "        self.D = nn.Linear(emb_size, emb_size)\n",
    "        self.norm = nn.LayerNorm(hidden_size)\n",
    "\n",
    "        self.out = nn.Linear(emb_size, vocab_size)\n",
    "        self.hidden_size = hidden_size\n",
    "\n",
    "    def forward(self, x):\n",
    "        x = self.emb(x)\n",
    "        \n",
    "        outputs = []\n",
    "        h = torch.zeros(x.shape[0], self.hidden_size).to(device)\n",
    "        b = self.B(x)\n",
    "        d = self.D(x)\n",
    "\n",
    "        for i in range(x.shape[1]): \n",
    "            h = torch.tanh(b[:, i] + h@self.A)\n",
    "            outputs.append(h)\n",
    "\n",
    "        out = torch.stack(outputs, dim=1) \n",
    "\n",
    "        return self.out(self.C(out) + d)\n",
    "\n",
    "class RNN(nn.Module):\n",
    "    def __init__(self, emb_size, hidden_size):\n",
    "        super(RNN, self).__init__()\n",
    "        self.emb = nn.Embedding(vocab_size, emb_size)\n",
    "        self.rnn = nn.RNN(emb_size, hidden_size, batch_first=True)\n",
    "        self.out = nn.Linear(hidden_size, vocab_size)\n",
    "\n",
    "    def forward(self, x):\n",
    "        x = self.emb(x)\n",
    "        h = torch.zeros(1, x.shape[0], self.rnn.hidden_size).to(device)\n",
    "        out, h = self.rnn(x, h)\n",
    "        return self.out(out)\n",
    "\n",
    "from time import time\n",
    "device = torch.device(\"cuda:0\" if torch.cuda.is_available() else \"cpu\")\n",
    "for model in [RNN(emb_size=32, hidden_size=256).to(device), Mamba(emb_size=32, hidden_size=256).to(device)]:\n",
    "    # compile model\n",
    "    # model.compile()\n",
    "    t0 = time()\n",
    "\n",
    "    print(f\"Millions of parameters: {sum(p.numel() for p in model.parameters())/1e6:.2f}\")\n",
    "\n",
    "    epochs = 3000\n",
    "    batch_size = 128\n",
    "    optimizer = torch.optim.Adam(model.parameters(), lr=3e-4)  # 3e-4 is a good learning rate for Adam on big models\n",
    "\n",
    "    lossi = []\n",
    "    vlossi = []\n",
    "\n",
    "    for epoch in range(epochs):\n",
    "        indexes = torch.randint(0, len(inputs)-batch_size, (batch_size,))\n",
    "        \n",
    "        pred = model(inputs[indexes].to(device)) \n",
    "        loss = F.cross_entropy(pred.view(-1, vocab_size), labels[indexes].to(device).view(-1))\n",
    "\n",
    "        loss.backward()\n",
    "        optimizer.step()\n",
    "        optimizer.zero_grad()\n",
    "\n",
    "        lossi.append(loss.item())\n",
    "        if epoch % (epochs//10) == 0:\n",
    "            print(f\"Epoch {epoch:_>4d} - Loss: {loss.item():.3f}\")\n",
    "        \n",
    "        # with torch.no_grad():\n",
    "        #     pred = model(val_inputs.to(device))\n",
    "        #     vloss = F.cross_entropy(pred.reshape(-1, vocab_size), val_labels.to(device).reshape(-1))\n",
    "        #     vlossi.append(vloss.item())\n",
    "\n",
    "    from scipy.ndimage import gaussian_filter1d\n",
    "    plt.figure(figsize=(6, 3))  \n",
    "    plt.plot(gaussian_filter1d(lossi, sigma=2), label='Loss')\n",
    "    plt.plot(gaussian_filter1d(vlossi, sigma=2), label='Validation Loss')\n",
    "    plt.legend()\n",
    "\n",
    "    print(f\"Training time: {time()-t0:.2f} seconds\")\n"
   ]
  },
  {
   "cell_type": "markdown",
   "metadata": {},
   "source": [
    "Using linear algebra to improve parallelization"
   ]
  },
  {
   "cell_type": "code",
   "execution_count": 8,
   "metadata": {},
   "outputs": [
    {
     "name": "stdout",
     "output_type": "stream",
     "text": [
      "Original Matrix A:\n",
      "tensor([[4., 1.],\n",
      "        [1., 3.]])\n",
      "\n",
      "Diagonal Matrix D (eigenvalues):\n",
      "tensor([[4.6180, 0.0000],\n",
      "        [0.0000, 2.3820]])\n",
      "\n",
      "Reconstructed A (should match original):\n",
      "tensor([[4.0000, 1.0000],\n",
      "        [1.0000, 3.0000]])\n"
     ]
    }
   ],
   "source": [
    "import torch\n",
    "\n",
    "# Define a square matrix\n",
    "A = torch.tensor([[4.0, 1.0],\n",
    "                  [1.0, 3.0]])\n",
    "\n",
    "# Eigen-decomposition\n",
    "eigenvalues, eigenvectors = torch.linalg.eig(A)\n",
    "\n",
    "# Construct D and P\n",
    "D = torch.diag(eigenvalues.real)\n",
    "P = eigenvectors.real\n",
    "\n",
    "# Compute P^-1\n",
    "P_inv = torch.linalg.inv(P)\n",
    "\n",
    "# Verify the decomposition\n",
    "A_reconstructed = P @ D @ P_inv\n",
    "\n",
    "print(\"Original Matrix A:\")\n",
    "print(A)\n",
    "\n",
    "print(\"\\nDiagonal Matrix D (eigenvalues):\")\n",
    "print(D)\n",
    "\n",
    "print(\"\\nReconstructed A (should match original):\")\n",
    "print(A_reconstructed)\n"
   ]
  },
  {
   "cell_type": "code",
   "execution_count": 1,
   "metadata": {},
   "outputs": [
    {
     "name": "stdout",
     "output_type": "stream",
     "text": [
      "Diagonal Matrix D (eigenvalues):\n",
      "tensor([[4.6180, 0.0000],\n",
      "        [0.0000, 2.3820]])\n",
      "\n",
      "Inverse of Eigenvector Matrix P:\n",
      "tensor([[ 0.8507,  0.5257],\n",
      "        [-0.5257,  0.8507]])\n"
     ]
    }
   ],
   "source": [
    "import torch\n",
    "\n",
    "def diagonalize(matrix):\n",
    "    # Eigen-decomposition\n",
    "    eigenvalues, eigenvectors = torch.linalg.eig(matrix)\n",
    "\n",
    "    # Construct D and P\n",
    "    D = torch.diag(eigenvalues.real)\n",
    "    P = eigenvectors.real\n",
    "\n",
    "    # Compute P^-1\n",
    "    P_inv = torch.linalg.inv(P)\n",
    "\n",
    "    return P, D, P_inv\n",
    "\n",
    "# Example usage\n",
    "A = torch.tensor([[4.0, 1.0],\n",
    "                  [1.0, 3.0]])\n",
    "\n",
    "P, D, P_inv = diagonalize(A)\n",
    "\n",
    "print(\"Diagonal Matrix D (eigenvalues):\")\n",
    "print(D)\n",
    "\n",
    "print(\"\\nInverse of Eigenvector Matrix P:\")\n",
    "print(P_inv)"
   ]
  },
  {
   "cell_type": "code",
   "execution_count": 9,
   "metadata": {},
   "outputs": [
    {
     "name": "stdout",
     "output_type": "stream",
     "text": [
      "5.1724480726988986e-05\n",
      "Naive approach time: 5.6253 seconds\n",
      "Diagonalized approach time: 6.3044 seconds\n",
      "Maximum difference between methods: 0.0000\n"
     ]
    }
   ],
   "source": [
    "import torch\n",
    "import time\n",
    "\n",
    "def naive_matrix_powers(A, N):\n",
    "    E = torch.zeros((N, *A.shape), dtype=A.dtype, device=A.device)\n",
    "    E[0] = A.clone()\n",
    "    for k in range(1, N):\n",
    "        E[k] = E[k-1] @ A\n",
    "    return E\n",
    "\n",
    "def diagonalized_matrix_powers(A, N):\n",
    "    eigenvalues, P = torch.linalg.eigh(A)\n",
    "    P_inv = P.transpose(-2, -1)\n",
    "    ks = torch.arange(1, N+1, device=A.device).reshape(-1, 1)\n",
    "    D_powers = eigenvalues.unsqueeze(0) ** ks\n",
    "    P_expanded = P.unsqueeze(0) * D_powers.unsqueeze(1)\n",
    "    E = torch.matmul(P_expanded, P_inv)\n",
    "    return E\n",
    "\n",
    "# Parameters\n",
    "d = 256\n",
    "N = 10000\n",
    "device = torch.device('cuda' if torch.cuda.is_available() else 'cpu')\n",
    "\n",
    "# Generate a symmetric matrix\n",
    "torch.manual_seed(0)\n",
    "A = torch.rand(d, d, device=device) / d\n",
    "print(torch.matmul(A, A).std().item())\n",
    "A = (A + A.T) / 2\n",
    "\n",
    "# Timing the naive approach\n",
    "start_naive = time.time()\n",
    "E_naive = naive_matrix_powers(A, N)\n",
    "time_naive = time.time() - start_naive\n",
    "\n",
    "# Timing the diagonalized approach\n",
    "start_diag = time.time()\n",
    "E_diag = diagonalized_matrix_powers(A, N)\n",
    "time_diag = time.time() - start_diag\n",
    "\n",
    "print(f\"Naive approach time: {time_naive:.4f} seconds\")\n",
    "print(f\"Diagonalized approach time: {time_diag:.4f} seconds\")\n",
    "\n",
    "# Verify correctness\n",
    "difference = torch.max(torch.abs(E_naive - E_diag)).item()\n",
    "print(f\"Maximum difference between methods: {difference:.4f}\")"
   ]
  },
  {
   "cell_type": "code",
   "execution_count": 17,
   "metadata": {},
   "outputs": [
    {
     "data": {
      "text/plain": [
       "tensor([[[0.0019, 0.0015, 0.0009,  ..., 0.0013, 0.0006, 0.0024],\n",
       "         [0.0015, 0.0028, 0.0011,  ..., 0.0022, 0.0025, 0.0023],\n",
       "         [0.0009, 0.0011, 0.0024,  ..., 0.0009, 0.0020, 0.0020],\n",
       "         ...,\n",
       "         [0.0013, 0.0022, 0.0009,  ..., 0.0039, 0.0009, 0.0017],\n",
       "         [0.0006, 0.0025, 0.0020,  ..., 0.0009, 0.0028, 0.0011],\n",
       "         [0.0024, 0.0023, 0.0020,  ..., 0.0017, 0.0011, 0.0028]],\n",
       "\n",
       "        [[0.0011, 0.0010, 0.0009,  ..., 0.0009, 0.0010, 0.0009],\n",
       "         [0.0010, 0.0012, 0.0010,  ..., 0.0010, 0.0010, 0.0010],\n",
       "         [0.0009, 0.0010, 0.0011,  ..., 0.0010, 0.0010, 0.0010],\n",
       "         ...,\n",
       "         [0.0009, 0.0010, 0.0010,  ..., 0.0011, 0.0010, 0.0009],\n",
       "         [0.0010, 0.0010, 0.0010,  ..., 0.0010, 0.0012, 0.0010],\n",
       "         [0.0009, 0.0010, 0.0010,  ..., 0.0009, 0.0010, 0.0011]],\n",
       "\n",
       "        [[0.0005, 0.0005, 0.0005,  ..., 0.0005, 0.0005, 0.0005],\n",
       "         [0.0005, 0.0005, 0.0005,  ..., 0.0005, 0.0005, 0.0005],\n",
       "         [0.0005, 0.0005, 0.0005,  ..., 0.0005, 0.0005, 0.0005],\n",
       "         ...,\n",
       "         [0.0005, 0.0005, 0.0005,  ..., 0.0005, 0.0005, 0.0005],\n",
       "         [0.0005, 0.0005, 0.0005,  ..., 0.0005, 0.0005, 0.0005],\n",
       "         [0.0005, 0.0005, 0.0005,  ..., 0.0005, 0.0005, 0.0005]],\n",
       "\n",
       "        ...,\n",
       "\n",
       "        [[0.0000, 0.0000, 0.0000,  ..., 0.0000, 0.0000, 0.0000],\n",
       "         [0.0000, 0.0000, 0.0000,  ..., 0.0000, 0.0000, 0.0000],\n",
       "         [0.0000, 0.0000, 0.0000,  ..., 0.0000, 0.0000, 0.0000],\n",
       "         ...,\n",
       "         [0.0000, 0.0000, 0.0000,  ..., 0.0000, 0.0000, 0.0000],\n",
       "         [0.0000, 0.0000, 0.0000,  ..., 0.0000, 0.0000, 0.0000],\n",
       "         [0.0000, 0.0000, 0.0000,  ..., 0.0000, 0.0000, 0.0000]],\n",
       "\n",
       "        [[0.0000, 0.0000, 0.0000,  ..., 0.0000, 0.0000, 0.0000],\n",
       "         [0.0000, 0.0000, 0.0000,  ..., 0.0000, 0.0000, 0.0000],\n",
       "         [0.0000, 0.0000, 0.0000,  ..., 0.0000, 0.0000, 0.0000],\n",
       "         ...,\n",
       "         [0.0000, 0.0000, 0.0000,  ..., 0.0000, 0.0000, 0.0000],\n",
       "         [0.0000, 0.0000, 0.0000,  ..., 0.0000, 0.0000, 0.0000],\n",
       "         [0.0000, 0.0000, 0.0000,  ..., 0.0000, 0.0000, 0.0000]],\n",
       "\n",
       "        [[0.0000, 0.0000, 0.0000,  ..., 0.0000, 0.0000, 0.0000],\n",
       "         [0.0000, 0.0000, 0.0000,  ..., 0.0000, 0.0000, 0.0000],\n",
       "         [0.0000, 0.0000, 0.0000,  ..., 0.0000, 0.0000, 0.0000],\n",
       "         ...,\n",
       "         [0.0000, 0.0000, 0.0000,  ..., 0.0000, 0.0000, 0.0000],\n",
       "         [0.0000, 0.0000, 0.0000,  ..., 0.0000, 0.0000, 0.0000],\n",
       "         [0.0000, 0.0000, 0.0000,  ..., 0.0000, 0.0000, 0.0000]]])"
      ]
     },
     "execution_count": 17,
     "metadata": {},
     "output_type": "execute_result"
    }
   ],
   "source": [
    "E_diag"
   ]
  },
  {
   "cell_type": "code",
   "execution_count": 13,
   "metadata": {},
   "outputs": [
    {
     "data": {
      "text/plain": [
       "tensor([[[0.0019, 0.0015, 0.0009,  ..., 0.0013, 0.0006, 0.0024],\n",
       "         [0.0015, 0.0028, 0.0011,  ..., 0.0022, 0.0025, 0.0023],\n",
       "         [0.0009, 0.0011, 0.0024,  ..., 0.0009, 0.0020, 0.0020],\n",
       "         ...,\n",
       "         [0.0013, 0.0022, 0.0009,  ..., 0.0039, 0.0009, 0.0017],\n",
       "         [0.0006, 0.0025, 0.0020,  ..., 0.0009, 0.0028, 0.0011],\n",
       "         [0.0024, 0.0023, 0.0020,  ..., 0.0017, 0.0011, 0.0028]],\n",
       "\n",
       "        [[0.0011, 0.0010, 0.0009,  ..., 0.0009, 0.0010, 0.0009],\n",
       "         [0.0010, 0.0012, 0.0010,  ..., 0.0010, 0.0010, 0.0010],\n",
       "         [0.0009, 0.0010, 0.0011,  ..., 0.0010, 0.0010, 0.0010],\n",
       "         ...,\n",
       "         [0.0009, 0.0010, 0.0010,  ..., 0.0011, 0.0010, 0.0009],\n",
       "         [0.0010, 0.0010, 0.0010,  ..., 0.0010, 0.0012, 0.0010],\n",
       "         [0.0009, 0.0010, 0.0010,  ..., 0.0009, 0.0010, 0.0011]],\n",
       "\n",
       "        [[0.0005, 0.0005, 0.0005,  ..., 0.0005, 0.0005, 0.0005],\n",
       "         [0.0005, 0.0005, 0.0005,  ..., 0.0005, 0.0005, 0.0005],\n",
       "         [0.0005, 0.0005, 0.0005,  ..., 0.0005, 0.0005, 0.0005],\n",
       "         ...,\n",
       "         [0.0005, 0.0005, 0.0005,  ..., 0.0005, 0.0005, 0.0005],\n",
       "         [0.0005, 0.0005, 0.0005,  ..., 0.0005, 0.0005, 0.0005],\n",
       "         [0.0005, 0.0005, 0.0005,  ..., 0.0005, 0.0005, 0.0005]],\n",
       "\n",
       "        ...,\n",
       "\n",
       "        [[0.0000, 0.0000, 0.0000,  ..., 0.0000, 0.0000, 0.0000],\n",
       "         [0.0000, 0.0000, 0.0000,  ..., 0.0000, 0.0000, 0.0000],\n",
       "         [0.0000, 0.0000, 0.0000,  ..., 0.0000, 0.0000, 0.0000],\n",
       "         ...,\n",
       "         [0.0000, 0.0000, 0.0000,  ..., 0.0000, 0.0000, 0.0000],\n",
       "         [0.0000, 0.0000, 0.0000,  ..., 0.0000, 0.0000, 0.0000],\n",
       "         [0.0000, 0.0000, 0.0000,  ..., 0.0000, 0.0000, 0.0000]],\n",
       "\n",
       "        [[0.0000, 0.0000, 0.0000,  ..., 0.0000, 0.0000, 0.0000],\n",
       "         [0.0000, 0.0000, 0.0000,  ..., 0.0000, 0.0000, 0.0000],\n",
       "         [0.0000, 0.0000, 0.0000,  ..., 0.0000, 0.0000, 0.0000],\n",
       "         ...,\n",
       "         [0.0000, 0.0000, 0.0000,  ..., 0.0000, 0.0000, 0.0000],\n",
       "         [0.0000, 0.0000, 0.0000,  ..., 0.0000, 0.0000, 0.0000],\n",
       "         [0.0000, 0.0000, 0.0000,  ..., 0.0000, 0.0000, 0.0000]],\n",
       "\n",
       "        [[0.0000, 0.0000, 0.0000,  ..., 0.0000, 0.0000, 0.0000],\n",
       "         [0.0000, 0.0000, 0.0000,  ..., 0.0000, 0.0000, 0.0000],\n",
       "         [0.0000, 0.0000, 0.0000,  ..., 0.0000, 0.0000, 0.0000],\n",
       "         ...,\n",
       "         [0.0000, 0.0000, 0.0000,  ..., 0.0000, 0.0000, 0.0000],\n",
       "         [0.0000, 0.0000, 0.0000,  ..., 0.0000, 0.0000, 0.0000],\n",
       "         [0.0000, 0.0000, 0.0000,  ..., 0.0000, 0.0000, 0.0000]]])"
      ]
     },
     "execution_count": 13,
     "metadata": {},
     "output_type": "execute_result"
    }
   ],
   "source": [
    "E_naive"
   ]
  },
  {
   "cell_type": "code",
   "execution_count": 20,
   "metadata": {},
   "outputs": [
    {
     "name": "stdout",
     "output_type": "stream",
     "text": [
      "Millions of parameters: 0.09\n",
      "torch.Size([20, 256, 256]) torch.Size([128, 20, 256])\n",
      "torch.Size([128, 256])\n",
      "torch.Size([128, 32]) torch.Size([128, 20, 32])\n"
     ]
    },
    {
     "ename": "RuntimeError",
     "evalue": "The size of tensor a (128) must match the size of tensor b (20) at non-singleton dimension 1",
     "output_type": "error",
     "traceback": [
      "\u001b[0;31m---------------------------------------------------------------------------\u001b[0m",
      "\u001b[0;31mRuntimeError\u001b[0m                              Traceback (most recent call last)",
      "Cell \u001b[0;32mIn[20], line 67\u001b[0m\n\u001b[1;32m     64\u001b[0m \u001b[38;5;28;01mfor\u001b[39;00m epoch \u001b[38;5;129;01min\u001b[39;00m \u001b[38;5;28mrange\u001b[39m(epochs):\n\u001b[1;32m     65\u001b[0m     indexes \u001b[38;5;241m=\u001b[39m torch\u001b[38;5;241m.\u001b[39mrandint(\u001b[38;5;241m0\u001b[39m, \u001b[38;5;28mlen\u001b[39m(inputs)\u001b[38;5;241m-\u001b[39mbatch_size, (batch_size,))\n\u001b[0;32m---> 67\u001b[0m     pred \u001b[38;5;241m=\u001b[39m \u001b[43mmodel\u001b[49m\u001b[43m(\u001b[49m\u001b[43minputs\u001b[49m\u001b[43m[\u001b[49m\u001b[43mindexes\u001b[49m\u001b[43m]\u001b[49m\u001b[38;5;241;43m.\u001b[39;49m\u001b[43mto\u001b[49m\u001b[43m(\u001b[49m\u001b[43mdevice\u001b[49m\u001b[43m)\u001b[49m\u001b[43m)\u001b[49m \n\u001b[1;32m     68\u001b[0m     loss \u001b[38;5;241m=\u001b[39m F\u001b[38;5;241m.\u001b[39mcross_entropy(pred\u001b[38;5;241m.\u001b[39mview(\u001b[38;5;241m-\u001b[39m\u001b[38;5;241m1\u001b[39m, vocab_size), labels[indexes]\u001b[38;5;241m.\u001b[39mto(device)\u001b[38;5;241m.\u001b[39mview(\u001b[38;5;241m-\u001b[39m\u001b[38;5;241m1\u001b[39m))\n\u001b[1;32m     70\u001b[0m     loss\u001b[38;5;241m.\u001b[39mbackward()\n",
      "File \u001b[0;32m~/.local/lib/python3.10/site-packages/torch/nn/modules/module.py:1736\u001b[0m, in \u001b[0;36mModule._wrapped_call_impl\u001b[0;34m(self, *args, **kwargs)\u001b[0m\n\u001b[1;32m   1734\u001b[0m     \u001b[38;5;28;01mreturn\u001b[39;00m \u001b[38;5;28mself\u001b[39m\u001b[38;5;241m.\u001b[39m_compiled_call_impl(\u001b[38;5;241m*\u001b[39margs, \u001b[38;5;241m*\u001b[39m\u001b[38;5;241m*\u001b[39mkwargs)  \u001b[38;5;66;03m# type: ignore[misc]\u001b[39;00m\n\u001b[1;32m   1735\u001b[0m \u001b[38;5;28;01melse\u001b[39;00m:\n\u001b[0;32m-> 1736\u001b[0m     \u001b[38;5;28;01mreturn\u001b[39;00m \u001b[38;5;28;43mself\u001b[39;49m\u001b[38;5;241;43m.\u001b[39;49m\u001b[43m_call_impl\u001b[49m\u001b[43m(\u001b[49m\u001b[38;5;241;43m*\u001b[39;49m\u001b[43margs\u001b[49m\u001b[43m,\u001b[49m\u001b[43m \u001b[49m\u001b[38;5;241;43m*\u001b[39;49m\u001b[38;5;241;43m*\u001b[39;49m\u001b[43mkwargs\u001b[49m\u001b[43m)\u001b[49m\n",
      "File \u001b[0;32m~/.local/lib/python3.10/site-packages/torch/nn/modules/module.py:1747\u001b[0m, in \u001b[0;36mModule._call_impl\u001b[0;34m(self, *args, **kwargs)\u001b[0m\n\u001b[1;32m   1742\u001b[0m \u001b[38;5;66;03m# If we don't have any hooks, we want to skip the rest of the logic in\u001b[39;00m\n\u001b[1;32m   1743\u001b[0m \u001b[38;5;66;03m# this function, and just call forward.\u001b[39;00m\n\u001b[1;32m   1744\u001b[0m \u001b[38;5;28;01mif\u001b[39;00m \u001b[38;5;129;01mnot\u001b[39;00m (\u001b[38;5;28mself\u001b[39m\u001b[38;5;241m.\u001b[39m_backward_hooks \u001b[38;5;129;01mor\u001b[39;00m \u001b[38;5;28mself\u001b[39m\u001b[38;5;241m.\u001b[39m_backward_pre_hooks \u001b[38;5;129;01mor\u001b[39;00m \u001b[38;5;28mself\u001b[39m\u001b[38;5;241m.\u001b[39m_forward_hooks \u001b[38;5;129;01mor\u001b[39;00m \u001b[38;5;28mself\u001b[39m\u001b[38;5;241m.\u001b[39m_forward_pre_hooks\n\u001b[1;32m   1745\u001b[0m         \u001b[38;5;129;01mor\u001b[39;00m _global_backward_pre_hooks \u001b[38;5;129;01mor\u001b[39;00m _global_backward_hooks\n\u001b[1;32m   1746\u001b[0m         \u001b[38;5;129;01mor\u001b[39;00m _global_forward_hooks \u001b[38;5;129;01mor\u001b[39;00m _global_forward_pre_hooks):\n\u001b[0;32m-> 1747\u001b[0m     \u001b[38;5;28;01mreturn\u001b[39;00m \u001b[43mforward_call\u001b[49m\u001b[43m(\u001b[49m\u001b[38;5;241;43m*\u001b[39;49m\u001b[43margs\u001b[49m\u001b[43m,\u001b[49m\u001b[43m \u001b[49m\u001b[38;5;241;43m*\u001b[39;49m\u001b[38;5;241;43m*\u001b[39;49m\u001b[43mkwargs\u001b[49m\u001b[43m)\u001b[49m\n\u001b[1;32m   1749\u001b[0m result \u001b[38;5;241m=\u001b[39m \u001b[38;5;28;01mNone\u001b[39;00m\n\u001b[1;32m   1750\u001b[0m called_always_called_hooks \u001b[38;5;241m=\u001b[39m \u001b[38;5;28mset\u001b[39m()\n",
      "Cell \u001b[0;32mIn[20], line 35\u001b[0m, in \u001b[0;36mMamba.forward\u001b[0;34m(self, x)\u001b[0m\n\u001b[1;32m     33\u001b[0m c \u001b[38;5;241m=\u001b[39m \u001b[38;5;28mself\u001b[39m\u001b[38;5;241m.\u001b[39mC(bigH) \n\u001b[1;32m     34\u001b[0m \u001b[38;5;28mprint\u001b[39m(c\u001b[38;5;241m.\u001b[39mshape, d\u001b[38;5;241m.\u001b[39mshape)  \n\u001b[0;32m---> 35\u001b[0m \u001b[38;5;28;01mreturn\u001b[39;00m \u001b[38;5;28mself\u001b[39m\u001b[38;5;241m.\u001b[39mout(\u001b[43mc\u001b[49m\u001b[38;5;241;43m+\u001b[39;49m\u001b[43md\u001b[49m)\n",
      "\u001b[0;31mRuntimeError\u001b[0m: The size of tensor a (128) must match the size of tensor b (20) at non-singleton dimension 1"
     ]
    }
   ],
   "source": [
    "class Mamba(nn.Module):\n",
    "    def __init__(self, emb_size, hidden_size):\n",
    "        super(Mamba, self).__init__()\n",
    "        self.emb = nn.Embedding(vocab_size, emb_size)\n",
    "\n",
    "        self.A = nn.Linear(hidden_size, hidden_size).weight\n",
    "        self.B = nn.Linear(emb_size, hidden_size) \n",
    "        self.C = nn.Linear(hidden_size, emb_size)\n",
    "        self.D = nn.Linear(emb_size, emb_size)\n",
    "        self.norm = nn.LayerNorm(hidden_size)\n",
    "\n",
    "        self.out = nn.Linear(emb_size, vocab_size)\n",
    "        self.hidden_size = hidden_size\n",
    "\n",
    "    def make_big_A(self, A, sequence_length):\n",
    "        bigA = diagonalized_matrix_powers(A, sequence_length)\n",
    "        return bigA\n",
    "    \n",
    "    def forward(self, x):\n",
    "        x = self.emb(x)\n",
    "        \n",
    "        outputs = []\n",
    "        b = self.B(x)\n",
    "        d = self.D(x)\n",
    "\n",
    "        bigA = self.make_big_A(A, x.shape[1])\n",
    "\n",
    "        print(bigA.shape, b.shape)  # torch.Size([20, 256, 256]) torch.Size([128, 20, 256])\n",
    "\n",
    "        bigH = torch.zeros(batch_size, sequence_length, 256).to(device)\n",
    "        for i in range(sequence_length):\n",
    "            bigH[:, i] = b[:, i] @ bigA[i]\n",
    "        \n",
    "        print(bigH.shape)  # torch.Size([128, 256])\n",
    "        c = self.C(bigH) \n",
    "        print(c.shape, d.shape)  \n",
    "        return self.out(c+d)\n",
    "\n",
    "class RNN(nn.Module):\n",
    "    def __init__(self, emb_size, hidden_size):\n",
    "        super(RNN, self).__init__()\n",
    "        self.emb = nn.Embedding(vocab_size, emb_size)\n",
    "        self.rnn = nn.RNN(emb_size, hidden_size, batch_first=True)\n",
    "        self.out = nn.Linear(hidden_size, vocab_size)\n",
    "\n",
    "    def forward(self, x):\n",
    "        x = self.emb(x)\n",
    "        h = torch.zeros(1, x.shape[0], self.rnn.hidden_size).to(device)\n",
    "        out, h = self.rnn(x, h)\n",
    "        return self.out(out)\n",
    "\n",
    "from time import time\n",
    "device = torch.device(\"cuda:0\" if torch.cuda.is_available() else \"cpu\")\n",
    "for model in [Mamba(emb_size=32, hidden_size=256).to(device)]:\n",
    "    t0 = time()\n",
    "\n",
    "    print(f\"Millions of parameters: {sum(p.numel() for p in model.parameters())/1e6:.2f}\")\n",
    "\n",
    "    epochs = 3000\n",
    "    batch_size = 128\n",
    "    optimizer = torch.optim.Adam(model.parameters(), lr=3e-4)  # 3e-4 is a good learning rate for Adam on big models\n",
    "\n",
    "    lossi = []\n",
    "    vlossi = []\n",
    "\n",
    "    for epoch in range(epochs):\n",
    "        indexes = torch.randint(0, len(inputs)-batch_size, (batch_size,))\n",
    "        \n",
    "        pred = model(inputs[indexes].to(device)) \n",
    "        loss = F.cross_entropy(pred.view(-1, vocab_size), labels[indexes].to(device).view(-1))\n",
    "\n",
    "        loss.backward()\n",
    "        optimizer.step()\n",
    "        optimizer.zero_grad()\n",
    "\n",
    "        lossi.append(loss.item())\n",
    "        if epoch % (epochs//10) == 0:\n",
    "            print(f\"Epoch {epoch:_>4d} - Loss: {loss.item():.3f}\")\n",
    "        \n",
    "        # with torch.no_grad():\n",
    "        #     pred = model(val_inputs.to(device))\n",
    "        #     vloss = F.cross_entropy(pred.reshape(-1, vocab_size), val_labels.to(device).reshape(-1))\n",
    "        #     vlossi.append(vloss.item())\n",
    "\n",
    "    from scipy.ndimage import gaussian_filter1d\n",
    "    plt.figure(figsize=(6, 3))  \n",
    "    plt.plot(gaussian_filter1d(lossi, sigma=2), label='Loss')\n",
    "    plt.plot(gaussian_filter1d(vlossi, sigma=2), label='Validation Loss')\n",
    "    plt.legend()\n",
    "\n",
    "    print(f\"Training time: {time()-t0:.2f} seconds\")\n"
   ]
  },
  {
   "cell_type": "code",
   "execution_count": null,
   "metadata": {},
   "outputs": [],
   "source": []
  },
  {
   "cell_type": "code",
   "execution_count": null,
   "metadata": {},
   "outputs": [],
   "source": []
  },
  {
   "cell_type": "code",
   "execution_count": null,
   "metadata": {},
   "outputs": [],
   "source": []
  },
  {
   "cell_type": "code",
   "execution_count": null,
   "metadata": {},
   "outputs": [],
   "source": []
  },
  {
   "cell_type": "code",
   "execution_count": null,
   "metadata": {},
   "outputs": [],
   "source": []
  },
  {
   "cell_type": "code",
   "execution_count": null,
   "metadata": {},
   "outputs": [],
   "source": []
  },
  {
   "cell_type": "code",
   "execution_count": 6,
   "metadata": {},
   "outputs": [],
   "source": [
    "class MLP(nn.Module):\n",
    "    def __init__(self, emb_size, hidden_size):\n",
    "        super(MLP, self).__init__()\n",
    "        self.fc1 = nn.Linear(emb_size, hidden_size)\n",
    "        self.fcx = nn.ModuleList([nn.Linear(hidden_size, hidden_size) for _ in range(2)])\n",
    "        self.fc2 = nn.Linear(hidden_size, hidden_size)\n",
    "\n",
    "        \n",
    "    def forward(self, x):\n",
    "        x = F.gelu(self.fc1(x))\n",
    "        for fc in self.fcx:\n",
    "            x = F.gelu(fc(x))\n",
    "        x = F.gelu(self.fc2(x))\n",
    "        return x\n",
    "\n",
    "class Mamba(nn.Module):\n",
    "    def __init__(self, emb_size, hidden_size):\n",
    "        super(Mamba, self).__init__()\n",
    "        self.emb = nn.Embedding(vocab_size, emb_size)\n",
    "\n",
    "        self.D = nn.Linear(emb_size, emb_size)\n",
    "        self.B = nn.Linear(1, hidden_size)\n",
    "        self.C = nn.Linear(hidden_size, 1)\n",
    "        self.A = nn.Linear(hidden_size, hidden_size)\n",
    "        self.norm = nn.LayerNorm(hidden_size)\n",
    "\n",
    "    def forward(self, x, h):\n",
    "        x = self.emb(x)\n",
    "        \n",
    "        h1 = self.B(x.view(-1, x.shape[-1], 1)) + self.A(h)\n",
    "        out = self.D(x)[:, 0] + self.C(h1)[..., 0]\n",
    "\n",
    "        h1 = self.norm(h1)\n",
    "        return out, h1\n",
    "    \n",
    "    def make_hidden(self, batch_size, hidden_size, embedding_size):\n",
    "        return torch.zeros(batch_size, embedding_size, hidden_size).to(device)\n",
    "    \n",
    "class RNN(nn.Module):\n",
    "    def __init__(self, emb_size, hidden_size):\n",
    "        super(RNN, self).__init__()\n",
    "        self.emb = nn.Embedding(vocab_size, emb_size)\n",
    "        self.rnn = nn.GRU(emb_size, hidden_size, batch_first=True)\n",
    "        self.fc = nn.Linear(hidden_size, vocab_size)\n",
    "        \n",
    "    def forward(self, x, h):\n",
    "        x = self.emb(x)\n",
    "        out, h = self.rnn(x, h)\n",
    "        out = self.fc(out)\n",
    "        return out, h\n",
    "    \n",
    "    def make_hidden(self, batch_size, hidden_size):\n",
    "        return torch.zeros(1, batch_size, hidden_size).to(device)\n"
   ]
  },
  {
   "cell_type": "code",
   "execution_count": 7,
   "metadata": {},
   "outputs": [],
   "source": [
    "import torch\n",
    "import torch.nn as nn\n",
    "from tqdm import tqdm\n",
    "from collections import deque\n",
    "\n",
    "# Define hyperparameters\n",
    "embedding_size = vocab_size\n",
    "hidden_size = 256\n",
    "num_layers = 2\n",
    "num_epochs = 10\n",
    "learning_rate = 3e-4\n",
    "batch_size = 96\n",
    "trailing_loss_size = 2000  # Size of the trailing loss queue\n",
    "\n",
    "# Initialize the model, loss function, and optimizer\n",
    "model = RNN(embedding_size, hidden_size).to(device)\n",
    "criterion = nn.CrossEntropyLoss()\n",
    "optimizer = torch.optim.Adam(model.parameters(), lr=learning_rate)\n",
    "\n",
    "# Initialize trailing loss queue\n",
    "loss_queue = deque(maxlen=trailing_loss_size)\n",
    "\n",
    "# Initialize list to store loss values\n",
    "lossi = []\n"
   ]
  },
  {
   "cell_type": "code",
   "execution_count": 8,
   "metadata": {},
   "outputs": [
    {
     "name": "stderr",
     "output_type": "stream",
     "text": [
      "Trailing Loss: 2.4992:   2%|▏         | 247/11596 [00:33<25:24,  7.45it/s]\n"
     ]
    },
    {
     "ename": "KeyboardInterrupt",
     "evalue": "",
     "output_type": "error",
     "traceback": [
      "\u001b[0;31m---------------------------------------------------------------------------\u001b[0m",
      "\u001b[0;31mKeyboardInterrupt\u001b[0m                         Traceback (most recent call last)",
      "Cell \u001b[0;32mIn[8], line 28\u001b[0m\n\u001b[1;32m     26\u001b[0m outputs, h \u001b[38;5;241m=\u001b[39m model(char_input, h)\n\u001b[1;32m     27\u001b[0m outputs \u001b[38;5;241m=\u001b[39m outputs\u001b[38;5;241m.\u001b[39msqueeze(\u001b[38;5;241m1\u001b[39m)\n\u001b[0;32m---> 28\u001b[0m loss \u001b[38;5;241m=\u001b[39m \u001b[43mcriterion\u001b[49m\u001b[43m(\u001b[49m\u001b[43moutputs\u001b[49m\u001b[43m,\u001b[49m\u001b[43m \u001b[49m\u001b[43mlabel_batch\u001b[49m\u001b[43m[\u001b[49m\u001b[43m:\u001b[49m\u001b[43m,\u001b[49m\u001b[43m \u001b[49m\u001b[43mt\u001b[49m\u001b[43m]\u001b[49m\u001b[43m)\u001b[49m\n\u001b[1;32m     29\u001b[0m total_batch_loss \u001b[38;5;241m+\u001b[39m\u001b[38;5;241m=\u001b[39m loss\n\u001b[1;32m     30\u001b[0m loss_queue\u001b[38;5;241m.\u001b[39mappend(loss\u001b[38;5;241m.\u001b[39mitem())\n",
      "File \u001b[0;32m~/.local/lib/python3.10/site-packages/torch/nn/modules/module.py:1736\u001b[0m, in \u001b[0;36mModule._wrapped_call_impl\u001b[0;34m(self, *args, **kwargs)\u001b[0m\n\u001b[1;32m   1734\u001b[0m     \u001b[38;5;28;01mreturn\u001b[39;00m \u001b[38;5;28mself\u001b[39m\u001b[38;5;241m.\u001b[39m_compiled_call_impl(\u001b[38;5;241m*\u001b[39margs, \u001b[38;5;241m*\u001b[39m\u001b[38;5;241m*\u001b[39mkwargs)  \u001b[38;5;66;03m# type: ignore[misc]\u001b[39;00m\n\u001b[1;32m   1735\u001b[0m \u001b[38;5;28;01melse\u001b[39;00m:\n\u001b[0;32m-> 1736\u001b[0m     \u001b[38;5;28;01mreturn\u001b[39;00m \u001b[38;5;28;43mself\u001b[39;49m\u001b[38;5;241;43m.\u001b[39;49m\u001b[43m_call_impl\u001b[49m\u001b[43m(\u001b[49m\u001b[38;5;241;43m*\u001b[39;49m\u001b[43margs\u001b[49m\u001b[43m,\u001b[49m\u001b[43m \u001b[49m\u001b[38;5;241;43m*\u001b[39;49m\u001b[38;5;241;43m*\u001b[39;49m\u001b[43mkwargs\u001b[49m\u001b[43m)\u001b[49m\n",
      "File \u001b[0;32m~/.local/lib/python3.10/site-packages/torch/nn/modules/module.py:1747\u001b[0m, in \u001b[0;36mModule._call_impl\u001b[0;34m(self, *args, **kwargs)\u001b[0m\n\u001b[1;32m   1742\u001b[0m \u001b[38;5;66;03m# If we don't have any hooks, we want to skip the rest of the logic in\u001b[39;00m\n\u001b[1;32m   1743\u001b[0m \u001b[38;5;66;03m# this function, and just call forward.\u001b[39;00m\n\u001b[1;32m   1744\u001b[0m \u001b[38;5;28;01mif\u001b[39;00m \u001b[38;5;129;01mnot\u001b[39;00m (\u001b[38;5;28mself\u001b[39m\u001b[38;5;241m.\u001b[39m_backward_hooks \u001b[38;5;129;01mor\u001b[39;00m \u001b[38;5;28mself\u001b[39m\u001b[38;5;241m.\u001b[39m_backward_pre_hooks \u001b[38;5;129;01mor\u001b[39;00m \u001b[38;5;28mself\u001b[39m\u001b[38;5;241m.\u001b[39m_forward_hooks \u001b[38;5;129;01mor\u001b[39;00m \u001b[38;5;28mself\u001b[39m\u001b[38;5;241m.\u001b[39m_forward_pre_hooks\n\u001b[1;32m   1745\u001b[0m         \u001b[38;5;129;01mor\u001b[39;00m _global_backward_pre_hooks \u001b[38;5;129;01mor\u001b[39;00m _global_backward_hooks\n\u001b[1;32m   1746\u001b[0m         \u001b[38;5;129;01mor\u001b[39;00m _global_forward_hooks \u001b[38;5;129;01mor\u001b[39;00m _global_forward_pre_hooks):\n\u001b[0;32m-> 1747\u001b[0m     \u001b[38;5;28;01mreturn\u001b[39;00m \u001b[43mforward_call\u001b[49m\u001b[43m(\u001b[49m\u001b[38;5;241;43m*\u001b[39;49m\u001b[43margs\u001b[49m\u001b[43m,\u001b[49m\u001b[43m \u001b[49m\u001b[38;5;241;43m*\u001b[39;49m\u001b[38;5;241;43m*\u001b[39;49m\u001b[43mkwargs\u001b[49m\u001b[43m)\u001b[49m\n\u001b[1;32m   1749\u001b[0m result \u001b[38;5;241m=\u001b[39m \u001b[38;5;28;01mNone\u001b[39;00m\n\u001b[1;32m   1750\u001b[0m called_always_called_hooks \u001b[38;5;241m=\u001b[39m \u001b[38;5;28mset\u001b[39m()\n",
      "File \u001b[0;32m~/.local/lib/python3.10/site-packages/torch/nn/modules/loss.py:1293\u001b[0m, in \u001b[0;36mCrossEntropyLoss.forward\u001b[0;34m(self, input, target)\u001b[0m\n\u001b[1;32m   1292\u001b[0m \u001b[38;5;28;01mdef\u001b[39;00m \u001b[38;5;21mforward\u001b[39m(\u001b[38;5;28mself\u001b[39m, \u001b[38;5;28minput\u001b[39m: Tensor, target: Tensor) \u001b[38;5;241m-\u001b[39m\u001b[38;5;241m>\u001b[39m Tensor:\n\u001b[0;32m-> 1293\u001b[0m     \u001b[38;5;28;01mreturn\u001b[39;00m \u001b[43mF\u001b[49m\u001b[38;5;241;43m.\u001b[39;49m\u001b[43mcross_entropy\u001b[49m\u001b[43m(\u001b[49m\n\u001b[1;32m   1294\u001b[0m \u001b[43m        \u001b[49m\u001b[38;5;28;43minput\u001b[39;49m\u001b[43m,\u001b[49m\n\u001b[1;32m   1295\u001b[0m \u001b[43m        \u001b[49m\u001b[43mtarget\u001b[49m\u001b[43m,\u001b[49m\n\u001b[1;32m   1296\u001b[0m \u001b[43m        \u001b[49m\u001b[43mweight\u001b[49m\u001b[38;5;241;43m=\u001b[39;49m\u001b[38;5;28;43mself\u001b[39;49m\u001b[38;5;241;43m.\u001b[39;49m\u001b[43mweight\u001b[49m\u001b[43m,\u001b[49m\n\u001b[1;32m   1297\u001b[0m \u001b[43m        \u001b[49m\u001b[43mignore_index\u001b[49m\u001b[38;5;241;43m=\u001b[39;49m\u001b[38;5;28;43mself\u001b[39;49m\u001b[38;5;241;43m.\u001b[39;49m\u001b[43mignore_index\u001b[49m\u001b[43m,\u001b[49m\n\u001b[1;32m   1298\u001b[0m \u001b[43m        \u001b[49m\u001b[43mreduction\u001b[49m\u001b[38;5;241;43m=\u001b[39;49m\u001b[38;5;28;43mself\u001b[39;49m\u001b[38;5;241;43m.\u001b[39;49m\u001b[43mreduction\u001b[49m\u001b[43m,\u001b[49m\n\u001b[1;32m   1299\u001b[0m \u001b[43m        \u001b[49m\u001b[43mlabel_smoothing\u001b[49m\u001b[38;5;241;43m=\u001b[39;49m\u001b[38;5;28;43mself\u001b[39;49m\u001b[38;5;241;43m.\u001b[39;49m\u001b[43mlabel_smoothing\u001b[49m\u001b[43m,\u001b[49m\n\u001b[1;32m   1300\u001b[0m \u001b[43m    \u001b[49m\u001b[43m)\u001b[49m\n",
      "File \u001b[0;32m~/.local/lib/python3.10/site-packages/torch/nn/functional.py:3479\u001b[0m, in \u001b[0;36mcross_entropy\u001b[0;34m(input, target, weight, size_average, ignore_index, reduce, reduction, label_smoothing)\u001b[0m\n\u001b[1;32m   3477\u001b[0m \u001b[38;5;28;01mif\u001b[39;00m size_average \u001b[38;5;129;01mis\u001b[39;00m \u001b[38;5;129;01mnot\u001b[39;00m \u001b[38;5;28;01mNone\u001b[39;00m \u001b[38;5;129;01mor\u001b[39;00m reduce \u001b[38;5;129;01mis\u001b[39;00m \u001b[38;5;129;01mnot\u001b[39;00m \u001b[38;5;28;01mNone\u001b[39;00m:\n\u001b[1;32m   3478\u001b[0m     reduction \u001b[38;5;241m=\u001b[39m _Reduction\u001b[38;5;241m.\u001b[39mlegacy_get_string(size_average, reduce)\n\u001b[0;32m-> 3479\u001b[0m \u001b[38;5;28;01mreturn\u001b[39;00m \u001b[43mtorch\u001b[49m\u001b[38;5;241;43m.\u001b[39;49m\u001b[43m_C\u001b[49m\u001b[38;5;241;43m.\u001b[39;49m\u001b[43m_nn\u001b[49m\u001b[38;5;241;43m.\u001b[39;49m\u001b[43mcross_entropy_loss\u001b[49m\u001b[43m(\u001b[49m\n\u001b[1;32m   3480\u001b[0m \u001b[43m    \u001b[49m\u001b[38;5;28;43minput\u001b[39;49m\u001b[43m,\u001b[49m\n\u001b[1;32m   3481\u001b[0m \u001b[43m    \u001b[49m\u001b[43mtarget\u001b[49m\u001b[43m,\u001b[49m\n\u001b[1;32m   3482\u001b[0m \u001b[43m    \u001b[49m\u001b[43mweight\u001b[49m\u001b[43m,\u001b[49m\n\u001b[1;32m   3483\u001b[0m \u001b[43m    \u001b[49m\u001b[43m_Reduction\u001b[49m\u001b[38;5;241;43m.\u001b[39;49m\u001b[43mget_enum\u001b[49m\u001b[43m(\u001b[49m\u001b[43mreduction\u001b[49m\u001b[43m)\u001b[49m\u001b[43m,\u001b[49m\n\u001b[1;32m   3484\u001b[0m \u001b[43m    \u001b[49m\u001b[43mignore_index\u001b[49m\u001b[43m,\u001b[49m\n\u001b[1;32m   3485\u001b[0m \u001b[43m    \u001b[49m\u001b[43mlabel_smoothing\u001b[49m\u001b[43m,\u001b[49m\n\u001b[1;32m   3486\u001b[0m \u001b[43m\u001b[49m\u001b[43m)\u001b[49m\n",
      "\u001b[0;31mKeyboardInterrupt\u001b[0m: "
     ]
    }
   ],
   "source": [
    "sequence_length = 20\n",
    "\n",
    "# Function to create batches\n",
    "def get_batches(inputs, labels, batch_size):\n",
    "    for i in range(0, len(inputs) - batch_size, batch_size):\n",
    "        input_batch = inputs[i:i + batch_size]\n",
    "        label_batch = labels[i:i + batch_size]\n",
    "        yield input_batch, label_batch\n",
    "\n",
    "# Training loop\n",
    "for epoch in range(num_epochs):\n",
    "    model.train()\n",
    "    total_loss = 0\n",
    "    with tqdm(get_batches(inputs, labels, batch_size), total=len(inputs) // batch_size) as p:\n",
    "        for input_batch, label_batch in p:\n",
    "            input_batch = input_batch.to(device)\n",
    "            label_batch = label_batch.to(device)\n",
    "\n",
    "            # Initialize hidden state\n",
    "            h = model.make_hidden(batch_size, hidden_size).to(device)\n",
    "\n",
    "            # Forward pass\n",
    "            total_batch_loss = 0\n",
    "            for t in range(input_batch.size(1)):\n",
    "                char_input = input_batch[:, t].unsqueeze(1)\n",
    "                outputs, h = model(char_input, h)\n",
    "                outputs = outputs.squeeze(1)\n",
    "                loss = criterion(outputs, label_batch[:, t])\n",
    "                total_batch_loss += loss\n",
    "                loss_queue.append(loss.item())\n",
    "            \n",
    "            # Calculate trailing loss\n",
    "            avg_trailing_loss = sum(loss_queue) / len(loss_queue)\n",
    "            p.set_description(f\"Trailing Loss: {avg_trailing_loss:.4f}\")\n",
    "\n",
    "            # Backward pass and optimization\n",
    "            optimizer.zero_grad()\n",
    "            total_batch_loss.backward()\n",
    "            optimizer.step()\n",
    "\n",
    "            total_loss += total_batch_loss.item()\n",
    "            lossi.append(total_batch_loss.item() / input_batch.size(1))\n",
    "\n",
    "    avg_loss = total_loss / (len(inputs) // batch_size)\n",
    "    print(f'Epoch [{epoch+1}/{num_epochs}], Loss: {avg_loss:.4f}')\n",
    "    \n",
    "# Save the model\n",
    "torch.save(model.state_dict(), 'mamba_model.pth')"
   ]
  },
  {
   "cell_type": "code",
   "execution_count": null,
   "metadata": {},
   "outputs": [],
   "source": [
    "import torch\n",
    "import torch.nn as nn\n",
    "from tqdm import tqdm\n",
    "from collections import deque\n",
    "\n",
    "# Define hyperparameters\n",
    "embedding_size = vocab_size\n",
    "hidden_size = 64\n",
    "num_layers = 2\n",
    "num_epochs = 10\n",
    "learning_rate = 3e-4\n",
    "batch_size = 1\n",
    "trailing_loss_size = 2000  # Size of the trailing loss queue\n",
    "\n",
    "# Initialize the model, loss function, and optimizer\n",
    "model = Mamba(embedding_size, hidden_size).to(device)\n",
    "criterion = nn.CrossEntropyLoss()\n",
    "optimizer = torch.optim.Adam(model.parameters(), lr=learning_rate)\n",
    "\n",
    "# Initialize trailing loss queue\n",
    "loss_queue = deque(maxlen=trailing_loss_size)\n",
    "\n",
    "# Initialize list to store loss values\n",
    "lossi = []\n"
   ]
  },
  {
   "cell_type": "code",
   "execution_count": 8,
   "metadata": {},
   "outputs": [
    {
     "name": "stderr",
     "output_type": "stream",
     "text": [
      "Trailing Loss: 2.4563:   6%|▌         | 64740/1113390 [04:46<1:17:18, 226.07it/s]\n"
     ]
    },
    {
     "ename": "KeyboardInterrupt",
     "evalue": "",
     "output_type": "error",
     "traceback": [
      "\u001b[0;31m---------------------------------------------------------------------------\u001b[0m",
      "\u001b[0;31mKeyboardInterrupt\u001b[0m                         Traceback (most recent call last)",
      "Cell \u001b[0;32mIn[8], line 31\u001b[0m\n\u001b[1;32m     29\u001b[0m optimizer\u001b[38;5;241m.\u001b[39mzero_grad()\n\u001b[1;32m     30\u001b[0m total_batch_loss\u001b[38;5;241m.\u001b[39mbackward()\n\u001b[0;32m---> 31\u001b[0m \u001b[43moptimizer\u001b[49m\u001b[38;5;241;43m.\u001b[39;49m\u001b[43mstep\u001b[49m\u001b[43m(\u001b[49m\u001b[43m)\u001b[49m\n\u001b[1;32m     33\u001b[0m total_loss \u001b[38;5;241m+\u001b[39m\u001b[38;5;241m=\u001b[39m total_batch_loss\u001b[38;5;241m.\u001b[39mitem()\n\u001b[1;32m     34\u001b[0m lossi\u001b[38;5;241m.\u001b[39mappend(total_batch_loss\u001b[38;5;241m.\u001b[39mitem() \u001b[38;5;241m/\u001b[39m input_batch\u001b[38;5;241m.\u001b[39msize(\u001b[38;5;241m1\u001b[39m))\n",
      "File \u001b[0;32m~/.local/lib/python3.10/site-packages/torch/optim/optimizer.py:487\u001b[0m, in \u001b[0;36mOptimizer.profile_hook_step.<locals>.wrapper\u001b[0;34m(*args, **kwargs)\u001b[0m\n\u001b[1;32m    482\u001b[0m         \u001b[38;5;28;01melse\u001b[39;00m:\n\u001b[1;32m    483\u001b[0m             \u001b[38;5;28;01mraise\u001b[39;00m \u001b[38;5;167;01mRuntimeError\u001b[39;00m(\n\u001b[1;32m    484\u001b[0m                 \u001b[38;5;124mf\u001b[39m\u001b[38;5;124m\"\u001b[39m\u001b[38;5;132;01m{\u001b[39;00mfunc\u001b[38;5;132;01m}\u001b[39;00m\u001b[38;5;124m must return None or a tuple of (new_args, new_kwargs), but got \u001b[39m\u001b[38;5;132;01m{\u001b[39;00mresult\u001b[38;5;132;01m}\u001b[39;00m\u001b[38;5;124m.\u001b[39m\u001b[38;5;124m\"\u001b[39m\n\u001b[1;32m    485\u001b[0m             )\n\u001b[0;32m--> 487\u001b[0m out \u001b[38;5;241m=\u001b[39m \u001b[43mfunc\u001b[49m\u001b[43m(\u001b[49m\u001b[38;5;241;43m*\u001b[39;49m\u001b[43margs\u001b[49m\u001b[43m,\u001b[49m\u001b[43m \u001b[49m\u001b[38;5;241;43m*\u001b[39;49m\u001b[38;5;241;43m*\u001b[39;49m\u001b[43mkwargs\u001b[49m\u001b[43m)\u001b[49m\n\u001b[1;32m    488\u001b[0m \u001b[38;5;28mself\u001b[39m\u001b[38;5;241m.\u001b[39m_optimizer_step_code()\n\u001b[1;32m    490\u001b[0m \u001b[38;5;66;03m# call optimizer step post hooks\u001b[39;00m\n",
      "File \u001b[0;32m~/.local/lib/python3.10/site-packages/torch/optim/optimizer.py:91\u001b[0m, in \u001b[0;36m_use_grad_for_differentiable.<locals>._use_grad\u001b[0;34m(self, *args, **kwargs)\u001b[0m\n\u001b[1;32m     89\u001b[0m     torch\u001b[38;5;241m.\u001b[39mset_grad_enabled(\u001b[38;5;28mself\u001b[39m\u001b[38;5;241m.\u001b[39mdefaults[\u001b[38;5;124m\"\u001b[39m\u001b[38;5;124mdifferentiable\u001b[39m\u001b[38;5;124m\"\u001b[39m])\n\u001b[1;32m     90\u001b[0m     torch\u001b[38;5;241m.\u001b[39m_dynamo\u001b[38;5;241m.\u001b[39mgraph_break()\n\u001b[0;32m---> 91\u001b[0m     ret \u001b[38;5;241m=\u001b[39m \u001b[43mfunc\u001b[49m\u001b[43m(\u001b[49m\u001b[38;5;28;43mself\u001b[39;49m\u001b[43m,\u001b[49m\u001b[43m \u001b[49m\u001b[38;5;241;43m*\u001b[39;49m\u001b[43margs\u001b[49m\u001b[43m,\u001b[49m\u001b[43m \u001b[49m\u001b[38;5;241;43m*\u001b[39;49m\u001b[38;5;241;43m*\u001b[39;49m\u001b[43mkwargs\u001b[49m\u001b[43m)\u001b[49m\n\u001b[1;32m     92\u001b[0m \u001b[38;5;28;01mfinally\u001b[39;00m:\n\u001b[1;32m     93\u001b[0m     torch\u001b[38;5;241m.\u001b[39m_dynamo\u001b[38;5;241m.\u001b[39mgraph_break()\n",
      "File \u001b[0;32m~/.local/lib/python3.10/site-packages/torch/optim/adam.py:223\u001b[0m, in \u001b[0;36mAdam.step\u001b[0;34m(self, closure)\u001b[0m\n\u001b[1;32m    211\u001b[0m     beta1, beta2 \u001b[38;5;241m=\u001b[39m group[\u001b[38;5;124m\"\u001b[39m\u001b[38;5;124mbetas\u001b[39m\u001b[38;5;124m\"\u001b[39m]\n\u001b[1;32m    213\u001b[0m     has_complex \u001b[38;5;241m=\u001b[39m \u001b[38;5;28mself\u001b[39m\u001b[38;5;241m.\u001b[39m_init_group(\n\u001b[1;32m    214\u001b[0m         group,\n\u001b[1;32m    215\u001b[0m         params_with_grad,\n\u001b[0;32m   (...)\u001b[0m\n\u001b[1;32m    220\u001b[0m         state_steps,\n\u001b[1;32m    221\u001b[0m     )\n\u001b[0;32m--> 223\u001b[0m     \u001b[43madam\u001b[49m\u001b[43m(\u001b[49m\n\u001b[1;32m    224\u001b[0m \u001b[43m        \u001b[49m\u001b[43mparams_with_grad\u001b[49m\u001b[43m,\u001b[49m\n\u001b[1;32m    225\u001b[0m \u001b[43m        \u001b[49m\u001b[43mgrads\u001b[49m\u001b[43m,\u001b[49m\n\u001b[1;32m    226\u001b[0m \u001b[43m        \u001b[49m\u001b[43mexp_avgs\u001b[49m\u001b[43m,\u001b[49m\n\u001b[1;32m    227\u001b[0m \u001b[43m        \u001b[49m\u001b[43mexp_avg_sqs\u001b[49m\u001b[43m,\u001b[49m\n\u001b[1;32m    228\u001b[0m \u001b[43m        \u001b[49m\u001b[43mmax_exp_avg_sqs\u001b[49m\u001b[43m,\u001b[49m\n\u001b[1;32m    229\u001b[0m \u001b[43m        \u001b[49m\u001b[43mstate_steps\u001b[49m\u001b[43m,\u001b[49m\n\u001b[1;32m    230\u001b[0m \u001b[43m        \u001b[49m\u001b[43mamsgrad\u001b[49m\u001b[38;5;241;43m=\u001b[39;49m\u001b[43mgroup\u001b[49m\u001b[43m[\u001b[49m\u001b[38;5;124;43m\"\u001b[39;49m\u001b[38;5;124;43mamsgrad\u001b[39;49m\u001b[38;5;124;43m\"\u001b[39;49m\u001b[43m]\u001b[49m\u001b[43m,\u001b[49m\n\u001b[1;32m    231\u001b[0m \u001b[43m        \u001b[49m\u001b[43mhas_complex\u001b[49m\u001b[38;5;241;43m=\u001b[39;49m\u001b[43mhas_complex\u001b[49m\u001b[43m,\u001b[49m\n\u001b[1;32m    232\u001b[0m \u001b[43m        \u001b[49m\u001b[43mbeta1\u001b[49m\u001b[38;5;241;43m=\u001b[39;49m\u001b[43mbeta1\u001b[49m\u001b[43m,\u001b[49m\n\u001b[1;32m    233\u001b[0m \u001b[43m        \u001b[49m\u001b[43mbeta2\u001b[49m\u001b[38;5;241;43m=\u001b[39;49m\u001b[43mbeta2\u001b[49m\u001b[43m,\u001b[49m\n\u001b[1;32m    234\u001b[0m \u001b[43m        \u001b[49m\u001b[43mlr\u001b[49m\u001b[38;5;241;43m=\u001b[39;49m\u001b[43mgroup\u001b[49m\u001b[43m[\u001b[49m\u001b[38;5;124;43m\"\u001b[39;49m\u001b[38;5;124;43mlr\u001b[39;49m\u001b[38;5;124;43m\"\u001b[39;49m\u001b[43m]\u001b[49m\u001b[43m,\u001b[49m\n\u001b[1;32m    235\u001b[0m \u001b[43m        \u001b[49m\u001b[43mweight_decay\u001b[49m\u001b[38;5;241;43m=\u001b[39;49m\u001b[43mgroup\u001b[49m\u001b[43m[\u001b[49m\u001b[38;5;124;43m\"\u001b[39;49m\u001b[38;5;124;43mweight_decay\u001b[39;49m\u001b[38;5;124;43m\"\u001b[39;49m\u001b[43m]\u001b[49m\u001b[43m,\u001b[49m\n\u001b[1;32m    236\u001b[0m \u001b[43m        \u001b[49m\u001b[43meps\u001b[49m\u001b[38;5;241;43m=\u001b[39;49m\u001b[43mgroup\u001b[49m\u001b[43m[\u001b[49m\u001b[38;5;124;43m\"\u001b[39;49m\u001b[38;5;124;43meps\u001b[39;49m\u001b[38;5;124;43m\"\u001b[39;49m\u001b[43m]\u001b[49m\u001b[43m,\u001b[49m\n\u001b[1;32m    237\u001b[0m \u001b[43m        \u001b[49m\u001b[43mmaximize\u001b[49m\u001b[38;5;241;43m=\u001b[39;49m\u001b[43mgroup\u001b[49m\u001b[43m[\u001b[49m\u001b[38;5;124;43m\"\u001b[39;49m\u001b[38;5;124;43mmaximize\u001b[39;49m\u001b[38;5;124;43m\"\u001b[39;49m\u001b[43m]\u001b[49m\u001b[43m,\u001b[49m\n\u001b[1;32m    238\u001b[0m \u001b[43m        \u001b[49m\u001b[43mforeach\u001b[49m\u001b[38;5;241;43m=\u001b[39;49m\u001b[43mgroup\u001b[49m\u001b[43m[\u001b[49m\u001b[38;5;124;43m\"\u001b[39;49m\u001b[38;5;124;43mforeach\u001b[39;49m\u001b[38;5;124;43m\"\u001b[39;49m\u001b[43m]\u001b[49m\u001b[43m,\u001b[49m\n\u001b[1;32m    239\u001b[0m \u001b[43m        \u001b[49m\u001b[43mcapturable\u001b[49m\u001b[38;5;241;43m=\u001b[39;49m\u001b[43mgroup\u001b[49m\u001b[43m[\u001b[49m\u001b[38;5;124;43m\"\u001b[39;49m\u001b[38;5;124;43mcapturable\u001b[39;49m\u001b[38;5;124;43m\"\u001b[39;49m\u001b[43m]\u001b[49m\u001b[43m,\u001b[49m\n\u001b[1;32m    240\u001b[0m \u001b[43m        \u001b[49m\u001b[43mdifferentiable\u001b[49m\u001b[38;5;241;43m=\u001b[39;49m\u001b[43mgroup\u001b[49m\u001b[43m[\u001b[49m\u001b[38;5;124;43m\"\u001b[39;49m\u001b[38;5;124;43mdifferentiable\u001b[39;49m\u001b[38;5;124;43m\"\u001b[39;49m\u001b[43m]\u001b[49m\u001b[43m,\u001b[49m\n\u001b[1;32m    241\u001b[0m \u001b[43m        \u001b[49m\u001b[43mfused\u001b[49m\u001b[38;5;241;43m=\u001b[39;49m\u001b[43mgroup\u001b[49m\u001b[43m[\u001b[49m\u001b[38;5;124;43m\"\u001b[39;49m\u001b[38;5;124;43mfused\u001b[39;49m\u001b[38;5;124;43m\"\u001b[39;49m\u001b[43m]\u001b[49m\u001b[43m,\u001b[49m\n\u001b[1;32m    242\u001b[0m \u001b[43m        \u001b[49m\u001b[43mgrad_scale\u001b[49m\u001b[38;5;241;43m=\u001b[39;49m\u001b[38;5;28;43mgetattr\u001b[39;49m\u001b[43m(\u001b[49m\u001b[38;5;28;43mself\u001b[39;49m\u001b[43m,\u001b[49m\u001b[43m \u001b[49m\u001b[38;5;124;43m\"\u001b[39;49m\u001b[38;5;124;43mgrad_scale\u001b[39;49m\u001b[38;5;124;43m\"\u001b[39;49m\u001b[43m,\u001b[49m\u001b[43m \u001b[49m\u001b[38;5;28;43;01mNone\u001b[39;49;00m\u001b[43m)\u001b[49m\u001b[43m,\u001b[49m\n\u001b[1;32m    243\u001b[0m \u001b[43m        \u001b[49m\u001b[43mfound_inf\u001b[49m\u001b[38;5;241;43m=\u001b[39;49m\u001b[38;5;28;43mgetattr\u001b[39;49m\u001b[43m(\u001b[49m\u001b[38;5;28;43mself\u001b[39;49m\u001b[43m,\u001b[49m\u001b[43m \u001b[49m\u001b[38;5;124;43m\"\u001b[39;49m\u001b[38;5;124;43mfound_inf\u001b[39;49m\u001b[38;5;124;43m\"\u001b[39;49m\u001b[43m,\u001b[49m\u001b[43m \u001b[49m\u001b[38;5;28;43;01mNone\u001b[39;49;00m\u001b[43m)\u001b[49m\u001b[43m,\u001b[49m\n\u001b[1;32m    244\u001b[0m \u001b[43m    \u001b[49m\u001b[43m)\u001b[49m\n\u001b[1;32m    246\u001b[0m \u001b[38;5;28;01mreturn\u001b[39;00m loss\n",
      "File \u001b[0;32m~/.local/lib/python3.10/site-packages/torch/optim/optimizer.py:154\u001b[0m, in \u001b[0;36m_disable_dynamo_if_unsupported.<locals>.wrapper.<locals>.maybe_fallback\u001b[0;34m(*args, **kwargs)\u001b[0m\n\u001b[1;32m    152\u001b[0m     \u001b[38;5;28;01mreturn\u001b[39;00m disabled_func(\u001b[38;5;241m*\u001b[39margs, \u001b[38;5;241m*\u001b[39m\u001b[38;5;241m*\u001b[39mkwargs)\n\u001b[1;32m    153\u001b[0m \u001b[38;5;28;01melse\u001b[39;00m:\n\u001b[0;32m--> 154\u001b[0m     \u001b[38;5;28;01mreturn\u001b[39;00m \u001b[43mfunc\u001b[49m\u001b[43m(\u001b[49m\u001b[38;5;241;43m*\u001b[39;49m\u001b[43margs\u001b[49m\u001b[43m,\u001b[49m\u001b[43m \u001b[49m\u001b[38;5;241;43m*\u001b[39;49m\u001b[38;5;241;43m*\u001b[39;49m\u001b[43mkwargs\u001b[49m\u001b[43m)\u001b[49m\n",
      "File \u001b[0;32m~/.local/lib/python3.10/site-packages/torch/optim/adam.py:752\u001b[0m, in \u001b[0;36madam\u001b[0;34m(params, grads, exp_avgs, exp_avg_sqs, max_exp_avg_sqs, state_steps, foreach, capturable, differentiable, fused, grad_scale, found_inf, has_complex, amsgrad, beta1, beta2, lr, weight_decay, eps, maximize)\u001b[0m\n\u001b[1;32m    747\u001b[0m \u001b[38;5;66;03m# Respect when the user inputs False/True for foreach or fused. We only want to change\u001b[39;00m\n\u001b[1;32m    748\u001b[0m \u001b[38;5;66;03m# the default when neither have been user-specified. Note that we default to foreach\u001b[39;00m\n\u001b[1;32m    749\u001b[0m \u001b[38;5;66;03m# and pass False to use_fused. This is not a mistake--we want to give the fused impl\u001b[39;00m\n\u001b[1;32m    750\u001b[0m \u001b[38;5;66;03m# bake-in time before making it the default, even if it is typically faster.\u001b[39;00m\n\u001b[1;32m    751\u001b[0m \u001b[38;5;28;01mif\u001b[39;00m fused \u001b[38;5;129;01mis\u001b[39;00m \u001b[38;5;28;01mNone\u001b[39;00m \u001b[38;5;129;01mand\u001b[39;00m foreach \u001b[38;5;129;01mis\u001b[39;00m \u001b[38;5;28;01mNone\u001b[39;00m:\n\u001b[0;32m--> 752\u001b[0m     _, foreach \u001b[38;5;241m=\u001b[39m \u001b[43m_default_to_fused_or_foreach\u001b[49m\u001b[43m(\u001b[49m\n\u001b[1;32m    753\u001b[0m \u001b[43m        \u001b[49m\u001b[43mparams\u001b[49m\u001b[43m,\u001b[49m\u001b[43m \u001b[49m\u001b[43mdifferentiable\u001b[49m\u001b[43m,\u001b[49m\u001b[43m \u001b[49m\u001b[43muse_fused\u001b[49m\u001b[38;5;241;43m=\u001b[39;49m\u001b[38;5;28;43;01mFalse\u001b[39;49;00m\n\u001b[1;32m    754\u001b[0m \u001b[43m    \u001b[49m\u001b[43m)\u001b[49m\n\u001b[1;32m    755\u001b[0m     \u001b[38;5;66;03m# Do not flip on foreach for the unsupported case where lr is a Tensor and capturable=False.\u001b[39;00m\n\u001b[1;32m    756\u001b[0m     \u001b[38;5;28;01mif\u001b[39;00m foreach \u001b[38;5;129;01mand\u001b[39;00m \u001b[38;5;28misinstance\u001b[39m(lr, Tensor) \u001b[38;5;129;01mand\u001b[39;00m \u001b[38;5;129;01mnot\u001b[39;00m capturable:\n",
      "File \u001b[0;32m~/.local/lib/python3.10/site-packages/torch/optim/optimizer.py:174\u001b[0m, in \u001b[0;36m_default_to_fused_or_foreach\u001b[0;34m(params, differentiable, use_fused)\u001b[0m\n\u001b[1;32m    171\u001b[0m     \u001b[38;5;28;01mreturn\u001b[39;00m \u001b[38;5;28;01mFalse\u001b[39;00m, \u001b[38;5;28;01mFalse\u001b[39;00m\n\u001b[1;32m    173\u001b[0m fused_supported_devices \u001b[38;5;241m=\u001b[39m _get_fused_kernels_supported_devices()\n\u001b[0;32m--> 174\u001b[0m foreach_supported_devices \u001b[38;5;241m=\u001b[39m \u001b[43m_get_foreach_kernels_supported_devices\u001b[49m\u001b[43m(\u001b[49m\u001b[43m)\u001b[49m\n\u001b[1;32m    175\u001b[0m fused \u001b[38;5;241m=\u001b[39m use_fused \u001b[38;5;129;01mand\u001b[39;00m \u001b[38;5;28mall\u001b[39m(\n\u001b[1;32m    176\u001b[0m     p \u001b[38;5;129;01mis\u001b[39;00m \u001b[38;5;28;01mNone\u001b[39;00m\n\u001b[1;32m    177\u001b[0m     \u001b[38;5;129;01mor\u001b[39;00m (\n\u001b[0;32m   (...)\u001b[0m\n\u001b[1;32m    182\u001b[0m     \u001b[38;5;28;01mfor\u001b[39;00m p \u001b[38;5;129;01min\u001b[39;00m params\n\u001b[1;32m    183\u001b[0m )\n\u001b[1;32m    184\u001b[0m foreach \u001b[38;5;241m=\u001b[39m \u001b[38;5;129;01mnot\u001b[39;00m fused \u001b[38;5;129;01mand\u001b[39;00m \u001b[38;5;28mall\u001b[39m(\n\u001b[1;32m    185\u001b[0m     p \u001b[38;5;129;01mis\u001b[39;00m \u001b[38;5;28;01mNone\u001b[39;00m\n\u001b[1;32m    186\u001b[0m     \u001b[38;5;129;01mor\u001b[39;00m (\n\u001b[0;32m   (...)\u001b[0m\n\u001b[1;32m    190\u001b[0m     \u001b[38;5;28;01mfor\u001b[39;00m p \u001b[38;5;129;01min\u001b[39;00m params\n\u001b[1;32m    191\u001b[0m )\n",
      "\u001b[0;31mKeyboardInterrupt\u001b[0m: "
     ]
    }
   ],
   "source": [
    "\n",
    "# Training loop\n",
    "for epoch in range(num_epochs):\n",
    "    model.train()\n",
    "    total_loss = 0\n",
    "    with tqdm(range(0, len(inputs)-batch_size, batch_size)) as p:\n",
    "        for i in p:\n",
    "            input_batch = inputs[i:i+batch_size].to(device)\n",
    "            label_batch = labels[i:i+batch_size].to(device)\n",
    "\n",
    "            # Initialize hidden state\n",
    "            h = model.make_hidden(batch_size, hidden_size, embedding_size).to(device)\n",
    "\n",
    "            # Forward pass\n",
    "            total_batch_loss = 0\n",
    "            for t in range(input_batch.size(1)):\n",
    "                char_input = input_batch[:, t].unsqueeze(1)\n",
    "                outputs, h = model(char_input, h)\n",
    "                #print(h.std(), h.mean())\n",
    "                outputs = outputs.squeeze(1)\n",
    "                loss = criterion(outputs, label_batch[:, t])\n",
    "                total_batch_loss += loss\n",
    "                loss_queue.append(loss.item())\n",
    "            \n",
    "            # Calculate trailing loss\n",
    "            avg_trailing_loss = sum(loss_queue) / len(loss_queue)\n",
    "            p.set_description(f\"Trailing Loss: {avg_trailing_loss:.4f}\")\n",
    "\n",
    "            # Backward pass and optimization\n",
    "            optimizer.zero_grad()\n",
    "            total_batch_loss.backward()\n",
    "            optimizer.step()\n",
    "\n",
    "            total_loss += total_batch_loss.item()\n",
    "            lossi.append(total_batch_loss.item() / input_batch.size(1))\n",
    "\n",
    "    avg_loss = total_loss / (len(inputs) // batch_size)\n",
    "    print(f'Epoch [{epoch+1}/{num_epochs}], Loss: {avg_loss:.4f}')\n",
    "    \n",
    "# Save the model\n",
    "torch.save(model.state_dict(), 'mamba_model.pth')"
   ]
  },
  {
   "cell_type": "code",
   "execution_count": 39,
   "metadata": {},
   "outputs": [
    {
     "data": {
      "text/plain": [
       "[<matplotlib.lines.Line2D at 0x78d1a0088fa0>]"
      ]
     },
     "execution_count": 39,
     "metadata": {},
     "output_type": "execute_result"
    },
    {
     "data": {
      "image/png": "[encoded data removed]",
      "text/plain": [
       "<Figure size 640x480 with 1 Axes>"
      ]
     },
     "metadata": {},
     "output_type": "display_data"
    }
   ],
   "source": [
    "scale = 200  # Define the scale variable\n",
    "losst = [sum(lossi[i:i+scale])/scale for i in range(0, len(lossi)-scale, scale)]\n",
    "plt.plot(losst)"
   ]
  },
  {
   "cell_type": "code",
   "execution_count": 35,
   "metadata": {},
   "outputs": [
    {
     "name": "stdout",
     "output_type": "stream",
     "text": [
      "[[0.0007277434342540801, 0.07792990654706955], [0.043291736394166946, 0.39731210470199585], [0.0028397804126143456, 0.0289017241448164], [-0.004845542833209038, 0.2431708723306656]]\n"
     ]
    }
   ],
   "source": [
    "\n",
    "print([[p.weight.mean().item(), p.weight.std().item()] for p in [model.A, model.B, model.C, model.D]])"
   ]
  },
  {
   "cell_type": "code",
   "execution_count": null,
   "metadata": {},
   "outputs": [],
   "source": []
  }
 ],
 "metadata": {
  "kernelspec": {
   "display_name": "Python 3",
   "language": "python",
   "name": "python3"
  },
  "language_info": {
   "codemirror_mode": {
    "name": "ipython",
    "version": 3
   },
   "file_extension": ".py",
   "mimetype": "text/x-python",
   "name": "python",
   "nbconvert_exporter": "python",
   "pygments_lexer": "ipython3",
   "version": "3.9.13"
  }
 },
 "nbformat": 4,
 "nbformat_minor": 2
}
