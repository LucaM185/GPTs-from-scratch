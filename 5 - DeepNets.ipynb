{
 "cells": [
  {
   "cell_type": "code",
   "execution_count": 1,
   "metadata": {
    "metadata": {}
   },
   "outputs": [],
   "source": [
    "import torch\n",
    "import torch.nn as nn\n",
    "import torch.nn.functional as F\n",
    "import matplotlib.pyplot as plt \n"
   ]
  },
  {
   "cell_type": "markdown",
   "metadata": {},
   "source": [
    "# Loading the dataset"
   ]
  },
  {
   "cell_type": "code",
   "execution_count": 2,
   "metadata": {
    "metadata": {}
   },
   "outputs": [
    {
     "name": "stdout",
     "output_type": "stream",
     "text": [
      "First Citizen:\n",
      "Before we proceed any further, hear me speak.\n",
      "\n",
      "All:\n",
      "Speak, speak.\n",
      "\n",
      "First Citizen:\n",
      "You are all resolved rather to die than to famish?\n",
      "\n",
      "All:\n",
      "Resolved. resolved.\n",
      "\n",
      "First Citizen:\n",
      "First, you\n"
     ]
    }
   ],
   "source": [
    "with open(\"datasets/tinyShakespeare.txt\", \"r\") as f:\n",
    "    load = f.read()\n",
    "print(load[:200])"
   ]
  },
  {
   "cell_type": "code",
   "execution_count": 3,
   "metadata": {
    "metadata": {}
   },
   "outputs": [],
   "source": [
    "texttoint = {elm: n for n, elm in enumerate(set(load))}\n",
    "inttotext = {n:elm for n, elm in enumerate(set(load))}\n",
    "dataset = [texttoint[c] for c in load]\n",
    "\n",
    "vocab_size = len(texttoint)\n",
    "sequence_length = 20\n",
    "\n",
    "sequences = torch.tensor([dataset[i:-sequence_length+i-1] for i in range(sequence_length+1)]).T\n",
    "inputs = sequences[2000:, :-1]\n",
    "labels = sequences[2000:, -1]\n",
    "val_inputs = sequences[:2000, :-1]\n",
    "val_labels = sequences[:2000, -1]"
   ]
  },
  {
   "cell_type": "markdown",
   "metadata": {},
   "source": [
    "# Deeper Network (2 hidden layers)\n",
    "\n",
    "To get from the perceptron to mlp we expanded the model with many parallel matrix operations. Now we can try to make it deeper, with more operations happening in series. <br>\n",
    "This is especially poerful because biological neurons fire around 100 times a second, it takes a human 100ms to identify an object, so it stands to reason that a 10 layer network should be able to do complex tasks.  "
   ]
  },
  {
   "cell_type": "code",
   "execution_count": 4,
   "metadata": {
    "metadata": {}
   },
   "outputs": [
    {
     "name": "stdout",
     "output_type": "stream",
     "text": [
      "Millions of parameters: 0.07\n",
      "Epoch ___0 - Loss: 4.160\n",
      "Epoch _300 - Loss: 2.837\n",
      "Epoch _600 - Loss: 2.460\n",
      "Epoch _900 - Loss: 2.282\n",
      "Epoch 1200 - Loss: 2.114\n",
      "Epoch 1500 - Loss: 2.049\n",
      "Epoch 1800 - Loss: 1.961\n",
      "Epoch 2100 - Loss: 1.914\n",
      "Epoch 2400 - Loss: 1.933\n",
      "Epoch 2700 - Loss: 1.842\n"
     ]
    },
    {
     "data": {
      "text/plain": [
       "<matplotlib.legend.Legend at 0x7006b32ef910>"
      ]
     },
     "execution_count": 4,
     "metadata": {},
     "output_type": "execute_result"
    },
    {
     "data": {
      "image/png": "[encoded data removed]",
      "text/plain": [
       "<Figure size 600x300 with 1 Axes>"
      ]
     },
     "metadata": {},
     "output_type": "display_data"
    }
   ],
   "source": [
    "class Model(nn.Module):\n",
    "    def __init__(self, emb_size, hidden_size, n_layers):\n",
    "        super().__init__()\n",
    "        self.embeddings = nn.Embedding(vocab_size, emb_size)\n",
    "        self.fc1 = nn.Linear(emb_size*sequence_length, hidden_size)\n",
    "        self.fcx = nn.ModuleList([nn.Linear(hidden_size, hidden_size) for _ in range(n_layers)]) # this is a list of linear layers\n",
    "        self.fc2 = nn.Linear(hidden_size, vocab_size)\n",
    "    \n",
    "    def forward(self, inputs):\n",
    "        emb = self.embeddings(inputs).view(inputs.shape[0], -1)\n",
    "        x = F.gelu(self.fc1(emb))\n",
    "        for hidden in self.fcx:    # iterating over hidden layers\n",
    "            x = F.gelu(hidden(x))  # applying each hidden layer\n",
    "        return self.fc2(x)\n",
    "\n",
    "\n",
    "device = torch.device(\"cuda:0\")\n",
    "model = Model(emb_size=10, hidden_size=128, n_layers=2).to(device)\n",
    "print(f\"Millions of parameters: {sum(p.numel() for p in model.parameters())/1e6:.2f}\")\n",
    "\n",
    "epochs = 3000\n",
    "batch_size = 4096\n",
    "optimizer = torch.optim.Adam(model.parameters(), lr=3e-4)  # 3e-4 is a good learning rate for Adam on big models\n",
    "\n",
    "lossi = []\n",
    "vlossi = []\n",
    "\n",
    "for epoch in range(epochs):\n",
    "    indexes = torch.randint(0, len(inputs), (batch_size,))\n",
    "    \n",
    "    pred = model(inputs[indexes].to(device)) \n",
    "    loss = F.cross_entropy(pred, labels[indexes].to(device))\n",
    "\n",
    "    loss.backward()\n",
    "    optimizer.step()\n",
    "    optimizer.zero_grad()\n",
    "\n",
    "    lossi.append(loss.item())\n",
    "    if epoch % (epochs//10) == 0:\n",
    "        print(f\"Epoch {epoch:_>4d} - Loss: {loss.item():.3f}\")\n",
    "    \n",
    "    with torch.no_grad():\n",
    "        pred = model(val_inputs.to(device))\n",
    "        vloss = F.cross_entropy(pred, val_labels.to(device))\n",
    "        vlossi.append(vloss.item())\n",
    "\n",
    "plt.figure(figsize=(6, 3))  \n",
    "plt.plot(lossi, label='Loss')\n",
    "plt.plot(vlossi, label='Validation Loss')\n",
    "plt.legend()"
   ]
  },
  {
   "cell_type": "markdown",
   "metadata": {},
   "source": [
    "# Much deeper network (20 layers)"
   ]
  },
  {
   "cell_type": "code",
   "execution_count": 5,
   "metadata": {
    "metadata": {}
   },
   "outputs": [
    {
     "name": "stdout",
     "output_type": "stream",
     "text": [
      "Millions of parameters: 0.37\n",
      "Epoch ___0 - Loss: 4.204\n",
      "Epoch _300 - Loss: 3.030\n",
      "Epoch _600 - Loss: 2.701\n",
      "Epoch _900 - Loss: 2.579\n",
      "Epoch 1200 - Loss: 2.501\n",
      "Epoch 1500 - Loss: 2.480\n",
      "Epoch 1800 - Loss: 2.460\n",
      "Epoch 2100 - Loss: 2.393\n",
      "Epoch 2400 - Loss: 2.389\n",
      "Epoch 2700 - Loss: 2.360\n"
     ]
    },
    {
     "data": {
      "text/plain": [
       "<matplotlib.legend.Legend at 0x7006b33ab850>"
      ]
     },
     "execution_count": 5,
     "metadata": {},
     "output_type": "execute_result"
    },
    {
     "data": {
      "image/png": "[encoded data removed]",
      "text/plain": [
       "<Figure size 600x300 with 1 Axes>"
      ]
     },
     "metadata": {},
     "output_type": "display_data"
    }
   ],
   "source": [
    "class Model(nn.Module):  # Same model class as before\n",
    "    def __init__(self, emb_size, hidden_size, n_layers):\n",
    "        super().__init__()\n",
    "        self.embeddings = nn.Embedding(vocab_size, emb_size)\n",
    "        self.fc1 = nn.Linear(emb_size*sequence_length, hidden_size)\n",
    "        self.fcx = nn.ModuleList([nn.Linear(hidden_size, hidden_size) for _ in range(n_layers)])\n",
    "        self.fc2 = nn.Linear(hidden_size, vocab_size)\n",
    "    \n",
    "    def forward(self, inputs):\n",
    "        emb = self.embeddings(inputs).view(inputs.shape[0], -1)\n",
    "        x = F.gelu(self.fc1(emb))\n",
    "        for hidden in self.fcx:\n",
    "            x = F.gelu(hidden(x))\n",
    "        return self.fc2(x)\n",
    "\n",
    "\n",
    "device = torch.device(\"cuda:0\")\n",
    "model = Model(emb_size=10, hidden_size=128, n_layers=20).to(device)  # increased to 20 layers \n",
    "print(f\"Millions of parameters: {sum(p.numel() for p in model.parameters())/1e6:.2f}\")\n",
    "\n",
    "epochs = 3000\n",
    "batch_size = 4096\n",
    "optimizer = torch.optim.Adam(model.parameters(), lr=3e-4) \n",
    "\n",
    "lossi = []\n",
    "vlossi = []\n",
    "\n",
    "for epoch in range(epochs):\n",
    "    indexes = torch.randint(0, len(inputs), (batch_size,))\n",
    "    \n",
    "    pred = model(inputs[indexes].to(device)) \n",
    "    loss = F.cross_entropy(pred, labels[indexes].to(device))\n",
    "\n",
    "    loss.backward()\n",
    "    optimizer.step()\n",
    "    optimizer.zero_grad()\n",
    "\n",
    "    lossi.append(loss.item())\n",
    "    if epoch % (epochs//10) == 0:\n",
    "        print(f\"Epoch {epoch:_>4d} - Loss: {loss.item():.3f}\")\n",
    "\n",
    "    with torch.no_grad():\n",
    "        pred = model(val_inputs.to(device))\n",
    "        vloss = F.cross_entropy(pred, val_labels.to(device))\n",
    "        vlossi.append(vloss.item())\n",
    "\n",
    "plt.figure(figsize=(6, 3))  \n",
    "plt.plot(lossi, label='Loss')\n",
    "plt.plot(vlossi, label='Validation Loss')\n",
    "plt.legend()"
   ]
  },
  {
   "cell_type": "markdown",
   "metadata": {},
   "source": [
    "The network with 20 hidden layers is unable to train effectively, thats because the derivatives don't flow well between the layers"
   ]
  },
  {
   "cell_type": "markdown",
   "metadata": {},
   "source": [
    "# Residual connections"
   ]
  },
  {
   "cell_type": "code",
   "execution_count": 6,
   "metadata": {
    "metadata": {}
   },
   "outputs": [
    {
     "name": "stdout",
     "output_type": "stream",
     "text": [
      "Millions of parameters: 0.37\n",
      "Epoch ___0 - Loss: 5.457\n",
      "Epoch _300 - Loss: 2.282\n",
      "Epoch _600 - Loss: 1.944\n",
      "Epoch _900 - Loss: 1.761\n",
      "Epoch 1200 - Loss: 1.715\n",
      "Epoch 1500 - Loss: 1.630\n",
      "Epoch 1800 - Loss: 1.569\n",
      "Epoch 2100 - Loss: 1.551\n",
      "Epoch 2400 - Loss: 1.576\n",
      "Epoch 2700 - Loss: 1.511\n"
     ]
    },
    {
     "data": {
      "text/plain": [
       "<matplotlib.legend.Legend at 0x7006b2a5a4a0>"
      ]
     },
     "execution_count": 6,
     "metadata": {},
     "output_type": "execute_result"
    },
    {
     "data": {
      "image/png": "[encoded data removed]",
      "text/plain": [
       "<Figure size 600x300 with 1 Axes>"
      ]
     },
     "metadata": {},
     "output_type": "display_data"
    }
   ],
   "source": [
    "class Model(nn.Module):\n",
    "    def __init__(self, emb_size, hidden_size, n_layers):\n",
    "        super().__init__()\n",
    "        self.embeddings = nn.Embedding(vocab_size, emb_size)\n",
    "        self.fc1 = nn.Linear(emb_size*sequence_length, hidden_size)\n",
    "        self.fcx = nn.ModuleList([nn.Linear(hidden_size, hidden_size) for _ in range(n_layers)]) \n",
    "        self.fc2 = nn.Linear(hidden_size, vocab_size)\n",
    "    \n",
    "    def forward(self, inputs):\n",
    "        emb = self.embeddings(inputs).view(inputs.shape[0], -1)\n",
    "        x = F.gelu(self.fc1(emb))\n",
    "        for hidden in self.fcx: \n",
    "            x = x + F.gelu(hidden(x))  # added skip connection \n",
    "        return self.fc2(x)\n",
    "    \n",
    "\n",
    "device = torch.device(\"cuda:0\")\n",
    "model = Model(emb_size=10, hidden_size=128, n_layers=20).to(device)\n",
    "print(f\"Millions of parameters: {sum(p.numel() for p in model.parameters())/1e6:.2f}\")\n",
    "\n",
    "epochs = 3000\n",
    "batch_size = 4096\n",
    "optimizer = torch.optim.Adam(model.parameters(), lr=3e-4) \n",
    "\n",
    "lossi = []\n",
    "vlossi = []\n",
    "\n",
    "for epoch in range(epochs):\n",
    "    indexes = torch.randint(0, len(inputs), (batch_size,))\n",
    "    \n",
    "    pred = model(inputs[indexes].to(device)) \n",
    "    loss = F.cross_entropy(pred, labels[indexes].to(device))\n",
    "\n",
    "    loss.backward()\n",
    "    optimizer.step()\n",
    "    optimizer.zero_grad()\n",
    "\n",
    "    lossi.append(loss.item())\n",
    "    if epoch % (epochs//10) == 0:\n",
    "        print(f\"Epoch {epoch:_>4d} - Loss: {loss.item():.3f}\")\n",
    "    \n",
    "    with torch.no_grad():\n",
    "        pred = model(val_inputs.to(device))\n",
    "        vloss = F.cross_entropy(pred, val_labels.to(device))\n",
    "        vlossi.append(vloss.item())\n",
    "\n",
    "plt.figure(figsize=(6, 3))  \n",
    "plt.plot(lossi, label='Loss')\n",
    "plt.plot(vlossi, label='Validation Loss')\n",
    "plt.legend()"
   ]
  },
  {
   "cell_type": "markdown",
   "metadata": {},
   "source": [
    "# Deeper (56 layers) "
   ]
  },
  {
   "cell_type": "code",
   "execution_count": 7,
   "metadata": {
    "metadata": {}
   },
   "outputs": [
    {
     "name": "stdout",
     "output_type": "stream",
     "text": [
      "Millions of parameters: 0.96\n",
      "Epoch ___0 - Loss: 11324.800\n",
      "Epoch _300 - Loss: 3.410\n",
      "Epoch _600 - Loss: 3.183\n",
      "Epoch _900 - Loss: 3.090\n",
      "Epoch 1200 - Loss: 2.998\n",
      "Epoch 1500 - Loss: 2.912\n",
      "Epoch 1800 - Loss: 2.797\n",
      "Epoch 2100 - Loss: 2.711\n",
      "Epoch 2400 - Loss: 2.653\n",
      "Epoch 2700 - Loss: 2.490\n"
     ]
    },
    {
     "data": {
      "text/plain": [
       "<matplotlib.legend.Legend at 0x7006b2988e80>"
      ]
     },
     "execution_count": 7,
     "metadata": {},
     "output_type": "execute_result"
    },
    {
     "data": {
      "image/png": "[encoded data removed]",
      "text/plain": [
       "<Figure size 600x300 with 1 Axes>"
      ]
     },
     "metadata": {},
     "output_type": "display_data"
    }
   ],
   "source": [
    "class Model(nn.Module):\n",
    "    def __init__(self, emb_size, hidden_size, n_layers):\n",
    "        super().__init__()\n",
    "        self.embeddings = nn.Embedding(vocab_size, emb_size)\n",
    "        self.fc1 = nn.Linear(emb_size*sequence_length, hidden_size)\n",
    "        self.fcx = nn.ModuleList([nn.Linear(hidden_size, hidden_size) for _ in range(n_layers)]) \n",
    "        self.fc2 = nn.Linear(hidden_size, vocab_size)\n",
    "    \n",
    "    def forward(self, inputs):\n",
    "        emb = self.embeddings(inputs).view(inputs.shape[0], -1)\n",
    "        x = F.gelu(self.fc1(emb))\n",
    "        for hidden in self.fcx: \n",
    "            x = x + F.gelu(hidden(x))  \n",
    "        return self.fc2(x)\n",
    "\n",
    "\n",
    "device = torch.device(\"cuda:0\")\n",
    "model = Model(emb_size=10, hidden_size=128, n_layers=56).to(device)  # increased to 56 layers\n",
    "print(f\"Millions of parameters: {sum(p.numel() for p in model.parameters())/1e6:.2f}\")\n",
    "\n",
    "epochs = 3000\n",
    "batch_size = 4096\n",
    "optimizer = torch.optim.Adam(model.parameters(), lr=3e-4) \n",
    "\n",
    "lossi = []\n",
    "vlossi = []\n",
    "\n",
    "for epoch in range(epochs):\n",
    "    indexes = torch.randint(0, len(inputs), (batch_size,))\n",
    "    \n",
    "    pred = model(inputs[indexes].to(device)) \n",
    "    loss = F.cross_entropy(pred, labels[indexes].to(device))\n",
    "\n",
    "    loss.backward()\n",
    "    optimizer.step()\n",
    "    optimizer.zero_grad()\n",
    "\n",
    "    lossi.append(loss.item())\n",
    "    if epoch % (epochs//10) == 0:\n",
    "        print(f\"Epoch {epoch:_>4d} - Loss: {loss.item():.3f}\")\n",
    "\n",
    "    with torch.no_grad():\n",
    "        pred = model(val_inputs.to(device))\n",
    "        vloss = F.cross_entropy(pred, val_labels.to(device))\n",
    "        vlossi.append(vloss.item())\n",
    "\n",
    "plt.figure(figsize=(6, 3))  \n",
    "plt.plot(lossi, label='Loss')\n",
    "plt.plot(vlossi, label='Validation Loss')\n",
    "plt.legend()"
   ]
  },
  {
   "cell_type": "markdown",
   "metadata": {},
   "source": [
    "# Normalization\n",
    "\n",
    "deeper connections allow us to go up to crazy amounts of layers, but we instantly notice the unreasonably high loss at the start, we solved this problem before by decreasing the parameter values at initialization, but if we go down more we are going to get extremely low values. Restricting the flow of information through the network<br><br>\n",
    "We want the information in the neurons to travel through the network while not getting blown out to crazy high values. To do that we can normalize the neurons with layernorm, so that std = 1 and mean = 0\n",
    "\n",
    "(you might want to apply normalization only once in a while, not at every layer like this, but performance is similar so I'll just show this version)"
   ]
  },
  {
   "cell_type": "code",
   "execution_count": 11,
   "metadata": {
    "metadata": {}
   },
   "outputs": [
    {
     "name": "stdout",
     "output_type": "stream",
     "text": [
      "Millions of parameters: 0.96\n",
      "Epoch ___0 - Loss: 4.344\n",
      "Epoch _300 - Loss: 1.971\n",
      "Epoch _600 - Loss: 1.663\n",
      "Epoch _900 - Loss: 1.540\n",
      "Epoch 1200 - Loss: 1.517\n",
      "Epoch 1500 - Loss: 1.434\n",
      "Epoch 1800 - Loss: 1.433\n",
      "Epoch 2100 - Loss: 1.382\n",
      "Epoch 2400 - Loss: 1.387\n",
      "Epoch 2700 - Loss: 1.303\n"
     ]
    },
    {
     "data": {
      "text/plain": [
       "<matplotlib.legend.Legend at 0x7006b28c0f70>"
      ]
     },
     "execution_count": 11,
     "metadata": {},
     "output_type": "execute_result"
    },
    {
     "data": {
      "image/png": "[encoded data removed]",
      "text/plain": [
       "<Figure size 600x300 with 1 Axes>"
      ]
     },
     "metadata": {},
     "output_type": "display_data"
    }
   ],
   "source": [
    "class Model(nn.Module):\n",
    "    def __init__(self, emb_size, hidden_size, n_layers):\n",
    "        super().__init__()\n",
    "        self.embeddings = nn.Embedding(vocab_size, emb_size)\n",
    "        self.fc1 = nn.Linear(emb_size*sequence_length, hidden_size)\n",
    "        self.fcx = nn.ModuleList([nn.Linear(hidden_size, hidden_size) for _ in range(n_layers)]) \n",
    "        self.fc2 = nn.Linear(hidden_size, vocab_size)\n",
    "        self.norm = nn.LayerNorm(hidden_size)  # added batch norm\n",
    "\n",
    "    def forward(self, inputs):\n",
    "        emb = self.embeddings(inputs).view(inputs.shape[0], -1)\n",
    "        x = F.gelu(self.fc1(emb))\n",
    "        for hidden in self.fcx: \n",
    "            x = x + self.norm(F.gelu(hidden(x)))  \n",
    "        x = self.norm(x)\n",
    "        return self.fc2(x)\n",
    "\n",
    "\n",
    "device = torch.device(\"cuda:0\")\n",
    "model = Model(emb_size=10, hidden_size=128, n_layers=56).to(device)\n",
    "print(f\"Millions of parameters: {sum(p.numel() for p in model.parameters())/1e6:.2f}\")\n",
    "\n",
    "epochs = 3000\n",
    "batch_size = 4096\n",
    "optimizer = torch.optim.Adam(model.parameters(), lr=3e-4) \n",
    "\n",
    "lossi = []\n",
    "vlossi = []\n",
    "\n",
    "for epoch in range(epochs):\n",
    "    indexes = torch.randint(0, len(inputs), (batch_size,))\n",
    "    \n",
    "    pred = model(inputs[indexes].to(device)) \n",
    "    loss = F.cross_entropy(pred, labels[indexes].to(device))\n",
    "\n",
    "    loss.backward()\n",
    "    optimizer.step()\n",
    "    optimizer.zero_grad()\n",
    "\n",
    "    lossi.append(loss.item())\n",
    "    if epoch % (epochs//10) == 0:\n",
    "        print(f\"Epoch {epoch:_>4d} - Loss: {loss.item():.3f}\")\n",
    "\n",
    "    with torch.no_grad():\n",
    "        pred = model(val_inputs.to(device))\n",
    "        vloss = F.cross_entropy(pred, val_labels.to(device))\n",
    "        vlossi.append(vloss.item())\n",
    "\n",
    "plt.figure(figsize=(6, 3))  \n",
    "plt.plot(lossi, label='Loss')\n",
    "plt.plot(vlossi, label='Validation Loss')\n",
    "plt.legend()"
   ]
  },
  {
   "cell_type": "code",
   "execution_count": 9,
   "metadata": {},
   "outputs": [
    {
     "name": "stdout",
     "output_type": "stream",
     "text": [
      "             \n",
      "KING RICHARD I have your worships.\n",
      "\n",
      "KING HICRINT:\n",
      "Sacks hear him, to sound, disther a come; Reaces did and thee\n",
      "Edward they'll fight\n",
      "And to my head, then.\n",
      "\n",
      "MONG HENRY VI:\n",
      "Night\n",
      "My valoms face never Edward me leavail'd strength\n",
      "aniress, and you known.\n",
      "\n",
      "HENRY VI say,\n",
      "But that was means looks.\n",
      "\n",
      "YOMPERIA:\n",
      "Mestines; s"
     ]
    }
   ],
   "source": [
    "string = \"             \\nKING RICHARD I\"\n",
    "print(string, end=\"\")\n",
    "\n",
    "with torch.no_grad():\n",
    "    model.eval()\n",
    "    for _ in range(300):\n",
    "        X = torch.tensor([texttoint[s] for s in string[-sequence_length:]]).long().view(1, -1).to(device)\n",
    "        pred = model.forward(X)\n",
    "        string += inttotext[torch.multinomial(F.softmax(pred, dim=1), 1).item()]\n",
    "        print(string[-1], end=\"\")\n",
    "    model.train()\n"
   ]
  },
  {
   "cell_type": "markdown",
   "metadata": {},
   "source": [
    "# WAYY TOO DEEP\n",
    "Just for fun lets try way more layers"
   ]
  },
  {
   "cell_type": "code",
   "execution_count": 12,
   "metadata": {},
   "outputs": [
    {
     "name": "stdout",
     "output_type": "stream",
     "text": [
      "Millions of parameters: 3.34\n",
      "Epoch ___0 - Loss: 4.288\n"
     ]
    },
    {
     "ename": "KeyboardInterrupt",
     "evalue": "",
     "output_type": "error",
     "traceback": [
      "\u001b[0;31m---------------------------------------------------------------------------\u001b[0m",
      "\u001b[0;31mKeyboardInterrupt\u001b[0m                         Traceback (most recent call last)",
      "Cell \u001b[0;32mIn[12], line 35\u001b[0m\n\u001b[1;32m     32\u001b[0m pred \u001b[38;5;241m=\u001b[39m model(inputs[indexes]\u001b[38;5;241m.\u001b[39mto(device)) \n\u001b[1;32m     33\u001b[0m loss \u001b[38;5;241m=\u001b[39m F\u001b[38;5;241m.\u001b[39mcross_entropy(pred, labels[indexes]\u001b[38;5;241m.\u001b[39mto(device))\n\u001b[0;32m---> 35\u001b[0m \u001b[43mloss\u001b[49m\u001b[38;5;241;43m.\u001b[39;49m\u001b[43mbackward\u001b[49m\u001b[43m(\u001b[49m\u001b[43m)\u001b[49m\n\u001b[1;32m     36\u001b[0m optimizer\u001b[38;5;241m.\u001b[39mstep()\n\u001b[1;32m     37\u001b[0m optimizer\u001b[38;5;241m.\u001b[39mzero_grad()\n",
      "File \u001b[0;32m~/.local/lib/python3.10/site-packages/torch/_tensor.py:522\u001b[0m, in \u001b[0;36mTensor.backward\u001b[0;34m(self, gradient, retain_graph, create_graph, inputs)\u001b[0m\n\u001b[1;32m    512\u001b[0m \u001b[38;5;28;01mif\u001b[39;00m has_torch_function_unary(\u001b[38;5;28mself\u001b[39m):\n\u001b[1;32m    513\u001b[0m     \u001b[38;5;28;01mreturn\u001b[39;00m handle_torch_function(\n\u001b[1;32m    514\u001b[0m         Tensor\u001b[38;5;241m.\u001b[39mbackward,\n\u001b[1;32m    515\u001b[0m         (\u001b[38;5;28mself\u001b[39m,),\n\u001b[0;32m   (...)\u001b[0m\n\u001b[1;32m    520\u001b[0m         inputs\u001b[38;5;241m=\u001b[39minputs,\n\u001b[1;32m    521\u001b[0m     )\n\u001b[0;32m--> 522\u001b[0m \u001b[43mtorch\u001b[49m\u001b[38;5;241;43m.\u001b[39;49m\u001b[43mautograd\u001b[49m\u001b[38;5;241;43m.\u001b[39;49m\u001b[43mbackward\u001b[49m\u001b[43m(\u001b[49m\n\u001b[1;32m    523\u001b[0m \u001b[43m    \u001b[49m\u001b[38;5;28;43mself\u001b[39;49m\u001b[43m,\u001b[49m\u001b[43m \u001b[49m\u001b[43mgradient\u001b[49m\u001b[43m,\u001b[49m\u001b[43m \u001b[49m\u001b[43mretain_graph\u001b[49m\u001b[43m,\u001b[49m\u001b[43m \u001b[49m\u001b[43mcreate_graph\u001b[49m\u001b[43m,\u001b[49m\u001b[43m \u001b[49m\u001b[43minputs\u001b[49m\u001b[38;5;241;43m=\u001b[39;49m\u001b[43minputs\u001b[49m\n\u001b[1;32m    524\u001b[0m \u001b[43m\u001b[49m\u001b[43m)\u001b[49m\n",
      "File \u001b[0;32m~/.local/lib/python3.10/site-packages/torch/autograd/__init__.py:266\u001b[0m, in \u001b[0;36mbackward\u001b[0;34m(tensors, grad_tensors, retain_graph, create_graph, grad_variables, inputs)\u001b[0m\n\u001b[1;32m    261\u001b[0m     retain_graph \u001b[38;5;241m=\u001b[39m create_graph\n\u001b[1;32m    263\u001b[0m \u001b[38;5;66;03m# The reason we repeat the same comment below is that\u001b[39;00m\n\u001b[1;32m    264\u001b[0m \u001b[38;5;66;03m# some Python versions print out the first line of a multi-line function\u001b[39;00m\n\u001b[1;32m    265\u001b[0m \u001b[38;5;66;03m# calls in the traceback and some print out the last line\u001b[39;00m\n\u001b[0;32m--> 266\u001b[0m \u001b[43mVariable\u001b[49m\u001b[38;5;241;43m.\u001b[39;49m\u001b[43m_execution_engine\u001b[49m\u001b[38;5;241;43m.\u001b[39;49m\u001b[43mrun_backward\u001b[49m\u001b[43m(\u001b[49m\u001b[43m  \u001b[49m\u001b[38;5;66;43;03m# Calls into the C++ engine to run the backward pass\u001b[39;49;00m\n\u001b[1;32m    267\u001b[0m \u001b[43m    \u001b[49m\u001b[43mtensors\u001b[49m\u001b[43m,\u001b[49m\n\u001b[1;32m    268\u001b[0m \u001b[43m    \u001b[49m\u001b[43mgrad_tensors_\u001b[49m\u001b[43m,\u001b[49m\n\u001b[1;32m    269\u001b[0m \u001b[43m    \u001b[49m\u001b[43mretain_graph\u001b[49m\u001b[43m,\u001b[49m\n\u001b[1;32m    270\u001b[0m \u001b[43m    \u001b[49m\u001b[43mcreate_graph\u001b[49m\u001b[43m,\u001b[49m\n\u001b[1;32m    271\u001b[0m \u001b[43m    \u001b[49m\u001b[43minputs\u001b[49m\u001b[43m,\u001b[49m\n\u001b[1;32m    272\u001b[0m \u001b[43m    \u001b[49m\u001b[43mallow_unreachable\u001b[49m\u001b[38;5;241;43m=\u001b[39;49m\u001b[38;5;28;43;01mTrue\u001b[39;49;00m\u001b[43m,\u001b[49m\n\u001b[1;32m    273\u001b[0m \u001b[43m    \u001b[49m\u001b[43maccumulate_grad\u001b[49m\u001b[38;5;241;43m=\u001b[39;49m\u001b[38;5;28;43;01mTrue\u001b[39;49;00m\u001b[43m,\u001b[49m\n\u001b[1;32m    274\u001b[0m \u001b[43m\u001b[49m\u001b[43m)\u001b[49m\n",
      "\u001b[0;31mKeyboardInterrupt\u001b[0m: "
     ]
    }
   ],
   "source": [
    "class Model(nn.Module):\n",
    "    def __init__(self, emb_size, hidden_size, n_layers):\n",
    "        super().__init__()\n",
    "        self.embeddings = nn.Embedding(vocab_size, emb_size)\n",
    "        self.fc1 = nn.Linear(emb_size*sequence_length, hidden_size)\n",
    "        self.fcx = nn.ModuleList([nn.Linear(hidden_size, hidden_size) for _ in range(n_layers)]) \n",
    "        self.fc2 = nn.Linear(hidden_size, vocab_size)\n",
    "        self.norm = nn.BatchNorm1d(hidden_size)  \n",
    "\n",
    "    def forward(self, inputs):\n",
    "        emb = self.embeddings(inputs).view(inputs.shape[0], -1)\n",
    "        x = F.gelu(self.fc1(emb))\n",
    "        for hidden in self.fcx: \n",
    "            x = x + self.norm(F.gelu(hidden(x)))  \n",
    "        return self.fc2(self.norm(x))\n",
    "\n",
    "\n",
    "device = torch.device(\"cuda:0\")\n",
    "model = Model(emb_size=10, hidden_size=128, n_layers=200).to(device)  # increased to 200 layers\n",
    "print(f\"Millions of parameters: {sum(p.numel() for p in model.parameters())/1e6:.2f}\")\n",
    "\n",
    "epochs = 3000\n",
    "batch_size = 4096\n",
    "optimizer = torch.optim.Adam(model.parameters(), lr=3e-4) \n",
    "\n",
    "lossi = []\n",
    "vlossi = []\n",
    "\n",
    "for epoch in range(epochs):\n",
    "    indexes = torch.randint(0, len(inputs), (batch_size,))\n",
    "    \n",
    "    pred = model(inputs[indexes].to(device)) \n",
    "    loss = F.cross_entropy(pred, labels[indexes].to(device))\n",
    "\n",
    "    loss.backward()\n",
    "    optimizer.step()\n",
    "    optimizer.zero_grad()\n",
    "\n",
    "    lossi.append(loss.item())\n",
    "    if epoch % (epochs//10) == 0:\n",
    "        print(f\"Epoch {epoch:_>4d} - Loss: {loss.item():.3f}\")\n",
    "\n",
    "    with torch.no_grad():\n",
    "        pred = model(val_inputs.to(device))\n",
    "        vloss = F.cross_entropy(pred, val_labels.to(device))\n",
    "        vlossi.append(vloss.item())\n",
    "\n",
    "plt.figure(figsize=(6, 3))  \n",
    "plt.plot(lossi, label='Loss')\n",
    "plt.plot(vlossi, label='Validation Loss')\n",
    "plt.legend()"
   ]
  },
  {
   "cell_type": "markdown",
   "metadata": {},
   "source": [
    "# Limits to scale\n",
    "The model clearly has problems backpropagating the gradients effectively. You may be able to make it work with some weird trick but there are solutions that scale much better. "
   ]
  }
 ],
 "metadata": {
  "kernelspec": {
   "display_name": "base",
   "language": "python",
   "name": "python3"
  },
  "language_info": {
   "codemirror_mode": {
    "name": "ipython",
    "version": 3
   },
   "file_extension": ".py",
   "mimetype": "text/x-python",
   "name": "python",
   "nbconvert_exporter": "python",
   "pygments_lexer": "ipython3",
   "version": "3.10.12"
  }
 },
 "nbformat": 4,
 "nbformat_minor": 2
}
