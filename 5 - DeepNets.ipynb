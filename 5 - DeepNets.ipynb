{
 "cells": [
  {
   "cell_type": "code",
   "execution_count": 2,
   "metadata": {
    "metadata": {}
   },
   "outputs": [],
   "source": [
    "import torch\n",
    "import torch.nn as nn\n",
    "import torch.nn.functional as F\n",
    "import matplotlib.pyplot as plt \n"
   ]
  },
  {
   "cell_type": "markdown",
   "metadata": {},
   "source": [
    "# Loading the dataset"
   ]
  },
  {
   "cell_type": "code",
   "execution_count": 3,
   "metadata": {
    "metadata": {}
   },
   "outputs": [
    {
     "name": "stdout",
     "output_type": "stream",
     "text": [
      "First Citizen:\n",
      "Before we proceed any further, hear me speak.\n",
      "\n",
      "All:\n",
      "Speak, speak.\n",
      "\n",
      "First Citizen:\n",
      "You are all resolved rather to die than to famish?\n",
      "\n",
      "All:\n",
      "Resolved. resolved.\n",
      "\n",
      "First Citizen:\n",
      "First, you\n"
     ]
    }
   ],
   "source": [
    "with open(\"datasets/tinyShakespeare.txt\", \"r\") as f:\n",
    "    load = f.read()\n",
    "print(load[:200])"
   ]
  },
  {
   "cell_type": "code",
   "execution_count": 4,
   "metadata": {
    "metadata": {}
   },
   "outputs": [],
   "source": [
    "texttoint = {elm: n for n, elm in enumerate(set(load))}\n",
    "inttotext = {n:elm for n, elm in enumerate(set(load))}\n",
    "dataset = [texttoint[c] for c in load]\n",
    "\n",
    "vocab_size = len(texttoint)\n",
    "sequence_length = 20\n",
    "\n",
    "sequences = torch.tensor([dataset[i:-sequence_length+i-1] for i in range(sequence_length+1)]).T\n",
    "inputs = sequences[2000:, :-1]\n",
    "labels = sequences[2000:, -1]\n",
    "val_inputs = sequences[:2000, :-1]\n",
    "val_labels = sequences[:2000, -1]"
   ]
  },
  {
   "cell_type": "markdown",
   "metadata": {},
   "source": [
    "# Deeper Network (2 hidden layers)\n",
    "\n",
    "To get from the perceptron to mlp we expanded the model with many parallel matrix operations. Now we can try to make it deeper, with more operations happening in series. <br>\n",
    "This is especially poerful because biological neurons fire around 100 times a second, it takes a human 100ms to identify an object, so it stands to reason that a 10 layer network should be able to do complex tasks.  "
   ]
  },
  {
   "cell_type": "code",
   "execution_count": 5,
   "metadata": {
    "metadata": {}
   },
   "outputs": [
    {
     "name": "stdout",
     "output_type": "stream",
     "text": [
      "Millions of parameters: 0.07\n",
      "Epoch ___0 - Loss: 4.169\n",
      "Epoch _300 - Loss: 2.788\n",
      "Epoch _600 - Loss: 2.442\n",
      "Epoch _900 - Loss: 2.232\n",
      "Epoch 1200 - Loss: 2.125\n",
      "Epoch 1500 - Loss: 2.051\n",
      "Epoch 1800 - Loss: 1.997\n",
      "Epoch 2100 - Loss: 1.980\n",
      "Epoch 2400 - Loss: 1.908\n",
      "Epoch 2700 - Loss: 1.850\n"
     ]
    },
    {
     "data": {
      "text/plain": [
       "<matplotlib.legend.Legend at 0x7ff7585742e0>"
      ]
     },
     "execution_count": 5,
     "metadata": {},
     "output_type": "execute_result"
    },
    {
     "data": {
      "image/png": "[encoded data removed]",
      "text/plain": [
       "<Figure size 600x300 with 1 Axes>"
      ]
     },
     "metadata": {},
     "output_type": "display_data"
    }
   ],
   "source": [
    "class Model(nn.Module):\n",
    "    def __init__(self, emb_size, hidden_size, n_layers):\n",
    "        super().__init__()\n",
    "        self.embeddings = nn.Embedding(vocab_size, emb_size)\n",
    "        self.fc1 = nn.Linear(emb_size*sequence_length, hidden_size)\n",
    "        self.fcx = nn.ModuleList([nn.Linear(hidden_size, hidden_size) for _ in range(n_layers)]) # this is a list of linear layers\n",
    "        self.fc2 = nn.Linear(hidden_size, vocab_size)\n",
    "    \n",
    "    def forward(self, inputs):\n",
    "        emb = self.embeddings(inputs).view(inputs.shape[0], -1)\n",
    "        x = F.gelu(self.fc1(emb))\n",
    "        for hidden in self.fcx:    # iterating over hidden layers\n",
    "            x = F.gelu(hidden(x))  # applying each hidden layer\n",
    "        return self.fc2(x)\n",
    "\n",
    "\n",
    "device = torch.device(\"cuda:0\")\n",
    "model = Model(emb_size=10, hidden_size=128, n_layers=2).to(device)\n",
    "print(f\"Millions of parameters: {sum(p.numel() for p in model.parameters())/1e6:.2f}\")\n",
    "\n",
    "epochs = 3000\n",
    "batch_size = 4096\n",
    "optimizer = torch.optim.Adam(model.parameters(), lr=3e-4)  # 3e-4 is a good learning rate for Adam on big models\n",
    "\n",
    "lossi = []\n",
    "vlossi = []\n",
    "\n",
    "for epoch in range(epochs):\n",
    "    indexes = torch.randint(0, len(inputs), (batch_size,))\n",
    "    \n",
    "    pred = model(inputs[indexes].to(device)) \n",
    "    loss = F.cross_entropy(pred, labels[indexes].to(device))\n",
    "\n",
    "    loss.backward()\n",
    "    optimizer.step()\n",
    "    optimizer.zero_grad()\n",
    "\n",
    "    lossi.append(loss.item())\n",
    "    if epoch % (epochs//10) == 0:\n",
    "        print(f\"Epoch {epoch:_>4d} - Loss: {loss.item():.3f}\")\n",
    "    \n",
    "    with torch.no_grad():\n",
    "        pred = model(val_inputs.to(device))\n",
    "        vloss = F.cross_entropy(pred, val_labels.to(device))\n",
    "        vlossi.append(vloss.item())\n",
    "\n",
    "plt.figure(figsize=(6, 3))  \n",
    "plt.plot(lossi, label='Loss')\n",
    "plt.plot(vlossi, label='Validation Loss')\n",
    "plt.legend()"
   ]
  },
  {
   "cell_type": "markdown",
   "metadata": {},
   "source": [
    "# Much deeper network (20 layers)"
   ]
  },
  {
   "cell_type": "code",
   "execution_count": 6,
   "metadata": {
    "metadata": {}
   },
   "outputs": [
    {
     "name": "stdout",
     "output_type": "stream",
     "text": [
      "Millions of parameters: 0.37\n",
      "Epoch ___0 - Loss: 4.160\n",
      "Epoch _300 - Loss: 3.130\n",
      "Epoch _600 - Loss: 2.688\n",
      "Epoch _900 - Loss: 2.538\n",
      "Epoch 1200 - Loss: 2.434\n",
      "Epoch 1500 - Loss: 2.384\n",
      "Epoch 1800 - Loss: 2.361\n",
      "Epoch 2100 - Loss: 2.322\n",
      "Epoch 2400 - Loss: 2.253\n",
      "Epoch 2700 - Loss: 2.281\n"
     ]
    },
    {
     "data": {
      "text/plain": [
       "<matplotlib.legend.Legend at 0x7ff757c2b340>"
      ]
     },
     "execution_count": 6,
     "metadata": {},
     "output_type": "execute_result"
    },
    {
     "data": {
      "image/png": "[encoded data removed]",
      "text/plain": [
       "<Figure size 600x300 with 1 Axes>"
      ]
     },
     "metadata": {},
     "output_type": "display_data"
    }
   ],
   "source": [
    "class Model(nn.Module):  # Same model class as before\n",
    "    def __init__(self, emb_size, hidden_size, n_layers):\n",
    "        super().__init__()\n",
    "        self.embeddings = nn.Embedding(vocab_size, emb_size)\n",
    "        self.fc1 = nn.Linear(emb_size*sequence_length, hidden_size)\n",
    "        self.fcx = nn.ModuleList([nn.Linear(hidden_size, hidden_size) for _ in range(n_layers)])\n",
    "        self.fc2 = nn.Linear(hidden_size, vocab_size)\n",
    "    \n",
    "    def forward(self, inputs):\n",
    "        emb = self.embeddings(inputs).view(inputs.shape[0], -1)\n",
    "        x = F.gelu(self.fc1(emb))\n",
    "        for hidden in self.fcx:\n",
    "            x = F.gelu(hidden(x))\n",
    "        return self.fc2(x)\n",
    "\n",
    "\n",
    "device = torch.device(\"cuda:0\")\n",
    "model = Model(emb_size=10, hidden_size=128, n_layers=20).to(device)  # increased to 20 layers \n",
    "print(f\"Millions of parameters: {sum(p.numel() for p in model.parameters())/1e6:.2f}\")\n",
    "\n",
    "epochs = 3000\n",
    "batch_size = 4096\n",
    "optimizer = torch.optim.Adam(model.parameters(), lr=3e-4) \n",
    "\n",
    "lossi = []\n",
    "vlossi = []\n",
    "\n",
    "for epoch in range(epochs):\n",
    "    indexes = torch.randint(0, len(inputs), (batch_size,))\n",
    "    \n",
    "    pred = model(inputs[indexes].to(device)) \n",
    "    loss = F.cross_entropy(pred, labels[indexes].to(device))\n",
    "\n",
    "    loss.backward()\n",
    "    optimizer.step()\n",
    "    optimizer.zero_grad()\n",
    "\n",
    "    lossi.append(loss.item())\n",
    "    if epoch % (epochs//10) == 0:\n",
    "        print(f\"Epoch {epoch:_>4d} - Loss: {loss.item():.3f}\")\n",
    "\n",
    "    with torch.no_grad():\n",
    "        pred = model(val_inputs.to(device))\n",
    "        vloss = F.cross_entropy(pred, val_labels.to(device))\n",
    "        vlossi.append(vloss.item())\n",
    "\n",
    "plt.figure(figsize=(6, 3))  \n",
    "plt.plot(lossi, label='Loss')\n",
    "plt.plot(vlossi, label='Validation Loss')\n",
    "plt.legend()"
   ]
  },
  {
   "cell_type": "markdown",
   "metadata": {},
   "source": [
    "The network with 20 hidden layers is unable to train effectively, thats because the derivatives don't flow well between the layers"
   ]
  },
  {
   "cell_type": "markdown",
   "metadata": {},
   "source": [
    "# Residual connections"
   ]
  },
  {
   "cell_type": "code",
   "execution_count": 12,
   "metadata": {
    "metadata": {}
   },
   "outputs": [
    {
     "name": "stdout",
     "output_type": "stream",
     "text": [
      "Millions of parameters: 0.37\n",
      "Epoch ___0 - Loss: 5.947\n",
      "Epoch _300 - Loss: 2.314\n",
      "Epoch _600 - Loss: 1.971\n",
      "Epoch _900 - Loss: 1.759\n",
      "Epoch 1200 - Loss: 1.725\n",
      "Epoch 1500 - Loss: 1.616\n",
      "Epoch 1800 - Loss: 1.583\n",
      "Epoch 2100 - Loss: 1.559\n",
      "Epoch 2400 - Loss: 1.550\n",
      "Epoch 2700 - Loss: 1.536\n"
     ]
    },
    {
     "data": {
      "text/plain": [
       "<matplotlib.legend.Legend at 0x7ff7405cf970>"
      ]
     },
     "execution_count": 12,
     "metadata": {},
     "output_type": "execute_result"
    },
    {
     "data": {
      "image/png": "[encoded data removed]",
      "text/plain": [
       "<Figure size 600x300 with 1 Axes>"
      ]
     },
     "metadata": {},
     "output_type": "display_data"
    }
   ],
   "source": [
    "class Model(nn.Module):\n",
    "    def __init__(self, emb_size, hidden_size, n_layers):\n",
    "        super().__init__()\n",
    "        self.embeddings = nn.Embedding(vocab_size, emb_size)\n",
    "        self.fc1 = nn.Linear(emb_size*sequence_length, hidden_size)\n",
    "        self.fcx = nn.ModuleList([nn.Linear(hidden_size, hidden_size) for _ in range(n_layers)]) \n",
    "        self.fc2 = nn.Linear(hidden_size, vocab_size)\n",
    "    \n",
    "    def forward(self, inputs):\n",
    "        emb = self.embeddings(inputs).view(inputs.shape[0], -1)\n",
    "        x = F.gelu(self.fc1(emb))\n",
    "        for hidden in self.fcx: \n",
    "            x = x + F.gelu(hidden(x))  # added skip connection \n",
    "        return self.fc2(x)\n",
    "    \n",
    "\n",
    "device = torch.device(\"cuda:0\")\n",
    "model = Model(emb_size=10, hidden_size=128, n_layers=20).to(device)\n",
    "print(f\"Millions of parameters: {sum(p.numel() for p in model.parameters())/1e6:.2f}\")\n",
    "\n",
    "epochs = 3000\n",
    "batch_size = 4096\n",
    "optimizer = torch.optim.Adam(model.parameters(), lr=3e-4) \n",
    "\n",
    "lossi = []\n",
    "vlossi = []\n",
    "\n",
    "for epoch in range(epochs):\n",
    "    indexes = torch.randint(0, len(inputs), (batch_size,))\n",
    "    \n",
    "    pred = model(inputs[indexes].to(device)) \n",
    "    loss = F.cross_entropy(pred, labels[indexes].to(device))\n",
    "\n",
    "    loss.backward()\n",
    "    optimizer.step()\n",
    "    optimizer.zero_grad()\n",
    "\n",
    "    lossi.append(loss.item())\n",
    "    if epoch % (epochs//10) == 0:\n",
    "        print(f\"Epoch {epoch:_>4d} - Loss: {loss.item():.3f}\")\n",
    "    \n",
    "    with torch.no_grad():\n",
    "        pred = model(val_inputs.to(device))\n",
    "        vloss = F.cross_entropy(pred, val_labels.to(device))\n",
    "        vlossi.append(vloss.item())\n",
    "\n",
    "plt.figure(figsize=(6, 3))  \n",
    "plt.plot(lossi, label='Loss')\n",
    "plt.plot(vlossi, label='Validation Loss')\n",
    "plt.legend()"
   ]
  },
  {
   "cell_type": "markdown",
   "metadata": {},
   "source": [
    "# Deeper (56 layers) "
   ]
  },
  {
   "cell_type": "code",
   "execution_count": 8,
   "metadata": {
    "metadata": {}
   },
   "outputs": [
    {
     "name": "stdout",
     "output_type": "stream",
     "text": [
      "Millions of parameters: 0.96\n",
      "Epoch ___0 - Loss: 16900.322\n",
      "Epoch _300 - Loss: 3.370\n",
      "Epoch _600 - Loss: 3.202\n",
      "Epoch _900 - Loss: 3.053\n",
      "Epoch 1200 - Loss: 2.975\n",
      "Epoch 1500 - Loss: 2.856\n",
      "Epoch 1800 - Loss: 2.755\n",
      "Epoch 2100 - Loss: 2.701\n",
      "Epoch 2400 - Loss: 2.634\n",
      "Epoch 2700 - Loss: 2.502\n"
     ]
    }
   ],
   "source": [
    "class Model(nn.Module):\n",
    "    def __init__(self, emb_size, hidden_size, n_layers):\n",
    "        super().__init__()\n",
    "        self.embeddings = nn.Embedding(vocab_size, emb_size)\n",
    "        self.fc1 = nn.Linear(emb_size*sequence_length, hidden_size)\n",
    "        self.fcx = nn.ModuleList([nn.Linear(hidden_size, hidden_size) for _ in range(n_layers)]) \n",
    "        self.fc2 = nn.Linear(hidden_size, vocab_size)\n",
    "    \n",
    "    def forward(self, inputs):\n",
    "        emb = self.embeddings(inputs).view(inputs.shape[0], -1)\n",
    "        x = F.gelu(self.fc1(emb))\n",
    "        for hidden in self.fcx: \n",
    "            x = x + F.gelu(hidden(x))  \n",
    "        return self.fc2(x)\n",
    "\n",
    "\n",
    "device = torch.device(\"cuda:0\")\n",
    "model = Model(emb_size=10, hidden_size=128, n_layers=56).to(device)  # increased to 56 layers\n",
    "print(f\"Millions of parameters: {sum(p.numel() for p in model.parameters())/1e6:.2f}\")\n",
    "\n",
    "epochs = 3000\n",
    "batch_size = 4096\n",
    "optimizer = torch.optim.Adam(model.parameters(), lr=3e-4) \n",
    "\n",
    "lossi = []\n",
    "vlossi = []\n",
    "\n",
    "for epoch in range(epochs):\n",
    "    indexes = torch.randint(0, len(inputs), (batch_size,))\n",
    "    \n",
    "    pred = model(inputs[indexes].to(device)) \n",
    "    loss = F.cross_entropy(pred, labels[indexes].to(device))\n",
    "\n",
    "    loss.backward()\n",
    "    optimizer.step()\n",
    "    optimizer.zero_grad()\n",
    "\n",
    "    lossi.append(loss.item())\n",
    "    if epoch % (epochs//10) == 0:\n",
    "        print(f\"Epoch {epoch:_>4d} - Loss: {loss.item():.3f}\")\n",
    "\n",
    "    with torch.no_grad():\n",
    "        pred = model(val_inputs.to(device))\n",
    "        vloss = F.cross_entropy(pred, val_labels.to(device))\n",
    "        vlossi.append(vloss.item())\n",
    "\n",
    "plt.figure(figsize=(6, 3))  \n",
    "plt.plot(lossi, label='Loss')\n",
    "plt.plot(vlossi, label='Validation Loss')\n",
    "plt.legend()"
   ]
  },
  {
   "cell_type": "markdown",
   "metadata": {},
   "source": [
    "# Normalization\n",
    "\n",
    "deeper connections allow us to go up to crazy amounts of layers, but we instantly notice the unreasonably high loss at the start, we solved this problem before by decreasing the parameter values at initialization, but if we go down more we are going to get extremely low values. Restricting the flow of information through the network<br><br>\n",
    "We want the information in the neurons to travel through the network while not getting blown out to crazy high values. To do that we can normalize the neurons with layernorm, so that std = 1 and mean = 0\n",
    "\n",
    "(you might want to apply normalization only once in a while, not at every layer like this, but performance is similar so I'll just show this version)"
   ]
  },
  {
   "cell_type": "code",
   "execution_count": 18,
   "metadata": {
    "metadata": {}
   },
   "outputs": [
    {
     "name": "stdout",
     "output_type": "stream",
     "text": [
      "Millions of parameters: 0.96\n",
      "Epoch ___0 - Loss: 4.349\n",
      "Epoch _300 - Loss: 2.060\n",
      "Epoch _600 - Loss: 1.714\n",
      "Epoch _900 - Loss: 1.570\n",
      "Epoch 1200 - Loss: 1.519\n",
      "Epoch 1500 - Loss: 1.481\n",
      "Epoch 1800 - Loss: 1.458\n",
      "Epoch 2100 - Loss: 1.455\n",
      "Epoch 2400 - Loss: 1.403\n",
      "Epoch 2700 - Loss: 1.334\n"
     ]
    },
    {
     "data": {
      "text/plain": [
       "<matplotlib.legend.Legend at 0x7ff740355450>"
      ]
     },
     "execution_count": 18,
     "metadata": {},
     "output_type": "execute_result"
    },
    {
     "data": {
      "image/png": "[encoded data removed]",
      "text/plain": [
       "<Figure size 600x300 with 1 Axes>"
      ]
     },
     "metadata": {},
     "output_type": "display_data"
    }
   ],
   "source": [
    "class Model(nn.Module):\n",
    "    def __init__(self, emb_size, hidden_size, n_layers):\n",
    "        super().__init__()\n",
    "        self.embeddings = nn.Embedding(vocab_size, emb_size)\n",
    "        self.fc1 = nn.Linear(emb_size*sequence_length, hidden_size)\n",
    "        self.fcx = nn.ModuleList([nn.Linear(hidden_size, hidden_size) for _ in range(n_layers)]) \n",
    "        self.fc2 = nn.Linear(hidden_size, vocab_size)\n",
    "        self.norm = nn.LayerNorm(hidden_size)  # added batch norm\n",
    "\n",
    "    def forward(self, inputs):\n",
    "        emb = self.embeddings(inputs).view(inputs.shape[0], -1)\n",
    "        x = F.gelu(self.fc1(emb))\n",
    "        for hidden in self.fcx: \n",
    "            x = self.norm(x + F.gelu(hidden(x)))  \n",
    "        return self.fc2(x)\n",
    "\n",
    "\n",
    "device = torch.device(\"cuda:0\")\n",
    "model = Model(emb_size=10, hidden_size=128, n_layers=56).to(device)\n",
    "print(f\"Millions of parameters: {sum(p.numel() for p in model.parameters())/1e6:.2f}\")\n",
    "\n",
    "epochs = 3000\n",
    "batch_size = 4096\n",
    "optimizer = torch.optim.Adam(model.parameters(), lr=3e-4) \n",
    "\n",
    "lossi = []\n",
    "vlossi = []\n",
    "\n",
    "for epoch in range(epochs):\n",
    "    indexes = torch.randint(0, len(inputs), (batch_size,))\n",
    "    \n",
    "    pred = model(inputs[indexes].to(device)) \n",
    "    loss = F.cross_entropy(pred, labels[indexes].to(device))\n",
    "\n",
    "    loss.backward()\n",
    "    optimizer.step()\n",
    "    optimizer.zero_grad()\n",
    "\n",
    "    lossi.append(loss.item())\n",
    "    if epoch % (epochs//10) == 0:\n",
    "        print(f\"Epoch {epoch:_>4d} - Loss: {loss.item():.3f}\")\n",
    "\n",
    "    with torch.no_grad():\n",
    "        pred = model(val_inputs.to(device))\n",
    "        vloss = F.cross_entropy(pred, val_labels.to(device))\n",
    "        vlossi.append(vloss.item())\n",
    "\n",
    "plt.figure(figsize=(6, 3))  \n",
    "plt.plot(lossi, label='Loss')\n",
    "plt.plot(vlossi, label='Validation Loss')\n",
    "plt.legend()"
   ]
  },
  {
   "cell_type": "code",
   "execution_count": 19,
   "metadata": {},
   "outputs": [
    {
     "name": "stdout",
     "output_type": "stream",
     "text": [
      "             \n",
      "KING RICHARD II:\n",
      "For what my report:\n",
      "'Oether's dill, nor am revenge I strife in such inclot defer him.\n",
      "\n",
      "TRANIO:\n",
      "For scorn is hares and out mine each a very undertaki.\n",
      "\n",
      "DORCIUS:\n",
      "Away me of'd,\n",
      "His no die;\n",
      "For up the foe that villain thanksly Marcius\n",
      "But lung thee; are done. But sall, sir? holting for Dowdarly, fort"
     ]
    }
   ],
   "source": [
    "string = \"             \\nKING RICHARD I\"\n",
    "print(string, end=\"\")\n",
    "\n",
    "with torch.no_grad():\n",
    "    model.eval()\n",
    "    for _ in range(300):\n",
    "        X = torch.tensor([texttoint[s] for s in string[-sequence_length:]]).long().view(1, -1).to(device)\n",
    "        pred = model.forward(X)\n",
    "        string += inttotext[torch.multinomial(F.softmax(pred, dim=1), 1).item()]\n",
    "        print(string[-1], end=\"\")\n",
    "    model.train()\n"
   ]
  },
  {
   "cell_type": "markdown",
   "metadata": {},
   "source": [
    "# WAYY TOO DEEP\n",
    "Just for fun lets try way more layers"
   ]
  },
  {
   "cell_type": "code",
   "execution_count": null,
   "metadata": {},
   "outputs": [
    {
     "name": "stdout",
     "output_type": "stream",
     "text": [
      "Epoch ___0 - Loss: 4.236\n",
      "Epoch _300 - Loss: 3.100\n",
      "Epoch _600 - Loss: 2.821\n",
      "Epoch _900 - Loss: 2.652\n",
      "Epoch 1200 - Loss: 2.669\n",
      "Epoch 1500 - Loss: 2.654\n",
      "Epoch 1800 - Loss: 2.634\n",
      "Epoch 2100 - Loss: 2.816\n",
      "Epoch 2400 - Loss: 2.979\n",
      "Epoch 2700 - Loss: 2.902\n"
     ]
    }
   ],
   "source": [
    "class Model(nn.Module):\n",
    "    def __init__(self, emb_size, hidden_size, n_layers):\n",
    "        super().__init__()\n",
    "        self.embeddings = nn.Embedding(vocab_size, emb_size)\n",
    "        self.fc1 = nn.Linear(emb_size*sequence_length, hidden_size)\n",
    "        self.fcx = nn.ModuleList([nn.Linear(hidden_size, hidden_size) for _ in range(n_layers)]) \n",
    "        self.fc2 = nn.Linear(hidden_size, vocab_size)\n",
    "        self.norm = nn.BatchNorm1d(hidden_size)  \n",
    "\n",
    "    def forward(self, inputs):\n",
    "        emb = self.embeddings(inputs).view(inputs.shape[0], -1)\n",
    "        x = F.gelu(self.fc1(emb))\n",
    "        for hidden in self.fcx: \n",
    "            x = self.norm(x + F.gelu(hidden(x)))  \n",
    "        return self.fc2(x)\n",
    "\n",
    "\n",
    "device = torch.device(\"cuda:0\")\n",
    "model = Model(emb_size=10, hidden_size=128, n_layers=200).to(device)  # increased to 200 layers\n",
    "print(f\"Millions of parameters: {sum(p.numel() for p in model.parameters())/1e6:.2f}\")\n",
    "\n",
    "epochs = 3000\n",
    "batch_size = 4096\n",
    "optimizer = torch.optim.Adam(model.parameters(), lr=3e-4) \n",
    "\n",
    "lossi = []\n",
    "vlossi = []\n",
    "\n",
    "for epoch in range(epochs):\n",
    "    indexes = torch.randint(0, len(inputs), (batch_size,))\n",
    "    \n",
    "    pred = model(inputs[indexes].to(device)) \n",
    "    loss = F.cross_entropy(pred, labels[indexes].to(device))\n",
    "\n",
    "    loss.backward()\n",
    "    optimizer.step()\n",
    "    optimizer.zero_grad()\n",
    "\n",
    "    lossi.append(loss.item())\n",
    "    if epoch % (epochs//10) == 0:\n",
    "        print(f\"Epoch {epoch:_>4d} - Loss: {loss.item():.3f}\")\n",
    "\n",
    "    with torch.no_grad():\n",
    "        pred = model(val_inputs.to(device))\n",
    "        vloss = F.cross_entropy(pred, val_labels.to(device))\n",
    "        vlossi.append(vloss.item())\n",
    "\n",
    "plt.figure(figsize=(6, 3))  \n",
    "plt.plot(lossi, label='Loss')\n",
    "plt.plot(vlossi, label='Validation Loss')\n",
    "plt.legend()"
   ]
  },
  {
   "cell_type": "markdown",
   "metadata": {},
   "source": [
    "# Limits to scale\n",
    "The model clearly has problems backpropagating the gradients effectively. You may be able to make it work with some weird trick but there are solutions that scale much better. "
   ]
  }
 ],
 "metadata": {
  "kernelspec": {
   "display_name": "base",
   "language": "python",
   "name": "python3"
  },
  "language_info": {
   "codemirror_mode": {
    "name": "ipython",
    "version": 3
   },
   "file_extension": ".py",
   "mimetype": "text/x-python",
   "name": "python",
   "nbconvert_exporter": "python",
   "pygments_lexer": "ipython3",
   "version": "3.10.12"
  }
 },
 "nbformat": 4,
 "nbformat_minor": 2
}
