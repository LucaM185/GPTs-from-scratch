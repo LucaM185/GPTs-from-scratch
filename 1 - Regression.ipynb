{
 "cells": [
  {
   "cell_type": "code",
   "execution_count": 1,
   "metadata": {},
   "outputs": [],
   "source": [
    "import torch\n",
    "import torch.nn as nn\n",
    "import torch.nn.functional as F\n",
    "import matplotlib.pyplot as plt \n"
   ]
  },
  {
   "cell_type": "markdown",
   "metadata": {},
   "source": [
    "# Linear Regression\n",
    "\n",
    "Linear Regression answers the question: how do we find a line that fits the data? "
   ]
  },
  {
   "cell_type": "code",
   "execution_count": 2,
   "metadata": {},
   "outputs": [
    {
     "data": {
      "text/plain": [
       "<matplotlib.collections.PathCollection at 0x241ed7d6af0>"
      ]
     },
     "execution_count": 2,
     "metadata": {},
     "output_type": "execute_result"
    },
    {
     "data": {
      "image/png": "[encoded data removed]",
      "text/plain": [
       "<Figure size 432x288 with 1 Axes>"
      ]
     },
     "metadata": {
      "needs_background": "light"
     },
     "output_type": "display_data"
    }
   ],
   "source": [
    "x = torch.arange(0, 10, 0.1)\n",
    "y = x + torch.randn(100) - 5\n",
    "plt.scatter(x, y)"
   ]
  },
  {
   "cell_type": "markdown",
   "metadata": {},
   "source": [
    "Given this chart, we will try to fit the line y = mx + q by finding the PARAMETERS m and q to best fit the data <br> \n",
    "\n",
    "Now two questions arise <br>\n",
    "- How do we assess how well the data is fit?\n",
    "- How do we find the best parameters? \n",
    "\n",
    "Let's explore solutions for evaluating the function --> MSE <br>\n",
    "Now that we have a function going from dataset and parameters to loss, we can use a calculus tool to optimize it, the derivative"
   ]
  },
  {
   "cell_type": "code",
   "execution_count": 3,
   "metadata": {},
   "outputs": [],
   "source": [
    "m = 0\n",
    "q = 0\n",
    "lr = 1e-4"
   ]
  },
  {
   "cell_type": "code",
   "execution_count": 4,
   "metadata": {},
   "outputs": [
    {
     "name": "stdout",
     "output_type": "stream",
     "text": [
      "9.751933097839355 tensor(0.1738) tensor(0.0005)\n",
      "3.4016737937927246 tensor(0.5586) tensor(-1.9732)\n",
      "1.8669589757919312 tensor(0.7421) tensor(-3.1810)\n",
      "1.2994369268417358 tensor(0.8537) tensor(-3.9156)\n",
      "1.089573860168457 tensor(0.9215) tensor(-4.3622)\n",
      "1.0119678974151611 tensor(0.9628) tensor(-4.6338)\n",
      "0.9832698702812195 tensor(0.9878) tensor(-4.7990)\n",
      "0.9726577997207642 tensor(1.0031) tensor(-4.8995)\n",
      "0.9687336683273315 tensor(1.0124) tensor(-4.9605)\n",
      "0.9672825336456299 tensor(1.0180) tensor(-4.9977)\n"
     ]
    }
   ],
   "source": [
    "for i in range(1000):\n",
    "    predictions = m * x + q\n",
    "    loss = ((predictions - y)**2).mean()\n",
    "    \n",
    "    dm = (2 * (predictions - y) * x).sum()\n",
    "    dq = (2 * (predictions - y)).sum()\n",
    "\n",
    "    m -= lr * dm\n",
    "    q -= lr * dq\n",
    "\n",
    "    if i % 100 == 0:\n",
    "        print(loss.item(), m, q)\n"
   ]
  },
  {
   "cell_type": "markdown",
   "metadata": {},
   "source": [
    "## Logistic Regression\n",
    "Logistic regression answers the question: How do we find a function that classifies a binary dataset?"
   ]
  },
  {
   "cell_type": "code",
   "execution_count": 15,
   "metadata": {},
   "outputs": [
    {
     "name": "stderr",
     "output_type": "stream",
     "text": [
      "C:\\Users\\lucam\\AppData\\Local\\Temp/ipykernel_6912/3909566606.py:2: UserWarning: To copy construct from a tensor, it is recommended to use sourceTensor.clone().detach() or sourceTensor.clone().detach().requires_grad_(True), rather than torch.tensor(sourceTensor).\n",
      "  y = torch.tensor(x + torch.randn(100) > 3.5).float()\n"
     ]
    },
    {
     "data": {
      "text/plain": [
       "<matplotlib.collections.PathCollection at 0x241f0b1c3d0>"
      ]
     },
     "execution_count": 15,
     "metadata": {},
     "output_type": "execute_result"
    },
    {
     "data": {
      "image/png": "[encoded data removed]",
      "text/plain": [
       "<Figure size 432x288 with 1 Axes>"
      ]
     },
     "metadata": {
      "needs_background": "light"
     },
     "output_type": "display_data"
    }
   ],
   "source": [
    "x = torch.arange(0, 10, 0.1)\n",
    "y = torch.tensor(x + torch.randn(100) > 3.5).float()\n",
    "plt.scatter(x, y)"
   ]
  },
  {
   "cell_type": "markdown",
   "metadata": {},
   "source": [
    "Actually, because some datapoints overlap, we have to accept some level of uncertainty in the results. <br> \n",
    "So the results won't be binary but a probability of the output being one. <br>\n",
    "We need a function that can scale any value to [0, 1]. We can start with sigmoid."
   ]
  },
  {
   "cell_type": "code",
   "execution_count": 16,
   "metadata": {},
   "outputs": [],
   "source": [
    "# tanh \n",
    "tanh = lambda x: (torch.exp(x) - torch.exp(-x)) / (torch.exp(x) + torch.exp(-x))\n",
    "dtanh = lambda x: 1 - tanh(x)**2\n",
    "m = torch.zeros(1, requires_grad=True)\n",
    "q = torch.zeros(1, requires_grad=True)\n",
    "lr = 1e-1"
   ]
  },
  {
   "cell_type": "code",
   "execution_count": 17,
   "metadata": {},
   "outputs": [
    {
     "name": "stdout",
     "output_type": "stream",
     "text": [
      "0.25 tensor([0.1848], requires_grad=True) tensor([0.0160], requires_grad=True)\n",
      "0.08895692229270935 tensor([0.2794], requires_grad=True) tensor([-0.7513], requires_grad=True)\n",
      "0.07681635767221451 tensor([0.3637], requires_grad=True) tensor([-1.0820], requires_grad=True)\n",
      "0.07253852486610413 tensor([0.4177], requires_grad=True) tensor([-1.2794], requires_grad=True)\n",
      "0.0704713761806488 tensor([0.4568], requires_grad=True) tensor([-1.4168], requires_grad=True)\n",
      "0.0692949891090393 tensor([0.4870], requires_grad=True) tensor([-1.5205], requires_grad=True)\n",
      "0.06855566799640656 tensor([0.5113], requires_grad=True) tensor([-1.6026], requires_grad=True)\n",
      "0.06805899739265442 tensor([0.5316], requires_grad=True) tensor([-1.6699], requires_grad=True)\n",
      "0.06770897656679153 tensor([0.5488], requires_grad=True) tensor([-1.7264], requires_grad=True)\n",
      "0.06745319813489914 tensor([0.5636], requires_grad=True) tensor([-1.7746], requires_grad=True)\n"
     ]
    }
   ],
   "source": [
    "iterations = 1000\n",
    "\n",
    "for i in range(iterations):\n",
    "    predictions = tanh(m * x + q) / 2 + 0.5\n",
    "    loss = ((predictions - y)**2).mean()\n",
    "    loss.backward()\n",
    "    \n",
    "    with torch.no_grad():\n",
    "        m -= lr * m.grad\n",
    "        q -= lr * q.grad\n",
    "        m.grad = None\n",
    "        q.grad = None\n",
    "\n",
    "    if i % 100 == 0:\n",
    "        print(loss.item(), m, q)\n"
   ]
  },
  {
   "cell_type": "code",
   "execution_count": 18,
   "metadata": {},
   "outputs": [
    {
     "data": {
      "text/plain": [
       "[<matplotlib.lines.Line2D at 0x241f0be2940>]"
      ]
     },
     "execution_count": 18,
     "metadata": {},
     "output_type": "execute_result"
    },
    {
     "data": {
      "image/png": "[encoded data removed]",
      "text/plain": [
       "<Figure size 432x288 with 1 Axes>"
      ]
     },
     "metadata": {
      "needs_background": "light"
     },
     "output_type": "display_data"
    }
   ],
   "source": [
    "plt.plot(predictions.detach().numpy())"
   ]
  },
  {
   "cell_type": "code",
   "execution_count": null,
   "metadata": {},
   "outputs": [],
   "source": []
  }
 ],
 "metadata": {
  "kernelspec": {
   "display_name": "base",
   "language": "python",
   "name": "python3"
  },
  "language_info": {
   "codemirror_mode": {
    "name": "ipython",
    "version": 3
   },
   "file_extension": ".py",
   "mimetype": "text/x-python",
   "name": "python",
   "nbconvert_exporter": "python",
   "pygments_lexer": "ipython3",
   "version": "3.9.7"
  }
 },
 "nbformat": 4,
 "nbformat_minor": 2
}
