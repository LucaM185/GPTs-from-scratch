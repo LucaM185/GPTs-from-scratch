{
 "cells": [
  {
   "cell_type": "code",
   "execution_count": 1,
   "metadata": {},
   "outputs": [],
   "source": [
    "import torch\n",
    "import torch.nn as nn\n",
    "import torch.nn.functional as F\n",
    "import matplotlib.pyplot as plt \n"
   ]
  },
  {
   "cell_type": "markdown",
   "metadata": {},
   "source": [
    "# Linear Regression\n",
    "\n",
    "Linear Regression answers the question: how do we find a line that fits the data? \n",
    "\n",
    "Let's first generate a realistic dataset, you can think of this as "
   ]
  },
  {
   "cell_type": "code",
   "execution_count": 109,
   "metadata": {},
   "outputs": [
    {
     "data": {
      "text/plain": [
       "<matplotlib.collections.PathCollection at 0x13027ec9520>"
      ]
     },
     "execution_count": 109,
     "metadata": {},
     "output_type": "execute_result"
    },
    {
     "data": {
      "image/png": "[encoded data removed]",
      "text/plain": [
       "<Figure size 432x288 with 1 Axes>"
      ]
     },
     "metadata": {
      "needs_background": "light"
     },
     "output_type": "display_data"
    }
   ],
   "source": [
    "x = torch.arange(0, 8, 0.1)  # [0, 0.1, 0.2, ..., 9.9]\n",
    "\n",
    "y = 1*x - 2  # y = (mx + q)\n",
    "\n",
    "y += torch.randn(x.shape[0]) # add noise  \n",
    "\n",
    "plt.scatter(x, y)"
   ]
  },
  {
   "cell_type": "markdown",
   "metadata": {},
   "source": [
    "Given this chart, we will try to fit the line y = mx + q by finding the PARAMETERS m and q to best fit the data <br> \n",
    "\n",
    "Now two questions arise <br>\n",
    "- How do we assess how well the line is fit to the data?\n",
    "- How do we find the best parameters? \n",
    "\n",
    "It would be helpful to have some single value that accurately describes how well the model is doing <br> \n",
    "Let's explore solutions for evaluating the function --> MSE <br>\n",
    "Now that we have a function going from dataset and parameters to loss, we can use a calculus tool to optimize it, the derivative"
   ]
  },
  {
   "cell_type": "code",
   "execution_count": 117,
   "metadata": {},
   "outputs": [],
   "source": [
    "m = 0\n",
    "q = 0\n",
    "lr = 0.01"
   ]
  },
  {
   "cell_type": "code",
   "execution_count": 118,
   "metadata": {},
   "outputs": [
    {
     "name": "stdout",
     "output_type": "stream",
     "text": [
      "Loss:  10.139840126037598 \n",
      " - m:  0.26069843769073486 \n",
      " - q:  0.039293017238378525 \n",
      "\n",
      "Loss:  1.2127615213394165 \n",
      " - m:  0.8433698415756226 \n",
      " - q:  -1.1789528131484985 \n",
      "\n",
      "Loss:  1.083640217781067 \n",
      " - m:  0.934746265411377 \n",
      " - q:  -1.6575602293014526 \n",
      "\n",
      "Loss:  1.0656646490097046 \n",
      " - m:  0.9688401222229004 \n",
      " - q:  -1.836135745048523 \n",
      "\n",
      "Loss:  1.063162088394165 \n",
      " - m:  0.9815611839294434 \n",
      " - q:  -1.9027655124664307 \n",
      "\n"
     ]
    }
   ],
   "source": [
    "for i in range(1000):\n",
    "    predictions = m * x + q\n",
    "    loss = ((predictions - y)**2).mean()\n",
    "    \n",
    "    dm = (2 * (predictions - y) * x).mean()\n",
    "    dq = (2 * (predictions - y)).mean() \n",
    "    # double checked, the gradient is correct\n",
    "\n",
    "    m -= lr * dm\n",
    "    q -= lr * dq\n",
    "\n",
    "    if i % 200 == 0:\n",
    "        print(\"Loss: \", loss.item(), \"\\n - m: \", m.item(), \"\\n - q: \", q.item(), \"\\n\")\n"
   ]
  },
  {
   "cell_type": "markdown",
   "metadata": {},
   "source": [
    "## Logistic Regression\n",
    "Logistic regression answers the following question: <br> How do we find a function that classifies a binary dataset?"
   ]
  },
  {
   "cell_type": "code",
   "execution_count": 15,
   "metadata": {},
   "outputs": [
    {
     "name": "stderr",
     "output_type": "stream",
     "text": [
      "C:\\Users\\lucam\\AppData\\Local\\Temp/ipykernel_6912/3909566606.py:2: UserWarning: To copy construct from a tensor, it is recommended to use sourceTensor.clone().detach() or sourceTensor.clone().detach().requires_grad_(True), rather than torch.tensor(sourceTensor).\n",
      "  y = torch.tensor(x + torch.randn(100) > 3.5).float()\n"
     ]
    },
    {
     "data": {
      "text/plain": [
       "<matplotlib.collections.PathCollection at 0x241f0b1c3d0>"
      ]
     },
     "execution_count": 15,
     "metadata": {},
     "output_type": "execute_result"
    },
    {
     "data": {
      "image/png": "[encoded data removed]",
      "text/plain": [
       "<Figure size 432x288 with 1 Axes>"
      ]
     },
     "metadata": {
      "needs_background": "light"
     },
     "output_type": "display_data"
    }
   ],
   "source": [
    "x = torch.arange(0, 10, 0.1)\n",
    "y = torch.tensor(x + torch.randn(100) > 3.5).float()\n",
    "plt.scatter(x, y)"
   ]
  },
  {
   "cell_type": "markdown",
   "metadata": {},
   "source": [
    "Actually, because some datapoints are scattered on top and bottom, we have to accept some level of uncertainty in the results, just as we did with Linear Regression. <br> \n",
    "\n",
    "\n",
    "So the results won't be binary but a probability of the output being one. <br>\n",
    "We need a function that can scale any value to [0, 1]. We can start with sigmoid.\n",
    "\n",
    "\n",
    "Interestingly, we choose activation functions such that their derivative is trivial to calculate, the derivative of sigmoid is (1-simoid(x))"
   ]
  },
  {
   "cell_type": "code",
   "execution_count": 121,
   "metadata": {},
   "outputs": [],
   "source": [
    "# we add sigmoid, an activation function that squashes the output between 0 and 1\n",
    "def sigmoid(x): return 1 / (1 + torch.exp(-x))\n",
    "\n",
    "m = torch.zeros(1, requires_grad=True)\n",
    "q = torch.zeros(1, requires_grad=True)\n",
    "lr = 1e-1"
   ]
  },
  {
   "cell_type": "code",
   "execution_count": 122,
   "metadata": {},
   "outputs": [
    {
     "name": "stdout",
     "output_type": "stream",
     "text": [
      "Loss:  7.755364418029785 \n",
      " - m:  0.25181055068969727 \n",
      " - q:  0.03036627545952797 \n",
      "\n",
      "Loss:  6.888771057128906 \n",
      " - m:  1.1195812225341797 \n",
      " - q:  -1.636855959892273 \n",
      "\n",
      "Loss:  6.825065612792969 \n",
      " - m:  1.4482064247131348 \n",
      " - q:  -2.700385808944702 \n",
      "\n",
      "Loss:  6.799855709075928 \n",
      " - m:  1.691107988357544 \n",
      " - q:  -3.3620269298553467 \n",
      "\n",
      "Loss:  6.786736488342285 \n",
      " - m:  1.8803646564483643 \n",
      " - q:  -3.835725784301758 \n",
      "\n"
     ]
    }
   ],
   "source": [
    "iterations = 1000\n",
    "\n",
    "for i in range(iterations):\n",
    "    predictions = sigmoid(m * x + q) / 2 + 0.5\n",
    "    loss = ((predictions - y)**2).mean()\n",
    "    loss.backward()\n",
    "    \n",
    "    with torch.no_grad():\n",
    "        m -= lr * m.grad\n",
    "        q -= lr * q.grad\n",
    "        m.grad = None\n",
    "        q.grad = None\n",
    "\n",
    "    if i % 200 == 0:\n",
    "        print(\"Loss: \", loss.item(), \"\\n - m: \", m.item(), \"\\n - q: \", q.item(), \"\\n\")\n"
   ]
  },
  {
   "cell_type": "code",
   "execution_count": 123,
   "metadata": {},
   "outputs": [
    {
     "data": {
      "text/plain": [
       "[<matplotlib.lines.Line2D at 0x13027f88790>]"
      ]
     },
     "execution_count": 123,
     "metadata": {},
     "output_type": "execute_result"
    },
    {
     "data": {
      "image/png": "[encoded data removed]",
      "text/plain": [
       "<Figure size 432x288 with 1 Axes>"
      ]
     },
     "metadata": {
      "needs_background": "light"
     },
     "output_type": "display_data"
    }
   ],
   "source": [
    "plt.plot(predictions.detach().numpy())"
   ]
  },
  {
   "cell_type": "markdown",
   "metadata": {},
   "source": [
    "As you can see we got a curve that approximates the original chart pretty well. <br>\n",
    "In the future we will use different loss functions, such as tanh, relu and gelu"
   ]
  },
  {
   "cell_type": "code",
   "execution_count": 136,
   "metadata": {},
   "outputs": [
    {
     "name": "stdout",
     "output_type": "stream",
     "text": [
      "Sigmoid: squashes the output between 0 and 1\n"
     ]
    },
    {
     "data": {
      "image/png": "[encoded data removed]",
      "text/plain": [
       "<Figure size 432x288 with 1 Axes>"
      ]
     },
     "metadata": {
      "needs_background": "light"
     },
     "output_type": "display_data"
    },
    {
     "name": "stdout",
     "output_type": "stream",
     "text": [
      "Tanh: squashes the output between -1 and 1\n"
     ]
    },
    {
     "data": {
      "image/png": "[encoded data removed]",
      "text/plain": [
       "<Figure size 432x288 with 1 Axes>"
      ]
     },
     "metadata": {
      "needs_background": "light"
     },
     "output_type": "display_data"
    },
    {
     "name": "stdout",
     "output_type": "stream",
     "text": [
      "Relu: keeps the positive values and sets the negative values to 0\n"
     ]
    },
    {
     "data": {
      "image/png": "[encoded data removed]",
      "text/plain": [
       "<Figure size 432x288 with 1 Axes>"
      ]
     },
     "metadata": {
      "needs_background": "light"
     },
     "output_type": "display_data"
    },
    {
     "name": "stdout",
     "output_type": "stream",
     "text": [
      "Gelu: keeps the positive values and applies a smooth function over the negative values\n"
     ]
    },
    {
     "data": {
      "image/png": "[encoded data removed]",
      "text/plain": [
       "<Figure size 432x288 with 1 Axes>"
      ]
     },
     "metadata": {
      "needs_background": "light"
     },
     "output_type": "display_data"
    }
   ],
   "source": [
    "from torch.nn.functional import sigmoid, relu, tanh, gelu\n",
    "\n",
    "x = torch.arange(-5, 5, 0.1)\n",
    "\n",
    "print(\"Sigmoid: squashes the output between 0 and 1\")\n",
    "plt.plot(x, sigmoid(x))\n",
    "plt.show()\n",
    "\n",
    "print(\"Tanh: squashes the output between -1 and 1\")\n",
    "plt.plot(x, tanh(x))\n",
    "plt.show()\n",
    "\n",
    "print(\"Relu: keeps the positive values and sets the negative values to 0\")\n",
    "plt.plot(x, relu(x))\n",
    "plt.show()\n",
    "\n",
    "print(\"Gelu: keeps the positive values and applies a smooth function over the negative values\") \n",
    "plt.plot(x, gelu(x))\n",
    "plt.show()\n"
   ]
  },
  {
   "cell_type": "code",
   "execution_count": null,
   "metadata": {},
   "outputs": [],
   "source": []
  }
 ],
 "metadata": {
  "kernelspec": {
   "display_name": "base",
   "language": "python",
   "name": "python3"
  },
  "language_info": {
   "codemirror_mode": {
    "name": "ipython",
    "version": 3
   },
   "file_extension": ".py",
   "mimetype": "text/x-python",
   "name": "python",
   "nbconvert_exporter": "python",
   "pygments_lexer": "ipython3",
   "version": "3.9.7"
  }
 },
 "nbformat": 4,
 "nbformat_minor": 2
}
