{
 "cells": [
  {
   "cell_type": "code",
   "execution_count": 12,
   "metadata": {},
   "outputs": [
    {
     "data": {
      "text/plain": [
       "<torch._C.Generator at 0x107687c50>"
      ]
     },
     "execution_count": 12,
     "metadata": {},
     "output_type": "execute_result"
    }
   ],
   "source": [
    "import torch\n",
    "import torch.nn as nn\n",
    "import torch.nn.functional as F\n",
    "import matplotlib.pyplot as plt\n",
    "import time\n",
    "device = torch.device(\"cpu\")\n",
    "#device = torch.device(\"cuda:0\" if torch.cuda.is_available() else \"mps\" if torch.mps.is_available() else \"cpu\")\n",
    "\n",
    "torch.manual_seed(1337)"
   ]
  },
  {
   "cell_type": "code",
   "execution_count": 13,
   "metadata": {},
   "outputs": [],
   "source": [
    "sequence_length = 1024   \n",
    "\n",
    "class Attention(nn.Module):\n",
    "    def __init__(self, emb_size, head_size, n_heads):\n",
    "        super().__init__()\n",
    "        self.emb_size = emb_size\n",
    "        self.head_size = head_size\n",
    "        self.n_heads = n_heads\n",
    "\n",
    "        self.keys = nn.Linear(emb_size, head_size, bias=False)\n",
    "        self.queries = nn.Linear(emb_size, head_size, bias=False)\n",
    "        self.values = nn.Linear(emb_size, head_size, bias=False)\n",
    "\n",
    "        self.register_buffer(\"tril\", torch.tril(torch.ones(sequence_length, sequence_length)))\n",
    "\n",
    "    def forward(self, x):\n",
    "        keys = self.keys(x)\n",
    "        queries = self.queries(x)\n",
    "        values = self.values(x)\n",
    "        \n",
    "        tril = self.tril[:x.size(1), :x.size(1)]\n",
    "        weights = queries @ keys.transpose(-2, -1) * (self.head_size ** -0.5)\n",
    "        weights = weights.masked_fill(tril == 0, float(\"-inf\"))\n",
    "        weights = F.softmax(weights, dim=-1)\n",
    "        \n",
    "        return weights @ values\n",
    "    \n",
    "    def autoregressive_forward(self, x):\n",
    "        keys = self.keys(x)\n",
    "        query = self.queries(x[:, -1])\n",
    "        values = self.values(x)\n",
    "\n",
    "        weights = query @ keys.transpose(-2, -1) * (self.head_size ** -0.5)\n",
    "        weights = F.softmax(weights, dim=-1)\n",
    "        \n",
    "        return weights @ values\n",
    "\n",
    "att = Attention(emb_size=256, head_size=256, n_heads=1)\n",
    "\n"
   ]
  },
  {
   "cell_type": "code",
   "execution_count": 14,
   "metadata": {},
   "outputs": [
    {
     "name": "stdout",
     "output_type": "stream",
     "text": [
      "1.0\n",
      "Time taken: 1.4775176048278809 seconds\n",
      "Time taken: 0.4734668731689453 seconds\n"
     ]
    }
   ],
   "source": [
    "# Random data for testing\n",
    "x = torch.randn(1, 5, 256)\n",
    "y = x[:, :x.size(1)-1]\n",
    "\n",
    "# Compute the cache and do an autoregressive step\n",
    "att.forward(y)\n",
    "a = att.autoregressive_forward(x)\n",
    "\n",
    "# Compute the forward pass without the cache for comparison\n",
    "b = att.forward(x)[:, -1]\n",
    "print(((a - b < 1e-6).sum(-1)/a.numel()).item())\n",
    "\n",
    "# Now that we checked for correctness, we can try testing speed\n",
    "x = torch.randn(1, 128, 256)\n",
    "\n",
    "start_time = time.time()\n",
    "for i in range(800):\n",
    "    next = att.forward(x)[:, -1].unsqueeze(1)\n",
    "    x = torch.cat([x, next], dim=1)\n",
    "print(f\"Time taken: {time.time() - start_time} seconds\")\n",
    "\n",
    "# Now we can try the autoregressive forward pass\n",
    "x = x[:, :128]\n",
    "start_time = time.time()\n",
    "for i in range(800):\n",
    "    next = att.autoregressive_forward(x)\n",
    "    x = torch.cat([x, next], dim=1)\n",
    "print(f\"Time taken: {time.time() - start_time} seconds\")"
   ]
  },
  {
   "cell_type": "code",
   "execution_count": 15,
   "metadata": {},
   "outputs": [],
   "source": [
    "sequence_length = 1024\n",
    "\n",
    "class CachedAttention(nn.Module):\n",
    "    def __init__(self, emb_size, head_size, n_heads):\n",
    "        super().__init__()\n",
    "        self.emb_size = emb_size\n",
    "        self.head_size = head_size\n",
    "        self.n_heads = n_heads\n",
    "\n",
    "        self.keys = nn.Linear(emb_size, head_size, bias=False)\n",
    "        self.queries = nn.Linear(emb_size, head_size, bias=False)\n",
    "        self.values = nn.Linear(emb_size, head_size, bias=False)\n",
    "\n",
    "        self.register_buffer(\"tril\", torch.tril(torch.ones(sequence_length, sequence_length)))\n",
    "        self.register_buffer(\"key_cache\", torch.zeros(1, sequence_length, head_size))\n",
    "        self.register_buffer(\"value_cache\", torch.zeros(1, sequence_length, head_size))\n",
    "\n",
    "    def forward(self, x, store_cache=False):\n",
    "        keys = self.keys(x)\n",
    "        queries = self.queries(x)\n",
    "        values = self.values(x)\n",
    "        \n",
    "        tril = self.tril[:x.size(1), :x.size(1)]\n",
    "        weights = queries @ keys.transpose(-2, -1) * (self.head_size ** -0.5)\n",
    "        weights = weights.masked_fill(tril == 0, float(\"-inf\"))\n",
    "        weights = F.softmax(weights, dim=-1)\n",
    "\n",
    "        if store_cache:\n",
    "            self.key_cache[:, :x.size(1)] = keys\n",
    "            self.value_cache[:, :x.size(1)] = values\n",
    "        \n",
    "        return weights @ values\n",
    "    \n",
    "    def cached_autoregressive_forward(self, x):\n",
    "        new_keys = self.keys(x[:, -1:])\n",
    "        new_queries = self.queries(x[:, -1:])\n",
    "        new_values = self.values(x[:, -1:])\n",
    "        L = x.size(1)-1\n",
    "\n",
    "        self.key_cache[:, L, :] = new_keys\n",
    "        self.value_cache[:, L, :] = new_values\n",
    "\n",
    "        weights = new_queries @ self.key_cache[:, :L+1, :].transpose(-2, -1) * (self.head_size ** -0.5)\n",
    "        weights = F.softmax(weights, dim=-1)\n",
    "        return weights @ self.value_cache[:, :L+1, :]\n",
    "\n",
    "att_cached = CachedAttention(emb_size=256, head_size=256, n_heads=4)"
   ]
  },
  {
   "cell_type": "code",
   "execution_count": 16,
   "metadata": {},
   "outputs": [
    {
     "name": "stdout",
     "output_type": "stream",
     "text": [
      "1.0\n",
      "Time taken: 1.5241951942443848 seconds\n",
      "Time taken: 0.5640008449554443 seconds\n",
      "Time taken: 0.2754089832305908 seconds\n",
      "Size in RAM of the KV cache: 1.0 MB\n"
     ]
    }
   ],
   "source": [
    "# Random data for testing\n",
    "x = torch.randn(1, 20, 256)\n",
    "y = x[:, :x.size(1)-1]\n",
    "\n",
    "# Compute the cache and do an autoregressive step\n",
    "att_cached.forward(y, store_cache=True)\n",
    "a = att_cached.cached_autoregressive_forward(x)\n",
    "\n",
    "# Compute the forward pass without the cache for comparison\n",
    "b = att_cached.forward(x)[:, -1]\n",
    "print(((a - b < 1e-3).sum(-1)/a.numel()).item())\n",
    "\n",
    "# Now that we checked for correctness, we can try testing speed\n",
    "x = torch.randn(1, 128, 256)\n",
    "start_time = time.time()\n",
    "for i in range(800):\n",
    "    next = att_cached.forward(x)[:, -1].unsqueeze(1)\n",
    "    x = torch.cat([x, next], dim=1)\n",
    "print(f\"Time taken: {time.time() - start_time} seconds\")\n",
    "\n",
    "# Now we can try the autoregressive forward pass from the old implementation of att\n",
    "x = x[:, :128]\n",
    "start_time = time.time()\n",
    "for i in range(800):\n",
    "    next = att.autoregressive_forward(x)\n",
    "    x = torch.cat([x, next], dim=1)\n",
    "print(f\"Time taken: {time.time() - start_time} seconds\")\n",
    "\n",
    "# Now we can try the autoregressive cached forward pass\n",
    "x = x[:, :128]\n",
    "start_time = time.time()\n",
    "for i in range(800):\n",
    "    next = att_cached.cached_autoregressive_forward(x)\n",
    "    x = torch.cat([x, next], dim=1)\n",
    "print(f\"Time taken: {time.time() - start_time} seconds\")\n",
    "print(f\"Size in RAM of the KV cache: {att_cached.key_cache.numel() * att_cached.key_cache.element_size() / 1024 / 1024} MB\")"
   ]
  },
  {
   "cell_type": "code",
   "execution_count": 17,
   "metadata": {},
   "outputs": [
    {
     "name": "stdout",
     "output_type": "stream",
     "text": [
      "<mediawiki xmlns=\"http://www.mediawiki.org/xml/export-0.3/\" xmlns:xsi=\"http://www.w3.org/2001/XMLSchema-instance\" xsi:schemaLocation=\"http://www.mediawiki.org/xml/export-0.3/ http://www.mediawiki.org/\n"
     ]
    }
   ],
   "source": [
    "with open(\"datasets/enwik8\", \"r\") as f:\n",
    "    load = f.read()[:1000000] # Limited for testing\n",
    "print(load[:200])"
   ]
  },
  {
   "cell_type": "code",
   "execution_count": 18,
   "metadata": {},
   "outputs": [],
   "source": [
    "class MyInputs:\n",
    "    def __init__(self, data, sequence_length):\n",
    "        self.data = data\n",
    "        self.sequence_length = sequence_length\n",
    "        \n",
    "    def __len__(self):\n",
    "        return len(self.data) - self.sequence_length\n",
    "        \n",
    "    def __getitem__(self, idx):\n",
    "        start_indices = idx.unsqueeze(1) + torch.arange(self.sequence_length)\n",
    "        return self.data[start_indices]\n"
   ]
  },
  {
   "cell_type": "code",
   "execution_count": 19,
   "metadata": {},
   "outputs": [
    {
     "name": "stdout",
     "output_type": "stream",
     "text": [
      "997275\n"
     ]
    }
   ],
   "source": [
    "# Restricting to ASCII characters\n",
    "texttoint = {chr(i): i for i in range(256)}\n",
    "inttotext = {i: chr(i) for i in range(256)}\n",
    "dataset = torch.tensor([texttoint[c] for c in load if c in texttoint])\n",
    "\n",
    "vocab_size = len(texttoint)\n",
    "sequence_length = 20\n",
    "val_set = int(len(dataset)*0.1)\n",
    "\n",
    "inputs = MyInputs(dataset[val_set:-1-sequence_length], sequence_length)\n",
    "labels = MyInputs(dataset[val_set+1:-sequence_length], sequence_length)\n",
    "val_inputs = MyInputs(dataset[:val_set], sequence_length)\n",
    "val_labels = MyInputs(dataset[1:val_set+1], sequence_length)\n",
    "\n",
    "print(len(dataset))"
   ]
  },
  {
   "cell_type": "code",
   "execution_count": 20,
   "metadata": {},
   "outputs": [],
   "source": [
    "import math\n",
    "\n",
    "class FullyConnected(nn.Module):\n",
    "    def __init__(self, in_size, out_size, hidden_size, n_layers, cache_len):\n",
    "        super().__init__()\n",
    "        self.fc1 = nn.Linear(in_size, hidden_size)\n",
    "        self.fcx = nn.Sequential(*[nn.Linear(hidden_size, hidden_size) for _ in range(n_layers)])\n",
    "        self.fc2 = nn.Linear(hidden_size, out_size)\n",
    "        self.register_buffer(\"cache\", torch.zeros(cache_len, out_size))\n",
    "\n",
    "    def forward(self, x):\n",
    "        if self.training:\n",
    "            return self.fc2(self.fcx(self.fc1(x)))\n",
    "        else:\n",
    "            L = x.shape[1]\n",
    "            self.cache[:, :L, :] = self.fc2(self.fcx(self.fc1(x)))\n",
    "            return self.cache[:, :L, :]\n",
    "\n",
    "class Attention(nn.Module):\n",
    "    \"\"\"Fixed-size (2048) KV cache.  Refill at training-time, append at eval-time.\"\"\"\n",
    "    def __init__(self, emb_size: int, cache_len):\n",
    "        super().__init__()\n",
    "        self.emb_size  = emb_size\n",
    "        self.cache_len = cache_len\n",
    "\n",
    "        self.keys    = nn.Linear(emb_size, emb_size)\n",
    "        self.queries = nn.Linear(emb_size, emb_size)\n",
    "        self.values  = nn.Linear(emb_size, emb_size)\n",
    "\n",
    "        self.register_buffer(\"cache_k\",  torch.zeros(1, cache_len, emb_size))\n",
    "        self.register_buffer(\"cache_v\",  torch.zeros(1, cache_len, emb_size))\n",
    "        self.step = 0 \n",
    "\n",
    "    def reset_cache(self): \n",
    "        self.step = 0\n",
    "\n",
    "    def forward(self, x, use_cache = None, reset_cache = False):\n",
    "        \"\"\"\n",
    "        use_cache=None  ➜  default: training → False, eval → True\n",
    "        reset_cache=True   clears the cache at the start of a generation pass\n",
    "        \"\"\"\n",
    "        if use_cache is None:\n",
    "            use_cache = not self.training\n",
    "        if reset_cache:\n",
    "            self.reset_cache()\n",
    "\n",
    "        if use_cache:\n",
    "            qk, v = self.update_qkv(x)\n",
    "        else:\n",
    "            qk, v = self.compute_qkv(x)\n",
    "\n",
    "        # qk is either the last row in inference or a square matrix in training\n",
    "        L = x.shape[1]\n",
    "        tril = torch.tril(torch.ones(L, L))\n",
    "        if not use_cache: qk = qk.masked_fill(tril == 0, float(\"-inf\"))\n",
    "        att = torch.softmax(qk / math.sqrt(self.emb_size), dim=-1)\n",
    "\n",
    "        return torch.matmul(att, v)\n",
    "\n",
    "    def compute_qkv(self, x, use_cache=False):\n",
    "        L = x.shape[1]\n",
    "\n",
    "        q, k, v = self.queries(x), self.keys(x), self.values(x)\n",
    "        qk = torch.matmul(q, k.transpose(-2, -1))        # (B, L, L)\n",
    "\n",
    "        if use_cache:\n",
    "            self.cache_k[:, :L, :]   = k\n",
    "            self.cache_v[:, :L, :]   = v\n",
    "            self.step = L\n",
    "        return qk, v\n",
    "\n",
    "    def update_qkv(self, x):\n",
    "        assert x.shape[0] == 1, \"Only batch size 1 is supported\"\n",
    "        if self.step == 0: return self.compute_qkv(x, use_cache=True)\n",
    "        \n",
    "        q = self.queries(x[:, -1, :]).unsqueeze(1)       # (B, 1, E)\n",
    "        k = self.keys(x[:, -1, :]).unsqueeze(1)          # (B, 1, E)\n",
    "        v = self.values(x[:, -1, :]).unsqueeze(1)        # (B, 1, E)\n",
    "\n",
    "        # write k and v\n",
    "        self.cache_k[:, self.step:self.step+1, :] = k\n",
    "        self.cache_v[:, self.step:self.step+1, :] = v\n",
    "\n",
    "        self.step += 1\n",
    "        qk = torch.matmul(q, self.cache_k[:, :self.step, :].transpose(-2, -1))\n",
    "        return qk, self.cache_v[:, :self.step, :]\n",
    "\n",
    "class Block(nn.Module):\n",
    "    def __init__(self, emb_size, hidden_size, n_layers, cache_len):\n",
    "        super().__init__()\n",
    "        self.prenorm1 = nn.LayerNorm(emb_size)\n",
    "        self.att      = Attention(emb_size, cache_len)\n",
    "        self.prenorm2 = nn.LayerNorm(emb_size)\n",
    "        self.fc       = FullyConnected(emb_size, emb_size, hidden_size, n_layers, cache_len)\n",
    "\n",
    "    def forward(self, x, **kw):\n",
    "        x = x + self.att(self.prenorm1(x), **kw)\n",
    "        x = x + self.fc(self.prenorm2(x))\n",
    "        return x\n",
    "\n",
    "class Transformer(nn.Module):\n",
    "    def __init__(self, vocab_size, emb_size, n_blocks,\n",
    "                 head_size, hidden_size, n_layers, sequence_length, cache_len):\n",
    "        super().__init__()\n",
    "        self.embedding = nn.Embedding(vocab_size, emb_size)\n",
    "        self.posemb    = nn.Embedding(sequence_length, emb_size)\n",
    "        self.blocks    = nn.ModuleList(\n",
    "            [Block(emb_size, hidden_size, n_layers, cache_len) for _ in range(n_blocks)]\n",
    "        )\n",
    "        self.out = nn.Linear(emb_size, vocab_size)\n",
    "\n",
    "    # propagate use_cache / reset_cache downwards\n",
    "    def forward(self, x, **kw):\n",
    "        x = self.embedding(x) + self.posemb(torch.arange(x.size(1), device=x.device))\n",
    "        for blk in self.blocks:\n",
    "            x = blk(x, **kw)\n",
    "        return self.out(x)\n",
    "\n",
    "    # convenience helper\n",
    "    def reset_all_caches(self):\n",
    "        for m in self.modules():\n",
    "            if isinstance(m, Attention):\n",
    "                m.reset_cache()\n",
    "\n",
    "model = Transformer(vocab_size=len(inttotext), emb_size=128, n_blocks=2, head_size=128, hidden_size=128, n_layers=2, sequence_length=2048, cache_len=2048)\n",
    "\n"
   ]
  },
  {
   "cell_type": "code",
   "execution_count": 21,
   "metadata": {},
   "outputs": [
    {
     "name": "stdout",
     "output_type": "stream",
     "text": [
      "Millions of parameters: 0.56\n",
      "Epoch ___0 - Loss: 5.842 - Val Loss: 5.750\n",
      "Epoch ___3 - Loss: 5.625 - Val Loss: 5.557\n",
      "Epoch ___6 - Loss: 5.434 - Val Loss: 5.319\n",
      "Epoch ___9 - Loss: 5.210 - Val Loss: 5.142\n",
      "Epoch __12 - Loss: 4.946 - Val Loss: 4.812\n",
      "Epoch __15 - Loss: 4.640 - Val Loss: 4.499\n",
      "Epoch __18 - Loss: 4.311 - Val Loss: 4.191\n",
      "Epoch __21 - Loss: 4.050 - Val Loss: 3.782\n",
      "Epoch __24 - Loss: 3.863 - Val Loss: 3.825\n",
      "Epoch __27 - Loss: 3.791 - Val Loss: 3.525\n"
     ]
    },
    {
     "data": {
      "text/plain": [
       "<matplotlib.legend.Legend at 0x44510bac0>"
      ]
     },
     "execution_count": 21,
     "metadata": {},
     "output_type": "execute_result"
    },
    {
     "data": {
      "image/png": "[encoded data removed]",
      "text/plain": [
       "<Figure size 600x300 with 1 Axes>"
      ]
     },
     "metadata": {},
     "output_type": "display_data"
    }
   ],
   "source": [
    "torch.compile(model)\n",
    "print(f\"Millions of parameters: {sum(p.numel() for p in model.parameters())/1e6:.2f}\")\n",
    "\n",
    "batch_size = 512\n",
    "epochs = 30\n",
    "optimizer = torch.optim.Adam(model.parameters(), lr=3e-4) \n",
    "\n",
    "lossi = []\n",
    "vlossi = []\n",
    "\n",
    "for epoch in range(epochs):\n",
    "    indexes = torch.randint(0, len(inputs), (batch_size,))\n",
    "    \n",
    "    pred = model(inputs[indexes].to(device), use_cache=False) # everything in the forward pass happens in the model class\n",
    "    loss = F.cross_entropy(pred.view(-1, vocab_size), labels[indexes].to(device).view(-1))\n",
    "\n",
    "    loss.backward()\n",
    "    optimizer.step()\n",
    "    optimizer.zero_grad()\n",
    "\n",
    "    lossi.append(loss.item())\n",
    "    with torch.no_grad():\n",
    "        indexes = torch.randint(0, len(val_inputs), (batch_size//8,))\n",
    "        pred = model(val_inputs[indexes].to(device))\n",
    "\n",
    "        loss = F.cross_entropy(pred.view(-1, vocab_size), val_labels[indexes].to(device).view(-1))\n",
    "        vlossi.append(loss.item())\n",
    "\n",
    "    if epoch % (epochs//10) == 0:\n",
    "        print(f\"Epoch {epoch:_>4d} - Loss: {lossi[-1]:.3f} - Val Loss: {vlossi[-1]:.3f}\")\n",
    "    \n",
    "plt.figure(figsize=(6, 3))\n",
    "plt.plot(vlossi[:], label='Validation Loss')\n",
    "plt.plot(lossi[:], label='Loss')\n",
    "plt.legend()"
   ]
  },
  {
   "cell_type": "code",
   "execution_count": 22,
   "metadata": {},
   "outputs": [
    {
     "name": "stdout",
     "output_type": "stream",
     "text": [
      "tensor([[119, 104, 111,  32, 115, 101, 101, 107,  32,  97,  32,  99, 117, 114,\n",
      "         101,  32, 102, 111, 114,  32]])\n",
      "who seek a cure for \n",
      "s  otoantt\n"
     ]
    }
   ],
   "source": [
    "model.reset_all_caches()# Autoregressive decoding\n",
    "\n",
    "example = inputs[torch.zeros(1).long()]\n",
    "print(example)\n",
    "\n",
    "for i in range(10):\n",
    "    next = model.forward(example, use_cache=True)[:, -1]\n",
    "    example = torch.cat([example, next.argmax(dim=-1).unsqueeze(1)], dim=1)\n",
    "\n",
    "print(\"\".join(inttotext[i.item()] for i in example[0])[:20])\n",
    "print(\"\".join(inttotext[i.item()] for i in example[0])[20:])"
   ]
  },
  {
   "cell_type": "code",
   "execution_count": 23,
   "metadata": {},
   "outputs": [],
   "source": [
    "# s  otoantt"
   ]
  },
  {
   "cell_type": "code",
   "execution_count": null,
   "metadata": {},
   "outputs": [],
   "source": []
  }
 ],
 "metadata": {
  "kernelspec": {
   "display_name": "Python 3",
   "language": "python",
   "name": "python3"
  },
  "language_info": {
   "codemirror_mode": {
    "name": "ipython",
    "version": 3
   },
   "file_extension": ".py",
   "mimetype": "text/x-python",
   "name": "python",
   "nbconvert_exporter": "python",
   "pygments_lexer": "ipython3",
   "version": "3.9.6"
  }
 },
 "nbformat": 4,
 "nbformat_minor": 2
}
