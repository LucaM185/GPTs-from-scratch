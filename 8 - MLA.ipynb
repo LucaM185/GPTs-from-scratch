{
 "cells": [
  {
   "cell_type": "code",
   "execution_count": 1,
   "metadata": {},
   "outputs": [
    {
     "data": {
      "text/plain": [
       "<torch._C.Generator at 0x113d36c50>"
      ]
     },
     "execution_count": 1,
     "metadata": {},
     "output_type": "execute_result"
    }
   ],
   "source": [
    "import torch\n",
    "import torch.nn as nn\n",
    "import torch.nn.functional as F\n",
    "import matplotlib.pyplot as plt\n",
    "import time\n",
    "device = torch.device(\"cpu\")\n",
    "#device = torch.device(\"cuda:0\" if torch.cuda.is_available() else \"mps\" if torch.mps.is_available() else \"cpu\")\n",
    "\n",
    "torch.manual_seed(1337)"
   ]
  },
  {
   "cell_type": "code",
   "execution_count": 2,
   "metadata": {},
   "outputs": [],
   "source": [
    "sequence_length = 1024   \n",
    "\n",
    "class Attention(nn.Module):\n",
    "    def __init__(self, emb_size, head_size, n_heads):\n",
    "        super().__init__()\n",
    "        self.emb_size = emb_size\n",
    "        self.head_size = head_size\n",
    "        self.n_heads = n_heads\n",
    "\n",
    "        self.keys = nn.Linear(emb_size, head_size, bias=False)\n",
    "        self.queries = nn.Linear(emb_size, head_size, bias=False)\n",
    "        self.values = nn.Linear(emb_size, head_size, bias=False)\n",
    "\n",
    "        self.register_buffer(\"tril\", torch.tril(torch.ones(sequence_length, sequence_length)))\n",
    "\n",
    "    def forward(self, x):\n",
    "        keys = self.keys(x)\n",
    "        queries = self.queries(x)\n",
    "        values = self.values(x)\n",
    "        \n",
    "        tril = self.tril[:x.size(1), :x.size(1)]\n",
    "        weights = queries @ keys.transpose(-2, -1) * (self.head_size ** -0.5)\n",
    "        weights = weights.masked_fill(tril == 0, float(\"-inf\"))\n",
    "        weights = F.softmax(weights, dim=-1)\n",
    "        \n",
    "        return weights @ values\n",
    "    \n",
    "    def autoregressive_forward(self, x):\n",
    "        keys = self.keys(x)\n",
    "        query = self.queries(x[:, -1])\n",
    "        values = self.values(x)\n",
    "\n",
    "        weights = query @ keys.transpose(-2, -1) * (self.head_size ** -0.5)\n",
    "        weights = F.softmax(weights, dim=-1)\n",
    "        \n",
    "        return weights @ values\n",
    "\n",
    "att = Attention(emb_size=256, head_size=256, n_heads=1)\n",
    "\n"
   ]
  },
  {
   "cell_type": "code",
   "execution_count": 3,
   "metadata": {},
   "outputs": [
    {
     "name": "stdout",
     "output_type": "stream",
     "text": [
      "1.0\n",
      "Time taken: 1.6240739822387695 seconds\n",
      "Time taken: 0.6991260051727295 seconds\n"
     ]
    }
   ],
   "source": [
    "# Random data for testing\n",
    "x = torch.randn(1, 5, 256)\n",
    "y = x[:, :x.size(1)-1]\n",
    "\n",
    "# Compute the cache and do an autoregressive step\n",
    "att.forward(y)\n",
    "a = att.autoregressive_forward(x)\n",
    "\n",
    "# Compute the forward pass without the cache for comparison\n",
    "b = att.forward(x)[:, -1]\n",
    "print(((a - b < 1e-6).sum(-1)/a.numel()).item())\n",
    "\n",
    "# Now that we checked for correctness, we can try testing speed\n",
    "x = torch.randn(1, 128, 256)\n",
    "\n",
    "start_time = time.time()\n",
    "for i in range(800):\n",
    "    next = att.forward(x)[:, -1].unsqueeze(1)\n",
    "    x = torch.cat([x, next], dim=1)\n",
    "print(f\"Time taken: {time.time() - start_time} seconds\")\n",
    "\n",
    "# Now we can try the autoregressive forward pass\n",
    "x = x[:, :128]\n",
    "start_time = time.time()\n",
    "for i in range(800):\n",
    "    next = att.autoregressive_forward(x)\n",
    "    x = torch.cat([x, next], dim=1)\n",
    "print(f\"Time taken: {time.time() - start_time} seconds\")"
   ]
  },
  {
   "cell_type": "code",
   "execution_count": 4,
   "metadata": {},
   "outputs": [],
   "source": [
    "sequence_length = 1024\n",
    "\n",
    "class CachedAttention(nn.Module):\n",
    "    def __init__(self, emb_size, head_size, n_heads):\n",
    "        super().__init__()\n",
    "        self.emb_size = emb_size\n",
    "        self.head_size = head_size\n",
    "        self.n_heads = n_heads\n",
    "\n",
    "        self.keys = nn.Linear(emb_size, head_size, bias=False)\n",
    "        self.queries = nn.Linear(emb_size, head_size, bias=False)\n",
    "        self.values = nn.Linear(emb_size, head_size, bias=False)\n",
    "\n",
    "        self.register_buffer(\"tril\", torch.tril(torch.ones(sequence_length, sequence_length)))\n",
    "        self.register_buffer(\"key_cache\", torch.zeros(1, sequence_length, head_size))\n",
    "        self.register_buffer(\"value_cache\", torch.zeros(1, sequence_length, head_size))\n",
    "\n",
    "    def forward(self, x, store_cache=False):\n",
    "        keys = self.keys(x)\n",
    "        queries = self.queries(x)\n",
    "        values = self.values(x)\n",
    "        \n",
    "        tril = self.tril[:x.size(1), :x.size(1)]\n",
    "        weights = queries @ keys.transpose(-2, -1) * (self.head_size ** -0.5)\n",
    "        weights = weights.masked_fill(tril == 0, float(\"-inf\"))\n",
    "        weights = F.softmax(weights, dim=-1)\n",
    "\n",
    "        if store_cache:\n",
    "            self.key_cache[:, :x.size(1)] = keys\n",
    "            self.value_cache[:, :x.size(1)] = values\n",
    "        \n",
    "        return weights @ values\n",
    "    \n",
    "    def cached_autoregressive_forward(self, x):\n",
    "        new_keys = self.keys(x[:, -1:])\n",
    "        new_queries = self.queries(x[:, -1:])\n",
    "        new_values = self.values(x[:, -1:])\n",
    "        L = x.size(1)-1\n",
    "\n",
    "        self.key_cache[:, L, :] = new_keys\n",
    "        self.value_cache[:, L, :] = new_values\n",
    "\n",
    "        weights = new_queries @ self.key_cache[:, :L+1, :].transpose(-2, -1) * (self.head_size ** -0.5)\n",
    "        weights = F.softmax(weights, dim=-1)\n",
    "        return weights @ self.value_cache[:, :L+1, :]\n",
    "\n",
    "att_cached = CachedAttention(emb_size=256, head_size=256, n_heads=4)"
   ]
  },
  {
   "cell_type": "code",
   "execution_count": 5,
   "metadata": {},
   "outputs": [
    {
     "name": "stdout",
     "output_type": "stream",
     "text": [
      "1.0\n",
      "Time taken: 1.6661996841430664 seconds\n",
      "Time taken: 0.5591139793395996 seconds\n",
      "Time taken: 0.25621509552001953 seconds\n",
      "Size in RAM of the KV cache: 1.0 MB\n"
     ]
    }
   ],
   "source": [
    "# Random data for testing\n",
    "x = torch.randn(1, 20, 256)\n",
    "y = x[:, :x.size(1)-1]\n",
    "\n",
    "# Compute the cache and do an autoregressive step\n",
    "att_cached.forward(y, store_cache=True)\n",
    "a = att_cached.cached_autoregressive_forward(x)\n",
    "\n",
    "# Compute the forward pass without the cache for comparison\n",
    "b = att_cached.forward(x)[:, -1]\n",
    "print(((a - b < 1e-3).sum(-1)/a.numel()).item())\n",
    "\n",
    "# Now that we checked for correctness, we can try testing speed\n",
    "x = torch.randn(1, 128, 256)\n",
    "start_time = time.time()\n",
    "for i in range(800):\n",
    "    next = att_cached.forward(x)[:, -1].unsqueeze(1)\n",
    "    x = torch.cat([x, next], dim=1)\n",
    "print(f\"Time taken: {time.time() - start_time} seconds\")\n",
    "\n",
    "# Now we can try the autoregressive forward pass from the old implementation of att\n",
    "x = x[:, :128]\n",
    "start_time = time.time()\n",
    "for i in range(800):\n",
    "    next = att.autoregressive_forward(x)\n",
    "    x = torch.cat([x, next], dim=1)\n",
    "print(f\"Time taken: {time.time() - start_time} seconds\")\n",
    "\n",
    "# Now we can try the autoregressive cached forward pass\n",
    "x = x[:, :128]\n",
    "start_time = time.time()\n",
    "for i in range(800):\n",
    "    next = att_cached.cached_autoregressive_forward(x)\n",
    "    x = torch.cat([x, next], dim=1)\n",
    "print(f\"Time taken: {time.time() - start_time} seconds\")\n",
    "print(f\"Size in RAM of the KV cache: {att_cached.key_cache.numel() * att_cached.key_cache.element_size() / 1024 / 1024} MB\")"
   ]
  },
  {
   "cell_type": "code",
   "execution_count": 6,
   "metadata": {},
   "outputs": [
    {
     "name": "stdout",
     "output_type": "stream",
     "text": [
      "<mediawiki xmlns=\"http://www.mediawiki.org/xml/export-0.3/\" xmlns:xsi=\"http://www.w3.org/2001/XMLSchema-instance\" xsi:schemaLocation=\"http://www.mediawiki.org/xml/export-0.3/ http://www.mediawiki.org/\n"
     ]
    }
   ],
   "source": [
    "with open(\"datasets/enwik8\", \"r\") as f:\n",
    "    load = f.read()[:1000000] # Limited for testing\n",
    "print(load[:200])"
   ]
  },
  {
   "cell_type": "code",
   "execution_count": 7,
   "metadata": {},
   "outputs": [],
   "source": [
    "class MyInputs:\n",
    "    def __init__(self, data, sequence_length):\n",
    "        self.data = data\n",
    "        self.sequence_length = sequence_length\n",
    "        \n",
    "    def __len__(self):\n",
    "        return len(self.data) - self.sequence_length\n",
    "        \n",
    "    def __getitem__(self, idx):\n",
    "        start_indices = idx.unsqueeze(1) + torch.arange(self.sequence_length)\n",
    "        return self.data[start_indices]\n"
   ]
  },
  {
   "cell_type": "code",
   "execution_count": 8,
   "metadata": {},
   "outputs": [
    {
     "name": "stdout",
     "output_type": "stream",
     "text": [
      "997275\n"
     ]
    }
   ],
   "source": [
    "# Restricting to ASCII characters\n",
    "texttoint = {chr(i): i for i in range(256)}\n",
    "inttotext = {i: chr(i) for i in range(256)}\n",
    "dataset = torch.tensor([texttoint[c] for c in load if c in texttoint])\n",
    "\n",
    "vocab_size = len(texttoint)\n",
    "sequence_length = 20\n",
    "val_set = int(len(dataset)*0.1)\n",
    "\n",
    "inputs = MyInputs(dataset[val_set:-1-sequence_length], sequence_length)\n",
    "labels = MyInputs(dataset[val_set+1:-sequence_length], sequence_length)\n",
    "val_inputs = MyInputs(dataset[:val_set], sequence_length)\n",
    "val_labels = MyInputs(dataset[1:val_set+1], sequence_length)\n",
    "\n",
    "print(len(dataset))"
   ]
  },
  {
   "cell_type": "code",
   "execution_count": 9,
   "metadata": {},
   "outputs": [],
   "source": [
    "import math\n",
    "\n",
    "class FullyConnected(nn.Module):  \n",
    "    def __init__(self, in_size, out_size, hidden_size, n_layers):\n",
    "        super(FullyConnected, self).__init__()\n",
    "\n",
    "        self.fc1 = nn.Linear(in_size, hidden_size)\n",
    "        self.fcx = nn.ModuleList([nn.Linear(hidden_size, hidden_size) for _ in range(n_layers)])\n",
    "        self.fc2 = nn.Linear(hidden_size, out_size)\n",
    "    \n",
    "    def forward(self, x):\n",
    "        x = F.gelu(self.fc1(x))\n",
    "        for fc in self.fcx:\n",
    "            x = F.gelu(fc(x))\n",
    "        x = self.fc2(x)\n",
    "        return x\n",
    "\n",
    "class Attention(nn.Module):\n",
    "    \"\"\"Fixed-size (2048) KV cache.  Refill at training-time, append at eval-time.\"\"\"\n",
    "    def __init__(self, emb_size: int, cache_len):\n",
    "        super().__init__()\n",
    "        self.emb_size  = emb_size\n",
    "        self.cache_len = cache_len\n",
    "\n",
    "        self.keys    = nn.Linear(emb_size, emb_size)\n",
    "        self.queries = nn.Linear(emb_size, emb_size)\n",
    "        self.values  = nn.Linear(emb_size, emb_size)\n",
    "\n",
    "        self.register_buffer(\"cache_k\",  torch.zeros(1, cache_len, emb_size))\n",
    "        self.register_buffer(\"cache_v\",  torch.zeros(1, cache_len, emb_size))\n",
    "        self.step = 0 \n",
    "\n",
    "    def forward(self, x, autoregressive=False):\n",
    "        if autoregressive:   \n",
    "            qk, v = self.update_qkv(x)\n",
    "        else:\n",
    "            qk, v = self.compute_qkv(x)\n",
    "\n",
    "        att = torch.softmax(qk / math.sqrt(self.emb_size), dim=-1)\n",
    "        return torch.matmul(att, v)\n",
    "\n",
    "    def compute_qkv(self, x, build_cache=False):\n",
    "        q, k, v = self.queries(x), self.keys(x), self.values(x)\n",
    "\n",
    "        if build_cache:\n",
    "            print(\"Building cache\")\n",
    "            L = x.shape[1]\n",
    "            self.cache_k[:, :L, :]   = k\n",
    "            self.cache_v[:, :L, :]   = v\n",
    "            self.step = L\n",
    "            \n",
    "        qk = torch.matmul(q, k.transpose(-2, -1))\n",
    "        tril = torch.tril(torch.ones(x.shape[1], x.shape[1], device=x.device, dtype=torch.bool))\n",
    "        qk = qk.masked_fill(tril == 0, float(\"-inf\"))\n",
    "        return qk, v\n",
    "\n",
    "    def update_qkv(self, x):\n",
    "        assert x.shape[0] == 1, \"Only batch size 1 is supported\"\n",
    "        if self.step == 0: return self.compute_qkv(x, build_cache=True)\n",
    "        \n",
    "        q = self.queries(x[:, -1, :]).unsqueeze(1)\n",
    "        k = self.keys(x[:, -1, :]).unsqueeze(1)\n",
    "        v = self.values(x[:, -1, :]).unsqueeze(1)\n",
    "\n",
    "        self.cache_k[:, self.step:self.step+1, :] = k\n",
    "        self.cache_v[:, self.step:self.step+1, :] = v\n",
    "\n",
    "        self.step += 1\n",
    "        qk = torch.matmul(q, self.cache_k[:, :self.step, :].transpose(-2, -1))\n",
    "        return qk, self.cache_v[:, :self.step, :]\n",
    "\n",
    "class Block(nn.Module):\n",
    "    def __init__(self, emb_size, hidden_size, n_layers, cache_len):\n",
    "        super().__init__()\n",
    "        self.prenorm1 = nn.LayerNorm(emb_size)\n",
    "        self.att      = Attention(emb_size, cache_len)\n",
    "        self.prenorm2 = nn.LayerNorm(emb_size)\n",
    "        self.fc       = FullyConnected(emb_size, emb_size, hidden_size, n_layers)\n",
    "\n",
    "    def forward(self, x, **kwargs):\n",
    "        x = x + self.att(self.prenorm1(x), **kwargs)\n",
    "        x = x + self.fc(self.prenorm2(x))\n",
    "        return x\n",
    "\n",
    "class Transformer(nn.Module):\n",
    "    def __init__(self, vocab_size, emb_size, n_blocks,\n",
    "                 head_size, hidden_size, n_layers, sequence_length, cache_len):\n",
    "        super().__init__()\n",
    "        self.embedding = nn.Embedding(vocab_size, emb_size)\n",
    "        self.posemb    = nn.Embedding(sequence_length, emb_size)\n",
    "        self.blocks    = nn.ModuleList([Block(emb_size, hidden_size, n_layers, cache_len) for _ in range(n_blocks)])\n",
    "        self.out = nn.Linear(emb_size, vocab_size)\n",
    "\n",
    "    def forward(self, x, **kwargs):\n",
    "        x = self.embedding(x) + self.posemb(torch.arange(x.size(1), device=x.device))\n",
    "\n",
    "        if kwargs.get(\"autoregressive\", False) and self.blocks[-1].att.step != 0: \n",
    "            x = x[:, -1:] # We select the last token after positional encodings \n",
    "        for block in self.blocks:\n",
    "            x = block(x, **kwargs)\n",
    "        return self.out(x)\n",
    "    \n",
    "    def reset_cache(self):\n",
    "        for block in self.blocks:\n",
    "            block.att.step = 0\n",
    "\n",
    "model = Transformer(vocab_size=len(inttotext), emb_size=128, n_blocks=2, head_size=128, hidden_size=128, n_layers=2, sequence_length=2048, cache_len=2048)\n",
    "\n"
   ]
  },
  {
   "cell_type": "code",
   "execution_count": 10,
   "metadata": {},
   "outputs": [
    {
     "name": "stdout",
     "output_type": "stream",
     "text": [
      "Millions of parameters: 0.56\n",
      "Epoch ___0 - Loss: 5.835 - Val Loss: 5.754\n",
      "Epoch ___3 - Loss: 5.667 - Val Loss: 5.614\n",
      "Epoch ___6 - Loss: 5.519 - Val Loss: 5.424\n",
      "Epoch ___9 - Loss: 5.355 - Val Loss: 5.306\n",
      "Epoch __12 - Loss: 5.167 - Val Loss: 5.075\n",
      "Epoch __15 - Loss: 4.966 - Val Loss: 4.888\n",
      "Epoch __18 - Loss: 4.750 - Val Loss: 4.658\n",
      "Epoch __21 - Loss: 4.511 - Val Loss: 4.294\n",
      "Epoch __24 - Loss: 4.248 - Val Loss: 4.141\n",
      "Epoch __27 - Loss: 4.043 - Val Loss: 3.819\n"
     ]
    },
    {
     "data": {
      "text/plain": [
       "<matplotlib.legend.Legend at 0x43f6db760>"
      ]
     },
     "execution_count": 10,
     "metadata": {},
     "output_type": "execute_result"
    },
    {
     "data": {
      "image/png": "[encoded data removed]",
      "text/plain": [
       "<Figure size 600x300 with 1 Axes>"
      ]
     },
     "metadata": {},
     "output_type": "display_data"
    }
   ],
   "source": [
    "torch.compile(model)\n",
    "print(f\"Millions of parameters: {sum(p.numel() for p in model.parameters())/1e6:.2f}\")\n",
    "\n",
    "batch_size = 512\n",
    "epochs = 30\n",
    "optimizer = torch.optim.Adam(model.parameters(), lr=3e-4) \n",
    "\n",
    "lossi = []\n",
    "vlossi = []\n",
    "\n",
    "for epoch in range(epochs):\n",
    "    indexes = torch.randint(0, len(inputs), (batch_size,))\n",
    "    \n",
    "    pred = model(inputs[indexes].to(device), autoregressive=False) # everything in the forward pass happens in the model class\n",
    "    loss = F.cross_entropy(pred.view(-1, vocab_size), labels[indexes].to(device).view(-1))\n",
    "\n",
    "    loss.backward()\n",
    "    optimizer.step()\n",
    "    optimizer.zero_grad()\n",
    "\n",
    "    lossi.append(loss.item())\n",
    "    with torch.no_grad():\n",
    "        indexes = torch.randint(0, len(val_inputs), (batch_size//8,))\n",
    "        pred = model(val_inputs[indexes].to(device))\n",
    "\n",
    "        loss = F.cross_entropy(pred.view(-1, vocab_size), val_labels[indexes].to(device).view(-1))\n",
    "        vlossi.append(loss.item())\n",
    "\n",
    "    if epoch % (epochs//10) == 0:\n",
    "        print(f\"Epoch {epoch:_>4d} - Loss: {lossi[-1]:.3f} - Val Loss: {vlossi[-1]:.3f}\")\n",
    "    \n",
    "plt.figure(figsize=(6, 3))\n",
    "plt.plot(vlossi[:], label='Validation Loss')\n",
    "plt.plot(lossi[:], label='Loss')\n",
    "plt.legend()"
   ]
  },
  {
   "cell_type": "code",
   "execution_count": 11,
   "metadata": {},
   "outputs": [
    {
     "name": "stdout",
     "output_type": "stream",
     "text": [
      "tensor([[119, 104, 111,  32, 115, 101, 101, 107,  32,  97,  32,  99, 117, 114,\n",
      "         101,  32, 102, 111, 114,  32]])\n",
      "Building cache\n",
      "Building cache\n",
      "who seek a cure for \n",
      "<aba  a[  abe\n",
      "oa d    d  aAe  it  <am d\u001d    duoni  her  ira.| iranit  hith dr  hihe   d  anis am ]the de  duon d   hoonant   d        ir he   atira   otMt d   a at  he d  dhidd ae a  am   r ra du  uouonamynihe     dduotMtheoaid d anep  dur   d  duAe ainithe dd        abeeniir  a d a   he   iniv[s ie  a  a    d am  ant  due   \u00141 asoe  r  i whit    <athoaw  ie   am a[ honana«i d d  d duon       hintit    oonit  aùans C d   anivn dci&    ona[e  de   ir ae    se  at  a    d am d    d d         i ie   he\n",
      "ve  a i d rat     d it araise    [[[  at     d   d  d   da a[[[  d d/Äf  otr inatithi d   dsott  ara   dam d dam d an    r       <ith e  d  <e d    d ]aAeonihee am aaaihee   d it   ir  ir d     dr d  dcdd  d ase d   aie itt    duooai   m  a   ran  d    a.eni   ithair  anigotir  it   dr  d   anihe at th   duote  <araA  heot   ihon  dih    duonte he at      ite    ai   d#A  de   d  he <akoe     da[\tir   hithitha  d    d it ar     a d          am a  d   a     at     a»on  d <nam     aiti d  \n"
     ]
    }
   ],
   "source": [
    "model.reset_cache()\n",
    "example = inputs[torch.zeros(1).long()]\n",
    "print(example)\n",
    "\n",
    "for i in range(1000):\n",
    "    next = model.forward(example, autoregressive=True)[:, -1]\n",
    "    example = torch.cat([example, next.argmax(dim=-1).unsqueeze(1)], dim=1)\n",
    "\n",
    "print(\"\".join(inttotext[i.item()] for i in example[0])[:20])\n",
    "print(\"\".join(inttotext[i.item()] for i in example[0])[20:])"
   ]
  },
  {
   "cell_type": "code",
   "execution_count": 12,
   "metadata": {},
   "outputs": [
    {
     "name": "stdout",
     "output_type": "stream",
     "text": [
      "tensor([[119, 104, 111,  32, 115, 101, 101, 107,  32,  97,  32,  99, 117, 114,\n",
      "         101,  32, 102, 111, 114,  32]])\n",
      "who seek a cure for \n",
      "      a[         d       aiie it  at   ihe      d  her   a[   iranit  hith duot hihe      ioni at       d  d  d     hoooant   d        ir he   atir    otMt d   a  he he    dhidd ae a  am   r r  du  uouon  air d     dde  ait r id d anee  dur   d  diga ainithe  d        a e arai  a   a   he   iniv a ie  a  a    d   i ant  due   d  asoe  r  i whit    <athoa   ie   am a[ honana«i d d    dr d       hintit    oonit  aùani C d   anive dci&    ona[e  de   ir ae    se      a    d am d    d d         i ie   he  athe i d rat     d it  d  d     [    at     d   d  d   da a[[[     at a otr inatithi d   dsott  ar    dam d dam d an    r       <ith e  d  <e d    d ]aAeonihee a  aaaihee   d it   ir  ir d     dr d   a d  d ase d   aie itt    d  oaont m  a   ran  d    a.eni   ithair  anigotir  it   dr  d   a   d at th   ionte  <araA  heot   ihon  dih    dduoe  he at      ite         d b  de   d  he  dd       aa[        aonir   d    d it ar     a d          am a  d   a     at     a in  d <nam     aiti d  \n"
     ]
    }
   ],
   "source": [
    "example = inputs[torch.zeros(1).long()]\n",
    "print(example)\n",
    "\n",
    "for i in range(1000):\n",
    "    next = model.forward(example, autoregressive=False)[:, -1]\n",
    "    example = torch.cat([example, next.argmax(dim=-1).unsqueeze(1)], dim=1)\n",
    "\n",
    "print(\"\".join(inttotext[i.item()] for i in example[0])[:20])\n",
    "print(\"\".join(inttotext[i.item()] for i in example[0])[20:])"
   ]
  },
  {
   "cell_type": "code",
   "execution_count": 13,
   "metadata": {},
   "outputs": [
    {
     "name": "stdout",
     "output_type": "stream",
     "text": [
      "tensor([[119, 104, 111,  32, 115, 101, 101, 107,  32,  97,  32,  99, 117, 114,\n",
      "         101,  32, 102, 111, 114,  32]])\n"
     ]
    }
   ],
   "source": [
    "model.reset_cache()\n",
    "example = inputs[torch.zeros(1).long()]\n",
    "print(example)\n",
    "\n",
    "next1 = model.forward(example, autoregressive=False)[:, -1]\n",
    "example = torch.cat([example, next1.argmax(dim=-1).unsqueeze(1)], dim=1)\n",
    "next3 = model.forward(example, autoregressive=False)[:, -1]\n"
   ]
  },
  {
   "cell_type": "code",
   "execution_count": 14,
   "metadata": {},
   "outputs": [
    {
     "name": "stdout",
     "output_type": "stream",
     "text": [
      "tensor([[119, 104, 111,  32, 115, 101, 101, 107,  32,  97,  32,  99, 117, 114,\n",
      "         101,  32, 102, 111, 114,  32]])\n",
      "Building cache\n",
      "Building cache\n"
     ]
    }
   ],
   "source": [
    "model.reset_cache()\n",
    "example = inputs[torch.zeros(1).long()]\n",
    "print(example)\n",
    "\n",
    "next = model.forward(example, autoregressive=True)[:, -1]\n",
    "example = torch.cat([example, next.argmax(dim=-1).unsqueeze(1)], dim=1)\n",
    "next2 = model.forward(example, autoregressive=True)[:, -1]"
   ]
  },
  {
   "cell_type": "code",
   "execution_count": 15,
   "metadata": {},
   "outputs": [
    {
     "data": {
      "text/plain": [
       "tensor([[-2.0728e-01, -7.5639e-01, -7.2591e-01, -6.1220e-01, -3.7927e-01,\n",
       "         -2.6770e-01,  5.9720e-02, -4.9104e-01, -2.2266e-01, -1.5494e-01,\n",
       "          8.3772e-01, -9.5382e-01, -9.9542e-01, -1.1914e+00, -7.3317e-01,\n",
       "         -5.8490e-01, -2.4520e-01,  5.4854e-02, -3.8684e-01, -1.3990e+00,\n",
       "         -1.0242e+00, -3.9932e-01,  4.5306e-02, -6.9686e-01, -6.0477e-01,\n",
       "         -4.0259e-01, -1.5029e+00, -1.1216e-01, -1.0938e+00, -8.6229e-01,\n",
       "         -5.5126e-01, -1.0707e+00,  2.2673e+00, -8.6460e-01, -1.0235e+00,\n",
       "         -9.1748e-01, -1.1632e+00, -5.6449e-01, -3.7311e-01,  3.4770e-01,\n",
       "          2.8508e-01, -2.5995e-01, -5.4306e-01, -9.0321e-01,  6.6420e-01,\n",
       "          1.8325e-02, -1.6204e-01,  2.7986e-01, -1.3060e-01, -5.7548e-01,\n",
       "          2.9152e-01, -5.5849e-01, -1.0054e+00, -2.9779e-01, -1.1769e+00,\n",
       "         -3.5500e-01, -1.0958e-01,  1.5259e-02, -1.9796e-03,  7.3864e-02,\n",
       "         -1.2960e+00,  5.0151e-02, -9.4187e-01, -7.9419e-01, -9.7153e-01,\n",
       "          3.2750e-01, -1.2223e+00,  1.3841e-01, -9.3090e-01, -1.8380e-01,\n",
       "         -6.4724e-01, -6.7488e-01, -9.6587e-01,  2.3140e-01, -1.0340e+00,\n",
       "         -1.4583e+00, -1.2344e+00,  2.0091e-01, -1.5769e-01, -5.6738e-01,\n",
       "         -6.0102e-01, -6.1545e-01, -1.3347e+00, -4.1805e-01,  5.7147e-01,\n",
       "          3.3958e-02, -1.2745e-01, -8.6656e-01,  6.4657e-01, -6.2293e-01,\n",
       "         -5.3887e-01,  8.7936e-01,  1.4698e-01,  1.0072e+00,  3.9509e-01,\n",
       "          3.4545e-01, -3.7442e-01,  1.7556e+00,  6.9161e-01,  1.2246e-01,\n",
       "         -3.5403e-01,  9.7237e-01,  4.0122e-01, -9.2737e-02,  1.3613e+00,\n",
       "          1.5376e+00, -9.1107e-01,  5.3528e-01,  6.1256e-01,  1.1715e-01,\n",
       "          2.2466e+00,  8.7441e-01,  1.3150e+00, -3.0075e-01,  1.7247e+00,\n",
       "          1.3408e+00,  1.4404e+00,  8.1280e-01,  1.0902e+00,  1.3589e-01,\n",
       "         -2.4538e-01,  6.0240e-01,  7.1475e-02, -7.4818e-01,  1.1842e+00,\n",
       "         -9.3242e-01, -1.9938e-01, -1.1159e-01, -8.1505e-01,  2.8043e-01,\n",
       "         -1.3385e+00, -1.8877e+00, -6.9425e-01, -1.6399e+00, -2.9405e+00,\n",
       "         -8.4171e-01, -3.6466e-01, -1.3566e+00, -6.2055e-01, -2.6193e-01,\n",
       "         -1.1418e+00, -2.5245e-01, -7.5806e-01, -3.2728e-01, -2.8403e-01,\n",
       "         -9.2979e-01,  6.5159e-01, -8.8877e-01, -2.6893e-01, -1.5034e+00,\n",
       "         -6.4245e-01, -1.3089e+00, -9.1782e-01, -1.5753e-01, -3.8775e-01,\n",
       "         -2.9627e-01, -4.5712e-01, -3.2222e-01, -7.5996e-01, -2.1016e-01,\n",
       "          1.8411e-01,  2.9577e-01, -9.2435e-01, -1.4243e+00, -6.6951e-01,\n",
       "         -1.4125e-01, -7.5674e-01, -7.5281e-01, -1.5245e+00, -5.5558e-01,\n",
       "         -4.7152e-01, -1.3158e-02,  8.4324e-03,  2.4930e-01, -5.0907e-01,\n",
       "         -4.0869e-01, -6.0362e-01, -7.7801e-01, -1.5241e+00, -1.1323e+00,\n",
       "         -1.8792e+00, -3.8752e-01, -5.6438e-01, -1.4495e-01, -1.4396e+00,\n",
       "         -8.5553e-01,  6.5412e-01,  1.4004e-02, -1.0818e+00, -1.0301e+00,\n",
       "         -8.9579e-01, -5.1627e-01, -9.7015e-01, -6.5621e-01, -4.1331e-01,\n",
       "         -6.3146e-01,  3.6686e-03, -1.0326e+00, -3.1349e-01, -4.6800e-01,\n",
       "         -6.0698e-01, -1.3516e+00, -2.9137e-01, -1.2430e+00, -1.0164e+00,\n",
       "         -4.8663e-01,  2.4523e-01, -4.1020e-01, -1.1871e+00, -9.8145e-01,\n",
       "         -9.1210e-01, -1.3824e+00, -3.1423e-02, -1.0898e-01,  1.0928e-01,\n",
       "         -1.5369e+00, -1.6386e+00, -8.1517e-01,  2.0982e-01, -4.8051e-01,\n",
       "         -8.2817e-01, -7.9232e-01, -8.9547e-01,  2.7308e-01, -2.7970e-01,\n",
       "         -7.1729e-02, -1.1099e+00,  2.1533e-01, -3.6789e-02, -7.2310e-01,\n",
       "         -1.0557e+00, -5.6200e-01,  2.4872e-01, -5.0950e-01, -2.4185e-01,\n",
       "         -1.3984e+00, -9.2985e-01, -4.5659e-01, -1.7097e+00, -4.0510e-01,\n",
       "         -4.5953e-02, -4.8616e-01, -9.4837e-01, -5.6437e-01, -1.2443e+00,\n",
       "          2.2910e-01, -4.8845e-01, -1.3279e+00, -1.0510e+00, -8.3249e-01,\n",
       "         -1.8220e+00, -7.6343e-01, -1.7558e-01, -9.9163e-02, -5.8340e-01,\n",
       "         -5.6212e-01]], grad_fn=<SubBackward0>)"
      ]
     },
     "execution_count": 15,
     "metadata": {},
     "output_type": "execute_result"
    }
   ],
   "source": [
    "next1 - next"
   ]
  },
  {
   "cell_type": "code",
   "execution_count": 16,
   "metadata": {},
   "outputs": [
    {
     "data": {
      "text/plain": [
       "tensor([[False, False, False, False, False, False, False, False, False, False,\n",
       "         False, False, False, False, False, False, False, False, False, False,\n",
       "         False, False, False, False, False, False, False, False, False, False,\n",
       "         False, False, False, False, False, False, False, False, False, False,\n",
       "         False, False, False, False, False, False, False, False, False, False,\n",
       "         False, False, False, False, False, False, False, False, False, False,\n",
       "         False, False, False, False, False, False, False, False, False, False,\n",
       "         False, False, False, False, False, False, False, False, False, False,\n",
       "         False, False, False, False, False, False, False, False, False, False,\n",
       "         False, False, False, False, False, False, False, False, False, False,\n",
       "         False, False, False, False, False, False, False, False, False, False,\n",
       "         False, False, False, False, False, False, False, False, False, False,\n",
       "         False, False, False, False, False, False, False, False, False, False,\n",
       "         False, False, False, False, False, False, False, False, False, False,\n",
       "         False, False, False, False, False, False, False, False, False, False,\n",
       "         False, False, False, False, False, False, False, False, False, False,\n",
       "         False, False, False, False, False, False, False, False, False, False,\n",
       "         False, False, False, False, False, False, False, False, False, False,\n",
       "         False, False, False, False, False, False, False, False, False, False,\n",
       "         False, False, False, False, False, False, False, False, False, False,\n",
       "         False, False, False, False, False, False, False, False, False, False,\n",
       "         False, False, False, False, False, False, False, False, False, False,\n",
       "         False, False, False, False, False, False, False, False, False, False,\n",
       "         False, False, False, False, False, False, False, False, False, False,\n",
       "         False, False, False, False, False, False, False, False, False, False,\n",
       "         False, False, False, False, False, False]])"
      ]
     },
     "execution_count": 16,
     "metadata": {},
     "output_type": "execute_result"
    }
   ],
   "source": [
    "next2 == next3"
   ]
  },
  {
   "cell_type": "code",
   "execution_count": null,
   "metadata": {},
   "outputs": [],
   "source": []
  }
 ],
 "metadata": {
  "kernelspec": {
   "display_name": "Python 3",
   "language": "python",
   "name": "python3"
  },
  "language_info": {
   "codemirror_mode": {
    "name": "ipython",
    "version": 3
   },
   "file_extension": ".py",
   "mimetype": "text/x-python",
   "name": "python",
   "nbconvert_exporter": "python",
   "pygments_lexer": "ipython3",
   "version": "3.9.6"
  }
 },
 "nbformat": 4,
 "nbformat_minor": 2
}
