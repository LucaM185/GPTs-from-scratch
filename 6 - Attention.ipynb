{
 "cells": [
  {
   "cell_type": "markdown",
   "metadata": {},
   "source": [
    "README -- Out of memory errors <br>\n",
    "This code is tuned for a RTX3060 12GB, if you have less memory, you will likely get \"out of memory\" errors with this code, try to aggressively reduce batch size (you can increase epochs to compensate)"
   ]
  },
  {
   "cell_type": "code",
   "execution_count": 1,
   "metadata": {
    "metadata": {}
   },
   "outputs": [],
   "source": [
    "import torch\n",
    "import torch.nn as nn\n",
    "import torch.nn.functional as F\n",
    "import matplotlib.pyplot as plt \n",
    "device = torch.device(\"cuda:0\")\n"
   ]
  },
  {
   "cell_type": "code",
   "execution_count": 2,
   "metadata": {
    "metadata": {}
   },
   "outputs": [
    {
     "name": "stdout",
     "output_type": "stream",
     "text": [
      "First Citizen:\n",
      "Before we proceed any further, hear me speak.\n",
      "\n",
      "All:\n",
      "Speak, speak.\n",
      "\n",
      "First Citizen:\n",
      "You are all resolved rather to die than to famish?\n",
      "\n",
      "All:\n",
      "Resolved. resolved.\n",
      "\n",
      "First Citizen:\n",
      "First, you\n"
     ]
    }
   ],
   "source": [
    "with open(\"datasets/tinyShakespeare.txt\", \"r\") as f:\n",
    "    load = f.read()\n",
    "print(load[:200])"
   ]
  },
  {
   "cell_type": "code",
   "execution_count": 3,
   "metadata": {
    "metadata": {}
   },
   "outputs": [],
   "source": [
    "texttoint = {elm: n for n, elm in enumerate(set(load))}\n",
    "inttotext = {n:elm for n, elm in enumerate(set(load))}\n",
    "dataset = [texttoint[c] for c in load]\n",
    "\n",
    "vocab_size = len(texttoint)\n",
    "sequence_length = 20\n",
    "\n",
    "sequences = torch.tensor([dataset[i:-sequence_length+i-1] for i in range(sequence_length+1)]).T\n",
    "inputs = sequences[2000:, :-1]\n",
    "labels = sequences[2000:, 1:]\n",
    "val_inputs = sequences[:2000, 0:-1]\n",
    "val_labels = sequences[:2000, -1]"
   ]
  },
  {
   "cell_type": "markdown",
   "metadata": {},
   "source": [
    "# Attention Block - Scaled dot product attention\n",
    "\n",
    "A very effective system that can find correlations between tokens is the attention block <br><br>\n",
    "\n",
    "It takes in a series of tokens: input (sequence_length, embedding_size)<br>\n",
    "we call this layer \"attention head\", you can have one head of self attention or many heads with different weights. <br> \n",
    "and computes the dot products with 3 sets of weights, called \"keys\", \"queries\" and \"values\" of size (emb_size, head_size) <br>\n",
    " \n",
    "After this operation you have three tensors of size (sequence_length, head_size) <br>\n",
    "you compute the similarity matrix (sequence_length, sequence_length) by multiplying keys with transposed queries. <br><br>\n",
    "\n",
    "The next step is to tril (transform to lower triangular) and softmax the similarity matrix, and a scaling by sqrt(head_size) <br>\n",
    "(This is why its called scaled dot product attention) <br>\n",
    "Following is a dot product with the values. The output will be (sequence_length, head_size) <br>\n",
    "\n",
    "This block has roughly a complexity of O(sequence_length^2) witch is sub optimal for long sequence lengths, so we use sligthly different attention blocks for that<br>"
   ]
  },
  {
   "cell_type": "code",
   "execution_count": 4,
   "metadata": {},
   "outputs": [],
   "source": [
    "def visualize(activations):\n",
    "    import matplotlib.pyplot as plt\n",
    "    activations = activations\n",
    "    print(activations.mean(), activations.std(), activations.min(), activations.max(), activations.shape)\n",
    "    plt.imshow(activations[0].detach().cpu().numpy())\n",
    "    plt.show()"
   ]
  },
  {
   "cell_type": "code",
   "execution_count": 5,
   "metadata": {
    "metadata": {}
   },
   "outputs": [
    {
     "name": "stdout",
     "output_type": "stream",
     "text": [
      "Millions of parameters: 0.02\n",
      "Epoch ___0 - Loss: 4.347\n",
      "Epoch _600 - Loss: 2.549\n",
      "Epoch 1200 - Loss: 2.446\n",
      "Epoch 1800 - Loss: 2.397\n",
      "Epoch 2400 - Loss: 2.332\n",
      "Epoch 3000 - Loss: 2.254\n",
      "Epoch 3600 - Loss: 2.197\n",
      "Epoch 4200 - Loss: 2.162\n",
      "Epoch 4800 - Loss: 2.129\n",
      "Epoch 5400 - Loss: 2.111\n"
     ]
    }
   ],
   "source": [
    "class Attention(nn.Module):  \n",
    "    def __init__(self, emb_size, head_size):\n",
    "        super(Attention, self).__init__()\n",
    "        self.head_size = head_size\n",
    "\n",
    "        self.keys = nn.Linear(emb_size, head_size)\n",
    "        self.queries = nn.Linear(emb_size, head_size)\n",
    "        self.values = nn.Linear(emb_size, head_size) \n",
    "        self.rvalues = nn.Linear(head_size, emb_size)\n",
    "\n",
    "    def forward(self, x, mask=True):\n",
    "        k = self.keys(x)\n",
    "        q = self.queries(x)\n",
    "        v = self.values(x)\n",
    "\n",
    "        similarity = k @ q.transpose(-2, -1)/(self.head_size**0.5)\n",
    "        if mask: similarity[torch.tril(torch.ones_like(similarity)) == 0] = float(\"-inf\")\n",
    "        similarity = torch.softmax(similarity, dim = -1)\n",
    "        \n",
    "        attention = similarity @ v \n",
    "        attention = self.rvalues(attention)\n",
    "        return attention\n",
    "\n",
    "\n",
    "class FullyConnected(nn.Module):  \n",
    "    def __init__(self, in_size, out_size, hidden_size, n_layers):\n",
    "        super(FullyConnected, self).__init__()\n",
    "\n",
    "        self.fc1 = nn.Linear(in_size, hidden_size)\n",
    "        self.fcx = nn.ModuleList([nn.Linear(hidden_size, hidden_size) for _ in range(n_layers)])\n",
    "        self.fc2 = nn.Linear(hidden_size, out_size)\n",
    "    \n",
    "    def forward(self, x):\n",
    "        x = F.gelu(self.fc1(x))\n",
    "        for fc in self.fcx:\n",
    "            x = x + F.gelu(fc(x)) # Residual connection not present in the original paper, but it helps with convergence\n",
    "        x = self.fc2(x)\n",
    "        return x\n",
    "\n",
    "\n",
    "class Block(nn.Module): \n",
    "    def __init__(self, vocab_size, emb_size, head_size, hidden_size, n_layers):\n",
    "        super().__init__()\n",
    "        self.embedding = nn.Embedding(vocab_size, emb_size)\n",
    "        self.posemb = nn.Embedding(sequence_length, emb_size)\n",
    "        self.prenorm1 = nn.LayerNorm(emb_size)\n",
    "        self.att = Attention(emb_size, head_size)\n",
    "        self.prenorm2 = nn.LayerNorm(emb_size)\n",
    "        self.fc = FullyConnected(emb_size, emb_size, hidden_size, n_layers)\n",
    "\n",
    "        self.fcout = nn.Linear(emb_size, vocab_size)\n",
    "\n",
    "    def forward(self, x):          \n",
    "        x = self.embedding(x) + self.posemb(torch.arange(x.size(1)).to(x.device)) * .1\n",
    "        x = x + self.att(self.prenorm1(x)) \n",
    "        x = x + self.fc(self.prenorm2(x))\n",
    "        x = self.fcout(x)\n",
    "    \n",
    "        return x\n",
    "    \n",
    "device = torch.device(\"cuda:0\")\n",
    "model = Block(vocab_size=vocab_size, emb_size=16, head_size=64, hidden_size=64, n_layers=2).to(device)\n",
    "print(f\"Millions of parameters: {sum(p.numel() for p in model.parameters())/1e6:.2f}\")\n",
    "\n",
    "epochs = 6000\n",
    "batch_size = 2048\n",
    "optimizer = torch.optim.Adam(model.parameters(), lr=3e-4) \n",
    "\n",
    "lossi = []\n",
    "vlossi = []\n",
    "\n",
    "for epoch in range(epochs):\n",
    "    indexes = torch.randint(0, len(inputs), (batch_size,))\n",
    "    \n",
    "    pred = model(inputs[indexes].to(device)) # everything in the forward pass happens in the model class\n",
    "    loss = F.cross_entropy(pred.view(-1, 65), labels[indexes].to(device).view(-1))\n",
    "\n",
    "    loss.backward()\n",
    "    optimizer.step()\n",
    "    optimizer.zero_grad()\n",
    "\n",
    "    lossi.append(loss.item())\n",
    "    if epoch % (epochs//10) == 0:\n",
    "        print(f\"Epoch {epoch:_>4d} - Loss: {loss.item():.3f}\")\n",
    "    \n",
    "    with torch.no_grad():\n",
    "        indexes = torch.randint(0, len(val_inputs), (batch_size//8,))\n",
    "        pred = model(val_inputs[indexes].to(device))[:, -1]\n",
    "\n",
    "        loss = F.cross_entropy(pred, val_labels[indexes].to(device))\n",
    "        vlossi.append(loss.item())\n",
    "    # with torch.no_grad():\n",
    "    #     indexes = torch.randint(0, len(inputs), (batch_size//8,))\n",
    "    #     pred = model(inputs[indexes].to(device))[:, -1]\n",
    "\n",
    "    #     loss = F.cross_entropy(pred, labels[:,-1][indexes].to(device))\n",
    "    #     vlossi.append(loss.item())"
   ]
  },
  {
   "cell_type": "markdown",
   "metadata": {},
   "source": [
    "This performance is slightly worse than 20 layers MLP, but we are using just a single block (attention + 2 hidden layer MLP)  <br>\n",
    "Note: we are using roughly 10k parameters instead of 370k"
   ]
  },
  {
   "cell_type": "code",
   "execution_count": 6,
   "metadata": {},
   "outputs": [
    {
     "data": {
      "text/plain": [
       "<matplotlib.legend.Legend at 0x7c4964a578e0>"
      ]
     },
     "execution_count": 6,
     "metadata": {},
     "output_type": "execute_result"
    },
    {
     "data": {
      "image/png": "[encoded data removed]",
      "text/plain": [
       "<Figure size 600x300 with 1 Axes>"
      ]
     },
     "metadata": {},
     "output_type": "display_data"
    }
   ],
   "source": [
    "plt.figure(figsize=(6, 3))  \n",
    "plt.plot(vlossi[100:], label='Validation Loss')\n",
    "plt.plot(lossi[100:], label='Loss')\n",
    "plt.legend()"
   ]
  },
  {
   "cell_type": "code",
   "execution_count": 7,
   "metadata": {},
   "outputs": [
    {
     "name": "stdout",
     "output_type": "stream",
     "text": [
      "           \n",
      "KING RICHARD I:\n",
      "I with we it vour with is yor bndesaty.\n",
      "\n",
      "RCep jou ho!\n",
      "'Mooutth ward neatthe with thris\n",
      "Shiron ghe mopu the wice:\n",
      "Dou of moleas, flome astiny, wour's ris lon; pthastrour do they.\n",
      "\n",
      "\n",
      "JUn ivon trieve\n",
      "Yord warke is\n",
      "somess yome mind of gsepune, a latit them not-on,\n",
      "At las, astir my liss arices for my re"
     ]
    }
   ],
   "source": [
    "string = \"           \\nKING RICHARD I\"\n",
    "print(string, end=\"\")\n",
    "\n",
    "with torch.no_grad():\n",
    "    for _ in range(300):\n",
    "        X = torch.tensor([texttoint[s] for s in string[-sequence_length:]]).long().view(1, -1).to(device)\n",
    "        pred = model.forward(X)\n",
    "        string += inttotext[torch.multinomial(F.softmax(pred[0, -1, :], dim=0), 1).item()]\n",
    "        print(string[-1], end=\"\")\n"
   ]
  },
  {
   "cell_type": "markdown",
   "metadata": {},
   "source": [
    "# Transformers \n",
    "\n",
    "Transformers consist of attention blocks in sequence, with residual connections "
   ]
  },
  {
   "cell_type": "code",
   "execution_count": 26,
   "metadata": {
    "metadata": {}
   },
   "outputs": [
    {
     "name": "stdout",
     "output_type": "stream",
     "text": [
      "Millions of parameters: 0.28\n",
      "Epoch ___0 - Loss: 4.316\n",
      "Epoch _600 - Loss: 2.218\n",
      "Epoch 1200 - Loss: 1.998\n",
      "Epoch 1800 - Loss: 1.855\n",
      "Epoch 2400 - Loss: 1.790\n",
      "Epoch 3000 - Loss: 1.735\n",
      "Epoch 3600 - Loss: 1.702\n",
      "Epoch 4200 - Loss: 1.646\n",
      "Epoch 4800 - Loss: 1.641\n",
      "Epoch 5400 - Loss: 1.614\n"
     ]
    }
   ],
   "source": [
    "class Block(nn.Module): \n",
    "    def __init__(self, emb_size, head_size, hidden_size, n_layers):\n",
    "        super().__init__()\n",
    "\n",
    "        self.prenorm1 = nn.LayerNorm(emb_size)\n",
    "        self.att = Attention(emb_size, head_size)\n",
    "        self.prenorm2 = nn.LayerNorm(emb_size)\n",
    "        self.fc = FullyConnected(emb_size, emb_size, hidden_size, n_layers)\n",
    "\n",
    "    def forward(self, x):          \n",
    "        x = x + self.att(self.prenorm1(x)) \n",
    "        x = x + self.fc(self.prenorm2(x))\n",
    "    \n",
    "        return x\n",
    "\n",
    "class Transformer(nn.Module): \n",
    "    def __init__(self, vocab_size, emb_size, n_blocks, head_size, hidden_size, n_layers):\n",
    "        super().__init__()\n",
    "        self.embedding = nn.Embedding(vocab_size, emb_size)\n",
    "        self.posemb = nn.Embedding(sequence_length, emb_size)\n",
    "        \n",
    "        self.norm = nn.LayerNorm(emb_size)\n",
    "        self.blocks = nn.ModuleList([Block(emb_size, head_size, hidden_size, n_layers) for _ in range(n_blocks)])\n",
    "        self.LinOut = nn.Linear(emb_size, vocab_size)\n",
    "\n",
    "    def forward(self, x):\n",
    "        x = self.embedding(x) + self.posemb(torch.arange(x.size(1)).to(x.device)) * .1\n",
    "\n",
    "        for block in self.blocks:\n",
    "            x = x + block(self.norm(x))\n",
    "            \n",
    "        x = self.LinOut(self.norm(x))\n",
    "        return x\n",
    "    \n",
    "\n",
    "device = torch.device(\"cuda:0\")\n",
    "model = Transformer(vocab_size=vocab_size, emb_size=64, n_blocks=8, head_size=64, hidden_size=64, n_layers=2).to(device)\n",
    "print(f\"Millions of parameters: {sum(p.numel() for p in model.parameters())/1e6:.2f}\")\n",
    "\n",
    "epochs = 6000\n",
    "batch_size = 2048\n",
    "optimizer = torch.optim.Adam(model.parameters(), lr=3e-4) \n",
    "\n",
    "lossi = []\n",
    "vlossi = []\n",
    "\n",
    "for epoch in range(epochs):\n",
    "    indexes = torch.randint(0, len(inputs), (batch_size,))\n",
    "    \n",
    "    pred = model(inputs[indexes].to(device)) # everything in the forward pass happens in the model class\n",
    "    loss = F.cross_entropy(pred.view(-1, 65), labels[indexes].to(device).view(-1))\n",
    "\n",
    "    loss.backward()\n",
    "    optimizer.step()\n",
    "    optimizer.zero_grad()\n",
    "\n",
    "    lossi.append(loss.item())\n",
    "    if epoch % (epochs//10) == 0:\n",
    "        print(f\"Epoch {epoch:_>4d} - Loss: {loss.item():.3f}\")\n",
    "\n",
    "    with torch.no_grad():\n",
    "        indexes = torch.randint(0, len(val_inputs), (batch_size//8,))\n",
    "        pred = model(val_inputs[indexes].to(device))\n",
    "        loss = F.cross_entropy(pred[:, -1].view(-1, 65), val_labels[indexes].to(device).view(-1))\n",
    "        vlossi.append(loss.item())"
   ]
  },
  {
   "cell_type": "code",
   "execution_count": 27,
   "metadata": {},
   "outputs": [
    {
     "data": {
      "text/plain": [
       "<matplotlib.legend.Legend at 0x7c4909000160>"
      ]
     },
     "execution_count": 27,
     "metadata": {},
     "output_type": "execute_result"
    },
    {
     "data": {
      "image/png": "[encoded data removed]",
      "text/plain": [
       "<Figure size 600x300 with 1 Axes>"
      ]
     },
     "metadata": {},
     "output_type": "display_data"
    }
   ],
   "source": [
    "plt.figure(figsize=(6, 3))  \n",
    "plt.plot(vlossi[100:], label='Validation Loss')\n",
    "plt.plot(lossi[100:], label='Loss')\n",
    "plt.legend()"
   ]
  },
  {
   "cell_type": "markdown",
   "metadata": {},
   "source": [
    "# Results\n",
    "As you can see we can get really good loss with the transformer, this architecture scales well up to GPT3.5 level performance with enough high quality data"
   ]
  },
  {
   "cell_type": "code",
   "execution_count": 28,
   "metadata": {},
   "outputs": [
    {
     "name": "stdout",
     "output_type": "stream",
     "text": [
      "Millions of parameters:  0.28\n",
      "[4160, 1280, 64, 64, 64, 64, 4096, 64, 4096, 64, 4096, 64, 4096, 64, 64, 64, 4096, 64, 4096, 64, 4096, 64, 4096, 64, 64, 64, 4096, 64, 4096, 64, 4096, 64, 4096, 64, 64, 64, 4096, 64, 4096, 64, 4096, 64, 4096, 64, 64, 64, 4096, 64, 4096, 64, 4096, 64, 4096, 64, 64, 64, 4096, 64, 4096, 64, 4096, 64, 4096, 64, 64, 64, 4096, 64, 4096, 64, 4096, 64, 4096, 64, 64, 64, 4096, 64, 4096, 64, 4096, 64, 4096, 64, 64, 64, 4096, 64, 4096, 64, 4096, 64, 4096, 64, 64, 64, 4096, 64, 4096, 64, 4096, 64, 4096, 64, 64, 64, 4096, 64, 4096, 64, 4096, 64, 4096, 64, 64, 64, 4096, 64, 4096, 64, 4096, 64, 4096, 64, 64, 64, 4096, 64, 4096, 64, 4096, 64, 4096, 64, 64, 64, 4096, 64, 4096, 64, 4096, 64, 4096, 64, 64, 64, 4096, 64, 4096, 64, 4096, 64, 4096, 64, 64, 64, 4096, 64, 4096, 64, 4096, 64, 4096, 64, 4160, 65]\n"
     ]
    }
   ],
   "source": [
    "print(\"Millions of parameters: \", round(sum(p.numel() for p in model.parameters() if p.requires_grad)/1000000, 2))\n",
    "print([p.numel() for p in model.parameters() if p.requires_grad])"
   ]
  },
  {
   "cell_type": "code",
   "execution_count": 29,
   "metadata": {},
   "outputs": [
    {
     "data": {
      "text/plain": [
       "Transformer(\n",
       "  (embedding): Embedding(65, 64)\n",
       "  (posemb): Embedding(20, 64)\n",
       "  (norm): LayerNorm((64,), eps=1e-05, elementwise_affine=True)\n",
       "  (blocks): ModuleList(\n",
       "    (0-7): 8 x Block(\n",
       "      (prenorm1): LayerNorm((64,), eps=1e-05, elementwise_affine=True)\n",
       "      (att): Attention(\n",
       "        (keys): Linear(in_features=64, out_features=64, bias=True)\n",
       "        (queries): Linear(in_features=64, out_features=64, bias=True)\n",
       "        (values): Linear(in_features=64, out_features=64, bias=True)\n",
       "        (rvalues): Linear(in_features=64, out_features=64, bias=True)\n",
       "      )\n",
       "      (prenorm2): LayerNorm((64,), eps=1e-05, elementwise_affine=True)\n",
       "      (fc): FullyConnected(\n",
       "        (fc1): Linear(in_features=64, out_features=64, bias=True)\n",
       "        (fcx): ModuleList(\n",
       "          (0-1): 2 x Linear(in_features=64, out_features=64, bias=True)\n",
       "        )\n",
       "        (fc2): Linear(in_features=64, out_features=64, bias=True)\n",
       "      )\n",
       "    )\n",
       "  )\n",
       "  (LinOut): Linear(in_features=64, out_features=65, bias=True)\n",
       ")"
      ]
     },
     "execution_count": 29,
     "metadata": {},
     "output_type": "execute_result"
    }
   ],
   "source": [
    "model"
   ]
  },
  {
   "cell_type": "code",
   "execution_count": 30,
   "metadata": {},
   "outputs": [
    {
     "name": "stdout",
     "output_type": "stream",
     "text": [
      "           \n",
      "KING RICHARD II:\n",
      "Bask him.\n",
      "\n",
      "KING RICHARD III:\n",
      "Why, may fault: you match be soome daughter and out o' thee shall liesterfore.\n",
      "\n",
      "BIONTES:\n",
      "Sir, son's look husband\n",
      "They breathe, and ever.\n",
      "\n",
      "PETRUCHIO:\n",
      "How dist he heart not with 'ciss\n",
      "With art wipon the deperful as well.\n",
      "\n",
      "Pray God very long before; 'Well.\n",
      "\n",
      "NRICHARD:\n",
      "Era"
     ]
    }
   ],
   "source": [
    "string = \"           \\nKING RICHARD I\"\n",
    "print(string, end=\"\")\n",
    "\n",
    "with torch.no_grad():\n",
    "    for _ in range(300):\n",
    "        X = torch.tensor([texttoint[s] for s in string[-sequence_length:]]).long().view(1, -1).to(device)\n",
    "        pred = model.forward(X)\n",
    "        string += inttotext[torch.multinomial(F.softmax(pred[0, -1, :], dim=0), 1).item()]\n",
    "        print(string[-1], end=\"\")\n"
   ]
  }
 ],
 "metadata": {
  "kernelspec": {
   "display_name": "base",
   "language": "python",
   "name": "python3"
  },
  "language_info": {
   "codemirror_mode": {
    "name": "ipython",
    "version": 3
   },
   "file_extension": ".py",
   "mimetype": "text/x-python",
   "name": "python",
   "nbconvert_exporter": "python",
   "pygments_lexer": "ipython3",
   "version": "3.10.12"
  }
 },
 "nbformat": 4,
 "nbformat_minor": 2
}
