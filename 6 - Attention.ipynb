{
 "cells": [
  {
   "cell_type": "code",
   "execution_count": 1,
   "metadata": {},
   "outputs": [],
   "source": [
    "import torch\n",
    "import torch.nn as nn\n",
    "import torch.nn.functional as F\n",
    "import matplotlib.pyplot as plt \n",
    "device = torch.device(\"cuda:0\")\n"
   ]
  },
  {
   "cell_type": "code",
   "execution_count": 2,
   "metadata": {},
   "outputs": [
    {
     "name": "stdout",
     "output_type": "stream",
     "text": [
      "First Citizen:\n",
      "Before we proceed any further, hear me speak.\n",
      "\n",
      "All:\n",
      "Speak, speak.\n",
      "\n",
      "First Citizen:\n",
      "You are all resolved rather to die than to famish?\n",
      "\n",
      "All:\n",
      "Resolved. resolved.\n",
      "\n",
      "First Citizen:\n",
      "First, you\n"
     ]
    }
   ],
   "source": [
    "with open(\"datasets/tinyShakespeare.txt\", \"r\") as f:\n",
    "    load = f.read()\n",
    "print(load[:200])"
   ]
  },
  {
   "cell_type": "code",
   "execution_count": 3,
   "metadata": {},
   "outputs": [],
   "source": [
    "texttoint = {elm: n for n, elm in enumerate(set(load))}\n",
    "inttotext = {n:elm for n, elm in enumerate(set(load))}\n",
    "dataset = [texttoint[c] for c in load]\n",
    "\n",
    "vocab_size = len(texttoint)\n",
    "sequence_length = 20\n",
    "\n",
    "sequences = torch.tensor([dataset[i:-sequence_length+i-1] for i in range(sequence_length+1)]).T\n",
    "inputs = sequences[2000:, :-1]\n",
    "labels = sequences[2000:, -1]\n",
    "val_inputs = sequences[:2000, :-1]\n",
    "val_labels = sequences[:2000, -1]"
   ]
  },
  {
   "cell_type": "markdown",
   "metadata": {},
   "source": [
    "# Attention Block - Scaled dot product attention\n",
    "\n",
    "A very effective system that can find correlations between tokens is the attention block <br><br>\n",
    "\n",
    "It takes in a series of tokens: input (sequence_length, embedding_size)<br>\n",
    "we call this layer \"attention head\", you can have one head of self attention or many heads with different weights. <br> \n",
    "and computes the dot products with 3 sets of weights, called \"keys\", \"queries\" and \"values\" of size (emb_size, head_size) <br>\n",
    " \n",
    "After this operation you have three tensors of size (sequence_length, head_size) <br>\n",
    "you compute the similarity matrix (sequence_length, sequence_length) by multiplying keys with transposed queries. <br><br>\n",
    "\n",
    "The next step is to tril (transform to lower triangular) and softmax the similarity matrix, and a scaling by sqrt(head_size) <br>\n",
    "(This is why its called scaled dot product attention) <br>\n",
    "Following is a dot product with the values. The output will be (sequence_length, head_size) <br>\n",
    "\n",
    "This block has roughly a complexity of O(sequence_length^2) witch is sub optimal for long sequence lengths, so we use sligthly different attention blocks for that<br>"
   ]
  },
  {
   "cell_type": "code",
   "execution_count": 4,
   "metadata": {},
   "outputs": [
    {
     "name": "stdout",
     "output_type": "stream",
     "text": [
      "4.375614166259766\n",
      "3.400297164916992\n",
      "3.172821044921875\n",
      "2.985860824584961\n",
      "2.853022336959839\n",
      "2.735029697418213\n",
      "2.641831398010254\n",
      "2.5774788856506348\n",
      "2.5115652084350586\n",
      "2.4725892543792725\n"
     ]
    }
   ],
   "source": [
    "class Attention(nn.Module):  \n",
    "    def __init__(self, emb_size=10, head_size=128):\n",
    "        super(Attention, self).__init__()\n",
    "        self.head_size = head_size\n",
    "\n",
    "        self.keys = nn.Linear(emb_size, head_size)\n",
    "        self.queries = nn.Linear(emb_size, head_size)\n",
    "        self.values = nn.Linear(emb_size, head_size) \n",
    "        self.rvalues = nn.Linear(head_size, emb_size)\n",
    "\n",
    "    def forward(self, x, mask=False):\n",
    "        k = self.keys(x)\n",
    "        q = self.queries(x)\n",
    "        v = self.values(x)\n",
    "\n",
    "        similarity = k @ q.transpose(-2, -1)/(self.head_size**0.5)\n",
    "        if mask: similarity[torch.tril(torch.ones_like(similarity)) == 0] = float(\"-inf\")\n",
    "        similarity = torch.softmax(similarity, dim = 1)\n",
    "        \n",
    "        attention = similarity @ v \n",
    "        attention = self.rvalues(attention)\n",
    "        return attention\n",
    "\n",
    "\n",
    "class FullyConnected(nn.Module):  \n",
    "    def __init__(self, in_size, out_size, hidden_size=256, n_layers=2):\n",
    "        super(FullyConnected, self).__init__()\n",
    "\n",
    "        self.fc1 = nn.Linear(in_size, hidden_size)\n",
    "        self.fcx = nn.ModuleList([nn.Linear(hidden_size, hidden_size) for _ in range(n_layers)])\n",
    "        self.fc2 = nn.Linear(hidden_size, out_size)\n",
    "    \n",
    "    def forward(self, x):\n",
    "        x = F.gelu(self.fc1(x))\n",
    "        for fc in self.fcx:\n",
    "            x = x + F.gelu(fc(x)) # Residual connection not present in the original paper, but it helps with convergence\n",
    "        x = self.fc2(x)\n",
    "        return x\n",
    "\n",
    "\n",
    "class Block(nn.Module): \n",
    "    def __init__(self, emb_size=32, head_size=256):\n",
    "        super().__init__()\n",
    "        self.emb_size = emb_size\n",
    "        self.head_size = head_size\n",
    "\n",
    "        self.embedding = nn.Embedding(vocab_size, emb_size)\n",
    "        self.posemb = nn.Embedding(sequence_length, emb_size)\n",
    "        self.prenorm1 = nn.LayerNorm(emb_size)\n",
    "        self.att = Attention(emb_size, head_size)\n",
    "        self.prenorm2 = nn.LayerNorm(emb_size)\n",
    "        self.fc = FullyConnected(emb_size, emb_size)\n",
    "\n",
    "        self.fcout = nn.Linear(emb_size, vocab_size)\n",
    "\n",
    "    def forward(self, x):          \n",
    "        x = self.embedding(x) + self.posemb(torch.arange(x.size(1)).to(x.device))\n",
    "        x = self.prenorm1(x)\n",
    "        x = x + self.att(x) \n",
    "        x = self.prenorm2(x)\n",
    "        x = x + self.fc(x)\n",
    "        x = self.fcout(x)\n",
    "    \n",
    "        return x[:, -1]\n",
    "    \n",
    "device = torch.device(\"cuda:0\")\n",
    "model = Block().to(device)\n",
    "\n",
    "epochs = 100\n",
    "batch_size = 8192\n",
    "optimizer = torch.optim.Adam(model.parameters(), lr=1e-3) \n",
    "\n",
    "lossi = []\n",
    "vlossi = []\n",
    "\n",
    "for epoch in range(epochs):\n",
    "    indexes = torch.randint(0, len(inputs), (batch_size,))\n",
    "    \n",
    "    pred = model(inputs[indexes].to(device)) # everything in the forward pass happens in the model class\n",
    "    loss = F.cross_entropy(pred, labels[indexes].to(device))\n",
    "\n",
    "    loss.backward()\n",
    "    optimizer.step()\n",
    "    optimizer.zero_grad()\n",
    "\n",
    "    lossi.append(loss.item())\n",
    "    if epoch % (epochs//10) == 0:\n",
    "        print(loss.item())\n",
    "    \n",
    "    with torch.no_grad():\n",
    "        pred = model(val_inputs.to(device))\n",
    "        loss = F.cross_entropy(pred, val_labels.to(device))\n",
    "        vlossi.append(loss.item())"
   ]
  },
  {
   "cell_type": "code",
   "execution_count": 5,
   "metadata": {},
   "outputs": [
    {
     "data": {
      "text/plain": [
       "[<matplotlib.lines.Line2D at 0x79172356e140>]"
      ]
     },
     "execution_count": 5,
     "metadata": {},
     "output_type": "execute_result"
    },
    {
     "data": {
      "image/png": "[encoded data removed]",
      "text/plain": [
       "<Figure size 640x480 with 1 Axes>"
      ]
     },
     "metadata": {},
     "output_type": "display_data"
    }
   ],
   "source": [
    "plt.plot(lossi[:]) # 1.45"
   ]
  },
  {
   "cell_type": "code",
   "execution_count": 6,
   "metadata": {},
   "outputs": [
    {
     "name": "stdout",
     "output_type": "stream",
     "text": [
      "           \n",
      "KING RICHARD I bamik\n",
      "HACP ther corahesllandfroald. ing thy imas falt lie.\n",
      "\n",
      "LEBLI$Whig.\n",
      "\n",
      "M\n",
      "W:\n",
      "We ARESit, youreverid go-e, ist datimseave so liis tie!\n",
      "HE\n",
      "M'd IOINIO:\n",
      "UI nour le arld ayek somn.\n",
      "\n",
      "Why bofin thit hiveru ebe thor ou?\n",
      "\n",
      "IOxe herad ord,\n",
      "HAxULONer'l cithag wime monkelsey mot,\n",
      "\n",
      "Was'd prd andeanenghe, thit wo"
     ]
    }
   ],
   "source": [
    "string = \"           \\nKING RICHARD I\"\n",
    "print(string, end=\"\")\n",
    "\n",
    "with torch.no_grad():\n",
    "    for _ in range(300):\n",
    "        X = torch.tensor([texttoint[s] for s in string[-sequence_length:]]).long().view(1, -1).to(device)\n",
    "        pred = model.forward(X)\n",
    "        string += inttotext[torch.multinomial(F.softmax(pred, dim=1), 1).item()]\n",
    "        print(string[-1], end=\"\")\n"
   ]
  },
  {
   "cell_type": "markdown",
   "metadata": {},
   "source": [
    "# Transformers \n",
    "\n",
    "Transformers consist of attention blocks in sequence, with residual connections "
   ]
  },
  {
   "cell_type": "code",
   "execution_count": 8,
   "metadata": {},
   "outputs": [
    {
     "name": "stdout",
     "output_type": "stream",
     "text": [
      "4.447756290435791\n",
      "2.093792676925659\n",
      "1.7966108322143555\n",
      "1.75531804561615\n",
      "1.7765017747879028\n",
      "1.7442829608917236\n",
      "1.4980069398880005\n",
      "1.5491397380828857\n",
      "1.6340588331222534\n",
      "1.5432945489883423\n"
     ]
    }
   ],
   "source": [
    "class Block(nn.Module): \n",
    "    def __init__(self, emb_size, head_size=256):\n",
    "        super().__init__()\n",
    "        self.emb_size = emb_size\n",
    "        self.head_size = head_size\n",
    "\n",
    "        self.prenorm1 = nn.LayerNorm(emb_size)\n",
    "        self.att = Attention(emb_size, head_size)\n",
    "        self.prenorm2 = nn.LayerNorm(emb_size)\n",
    "        self.fc = FullyConnected(emb_size, emb_size)\n",
    "\n",
    "    def forward(self, x):          \n",
    "        x = self.prenorm1(x)\n",
    "        x = x + self.att(x) \n",
    "        x = self.prenorm2(x)\n",
    "        x = x + self.fc(x)\n",
    "    \n",
    "        return x\n",
    "\n",
    "# Everything is the same upto here. Now we will create a transformer class that combines the blocks\n",
    "class Transformer(nn.Module): \n",
    "    def __init__(self, emb_size=32, n_blocks=4, vocab_size=1000):\n",
    "        super().__init__()\n",
    "\n",
    "        self.embedding = nn.Embedding(vocab_size, emb_size)\n",
    "        self.posemb = nn.Embedding(sequence_length, emb_size)\n",
    "        \n",
    "        self.blocks = nn.ModuleList([Block(emb_size) for _ in range(n_blocks)])\n",
    "        self.LinOut = nn.Linear(emb_size, vocab_size)\n",
    "\n",
    "    def forward(self, x):\n",
    "        x = self.embedding(x) + self.posemb(torch.arange(x.size(1)).to(x.device))\n",
    "\n",
    "        for block in self.blocks:\n",
    "            x = block(x)\n",
    "            \n",
    "        x = self.LinOut(x)\n",
    "        return x[:, -1]\n",
    "    \n",
    "\n",
    "device = torch.device(\"cuda:0\")\n",
    "model = Transformer(vocab_size=vocab_size).to(device)\n",
    "\n",
    "epochs = 10000\n",
    "batch_size = 512\n",
    "optimizer = torch.optim.Adam(model.parameters(), lr=3e-4) \n",
    "\n",
    "lossi = []\n",
    "vlossi = []\n",
    "\n",
    "for epoch in range(epochs):\n",
    "    indexes = torch.randint(0, len(inputs), (batch_size,))\n",
    "    \n",
    "    pred = model(inputs[indexes].to(device)) # everything in the forward pass happens in the model class\n",
    "    loss = F.cross_entropy(pred, labels[indexes].to(device))\n",
    "\n",
    "    loss.backward()\n",
    "    optimizer.step()\n",
    "    optimizer.zero_grad()\n",
    "\n",
    "    lossi.append(loss.item())\n",
    "    if epoch % (epochs//10) == 0:\n",
    "        print(loss.item())\n",
    "\n",
    "    with torch.no_grad():\n",
    "        pred = model(val_inputs.to(device))\n",
    "        loss = F.cross_entropy(pred, val_labels.to(device))\n",
    "        vlossi.append(loss.item())"
   ]
  },
  {
   "cell_type": "code",
   "execution_count": null,
   "metadata": {},
   "outputs": [
    {
     "data": {
      "text/plain": [
       "[<matplotlib.lines.Line2D at 0x2a51843fd30>]"
      ]
     },
     "execution_count": 9,
     "metadata": {},
     "output_type": "execute_result"
    },
    {
     "data": {
      "image/png": "[encoded data removed]",
      "text/plain": [
       "<Figure size 432x288 with 1 Axes>"
      ]
     },
     "metadata": {
      "needs_background": "light"
     },
     "output_type": "display_data"
    }
   ],
   "source": [
    "plt.plot(lossi[200:])"
   ]
  },
  {
   "cell_type": "markdown",
   "metadata": {},
   "source": [
    "# Results\n",
    "As you can see we can get really good loss with the transformer, this architecture scales well up to GPT3.5 level performance with enough high quality data"
   ]
  },
  {
   "cell_type": "code",
   "execution_count": 9,
   "metadata": {},
   "outputs": [
    {
     "name": "stdout",
     "output_type": "stream",
     "text": [
      "Millions of parameters:  0.73\n",
      "[2080, 640, 32, 32, 8192, 256, 8192, 256, 8192, 256, 8192, 32, 32, 32, 8192, 256, 65536, 256, 65536, 256, 8192, 32, 32, 32, 8192, 256, 8192, 256, 8192, 256, 8192, 32, 32, 32, 8192, 256, 65536, 256, 65536, 256, 8192, 32, 32, 32, 8192, 256, 8192, 256, 8192, 256, 8192, 32, 32, 32, 8192, 256, 65536, 256, 65536, 256, 8192, 32, 32, 32, 8192, 256, 8192, 256, 8192, 256, 8192, 32, 32, 32, 8192, 256, 65536, 256, 65536, 256, 8192, 32, 2080, 65]\n"
     ]
    }
   ],
   "source": [
    "print(\"Millions of parameters: \", round(sum(p.numel() for p in model.parameters() if p.requires_grad)/1000000, 2))\n",
    "print([p.numel() for p in model.parameters() if p.requires_grad])"
   ]
  },
  {
   "cell_type": "markdown",
   "metadata": {},
   "source": []
  },
  {
   "cell_type": "code",
   "execution_count": 22,
   "metadata": {},
   "outputs": [
    {
     "name": "stdout",
     "output_type": "stream",
     "text": [
      "4.197526931762695\n",
      "2.2983429431915283\n",
      "2.0127177238464355\n",
      "2.012798547744751\n",
      "1.8582326173782349\n",
      "1.809157133102417\n",
      "1.7844947576522827\n",
      "1.5545670986175537\n",
      "1.7259559631347656\n",
      "1.7270854711532593\n"
     ]
    }
   ],
   "source": [
    "class MultiHeadAttention(nn.Module):\n",
    "    def __init__(self, emb_size, head_size, n_heads):\n",
    "        super().__init__()\n",
    "        assert emb_size%n_heads == 0\n",
    "        \n",
    "        self.n_heads = n_heads\n",
    "        self.heads = nn.ModuleList([Attention(emb_size//n_heads, head_size) for _ in range(n_heads)])\n",
    "\n",
    "    def forward(self, x):  # (B, S, E)\n",
    "        assert x.dim() == 3\n",
    "        emb_size = x.shape[-1]\n",
    "        step = emb_size//self.n_heads\n",
    "\n",
    "        result = []\n",
    "        for n, head in enumerate(self.heads):\n",
    "            result.append(head(x[:, :, n*step: (n+1)*step]))\n",
    "        return torch.cat(result, -1)\n",
    "    \n",
    "class Block(nn.Module): \n",
    "    def __init__(self, emb_size, head_size=256, n_heads=8):\n",
    "        super().__init__()\n",
    "        self.emb_size = emb_size\n",
    "        self.head_size = head_size\n",
    "\n",
    "        self.prenorm1 = nn.LayerNorm(emb_size)\n",
    "        self.att = MultiHeadAttention(emb_size, head_size, n_heads)\n",
    "        self.prenorm2 = nn.LayerNorm(emb_size)\n",
    "        self.fc = FullyConnected(emb_size, emb_size)\n",
    "\n",
    "    def forward(self, x):          \n",
    "        x = self.prenorm1(x)\n",
    "        x = x + self.att(x) \n",
    "        x = self.prenorm2(x)\n",
    "        x = x + self.fc(x)\n",
    "    \n",
    "        return x\n",
    "    \n",
    "\n",
    "device = torch.device(\"cuda:0\")\n",
    "model = Transformer(emb_size=256, vocab_size=vocab_size).to(device)\n",
    "\n",
    "epochs = 2000\n",
    "batch_size = 512\n",
    "optimizer = torch.optim.Adam(model.parameters(), lr=3e-4) \n",
    "\n",
    "lossi = []\n",
    "vlossi = []\n",
    "\n",
    "for epoch in range(epochs):\n",
    "    indexes = torch.randint(0, len(inputs), (batch_size,))\n",
    "    \n",
    "    pred = model(inputs[indexes].to(device)) # everything in the forward pass happens in the model class\n",
    "    loss = F.cross_entropy(pred, labels[indexes].to(device))\n",
    "\n",
    "    loss.backward()\n",
    "    optimizer.step()\n",
    "    optimizer.zero_grad()\n",
    "\n",
    "    lossi.append(loss.item())\n",
    "    if epoch % (epochs//10) == 0:\n",
    "        print(loss.item())\n",
    "\n",
    "    with torch.no_grad():\n",
    "        pred = model(val_inputs.to(device))\n",
    "        loss = F.cross_entropy(pred, val_labels.to(device))\n",
    "        vlossi.append(loss.item())"
   ]
  }
 ],
 "metadata": {
  "kernelspec": {
   "display_name": "base",
   "language": "python",
   "name": "python3"
  },
  "language_info": {
   "codemirror_mode": {
    "name": "ipython",
    "version": 3
   },
   "file_extension": ".py",
   "mimetype": "text/x-python",
   "name": "python",
   "nbconvert_exporter": "python",
   "pygments_lexer": "ipython3",
   "version": "3.10.12"
  }
 },
 "nbformat": 4,
 "nbformat_minor": 2
}
