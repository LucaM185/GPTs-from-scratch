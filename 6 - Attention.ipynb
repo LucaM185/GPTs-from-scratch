{
 "cells": [
  {
   "cell_type": "markdown",
   "metadata": {},
   "source": [
    "README -- Out of memory errors <br>\n",
    "This code is tuned for a RTX3060 12GB, if you have less memory, you will likely get \"out of memory\" errors with this code, try to aggressively reduce batch size (you can increase epochs to compensate)"
   ]
  },
  {
   "cell_type": "code",
   "execution_count": 1,
   "metadata": {
    "metadata": {}
   },
   "outputs": [],
   "source": [
    "import torch\n",
    "import torch.nn as nn\n",
    "import torch.nn.functional as F\n",
    "import matplotlib.pyplot as plt \n",
    "device = torch.device(\"cuda:0\")\n"
   ]
  },
  {
   "cell_type": "code",
   "execution_count": 2,
   "metadata": {
    "metadata": {}
   },
   "outputs": [
    {
     "name": "stdout",
     "output_type": "stream",
     "text": [
      "First Citizen:\n",
      "Before we proceed any further, hear me speak.\n",
      "\n",
      "All:\n",
      "Speak, speak.\n",
      "\n",
      "First Citizen:\n",
      "You are all resolved rather to die than to famish?\n",
      "\n",
      "All:\n",
      "Resolved. resolved.\n",
      "\n",
      "First Citizen:\n",
      "First, you\n"
     ]
    }
   ],
   "source": [
    "with open(\"datasets/tinyShakespeare.txt\", \"r\") as f:\n",
    "    load = f.read()\n",
    "print(load[:200])"
   ]
  },
  {
   "cell_type": "code",
   "execution_count": 3,
   "metadata": {
    "metadata": {}
   },
   "outputs": [],
   "source": [
    "texttoint = {elm: n for n, elm in enumerate(set(load))}\n",
    "inttotext = {n:elm for n, elm in enumerate(set(load))}\n",
    "dataset = [texttoint[c] for c in load]\n",
    "\n",
    "vocab_size = len(texttoint)\n",
    "sequence_length = 20\n",
    "\n",
    "sequences = torch.tensor([dataset[i:-sequence_length+i-1] for i in range(sequence_length+1)]).T\n",
    "inputs = sequences[2000:, :-1]\n",
    "labels = sequences[2000:, -1]\n",
    "val_inputs = sequences[:2000, :-1]\n",
    "val_labels = sequences[:2000, -1]"
   ]
  },
  {
   "cell_type": "markdown",
   "metadata": {},
   "source": [
    "# Attention Block - Scaled dot product attention\n",
    "\n",
    "A very effective system that can find correlations between tokens is the attention block <br><br>\n",
    "\n",
    "It takes in a series of tokens: input (sequence_length, embedding_size)<br>\n",
    "we call this layer \"attention head\", you can have one head of self attention or many heads with different weights. <br> \n",
    "and computes the dot products with 3 sets of weights, called \"keys\", \"queries\" and \"values\" of size (emb_size, head_size) <br>\n",
    " \n",
    "After this operation you have three tensors of size (sequence_length, head_size) <br>\n",
    "you compute the similarity matrix (sequence_length, sequence_length) by multiplying keys with transposed queries. <br><br>\n",
    "\n",
    "The next step is to tril (transform to lower triangular) and softmax the similarity matrix, and a scaling by sqrt(head_size) <br>\n",
    "(This is why its called scaled dot product attention) <br>\n",
    "Following is a dot product with the values. The output will be (sequence_length, head_size) <br>\n",
    "\n",
    "This block has roughly a complexity of O(sequence_length^2) witch is sub optimal for long sequence lengths, so we use sligthly different attention blocks for that<br>"
   ]
  },
  {
   "cell_type": "code",
   "execution_count": 4,
   "metadata": {
    "metadata": {}
   },
   "outputs": [
    {
     "name": "stdout",
     "output_type": "stream",
     "text": [
      "Millions of parameters: 0.01\n",
      "Epoch ___0 - Loss: 4.425\n"
     ]
    },
    {
     "ename": "KeyboardInterrupt",
     "evalue": "",
     "output_type": "error",
     "traceback": [
      "\u001b[0;31m---------------------------------------------------------------------------\u001b[0m",
      "\u001b[0;31mKeyboardInterrupt\u001b[0m                         Traceback (most recent call last)",
      "Cell \u001b[0;32mIn[4], line 90\u001b[0m\n\u001b[1;32m     88\u001b[0m \u001b[38;5;28;01mwith\u001b[39;00m torch\u001b[38;5;241m.\u001b[39mno_grad():\n\u001b[1;32m     89\u001b[0m     pred \u001b[38;5;241m=\u001b[39m model(val_inputs\u001b[38;5;241m.\u001b[39mto(device))\n\u001b[0;32m---> 90\u001b[0m     loss \u001b[38;5;241m=\u001b[39m F\u001b[38;5;241m.\u001b[39mcross_entropy(pred, \u001b[43mval_labels\u001b[49m\u001b[38;5;241;43m.\u001b[39;49m\u001b[43mto\u001b[49m\u001b[43m(\u001b[49m\u001b[43mdevice\u001b[49m\u001b[43m)\u001b[49m)\n\u001b[1;32m     91\u001b[0m     vlossi\u001b[38;5;241m.\u001b[39mappend(loss\u001b[38;5;241m.\u001b[39mitem())\n",
      "\u001b[0;31mKeyboardInterrupt\u001b[0m: "
     ]
    }
   ],
   "source": [
    "class Attention(nn.Module):  \n",
    "    def __init__(self, emb_size, head_size):\n",
    "        super(Attention, self).__init__()\n",
    "        self.head_size = head_size\n",
    "\n",
    "        self.keys = nn.Linear(emb_size, head_size)\n",
    "        self.queries = nn.Linear(emb_size, head_size)\n",
    "        self.values = nn.Linear(emb_size, head_size) \n",
    "        self.rvalues = nn.Linear(head_size, emb_size)\n",
    "\n",
    "    def forward(self, x, mask=False):\n",
    "        k = self.keys(x)\n",
    "        q = self.queries(x)\n",
    "        v = self.values(x)\n",
    "\n",
    "        similarity = k @ q.transpose(-2, -1)/(self.head_size**0.5)\n",
    "        if mask: similarity[torch.tril(torch.ones_like(similarity)) == 0] = float(\"-inf\")\n",
    "        similarity = torch.softmax(similarity, dim = 1)\n",
    "        \n",
    "        attention = similarity @ v \n",
    "        attention = self.rvalues(attention)\n",
    "        return attention\n",
    "\n",
    "\n",
    "class FullyConnected(nn.Module):  \n",
    "    def __init__(self, in_size, out_size, hidden_size, n_layers):\n",
    "        super(FullyConnected, self).__init__()\n",
    "\n",
    "        self.fc1 = nn.Linear(in_size, hidden_size)\n",
    "        self.fcx = nn.ModuleList([nn.Linear(hidden_size, hidden_size) for _ in range(n_layers)])\n",
    "        self.fc2 = nn.Linear(hidden_size, out_size)\n",
    "    \n",
    "    def forward(self, x):\n",
    "        x = F.gelu(self.fc1(x))\n",
    "        for fc in self.fcx:\n",
    "            x = x + F.gelu(fc(x)) # Residual connection not present in the original paper, but it helps with convergence\n",
    "        x = self.fc2(x)\n",
    "        return x\n",
    "\n",
    "\n",
    "class Block(nn.Module): \n",
    "    def __init__(self, vocab_size, emb_size, head_size, hidden_size, n_layers):\n",
    "        super().__init__()\n",
    "        self.embedding = nn.Embedding(vocab_size, emb_size)\n",
    "        self.posemb = nn.Embedding(sequence_length, emb_size)\n",
    "        self.prenorm1 = nn.LayerNorm(emb_size)\n",
    "        self.att = Attention(emb_size, head_size)\n",
    "        self.prenorm2 = nn.LayerNorm(emb_size)\n",
    "        self.fc = FullyConnected(emb_size, emb_size, hidden_size, n_layers)\n",
    "\n",
    "        self.fcout = nn.Linear(emb_size, vocab_size)\n",
    "\n",
    "    def forward(self, x):          \n",
    "        x = self.embedding(x) + self.posemb(torch.arange(x.size(1)).to(x.device))\n",
    "        x = self.prenorm1(x)\n",
    "        x = x + self.att(x) \n",
    "        x = self.prenorm2(x)\n",
    "        x = x + self.fc(x)\n",
    "        x = self.fcout(x)\n",
    "    \n",
    "        return x[:, -1]\n",
    "    \n",
    "device = torch.device(\"cuda:0\")\n",
    "model = Block(vocab_size=vocab_size, emb_size=10, head_size=32, hidden_size=32, n_layers=2).to(device)\n",
    "print(f\"Millions of parameters: {sum(p.numel() for p in model.parameters())/1e6:.2f}\")\n",
    "\n",
    "epochs = 6000  # doubled epochs \n",
    "batch_size = 2048  # halved batch size --> this reduces memory use\n",
    "optimizer = torch.optim.Adam(model.parameters(), lr=3e-4) \n",
    "\n",
    "lossi = []\n",
    "vlossi = []\n",
    "\n",
    "for epoch in range(epochs):\n",
    "    indexes = torch.randint(0, len(inputs), (batch_size,))\n",
    "    \n",
    "    pred = model(inputs[indexes].to(device)) # everything in the forward pass happens in the model class\n",
    "    loss = F.cross_entropy(pred, labels[indexes].to(device))\n",
    "\n",
    "    loss.backward()\n",
    "    optimizer.step()\n",
    "    optimizer.zero_grad()\n",
    "\n",
    "    lossi.append(loss.item())\n",
    "    if epoch % (epochs//10) == 0:\n",
    "        print(f\"Epoch {epoch:_>4d} - Loss: {loss.item():.3f}\")\n",
    "    \n",
    "    with torch.no_grad():\n",
    "        pred = model(val_inputs.to(device))\n",
    "        loss = F.cross_entropy(pred, val_labels.to(device))\n",
    "        vlossi.append(loss.item())"
   ]
  },
  {
   "cell_type": "markdown",
   "metadata": {},
   "source": [
    "This performance is slightly worse than 20 layers MLP, but we are using just a single block (attention + 2 hidden layer MLP)"
   ]
  },
  {
   "cell_type": "code",
   "execution_count": null,
   "metadata": {},
   "outputs": [
    {
     "data": {
      "text/plain": [
       "<matplotlib.legend.Legend at 0x743e94c1d930>"
      ]
     },
     "execution_count": 31,
     "metadata": {},
     "output_type": "execute_result"
    },
    {
     "data": {
      "image/png": "[encoded data removed]",
      "text/plain": [
       "<Figure size 600x300 with 1 Axes>"
      ]
     },
     "metadata": {},
     "output_type": "display_data"
    }
   ],
   "source": [
    "plt.figure(figsize=(6, 3))  \n",
    "plt.plot(lossi[100:], label='Loss')\n",
    "plt.plot(vlossi[100:], label='Validation Loss')\n",
    "plt.legend()"
   ]
  },
  {
   "cell_type": "code",
   "execution_count": null,
   "metadata": {},
   "outputs": [
    {
     "name": "stdout",
     "output_type": "stream",
     "text": [
      "           \n",
      "KING RICHARD II:\n",
      "Nay, re noble's am wo sovergot,\n",
      "Which afful homely indeed,\n",
      "What's lareful be gust march,\n",
      "Call dowbry more of my tevert God bits.\n",
      "\n",
      "Appedibless of you, sheld but is now;\n",
      "That what whever, For us make will mady!\n",
      "'Ty leave more bluctio,\n",
      "That fortute fortuck our fathen:\n",
      "Wherefold fai, she burrio des.\n"
     ]
    }
   ],
   "source": [
    "string = \"           \\nKING RICHARD I\"\n",
    "print(string, end=\"\")\n",
    "\n",
    "with torch.no_grad():\n",
    "    for _ in range(300):\n",
    "        X = torch.tensor([texttoint[s] for s in string[-sequence_length:]]).long().view(1, -1).to(device)\n",
    "        pred = model.forward(X)\n",
    "        string += inttotext[torch.multinomial(F.softmax(pred, dim=1), 1).item()]\n",
    "        print(string[-1], end=\"\")\n"
   ]
  },
  {
   "cell_type": "markdown",
   "metadata": {},
   "source": [
    "# Transformers \n",
    "\n",
    "Transformers consist of attention blocks in sequence, with residual connections "
   ]
  },
  {
   "cell_type": "code",
   "execution_count": 5,
   "metadata": {
    "metadata": {}
   },
   "outputs": [
    {
     "name": "stdout",
     "output_type": "stream",
     "text": [
      "Millions of parameters: 0.28\n",
      "Epoch ___0 - Loss: 4.219\n"
     ]
    },
    {
     "ename": "KeyboardInterrupt",
     "evalue": "",
     "output_type": "error",
     "traceback": [
      "\u001b[0;31m---------------------------------------------------------------------------\u001b[0m",
      "\u001b[0;31mKeyboardInterrupt\u001b[0m                         Traceback (most recent call last)",
      "Cell \u001b[0;32mIn[5], line 52\u001b[0m\n\u001b[1;32m     49\u001b[0m indexes \u001b[38;5;241m=\u001b[39m torch\u001b[38;5;241m.\u001b[39mrandint(\u001b[38;5;241m0\u001b[39m, \u001b[38;5;28mlen\u001b[39m(inputs), (batch_size,))\n\u001b[1;32m     51\u001b[0m pred \u001b[38;5;241m=\u001b[39m model(inputs[indexes]\u001b[38;5;241m.\u001b[39mto(device)) \u001b[38;5;66;03m# everything in the forward pass happens in the model class\u001b[39;00m\n\u001b[0;32m---> 52\u001b[0m loss \u001b[38;5;241m=\u001b[39m F\u001b[38;5;241m.\u001b[39mcross_entropy(pred, \u001b[43mlabels\u001b[49m\u001b[43m[\u001b[49m\u001b[43mindexes\u001b[49m\u001b[43m]\u001b[49m\u001b[38;5;241;43m.\u001b[39;49m\u001b[43mto\u001b[49m\u001b[43m(\u001b[49m\u001b[43mdevice\u001b[49m\u001b[43m)\u001b[49m)\n\u001b[1;32m     54\u001b[0m loss\u001b[38;5;241m.\u001b[39mbackward()\n\u001b[1;32m     55\u001b[0m optimizer\u001b[38;5;241m.\u001b[39mstep()\n",
      "\u001b[0;31mKeyboardInterrupt\u001b[0m: "
     ]
    }
   ],
   "source": [
    "class Block(nn.Module): \n",
    "    def __init__(self, emb_size, head_size, hidden_size, n_layers):\n",
    "        super().__init__()\n",
    "\n",
    "        self.prenorm1 = nn.LayerNorm(emb_size)\n",
    "        self.att = Attention(emb_size, head_size)\n",
    "        self.prenorm2 = nn.LayerNorm(emb_size)\n",
    "        self.fc = FullyConnected(emb_size, emb_size, hidden_size, n_layers)\n",
    "\n",
    "    def forward(self, x):          \n",
    "        x = self.prenorm1(x)\n",
    "        x = x + self.att(x) \n",
    "        x = self.prenorm2(x)\n",
    "        x = x + self.fc(x)\n",
    "    \n",
    "        return x\n",
    "\n",
    "class Transformer(nn.Module): \n",
    "    def __init__(self, vocab_size, emb_size, n_blocks, head_size, hidden_size, n_layers):\n",
    "        super().__init__()\n",
    "        self.embedding = nn.Embedding(vocab_size, emb_size)\n",
    "        self.posemb = nn.Embedding(sequence_length, emb_size)\n",
    "        \n",
    "        self.blocks = nn.ModuleList([Block(emb_size, head_size, hidden_size, n_layers) for _ in range(n_blocks)])\n",
    "        self.LinOut = nn.Linear(emb_size, vocab_size)\n",
    "\n",
    "    def forward(self, x):\n",
    "        x = self.embedding(x) + self.posemb(torch.arange(x.size(1)).to(x.device))\n",
    "\n",
    "        for block in self.blocks:\n",
    "            x = block(x)\n",
    "            \n",
    "        x = self.LinOut(x)\n",
    "        return x[:, -1]\n",
    "    \n",
    "\n",
    "device = torch.device(\"cuda:0\")\n",
    "model = Transformer(vocab_size=vocab_size, emb_size=64, n_blocks=8, head_size=64, hidden_size=64, n_layers=2).to(device)\n",
    "print(f\"Millions of parameters: {sum(p.numel() for p in model.parameters())/1e6:.2f}\")\n",
    "\n",
    "epochs = 6000\n",
    "batch_size = 2048\n",
    "optimizer = torch.optim.Adam(model.parameters(), lr=3e-4) \n",
    "\n",
    "lossi = []\n",
    "vlossi = []\n",
    "\n",
    "for epoch in range(epochs):\n",
    "    indexes = torch.randint(0, len(inputs), (batch_size,))\n",
    "    \n",
    "    pred = model(inputs[indexes].to(device)) # everything in the forward pass happens in the model class\n",
    "    loss = F.cross_entropy(pred, labels[indexes].to(device))\n",
    "\n",
    "    loss.backward()\n",
    "    optimizer.step()\n",
    "    optimizer.zero_grad()\n",
    "\n",
    "    lossi.append(loss.item())\n",
    "    if epoch % (epochs//10) == 0:\n",
    "        print(f\"Epoch {epoch:_>4d} - Loss: {loss.item():.3f}\")\n",
    "\n",
    "    with torch.no_grad():\n",
    "        indexes = torch.randint(0, len(val_inputs), (batch_size//8,))\n",
    "\n",
    "        pred = model(val_inputs[indexes].to(device))\n",
    "        loss = F.cross_entropy(pred, val_labels[indexes].to(device))\n",
    "        vlossi.append(loss.item())\n",
    "\n",
    "# 1.6"
   ]
  },
  {
   "cell_type": "code",
   "execution_count": null,
   "metadata": {},
   "outputs": [
    {
     "data": {
      "text/plain": [
       "<matplotlib.legend.Legend at 0x743e94cf1540>"
      ]
     },
     "execution_count": 39,
     "metadata": {},
     "output_type": "execute_result"
    },
    {
     "data": {
      "image/png": "[encoded data removed]",
      "text/plain": [
       "<Figure size 600x300 with 1 Axes>"
      ]
     },
     "metadata": {},
     "output_type": "display_data"
    }
   ],
   "source": [
    "plt.figure(figsize=(6, 3))  \n",
    "plt.plot(vlossi[100:], label='Validation Loss')\n",
    "plt.plot(lossi[100:], label='Loss')\n",
    "plt.legend()"
   ]
  },
  {
   "cell_type": "markdown",
   "metadata": {},
   "source": [
    "# Results\n",
    "As you can see we can get really good loss with the transformer, this architecture scales well up to GPT3.5 level performance with enough high quality data"
   ]
  },
  {
   "cell_type": "code",
   "execution_count": null,
   "metadata": {},
   "outputs": [
    {
     "name": "stdout",
     "output_type": "stream",
     "text": [
      "Millions of parameters:  0.5\n",
      "[16640, 5120, 256, 256, 32768, 128, 32768, 128, 32768, 128, 32768, 256, 256, 256, 32768, 128, 16384, 128, 16384, 128, 32768, 256, 256, 256, 32768, 128, 32768, 128, 32768, 128, 32768, 256, 256, 256, 32768, 128, 16384, 128, 16384, 128, 32768, 256, 16640, 65]\n"
     ]
    }
   ],
   "source": [
    "print(\"Millions of parameters: \", round(sum(p.numel() for p in model.parameters() if p.requires_grad)/1000000, 2))\n",
    "print([p.numel() for p in model.parameters() if p.requires_grad])"
   ]
  },
  {
   "cell_type": "code",
   "execution_count": null,
   "metadata": {},
   "outputs": [
    {
     "name": "stdout",
     "output_type": "stream",
     "text": [
      "           \n",
      "KING RICHARD III:\n",
      "Faith the has he wand.\n",
      "\n",
      "First Senator:\n",
      "Siry on The jesty ord, would Something:\n",
      "So the worshiplo were his blood,\n",
      "As and by defit a pardon,\n",
      "Leadly the killy tursed: my sity\n",
      "man must angrech and child\n",
      "se loke thee with been\n",
      "Comforticus!\n",
      "\n",
      "PRINCE\n",
      "TLERDIO:\n",
      "Nor you are your person.\n",
      "\n",
      "KING RICHARD III:\n",
      "I"
     ]
    }
   ],
   "source": [
    "string = \"           \\nKING RICHARD I\"\n",
    "print(string, end=\"\")\n",
    "\n",
    "with torch.no_grad():\n",
    "    for _ in range(300):\n",
    "        X = torch.tensor([texttoint[s] for s in string[-sequence_length:]]).long().view(1, -1).to(device)\n",
    "        pred = model.forward(X)\n",
    "        string += inttotext[torch.multinomial(F.softmax(pred, dim=1), 1).item()]\n",
    "        print(string[-1], end=\"\")\n"
   ]
  },
  {
   "cell_type": "markdown",
   "metadata": {},
   "source": []
  }
 ],
 "metadata": {
  "kernelspec": {
   "display_name": "base",
   "language": "python",
   "name": "python3"
  },
  "language_info": {
   "codemirror_mode": {
    "name": "ipython",
    "version": 3
   },
   "file_extension": ".py",
   "mimetype": "text/x-python",
   "name": "python",
   "nbconvert_exporter": "python",
   "pygments_lexer": "ipython3",
   "version": "3.10.12"
  }
 },
 "nbformat": 4,
 "nbformat_minor": 2
}
