{
 "cells": [
  {
   "cell_type": "code",
   "execution_count": 1,
   "metadata": {},
   "outputs": [],
   "source": [
    "import torch\n",
    "import torch.nn as nn\n",
    "import torch.nn.functional as F\n",
    "import matplotlib.pyplot as plt \n"
   ]
  },
  {
   "cell_type": "code",
   "execution_count": 2,
   "metadata": {},
   "outputs": [
    {
     "name": "stdout",
     "output_type": "stream",
     "text": [
      "First Citizen:\n",
      "Before we proceed any further, hear me speak.\n",
      "\n",
      "All:\n",
      "Speak, speak.\n",
      "\n",
      "First Citizen:\n",
      "You are all resolved rather to die than to famish?\n",
      "\n",
      "All:\n",
      "Resolved. resolved.\n",
      "\n",
      "First Citizen:\n",
      "First, you\n"
     ]
    }
   ],
   "source": [
    "with open(\"datasets/tinyShakespeare.txt\", \"r\") as f:\n",
    "    load = f.read()\n",
    "print(load[:200])"
   ]
  },
  {
   "cell_type": "code",
   "execution_count": 3,
   "metadata": {},
   "outputs": [],
   "source": [
    "texttoint = {elm: n for n, elm in enumerate(set(load))}\n",
    "inttotext = {n:elm for n, elm in enumerate(set(load))}\n",
    "dataset = [texttoint[c] for c in load[2000:]]\n",
    "valset = [texttoint[c] for c in load[:2000]]\n",
    "\n",
    "sequence_length = 3\n",
    "vocab_size = len(texttoint)\n",
    "inputs = torch.tensor(dataset[:-1])\n",
    "labels = torch.tensor(dataset[1:])\n",
    "val_inputs = torch.tensor(valset[:-1])\n",
    "val_labels = torch.tensor(valset[1:])"
   ]
  },
  {
   "cell_type": "code",
   "execution_count": null,
   "metadata": {},
   "outputs": [],
   "source": [
    "emb_size = 10\n",
    "hidden_size = 128\n",
    "\n",
    "class Model(nn.Module):\n",
    "    def __init__(self, vocab_size, emb_size, hidden_size):\n",
    "        super().__init__()\n",
    "        self.embeddings = nn.Embedding(vocab_size, emb_size)\n",
    "        self.w1 = nn.Linear(emb_size*sequence_length, hidden_size)\n",
    "        self.w2 = nn.Linear(hidden_size, vocab_size)\n",
    "    \n",
    "    def forward(self, inputs):\n",
    "        emb = self.embeddings(inputs).view(inputs.shape[0], -1)\n",
    "        h1 = F.gelu(self.w1(emb))\n",
    "        return self.w2(h1)\n",
    "    \n",
    "model = Model(vocab_size, emb_size, hidden_size)"
   ]
  },
  {
   "cell_type": "code",
   "execution_count": null,
   "metadata": {},
   "outputs": [],
   "source": [
    "epochs = 2000\n",
    "batch_size = 1024\n",
    "optimizer = torch.optim.Adam(model.parameters(), lr=1e-3) \n",
    "\n",
    "lossi = []\n",
    "vlossi = []\n",
    "\n",
    "for epoch in range(epochs):\n",
    "    indexes = torch.randint(0, len(inputs), (batch_size,))\n",
    "    \n",
    "    pred = model(inputs[indexes]) # everything in the forward pass happens in the model class\n",
    "    loss = F.cross_entropy(pred, labels[indexes])\n",
    "\n",
    "    loss.backward()\n",
    "    optimizer.step()\n",
    "    optimizer.zero_grad()\n",
    "\n",
    "    lossi.append(loss.item())\n",
    "    if epoch % (epochs//10) == 0:\n",
    "        print(loss.item())\n",
    "\n",
    "    with torch.no_grad():\n",
    "        pred = model(val_inputs)\n",
    "        vloss = F.cross_entropy(pred, val_labels)\n",
    "        vlossi.append(vloss.item())"
   ]
  }
 ],
 "metadata": {
  "kernelspec": {
   "display_name": "Python 3",
   "language": "python",
   "name": "python3"
  },
  "language_info": {
   "codemirror_mode": {
    "name": "ipython",
    "version": 3
   },
   "file_extension": ".py",
   "mimetype": "text/x-python",
   "name": "python",
   "nbconvert_exporter": "python",
   "pygments_lexer": "ipython3",
   "version": "3.9.13"
  }
 },
 "nbformat": 4,
 "nbformat_minor": 2
}
