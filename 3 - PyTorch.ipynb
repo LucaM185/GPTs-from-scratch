{
 "cells": [
  {
   "cell_type": "code",
   "execution_count": 1,
   "metadata": {},
   "outputs": [],
   "source": [
    "import torch\n",
    "import torch.nn as nn\n",
    "import torch.nn.functional as F\n",
    "import matplotlib.pyplot as plt \n"
   ]
  },
  {
   "cell_type": "code",
   "execution_count": 2,
   "metadata": {},
   "outputs": [
    {
     "name": "stdout",
     "output_type": "stream",
     "text": [
      "First Citizen:\n",
      "Before we proceed any further, hear me speak.\n",
      "\n",
      "All:\n",
      "Speak, speak.\n",
      "\n",
      "First Citizen:\n",
      "You are all resolved rather to die than to famish?\n",
      "\n",
      "All:\n",
      "Resolved. resolved.\n",
      "\n",
      "First Citizen:\n",
      "First, you\n"
     ]
    }
   ],
   "source": [
    "with open(\"datasets/tinyShakespeare.txt\", \"r\") as f:\n",
    "    load = f.read()\n",
    "print(load[:200])"
   ]
  },
  {
   "cell_type": "code",
   "execution_count": 3,
   "metadata": {},
   "outputs": [],
   "source": [
    "texttoint = {elm: n for n, elm in enumerate(set(load))}\n",
    "inttotext = {n:elm for n, elm in enumerate(set(load))}\n",
    "dataset = [texttoint[c] for c in load[2000:]]\n",
    "valset = [texttoint[c] for c in load[:2000]]\n",
    "\n",
    "sequence_length = 1\n",
    "vocab_size = len(texttoint)\n",
    "inputs = torch.tensor(dataset[:-1])\n",
    "labels = torch.tensor(dataset[1:])\n",
    "val_inputs = torch.tensor(valset[:-1])\n",
    "val_labels = torch.tensor(valset[1:])"
   ]
  },
  {
   "cell_type": "markdown",
   "metadata": {},
   "source": [
    "# Optimizer\n",
    "\n",
    "The architecture looks right but the loss is not going down as well as expected, let's try changing simple gradient descent to a more elaborate optimizer <br>\n",
    "We won't bother coding this up by ourselves because it's already implemented in pytorch and really easy to use from there <br>\n",
    "If you want, you can change from torch.optim.Adam to torch.optim.SGD and look how fast Adam really is"
   ]
  },
  {
   "cell_type": "code",
   "execution_count": 4,
   "metadata": {},
   "outputs": [
    {
     "name": "stdout",
     "output_type": "stream",
     "text": [
      "4.220712184906006\n",
      "2.790311336517334\n",
      "2.505004405975342\n",
      "2.5474953651428223\n",
      "2.4138336181640625\n",
      "2.472738027572632\n",
      "2.434201955795288\n",
      "2.5056259632110596\n",
      "2.448852777481079\n",
      "2.4630730152130127\n"
     ]
    }
   ],
   "source": [
    "hidden_size = 128\n",
    "\n",
    "w1 = torch.randn(vocab_size, hidden_size, requires_grad=True)\n",
    "b1 = torch.randn(hidden_size, requires_grad=True)\n",
    "w2 = torch.randn(hidden_size, vocab_size, requires_grad=True)\n",
    "b2 = torch.randn(vocab_size, requires_grad=True)\n",
    "\n",
    "params = [w1, b1, w2, b2]\n",
    "with torch.no_grad():\n",
    "    for p in params:\n",
    "        p /= torch.norm(p, dim=0)\n",
    "\n",
    "epochs = 2000\n",
    "batch_size = 1024\n",
    "optimizer = torch.optim.Adam(params, lr=1e-3)\n",
    "lossi = []\n",
    "vlossi = []\n",
    "\n",
    "for epoch in range(epochs):\n",
    "    indexes = torch.randint(0, len(inputs), (batch_size,))\n",
    "    \n",
    "    X = F.one_hot(inputs[indexes].long(), vocab_size).float()\n",
    "    h1 = F.gelu(X @ w1 + b1)\n",
    "    pred = h1 @ w2 + b2\n",
    "    loss = F.cross_entropy(pred, labels[indexes])\n",
    "\n",
    "    loss.backward()\n",
    "    optimizer.step()\n",
    "    optimizer.zero_grad()\n",
    "\n",
    "    lossi.append(loss.item())\n",
    "    if epoch % (epochs//10) == 0:\n",
    "        print(loss.item())\n",
    "\n",
    "    with torch.no_grad():\n",
    "        X = F.one_hot(val_inputs.long(), vocab_size).float()\n",
    "        h1 = F.gelu(X @ w1 + b1)\n",
    "        pred = h1 @ w2 + b2\n",
    "        vloss = F.cross_entropy(pred, val_labels)\n",
    "        vlossi.append(vloss.item())"
   ]
  },
  {
   "cell_type": "code",
   "execution_count": 5,
   "metadata": {},
   "outputs": [
    {
     "data": {
      "text/plain": [
       "[<matplotlib.lines.Line2D at 0x210b06cb0d0>]"
      ]
     },
     "execution_count": 5,
     "metadata": {},
     "output_type": "execute_result"
    },
    {
     "data": {
      "image/png": "[encoded data removed]",
      "text/plain": [
       "<Figure size 432x288 with 1 Axes>"
      ]
     },
     "metadata": {
      "needs_background": "light"
     },
     "output_type": "display_data"
    }
   ],
   "source": [
    "plt.plot(lossi[:])"
   ]
  },
  {
   "cell_type": "markdown",
   "metadata": {},
   "source": [
    "As you can see adam maxes out the model really fast (around 250 epochs instead of 10000+), let's take a look at what it can write"
   ]
  },
  {
   "cell_type": "code",
   "execution_count": 6,
   "metadata": {},
   "outputs": [
    {
     "name": "stdout",
     "output_type": "stream",
     "text": [
      "pr wabr d iend bor wisthe in's cenyou?\n",
      "Theamy halero My s;\n",
      "Jwnt wrdeene fof izes.\n",
      "Te a ngofr wietk: "
     ]
    }
   ],
   "source": [
    "string = \"The meaning of life is: \"\n",
    "#print(string, end=\"\")\n",
    "\n",
    "with torch.no_grad():\n",
    "    for _ in range(100):\n",
    "        X = F.one_hot(torch.tensor(texttoint[string[-1]]), vocab_size).float()\n",
    "        h1 = F.gelu(X @ w1 + b1)\n",
    "        pred = h1 @ w2 + b2\n",
    "        string += inttotext[torch.multinomial(F.softmax(pred, dim=0), 1).item()]\n",
    "        print(string[-1], end=\"\")\n"
   ]
  },
  {
   "cell_type": "markdown",
   "metadata": {},
   "source": [
    "# Longer sequences\n",
    "The outputs seem better than random, but we should aim at a loss way lower than 2.5... First thing that comes to mind is that we should give the model more context, because now we are just passing the last character"
   ]
  },
  {
   "cell_type": "code",
   "execution_count": 7,
   "metadata": {},
   "outputs": [],
   "source": [
    "sequence_length = 3\n",
    "\n",
    "sequences = torch.tensor([dataset[i:-sequence_length+i-1] for i in range(sequence_length+1)]).T\n",
    "inputs = sequences[:, :-1][2000:]\n",
    "labels = sequences[:, -1][2000:]\n",
    "val_inputs = sequences[:, :-1][:2000]  \n",
    "val_labels = sequences[:, -1][:2000]"
   ]
  },
  {
   "cell_type": "code",
   "execution_count": 8,
   "metadata": {},
   "outputs": [
    {
     "name": "stdout",
     "output_type": "stream",
     "text": [
      "4.1676530838012695\n",
      "2.5409622192382812\n",
      "2.2733869552612305\n",
      "2.160137176513672\n",
      "2.1248373985290527\n",
      "2.1086337566375732\n",
      "2.0695583820343018\n",
      "2.0333213806152344\n",
      "2.0190398693084717\n",
      "2.0156900882720947\n"
     ]
    }
   ],
   "source": [
    "hidden_size = 128\n",
    "\n",
    "w1 = torch.randn(vocab_size*sequence_length, hidden_size, requires_grad=True)  # notice the vocab_size*sequence_length\n",
    "b1 = torch.randn(hidden_size, requires_grad=True)\n",
    "w2 = torch.randn(hidden_size, vocab_size, requires_grad=True)\n",
    "b2 = torch.randn(vocab_size, requires_grad=True)\n",
    "\n",
    "params = [w1, b1, w2, b2]\n",
    "with torch.no_grad():\n",
    "    for p in params:\n",
    "        p /= torch.norm(p, dim=0)\n",
    "\n",
    "epochs = 2000\n",
    "batch_size = 1024\n",
    "optimizer = torch.optim.Adam(params, lr=1e-3)\n",
    "lossi = []\n",
    "vlossi = []\n",
    "\n",
    "for epoch in range(epochs):\n",
    "    indexes = torch.randint(0, len(inputs), (batch_size,))\n",
    "    \n",
    "    X = F.one_hot(inputs[indexes].long(), vocab_size).float() # this has shape (batch_size, sequence_length, vocab_size), but we want (batch_size, vocab_size*sequence_length)\n",
    "    X = X.reshape(batch_size, -1) # -1 means \"infer the size from the other dimensions\"\n",
    "    h1 = F.gelu(X @ w1 + b1)\n",
    "    pred = h1 @ w2 + b2\n",
    "    loss = F.cross_entropy(pred, labels[indexes])\n",
    "\n",
    "    loss.backward()\n",
    "    optimizer.step()\n",
    "    optimizer.zero_grad()\n",
    "\n",
    "    lossi.append(loss.item())\n",
    "    if epoch % (epochs//10) == 0:\n",
    "        print(loss.item())\n",
    "\n",
    "    with torch.no_grad():\n",
    "        X = F.one_hot(val_inputs.long(), vocab_size).float()\n",
    "        X = X.reshape(len(val_inputs), -1)\n",
    "        h1 = F.gelu(X @ w1 + b1)\n",
    "        pred = h1 @ w2 + b2\n",
    "        vloss = F.cross_entropy(pred, val_labels)\n",
    "        vlossi.append(vloss.item())"
   ]
  },
  {
   "cell_type": "code",
   "execution_count": 9,
   "metadata": {},
   "outputs": [
    {
     "data": {
      "text/plain": [
       "[<matplotlib.lines.Line2D at 0x210b1214f70>]"
      ]
     },
     "execution_count": 9,
     "metadata": {},
     "output_type": "execute_result"
    },
    {
     "data": {
      "image/png": "[encoded data removed]",
      "text/plain": [
       "<Figure size 432x288 with 1 Axes>"
      ]
     },
     "metadata": {
      "needs_background": "light"
     },
     "output_type": "display_data"
    }
   ],
   "source": [
    "plt.plot(lossi[:])"
   ]
  },
  {
   "cell_type": "code",
   "execution_count": 12,
   "metadata": {},
   "outputs": [],
   "source": [
    "sequence_length = 20\n",
    "\n",
    "sequences = torch.tensor([dataset[i:-sequence_length+i-1] for i in range(sequence_length+1)]).T\n",
    "inputs = sequences[:, :-1][2000:]\n",
    "labels = sequences[:, -1][2000:]\n",
    "val_inputs = sequences[:, :-1][:2000]\n",
    "val_labels = sequences[:, -1][:2000]"
   ]
  },
  {
   "cell_type": "markdown",
   "metadata": {},
   "source": [
    "We are getting a way better loss, around 1.9 instead of 2.5 <br> \n",
    "Now let's try a wider input sequence, 20 should allow us to cover 3-5 words"
   ]
  },
  {
   "cell_type": "code",
   "execution_count": 13,
   "metadata": {},
   "outputs": [
    {
     "name": "stdout",
     "output_type": "stream",
     "text": [
      "4.177247047424316\n"
     ]
    },
    {
     "ename": "RuntimeError",
     "evalue": "mat1 and mat2 shapes cannot be multiplied (40000x65 and 1300x128)",
     "output_type": "error",
     "traceback": [
      "\u001b[1;31m---------------------------------------------------------------------------\u001b[0m",
      "\u001b[1;31mRuntimeError\u001b[0m                              Traceback (most recent call last)",
      "\u001b[1;32m~\\AppData\\Local\\Temp/ipykernel_9176/2138888947.py\u001b[0m in \u001b[0;36m<module>\u001b[1;34m\u001b[0m\n\u001b[0;32m     36\u001b[0m     \u001b[1;32mwith\u001b[0m \u001b[0mtorch\u001b[0m\u001b[1;33m.\u001b[0m\u001b[0mno_grad\u001b[0m\u001b[1;33m(\u001b[0m\u001b[1;33m)\u001b[0m\u001b[1;33m:\u001b[0m\u001b[1;33m\u001b[0m\u001b[1;33m\u001b[0m\u001b[0m\n\u001b[0;32m     37\u001b[0m         \u001b[0mX\u001b[0m \u001b[1;33m=\u001b[0m \u001b[0mF\u001b[0m\u001b[1;33m.\u001b[0m\u001b[0mone_hot\u001b[0m\u001b[1;33m(\u001b[0m\u001b[0mval_inputs\u001b[0m\u001b[1;33m.\u001b[0m\u001b[0mlong\u001b[0m\u001b[1;33m(\u001b[0m\u001b[1;33m)\u001b[0m\u001b[1;33m,\u001b[0m \u001b[0mvocab_size\u001b[0m\u001b[1;33m)\u001b[0m\u001b[1;33m.\u001b[0m\u001b[0mfloat\u001b[0m\u001b[1;33m(\u001b[0m\u001b[1;33m)\u001b[0m\u001b[1;33m\u001b[0m\u001b[1;33m\u001b[0m\u001b[0m\n\u001b[1;32m---> 38\u001b[1;33m         \u001b[0mh1\u001b[0m \u001b[1;33m=\u001b[0m \u001b[0mF\u001b[0m\u001b[1;33m.\u001b[0m\u001b[0mgelu\u001b[0m\u001b[1;33m(\u001b[0m\u001b[0mX\u001b[0m \u001b[1;33m@\u001b[0m \u001b[0mw1\u001b[0m \u001b[1;33m+\u001b[0m \u001b[0mb1\u001b[0m\u001b[1;33m)\u001b[0m\u001b[1;33m\u001b[0m\u001b[1;33m\u001b[0m\u001b[0m\n\u001b[0m\u001b[0;32m     39\u001b[0m         \u001b[0mpred\u001b[0m \u001b[1;33m=\u001b[0m \u001b[0mh1\u001b[0m \u001b[1;33m@\u001b[0m \u001b[0mw2\u001b[0m \u001b[1;33m+\u001b[0m \u001b[0mb2\u001b[0m\u001b[1;33m\u001b[0m\u001b[1;33m\u001b[0m\u001b[0m\n\u001b[0;32m     40\u001b[0m         \u001b[0mvloss\u001b[0m \u001b[1;33m=\u001b[0m \u001b[0mF\u001b[0m\u001b[1;33m.\u001b[0m\u001b[0mcross_entropy\u001b[0m\u001b[1;33m(\u001b[0m\u001b[0mpred\u001b[0m\u001b[1;33m,\u001b[0m \u001b[0mval_labels\u001b[0m\u001b[1;33m)\u001b[0m\u001b[1;33m\u001b[0m\u001b[1;33m\u001b[0m\u001b[0m\n",
      "\u001b[1;31mRuntimeError\u001b[0m: mat1 and mat2 shapes cannot be multiplied (40000x65 and 1300x128)"
     ]
    }
   ],
   "source": [
    "hidden_size = 128\n",
    "\n",
    "w1 = torch.randn(vocab_size*sequence_length, hidden_size, requires_grad=True)\n",
    "b1 = torch.randn(hidden_size, requires_grad=True)\n",
    "w2 = torch.randn(hidden_size, vocab_size, requires_grad=True)\n",
    "b2 = torch.randn(vocab_size, requires_grad=True)\n",
    "\n",
    "params = [w1, b1, w2, b2]\n",
    "with torch.no_grad():\n",
    "    for p in params:\n",
    "        p /= torch.norm(p, dim=0)\n",
    "\n",
    "epochs = 2000\n",
    "batch_size = 1024\n",
    "optimizer = torch.optim.Adam(params, lr=1e-3)\n",
    "lossi = []\n",
    "vlossi = []\n",
    "\n",
    "for epoch in range(epochs):\n",
    "    indexes = torch.randint(0, len(inputs), (batch_size,))\n",
    "    \n",
    "    X = F.one_hot(inputs[indexes].long(), vocab_size).float() # this has shape (batch_size, sequence_length, vocab_size), but we want (batch_size, vocab_size*sequence_length)\n",
    "    X = X.reshape(batch_size, -1) # -1 means \"infer the size from the other dimensions\"\n",
    "    h1 = F.gelu(X @ w1 + b1)\n",
    "    pred = h1 @ w2 + b2\n",
    "    loss = F.cross_entropy(pred, labels[indexes])\n",
    "\n",
    "    loss.backward()\n",
    "    optimizer.step()\n",
    "    optimizer.zero_grad()\n",
    "\n",
    "    lossi.append(loss.item())\n",
    "    if epoch % (epochs//10) == 0:\n",
    "        print(loss.item())\n",
    "\n",
    "    with torch.no_grad():\n",
    "        X = F.one_hot(val_inputs.long(), vocab_size).float()\n",
    "        h1 = F.gelu(X @ w1 + b1)\n",
    "        pred = h1 @ w2 + b2\n",
    "        vloss = F.cross_entropy(pred, val_labels)\n",
    "        vlossi.append(vloss.item())"
   ]
  },
  {
   "cell_type": "markdown",
   "metadata": {},
   "source": [
    "Running this model took way too much (around 3 times longer than before), and it seems harder to optimize let's explore why... "
   ]
  },
  {
   "cell_type": "code",
   "execution_count": 14,
   "metadata": {},
   "outputs": [
    {
     "name": "stdout",
     "output_type": "stream",
     "text": [
      "w1 torch.Size([1300, 128]) 166400\n",
      "b1 torch.Size([128]) 128\n",
      "w2 torch.Size([128, 65]) 8320\n",
      "b2 torch.Size([65]) 65\n"
     ]
    }
   ],
   "source": [
    "for param, name in zip([w1, b1, w2, b2], [\"w1\", \"b1\", \"w2\", \"b2\"]):\n",
    "    # print variable name, shape and number of parameters\n",
    "    print(name, param.shape, param.numel())   "
   ]
  },
  {
   "cell_type": "markdown",
   "metadata": {},
   "source": [
    "The first layer has WAAAY too many parameters, it scales with sequence_length * vocab_size * hidden_size <br>\n",
    "How can we improve on this? <br>\n",
    "- Lowering sequence_length decreases performance\n",
    "- vocab_size seems oddly inefficient with one_hot embeddings [0, 0, 0, 0, 1, 0, 0, 0]\n",
    "- Lowering hidden_size decreases performance \n",
    "\n",
    "Let's think about vocab_size, right now with one_hot embeddings we are using 65 parameters to store a small int <br> \n",
    "We can't pass the int by itself, because neural networks are not good at picking up small differences in int values like that. <br><br>\n",
    "One idea would be to reduce the dimensionality to something more managable, like 5 parameters, but how? <br>\n",
    "We could simply make a list initialized at random of 5 parameter embeddigs for each value in the vocabulary... We call these embeddings <br>"
   ]
  },
  {
   "cell_type": "code",
   "execution_count": 15,
   "metadata": {},
   "outputs": [],
   "source": [
    "sequence_length = 20\n",
    "\n",
    "sequences = torch.tensor([dataset[i:-sequence_length+i-1] for i in range(sequence_length+1)]).T\n",
    "inputs = sequences[:, :-1][2000:]\n",
    "labels = sequences[:, -1][2000:]\n",
    "val_inputs = sequences[:, :-1][:2000]\n",
    "val_labels = sequences[:, -1][:2000]"
   ]
  },
  {
   "cell_type": "code",
   "execution_count": 16,
   "metadata": {},
   "outputs": [
    {
     "name": "stdout",
     "output_type": "stream",
     "text": [
      "4.366916656494141\n"
     ]
    },
    {
     "ename": "RuntimeError",
     "evalue": "view size is not compatible with input tensor's size and stride (at least one dimension spans across two contiguous subspaces). Use .reshape(...) instead.",
     "output_type": "error",
     "traceback": [
      "\u001b[1;31m---------------------------------------------------------------------------\u001b[0m",
      "\u001b[1;31mRuntimeError\u001b[0m                              Traceback (most recent call last)",
      "\u001b[1;32m~\\AppData\\Local\\Temp/ipykernel_9176/3478161464.py\u001b[0m in \u001b[0;36m<module>\u001b[1;34m\u001b[0m\n\u001b[0;32m     35\u001b[0m \u001b[1;33m\u001b[0m\u001b[0m\n\u001b[0;32m     36\u001b[0m     \u001b[1;32mwith\u001b[0m \u001b[0mtorch\u001b[0m\u001b[1;33m.\u001b[0m\u001b[0mno_grad\u001b[0m\u001b[1;33m(\u001b[0m\u001b[1;33m)\u001b[0m\u001b[1;33m:\u001b[0m\u001b[1;33m\u001b[0m\u001b[1;33m\u001b[0m\u001b[0m\n\u001b[1;32m---> 37\u001b[1;33m         \u001b[0memb\u001b[0m \u001b[1;33m=\u001b[0m \u001b[0membeddings\u001b[0m\u001b[1;33m[\u001b[0m\u001b[0mval_inputs\u001b[0m\u001b[1;33m]\u001b[0m\u001b[1;33m.\u001b[0m\u001b[0mview\u001b[0m\u001b[1;33m(\u001b[0m\u001b[0mlen\u001b[0m\u001b[1;33m(\u001b[0m\u001b[0mval_inputs\u001b[0m\u001b[1;33m)\u001b[0m\u001b[1;33m,\u001b[0m \u001b[1;33m-\u001b[0m\u001b[1;36m1\u001b[0m\u001b[1;33m)\u001b[0m\u001b[1;33m\u001b[0m\u001b[1;33m\u001b[0m\u001b[0m\n\u001b[0m\u001b[0;32m     38\u001b[0m         \u001b[0mh1\u001b[0m \u001b[1;33m=\u001b[0m \u001b[0mF\u001b[0m\u001b[1;33m.\u001b[0m\u001b[0mgelu\u001b[0m\u001b[1;33m(\u001b[0m\u001b[0memb\u001b[0m \u001b[1;33m@\u001b[0m \u001b[0mw1\u001b[0m \u001b[1;33m+\u001b[0m \u001b[0mb1\u001b[0m\u001b[1;33m)\u001b[0m\u001b[1;33m\u001b[0m\u001b[1;33m\u001b[0m\u001b[0m\n\u001b[0;32m     39\u001b[0m         \u001b[0mpred\u001b[0m \u001b[1;33m=\u001b[0m \u001b[0mh1\u001b[0m \u001b[1;33m@\u001b[0m \u001b[0mw2\u001b[0m \u001b[1;33m+\u001b[0m \u001b[0mb2\u001b[0m\u001b[1;33m\u001b[0m\u001b[1;33m\u001b[0m\u001b[0m\n",
      "\u001b[1;31mRuntimeError\u001b[0m: view size is not compatible with input tensor's size and stride (at least one dimension spans across two contiguous subspaces). Use .reshape(...) instead."
     ]
    }
   ],
   "source": [
    "emb_size = 10  # I chose 10 parameter embeddings, but you can try different values\n",
    "hidden_size = 128\n",
    "\n",
    "embeddings = torch.randn(vocab_size, emb_size)  # Assigning a random vector to each character in the vocabulary (this will be trained)\n",
    "w1 = torch.randn(emb_size*sequence_length, hidden_size, requires_grad=True)\n",
    "b1 = torch.randn(hidden_size, requires_grad=True)\n",
    "w2 = torch.randn(hidden_size, vocab_size, requires_grad=True)\n",
    "b2 = torch.randn(vocab_size, requires_grad=True)\n",
    "\n",
    "with torch.no_grad():\n",
    "    for p in [w1, b1, w2, b2]:\n",
    "        p /= torch.norm(p, dim=0)\n",
    "\n",
    "epochs = 2000\n",
    "batch_size = 1024\n",
    "optimizer = torch.optim.Adam([embeddings, w1, b1, w2, b2], lr=1e-3)  # dont forget to add embeddings to the optimizer\n",
    "lossi = []\n",
    "vlossi = []\n",
    "\n",
    "for epoch in range(epochs):\n",
    "    indexes = torch.randint(0, len(inputs), (batch_size,))\n",
    "    \n",
    "    emb = embeddings[inputs[indexes]].view(batch_size, -1)\n",
    "    h1 = F.gelu(emb @ w1 + b1)\n",
    "    pred = h1 @ w2 + b2\n",
    "    loss = F.cross_entropy(pred, labels[indexes])\n",
    "\n",
    "    loss.backward()\n",
    "    optimizer.step()\n",
    "    optimizer.zero_grad()\n",
    "\n",
    "    lossi.append(loss.item())\n",
    "    if epoch % (epochs//10) == 0:\n",
    "        print(loss.item())\n",
    "\n",
    "    with torch.no_grad():\n",
    "        emb = embeddings[val_inputs].view(len(val_inputs), -1)\n",
    "        h1 = F.gelu(emb @ w1 + b1)\n",
    "        pred = h1 @ w2 + b2\n",
    "        vloss = F.cross_entropy(pred, val_labels)\n",
    "        vlossi.append(vloss.item())"
   ]
  },
  {
   "cell_type": "markdown",
   "metadata": {},
   "source": [
    "As you can see the model runs well, but now the complexity of the code is getting problematic, luckily pytorch has most of this already implemented. \n",
    "Just like we did before with the loss and the optimizer, here we can substitute the layers with pre made ones. "
   ]
  },
  {
   "cell_type": "code",
   "execution_count": null,
   "metadata": {},
   "outputs": [],
   "source": [
    "emb_size = 10\n",
    "hidden_size = 128\n",
    "\n",
    "class Model(nn.Module):\n",
    "    def __init__(self, vocab_size, emb_size, hidden_size):\n",
    "        super().__init__()\n",
    "        self.embeddings = nn.Embedding(vocab_size, emb_size)\n",
    "        self.w1 = nn.Linear(emb_size*sequence_length, hidden_size)\n",
    "        self.w2 = nn.Linear(hidden_size, vocab_size)\n",
    "    \n",
    "    def forward(self, inputs):\n",
    "        emb = self.embeddings(inputs).view(inputs.shape[0], -1)\n",
    "        h1 = F.gelu(self.w1(emb))\n",
    "        return self.w2(h1)\n",
    "    \n",
    "model = Model(vocab_size, emb_size, hidden_size)"
   ]
  },
  {
   "cell_type": "code",
   "execution_count": null,
   "metadata": {},
   "outputs": [
    {
     "name": "stdout",
     "output_type": "stream",
     "text": [
      "4.199629306793213\n",
      "2.6238176822662354\n",
      "2.3426737785339355\n",
      "2.286720037460327\n",
      "2.11514949798584\n",
      "2.201852560043335\n",
      "2.1283323764801025\n",
      "2.0056848526000977\n",
      "2.0171663761138916\n",
      "1.9718669652938843\n"
     ]
    }
   ],
   "source": [
    "epochs = 2000\n",
    "batch_size = 1024\n",
    "optimizer = torch.optim.Adam(model.parameters(), lr=1e-3) \n",
    "\n",
    "lossi = []\n",
    "vlossi = []\n",
    "\n",
    "for epoch in range(epochs):\n",
    "    indexes = torch.randint(0, len(inputs), (batch_size,))\n",
    "    \n",
    "    pred = model(inputs[indexes]) # everything in the forward pass happens in the model class\n",
    "    loss = F.cross_entropy(pred, labels[indexes])\n",
    "\n",
    "    loss.backward()\n",
    "    optimizer.step()\n",
    "    optimizer.zero_grad()\n",
    "\n",
    "    lossi.append(loss.item())\n",
    "    if epoch % (epochs//10) == 0:\n",
    "        print(loss.item())\n",
    "\n",
    "    with torch.no_grad():\n",
    "        pred = model(val_inputs)\n",
    "        vloss = F.cross_entropy(pred, val_labels)\n",
    "        vlossi.append(vloss.item())"
   ]
  },
  {
   "cell_type": "markdown",
   "metadata": {},
   "source": [
    "As you can see the torch version works just as well, if not better, they have smarter initializations than ours and it's all around more refined\n",
    "\n",
    "Now we will move the training to the GPU to make it even faster"
   ]
  },
  {
   "cell_type": "code",
   "execution_count": null,
   "metadata": {},
   "outputs": [],
   "source": [
    "emb_size = 10\n",
    "hidden_size = 128\n",
    "\n",
    "class Model(nn.Module):\n",
    "    def __init__(self, vocab_size, emb_size, hidden_size):\n",
    "        super().__init__()\n",
    "        self.embeddings = nn.Embedding(vocab_size, emb_size)\n",
    "        self.fc1 = nn.Linear(emb_size*sequence_length, hidden_size)\n",
    "        self.fc2 = nn.Linear(hidden_size, vocab_size)\n",
    "    \n",
    "    def forward(self, inputs):\n",
    "        emb = self.embeddings(inputs).view(inputs.shape[0], -1)\n",
    "        h1 = F.gelu(self.fc1(emb))\n",
    "        return self.fc2(h1)\n",
    "\n",
    "\n",
    "device = torch.device(\"cuda:0\")  # Set the device to GPU (cuda) \n",
    "model = Model(vocab_size, emb_size, hidden_size).to(device)  # Send the model to GPU"
   ]
  },
  {
   "cell_type": "code",
   "execution_count": null,
   "metadata": {},
   "outputs": [
    {
     "name": "stdout",
     "output_type": "stream",
     "text": [
      "4.181661605834961\n",
      "2.599729061126709\n",
      "2.3306851387023926\n",
      "2.1988110542297363\n",
      "2.1803460121154785\n",
      "2.1544783115386963\n",
      "2.0770609378814697\n",
      "2.110079050064087\n",
      "1.9651042222976685\n",
      "1.979492425918579\n"
     ]
    }
   ],
   "source": [
    "epochs = 2000\n",
    "batch_size = 1024\n",
    "optimizer = torch.optim.Adam(model.parameters(), lr=1e-3) \n",
    "\n",
    "lossi = []\n",
    "vlossi = []\n",
    "\n",
    "for epoch in range(epochs):\n",
    "    indexes = torch.randint(0, len(inputs), (batch_size,))\n",
    "    \n",
    "    pred = model(inputs[indexes].to(device))  # Send the inputs to GPU\n",
    "    loss = F.cross_entropy(pred, labels[indexes].to(device))  # Send the labels to GPU\n",
    "\n",
    "    loss.backward()\n",
    "    optimizer.step()\n",
    "    optimizer.zero_grad()\n",
    "\n",
    "    lossi.append(loss.item())\n",
    "    if epoch % (epochs//10) == 0:\n",
    "        print(loss.item())\n",
    "\n",
    "    with torch.no_grad():\n",
    "        pred = model(val_inputs.to(device))\n",
    "        vloss = F.cross_entropy(pred, val_labels.to(device))\n",
    "        vlossi.append(vloss.item())"
   ]
  },
  {
   "cell_type": "markdown",
   "metadata": {},
   "source": [
    "The performance of the model is the same but everything happens in about a third of the time on my pc (ryzen 3100 and 3060 12GB) <br>\n",
    "Note: GPUs are often bandwith bound, not compute bound, so higher batch sizes play well with text, for example it may be that from 1 to 512 the training time stays basically the same, because the gpu is able to compute all of these in parallel and under a certain batch size you will not be taking advantage of this. <br>\n",
    "Now let's train it for a while and take a look at some predictions"
   ]
  },
  {
   "cell_type": "code",
   "execution_count": null,
   "metadata": {},
   "outputs": [
    {
     "name": "stdout",
     "output_type": "stream",
     "text": [
      "1.9545890092849731\n",
      "1.8660786151885986\n",
      "1.8874788284301758\n",
      "1.8457589149475098\n",
      "1.8214566707611084\n",
      "1.8539456129074097\n",
      "1.7723901271820068\n",
      "1.8144992589950562\n",
      "1.697540044784546\n",
      "1.7430299520492554\n"
     ]
    }
   ],
   "source": [
    "epochs = 4000\n",
    "batch_size = 2048\n",
    "optimizer = torch.optim.Adam(model.parameters(), lr=1e-3) \n",
    "\n",
    "for epoch in range(epochs):\n",
    "    indexes = torch.randint(0, len(inputs), (batch_size,))\n",
    "    \n",
    "    pred = model(inputs[indexes].to(device))  # Send the inputs to GPU\n",
    "    loss = F.cross_entropy(pred, labels[indexes].to(device))  # Send the labels to GPU\n",
    "\n",
    "    loss.backward()\n",
    "    optimizer.step()\n",
    "    optimizer.zero_grad()\n",
    "\n",
    "    lossi.append(loss.item())\n",
    "    if epoch % (epochs//10) == 0:\n",
    "        print(loss.item())\n",
    "    \n",
    "    with torch.no_grad():\n",
    "        pred = model(val_inputs.to(device))\n",
    "        vloss = F.cross_entropy(pred, val_labels.to(device))\n",
    "        vlossi.append(vloss.item())\n"
   ]
  },
  {
   "cell_type": "code",
   "execution_count": null,
   "metadata": {},
   "outputs": [
    {
     "data": {
      "text/plain": [
       "[<matplotlib.lines.Line2D at 0x2850c5d2c10>]"
      ]
     },
     "execution_count": 29,
     "metadata": {},
     "output_type": "execute_result"
    },
    {
     "data": {
      "image/png": "[encoded data removed]",
      "text/plain": [
       "<Figure size 432x288 with 1 Axes>"
      ]
     },
     "metadata": {
      "needs_background": "light"
     },
     "output_type": "display_data"
    }
   ],
   "source": [
    "plt.plot(lossi[:])"
   ]
  },
  {
   "cell_type": "code",
   "execution_count": null,
   "metadata": {},
   "outputs": [
    {
     "name": "stdout",
     "output_type": "stream",
     "text": [
      "             \n",
      "KING RICHARD I though\n",
      "The see a strow.\n",
      "Cepwards:\n",
      "As but an, him, wordiend thou last soun: Come it 'swasenifned sheal to poid;\n",
      "I'll allect once.\n",
      "\n",
      "Knould tionter in the drabrer:\n",
      "He lovessing glient?\n",
      "\n",
      "GOLIXENES:\n",
      "Now this ings'stith him.\n",
      "\n",
      "VINCENSUCHERONEK:\n",
      "So sure to plire. Uir hopsion to ance, seaties since\n",
      "My heart"
     ]
    }
   ],
   "source": [
    "string = \"             \\nKING RICHARD I\"\n",
    "print(string, end=\"\")\n",
    "\n",
    "with torch.no_grad():\n",
    "    for _ in range(300):\n",
    "        X = torch.tensor([texttoint[s] for s in string[-sequence_length:]]).long().view(1, -1).to(device)\n",
    "        #print(X)\n",
    "        pred = model.forward(X)\n",
    "        string += inttotext[torch.multinomial(F.softmax(pred, dim=1), 1).item()]\n",
    "        print(string[-1], end=\"\")\n"
   ]
  },
  {
   "cell_type": "markdown",
   "metadata": {},
   "source": [
    "The model is spitting out nosense but it clearly resembles the text it's trained on"
   ]
  }
 ],
 "metadata": {
  "kernelspec": {
   "display_name": "base",
   "language": "python",
   "name": "python3"
  },
  "language_info": {
   "codemirror_mode": {
    "name": "ipython",
    "version": 3
   },
   "file_extension": ".py",
   "mimetype": "text/x-python",
   "name": "python",
   "nbconvert_exporter": "python",
   "pygments_lexer": "ipython3",
   "version": "3.9.7"
  }
 },
 "nbformat": 4,
 "nbformat_minor": 2
}
